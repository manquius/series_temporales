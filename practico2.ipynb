{
 "cells": [
  {
   "cell_type": "markdown",
   "metadata": {},
   "source": [
    "# DiploDatos 2019 - Análisis de Series Temporales\n",
    "\n",
    "## Integrantes\n",
    "\n",
    "| Nombre | e-mail |\n",
    "|------|------|\n",
    "|Rivadero, Isabel | isarivadero@hotmail.com |\n",
    "|Vargas, Miguel | lvc0107@protonmail.com |\n",
    "|Mancuso, Fernando | manquius@gmail.com |\n",
    "\n",
    "## Práctico de Análisis y Curación de datos\n",
    "\n",
    "En este práctico  continuaremos analizando el dataset más en detalle y tomaremos\n",
    "acciones de limpieza y curación sobre los datos cuando sea necesario"
   ]
  },
  {
   "cell_type": "code",
   "execution_count": 1,
   "metadata": {},
   "outputs": [
    {
     "data": {
      "text/html": [
       "<style>.container { width:90% !important; }</style>"
      ],
      "text/plain": [
       "<IPython.core.display.HTML object>"
      ]
     },
     "metadata": {},
     "output_type": "display_data"
    }
   ],
   "source": [
    "### Aumentar el ancho del notebook\n",
    "from IPython.core.display import display, HTML\n",
    "display(HTML(\"<style>.container { width:90% !important; }</style>\"))"
   ]
  },
  {
   "cell_type": "markdown",
   "metadata": {},
   "source": [
    "### Dataset"
   ]
  },
  {
   "cell_type": "code",
   "execution_count": 2,
   "metadata": {},
   "outputs": [],
   "source": [
    "%matplotlib inline\n",
    "import numpy as np\n",
    "import pandas as pd\n",
    "import matplotlib.pyplot as plt\n",
    "import seaborn as sb\n",
    "sb.set(rc={'figure.figsize':(10,6)})\n",
    "\n",
    "cols = ['service',\n",
    "        'sender_zipcode',\n",
    "        'receiver_zipcode',\n",
    "        'sender_state',\n",
    "        'receiver_state',\n",
    "        'shipment_type',\n",
    "        'quantity',\n",
    "        'status',\n",
    "        'date_created',\n",
    "        'date_sent',\n",
    "        'date_visit',\n",
    "        'target']\n",
    "cols_holidays = ['holiday', \n",
    "                 'description']\n",
    "data_path = './shipments_BR_201903.csv'\n",
    "holidays = './holidays.csv'"
   ]
  },
  {
   "cell_type": "markdown",
   "metadata": {},
   "source": [
    "#### Referencia de las columnas\n",
    "* **service**: Identificador unico que corresponde a un tipo de servicio de un correo en particular.\n",
    "* **sender_zipcode:** Código postal de quien envía el paquete (usualmente el vendedor).\n",
    "* **receiver_zipcode:** Código postal de quien recibe el paquete (usualmente el comprador).\n",
    "* **sender_state:** Nombre abreviado del estado de quien envía el paquete.\n",
    "* **receiver_state:** Nombre abreviado del estado de quien recibe el paquete.\n",
    "* **quantity:** Cantidad de items que tiene dentro el paquete.\n",
    "* **status:** Estado final del envío.\n",
    "* **date_created:** Fecha de compra de el o los items.\n",
    "* **date_sent:** Fecha en que el correo recibe el paquete.\n",
    "* **date_visit:** Fecha en que el correo entrega el paquete.\n",
    "* **target:** Cantidad de dias hábiles que tardó el correo en entregar el paquete desde que lo recibe.\n"
   ]
  },
  {
   "cell_type": "code",
   "execution_count": 3,
   "metadata": {},
   "outputs": [
    {
     "data": {
      "text/plain": [
       "(1000000, 12)"
      ]
     },
     "execution_count": 3,
     "metadata": {},
     "output_type": "execute_result"
    }
   ],
   "source": [
    "df = pd.read_csv(data_path, usecols=cols)\n",
    "df.shape"
   ]
  },
  {
   "cell_type": "code",
   "execution_count": 4,
   "metadata": {},
   "outputs": [
    {
     "data": {
      "text/html": [
       "<div>\n",
       "<style scoped>\n",
       "    .dataframe tbody tr th:only-of-type {\n",
       "        vertical-align: middle;\n",
       "    }\n",
       "\n",
       "    .dataframe tbody tr th {\n",
       "        vertical-align: top;\n",
       "    }\n",
       "\n",
       "    .dataframe thead th {\n",
       "        text-align: right;\n",
       "    }\n",
       "</style>\n",
       "<table border=\"1\" class=\"dataframe\">\n",
       "  <thead>\n",
       "    <tr style=\"text-align: right;\">\n",
       "      <th></th>\n",
       "      <th>sender_state</th>\n",
       "      <th>sender_zipcode</th>\n",
       "      <th>receiver_state</th>\n",
       "      <th>receiver_zipcode</th>\n",
       "      <th>shipment_type</th>\n",
       "      <th>quantity</th>\n",
       "      <th>service</th>\n",
       "      <th>status</th>\n",
       "      <th>date_created</th>\n",
       "      <th>date_sent</th>\n",
       "      <th>date_visit</th>\n",
       "      <th>target</th>\n",
       "    </tr>\n",
       "  </thead>\n",
       "  <tbody>\n",
       "    <tr>\n",
       "      <th>0</th>\n",
       "      <td>SP</td>\n",
       "      <td>3005</td>\n",
       "      <td>SP</td>\n",
       "      <td>5409</td>\n",
       "      <td>express</td>\n",
       "      <td>1</td>\n",
       "      <td>0</td>\n",
       "      <td>done</td>\n",
       "      <td>2019-03-04 00:00:00</td>\n",
       "      <td>2019-03-05 13:24:00</td>\n",
       "      <td>2019-03-07 18:01:00</td>\n",
       "      <td>2</td>\n",
       "    </tr>\n",
       "    <tr>\n",
       "      <th>1</th>\n",
       "      <td>SP</td>\n",
       "      <td>17052</td>\n",
       "      <td>MG</td>\n",
       "      <td>37750</td>\n",
       "      <td>standard</td>\n",
       "      <td>1</td>\n",
       "      <td>1</td>\n",
       "      <td>done</td>\n",
       "      <td>2019-03-19 00:00:00</td>\n",
       "      <td>2019-03-20 14:44:00</td>\n",
       "      <td>2019-03-27 10:21:00</td>\n",
       "      <td>5</td>\n",
       "    </tr>\n",
       "    <tr>\n",
       "      <th>2</th>\n",
       "      <td>SP</td>\n",
       "      <td>2033</td>\n",
       "      <td>SP</td>\n",
       "      <td>11040</td>\n",
       "      <td>express</td>\n",
       "      <td>1</td>\n",
       "      <td>0</td>\n",
       "      <td>done</td>\n",
       "      <td>2019-02-18 00:00:00</td>\n",
       "      <td>2019-02-21 15:08:00</td>\n",
       "      <td>2019-02-28 18:19:00</td>\n",
       "      <td>5</td>\n",
       "    </tr>\n",
       "    <tr>\n",
       "      <th>3</th>\n",
       "      <td>SP</td>\n",
       "      <td>13900</td>\n",
       "      <td>SP</td>\n",
       "      <td>18500</td>\n",
       "      <td>express</td>\n",
       "      <td>1</td>\n",
       "      <td>0</td>\n",
       "      <td>done</td>\n",
       "      <td>2019-03-09 00:00:00</td>\n",
       "      <td>2019-03-11 15:48:00</td>\n",
       "      <td>2019-03-12 13:33:00</td>\n",
       "      <td>1</td>\n",
       "    </tr>\n",
       "    <tr>\n",
       "      <th>4</th>\n",
       "      <td>SP</td>\n",
       "      <td>4361</td>\n",
       "      <td>RS</td>\n",
       "      <td>96810</td>\n",
       "      <td>express</td>\n",
       "      <td>1</td>\n",
       "      <td>0</td>\n",
       "      <td>done</td>\n",
       "      <td>2019-03-08 00:00:00</td>\n",
       "      <td>2019-03-12 08:19:00</td>\n",
       "      <td>2019-03-16 08:24:00</td>\n",
       "      <td>4</td>\n",
       "    </tr>\n",
       "  </tbody>\n",
       "</table>\n",
       "</div>"
      ],
      "text/plain": [
       "  sender_state  sender_zipcode receiver_state  receiver_zipcode shipment_type  \\\n",
       "0           SP            3005             SP              5409       express   \n",
       "1           SP           17052             MG             37750      standard   \n",
       "2           SP            2033             SP             11040       express   \n",
       "3           SP           13900             SP             18500       express   \n",
       "4           SP            4361             RS             96810       express   \n",
       "\n",
       "   quantity  service status         date_created            date_sent  \\\n",
       "0         1        0   done  2019-03-04 00:00:00  2019-03-05 13:24:00   \n",
       "1         1        1   done  2019-03-19 00:00:00  2019-03-20 14:44:00   \n",
       "2         1        0   done  2019-02-18 00:00:00  2019-02-21 15:08:00   \n",
       "3         1        0   done  2019-03-09 00:00:00  2019-03-11 15:48:00   \n",
       "4         1        0   done  2019-03-08 00:00:00  2019-03-12 08:19:00   \n",
       "\n",
       "            date_visit  target  \n",
       "0  2019-03-07 18:01:00       2  \n",
       "1  2019-03-27 10:21:00       5  \n",
       "2  2019-02-28 18:19:00       5  \n",
       "3  2019-03-12 13:33:00       1  \n",
       "4  2019-03-16 08:24:00       4  "
      ]
     },
     "execution_count": 4,
     "metadata": {},
     "output_type": "execute_result"
    }
   ],
   "source": [
    "df.head()"
   ]
  },
  {
   "cell_type": "code",
   "execution_count": 5,
   "metadata": {},
   "outputs": [],
   "source": [
    "# set seed for reproducibility\n",
    "np.random.seed(0)"
   ]
  },
  {
   "cell_type": "code",
   "execution_count": 6,
   "metadata": {},
   "outputs": [
    {
     "data": {
      "text/html": [
       "<div>\n",
       "<style scoped>\n",
       "    .dataframe tbody tr th:only-of-type {\n",
       "        vertical-align: middle;\n",
       "    }\n",
       "\n",
       "    .dataframe tbody tr th {\n",
       "        vertical-align: top;\n",
       "    }\n",
       "\n",
       "    .dataframe thead th {\n",
       "        text-align: right;\n",
       "    }\n",
       "</style>\n",
       "<table border=\"1\" class=\"dataframe\">\n",
       "  <thead>\n",
       "    <tr style=\"text-align: right;\">\n",
       "      <th></th>\n",
       "      <th>sender_state</th>\n",
       "      <th>sender_zipcode</th>\n",
       "      <th>receiver_state</th>\n",
       "      <th>receiver_zipcode</th>\n",
       "      <th>shipment_type</th>\n",
       "      <th>quantity</th>\n",
       "      <th>service</th>\n",
       "      <th>status</th>\n",
       "      <th>date_created</th>\n",
       "      <th>date_sent</th>\n",
       "      <th>date_visit</th>\n",
       "      <th>target</th>\n",
       "    </tr>\n",
       "  </thead>\n",
       "  <tbody>\n",
       "    <tr>\n",
       "      <th>157105</th>\n",
       "      <td>SP</td>\n",
       "      <td>14405</td>\n",
       "      <td>MG</td>\n",
       "      <td>37706</td>\n",
       "      <td>standard</td>\n",
       "      <td>2</td>\n",
       "      <td>3</td>\n",
       "      <td>done</td>\n",
       "      <td>2019-03-13 00:00:00</td>\n",
       "      <td>2019-03-19 20:52:00</td>\n",
       "      <td>2019-03-22 11:00:00</td>\n",
       "      <td>3</td>\n",
       "    </tr>\n",
       "    <tr>\n",
       "      <th>374554</th>\n",
       "      <td>BA</td>\n",
       "      <td>40260</td>\n",
       "      <td>SE</td>\n",
       "      <td>49088</td>\n",
       "      <td>standard</td>\n",
       "      <td>1</td>\n",
       "      <td>1</td>\n",
       "      <td>done</td>\n",
       "      <td>2019-03-04 00:00:00</td>\n",
       "      <td>2019-03-06 15:32:00</td>\n",
       "      <td>2019-03-23 11:23:00</td>\n",
       "      <td>12</td>\n",
       "    </tr>\n",
       "    <tr>\n",
       "      <th>688694</th>\n",
       "      <td>SP</td>\n",
       "      <td>8061</td>\n",
       "      <td>DF</td>\n",
       "      <td>70236</td>\n",
       "      <td>express</td>\n",
       "      <td>1</td>\n",
       "      <td>0</td>\n",
       "      <td>done</td>\n",
       "      <td>2019-03-15 00:00:00</td>\n",
       "      <td>2019-03-15 16:04:00</td>\n",
       "      <td>2019-03-18 12:00:00</td>\n",
       "      <td>1</td>\n",
       "    </tr>\n",
       "    <tr>\n",
       "      <th>265381</th>\n",
       "      <td>SP</td>\n",
       "      <td>3118</td>\n",
       "      <td>BA</td>\n",
       "      <td>48455</td>\n",
       "      <td>standard</td>\n",
       "      <td>3</td>\n",
       "      <td>1</td>\n",
       "      <td>done</td>\n",
       "      <td>2019-03-10 00:00:00</td>\n",
       "      <td>2019-03-11 14:58:00</td>\n",
       "      <td>2019-03-27 07:56:00</td>\n",
       "      <td>12</td>\n",
       "    </tr>\n",
       "    <tr>\n",
       "      <th>955415</th>\n",
       "      <td>SP</td>\n",
       "      <td>14402</td>\n",
       "      <td>DF</td>\n",
       "      <td>71503</td>\n",
       "      <td>standard</td>\n",
       "      <td>1</td>\n",
       "      <td>4</td>\n",
       "      <td>done</td>\n",
       "      <td>2019-03-01 00:00:00</td>\n",
       "      <td>2019-03-07 03:55:36</td>\n",
       "      <td>2019-03-11 16:39:00</td>\n",
       "      <td>1</td>\n",
       "    </tr>\n",
       "  </tbody>\n",
       "</table>\n",
       "</div>"
      ],
      "text/plain": [
       "       sender_state  sender_zipcode receiver_state  receiver_zipcode  \\\n",
       "157105           SP           14405             MG             37706   \n",
       "374554           BA           40260             SE             49088   \n",
       "688694           SP            8061             DF             70236   \n",
       "265381           SP            3118             BA             48455   \n",
       "955415           SP           14402             DF             71503   \n",
       "\n",
       "       shipment_type  quantity  service status         date_created  \\\n",
       "157105      standard         2        3   done  2019-03-13 00:00:00   \n",
       "374554      standard         1        1   done  2019-03-04 00:00:00   \n",
       "688694       express         1        0   done  2019-03-15 00:00:00   \n",
       "265381      standard         3        1   done  2019-03-10 00:00:00   \n",
       "955415      standard         1        4   done  2019-03-01 00:00:00   \n",
       "\n",
       "                  date_sent           date_visit  target  \n",
       "157105  2019-03-19 20:52:00  2019-03-22 11:00:00       3  \n",
       "374554  2019-03-06 15:32:00  2019-03-23 11:23:00      12  \n",
       "688694  2019-03-15 16:04:00  2019-03-18 12:00:00       1  \n",
       "265381  2019-03-11 14:58:00  2019-03-27 07:56:00      12  \n",
       "955415  2019-03-07 03:55:36  2019-03-11 16:39:00       1  "
      ]
     },
     "execution_count": 6,
     "metadata": {},
     "output_type": "execute_result"
    }
   ],
   "source": [
    "df.sample(5)"
   ]
  },
  {
   "cell_type": "code",
   "execution_count": 7,
   "metadata": {},
   "outputs": [
    {
     "data": {
      "text/plain": [
       "sender_state        object\n",
       "sender_zipcode       int64\n",
       "receiver_state      object\n",
       "receiver_zipcode     int64\n",
       "shipment_type       object\n",
       "quantity             int64\n",
       "service              int64\n",
       "status              object\n",
       "date_created        object\n",
       "date_sent           object\n",
       "date_visit          object\n",
       "target               int64\n",
       "dtype: object"
      ]
     },
     "execution_count": 7,
     "metadata": {},
     "output_type": "execute_result"
    }
   ],
   "source": [
    "df.dtypes"
   ]
  },
  {
   "cell_type": "code",
   "execution_count": 8,
   "metadata": {},
   "outputs": [
    {
     "data": {
      "text/html": [
       "<div>\n",
       "<style scoped>\n",
       "    .dataframe tbody tr th:only-of-type {\n",
       "        vertical-align: middle;\n",
       "    }\n",
       "\n",
       "    .dataframe tbody tr th {\n",
       "        vertical-align: top;\n",
       "    }\n",
       "\n",
       "    .dataframe thead th {\n",
       "        text-align: right;\n",
       "    }\n",
       "</style>\n",
       "<table border=\"1\" class=\"dataframe\">\n",
       "  <thead>\n",
       "    <tr style=\"text-align: right;\">\n",
       "      <th></th>\n",
       "      <th>sender_zipcode</th>\n",
       "      <th>receiver_zipcode</th>\n",
       "      <th>quantity</th>\n",
       "      <th>service</th>\n",
       "      <th>target</th>\n",
       "    </tr>\n",
       "  </thead>\n",
       "  <tbody>\n",
       "    <tr>\n",
       "      <th>count</th>\n",
       "      <td>1000000.000000</td>\n",
       "      <td>1000000.000000</td>\n",
       "      <td>1000000.000000</td>\n",
       "      <td>1000000.000000</td>\n",
       "      <td>1000000.000000</td>\n",
       "    </tr>\n",
       "    <tr>\n",
       "      <th>mean</th>\n",
       "      <td>22637.975896</td>\n",
       "      <td>41650.306365</td>\n",
       "      <td>1.277814</td>\n",
       "      <td>1.182677</td>\n",
       "      <td>6.021577</td>\n",
       "    </tr>\n",
       "    <tr>\n",
       "      <th>std</th>\n",
       "      <td>27817.028435</td>\n",
       "      <td>30952.352631</td>\n",
       "      <td>0.661583</td>\n",
       "      <td>1.486557</td>\n",
       "      <td>5.157973</td>\n",
       "    </tr>\n",
       "    <tr>\n",
       "      <th>min</th>\n",
       "      <td>1001.000000</td>\n",
       "      <td>1001.000000</td>\n",
       "      <td>1.000000</td>\n",
       "      <td>0.000000</td>\n",
       "      <td>0.000000</td>\n",
       "    </tr>\n",
       "    <tr>\n",
       "      <th>25%</th>\n",
       "      <td>4836.000000</td>\n",
       "      <td>13465.000000</td>\n",
       "      <td>1.000000</td>\n",
       "      <td>0.000000</td>\n",
       "      <td>2.000000</td>\n",
       "    </tr>\n",
       "    <tr>\n",
       "      <th>50%</th>\n",
       "      <td>12091.000000</td>\n",
       "      <td>35164.000000</td>\n",
       "      <td>1.000000</td>\n",
       "      <td>1.000000</td>\n",
       "      <td>4.000000</td>\n",
       "    </tr>\n",
       "    <tr>\n",
       "      <th>75%</th>\n",
       "      <td>23050.000000</td>\n",
       "      <td>72308.000000</td>\n",
       "      <td>1.000000</td>\n",
       "      <td>1.000000</td>\n",
       "      <td>9.000000</td>\n",
       "    </tr>\n",
       "    <tr>\n",
       "      <th>max</th>\n",
       "      <td>99990.000000</td>\n",
       "      <td>99990.000000</td>\n",
       "      <td>5.000000</td>\n",
       "      <td>11.000000</td>\n",
       "      <td>118.000000</td>\n",
       "    </tr>\n",
       "  </tbody>\n",
       "</table>\n",
       "</div>"
      ],
      "text/plain": [
       "       sender_zipcode  receiver_zipcode        quantity         service  \\\n",
       "count  1000000.000000    1000000.000000  1000000.000000  1000000.000000   \n",
       "mean     22637.975896      41650.306365        1.277814        1.182677   \n",
       "std      27817.028435      30952.352631        0.661583        1.486557   \n",
       "min       1001.000000       1001.000000        1.000000        0.000000   \n",
       "25%       4836.000000      13465.000000        1.000000        0.000000   \n",
       "50%      12091.000000      35164.000000        1.000000        1.000000   \n",
       "75%      23050.000000      72308.000000        1.000000        1.000000   \n",
       "max      99990.000000      99990.000000        5.000000       11.000000   \n",
       "\n",
       "               target  \n",
       "count  1000000.000000  \n",
       "mean         6.021577  \n",
       "std          5.157973  \n",
       "min          0.000000  \n",
       "25%          2.000000  \n",
       "50%          4.000000  \n",
       "75%          9.000000  \n",
       "max        118.000000  "
      ]
     },
     "execution_count": 8,
     "metadata": {},
     "output_type": "execute_result"
    }
   ],
   "source": [
    "df.describe()"
   ]
  },
  {
   "cell_type": "markdown",
   "metadata": {},
   "source": [
    "**Implementación\n",
    "Como primer paso es necesario verificar la consistencia de la información.\n",
    "Para esto debemos verificar al menos lo siguiente:**"
   ]
  },
  {
   "cell_type": "markdown",
   "metadata": {},
   "source": [
    "1- ¿Los ids son únicos?"
   ]
  },
  {
   "cell_type": "markdown",
   "metadata": {},
   "source": [
    "El dataFrame no contiene una columna con ids únicos"
   ]
  },
  {
   "cell_type": "markdown",
   "metadata": {},
   "source": [
    "2- Si no tuviéramos estos índices, ¿tenemos información para construir una clave\n",
    "primaria?"
   ]
  },
  {
   "cell_type": "markdown",
   "metadata": {},
   "source": [
    "Si. Sabemos que contamos con 11 servicios. \n",
    "Si un servicio envía un paquete i desde una region X en una fecha dada a una region Y, y el mismo servicio envía un paquete j en la misma fecha desde la misma region X al mismo destino Y, podemos concluir que en realidad el paquete i es igual al paquete j.\n",
    "\n",
    "Podemos expresar esto como:\n",
    "\n",
    "servicio + origen + destino + fecha de envío = identificador único de un envío.\n",
    "\n",
    "Las fechas por si solas parecen ser únicas, pero podemos suponer que en un futuro el sistema de envíos pueda permitar enviar multiples paquetes de forma paralela en el mismo horario. Es por esto que fortalecemos la clave con datos de la ruta(sender_zipcode - receiver_zipcode).\n",
    "\n",
    "Por lo tanto la ruta (origen + destino) mas una fecha dada puede utilizarse como identificador único para cada envío.\n",
    "Como mencionamos inicialmente existen 11 servicios. Fortalecemos tambien la clave incorporando el identificador de servicio, pues puede darse el escenario de que dos servicios en la misma region, envíen paquetes a la misma hora y al mismo destino. (Es poco probable, pero no imposible).\n",
    "Por otro lado sabemos que el dataframe contiene 1000000 de filas, por lo tanto debemos comprobar si esta cantidad coincide con la \n",
    "propuesta para los ids.\n"
   ]
  },
  {
   "cell_type": "code",
   "execution_count": 9,
   "metadata": {},
   "outputs": [
    {
     "data": {
      "text/plain": [
       "(1000000, 4)"
      ]
     },
     "execution_count": 9,
     "metadata": {},
     "output_type": "execute_result"
    }
   ],
   "source": [
    "df.loc[:, ['service', 'date_sent', 'sender_zipcode', 'receiver_zipcode']].shape"
   ]
  },
  {
   "cell_type": "markdown",
   "metadata": {},
   "source": [
    "Se puede establecer el index para cada fila de la siguiente manera:"
   ]
  },
  {
   "cell_type": "code",
   "execution_count": 10,
   "metadata": {},
   "outputs": [
    {
     "data": {
      "text/html": [
       "<div>\n",
       "<style scoped>\n",
       "    .dataframe tbody tr th:only-of-type {\n",
       "        vertical-align: middle;\n",
       "    }\n",
       "\n",
       "    .dataframe tbody tr th {\n",
       "        vertical-align: top;\n",
       "    }\n",
       "\n",
       "    .dataframe thead th {\n",
       "        text-align: right;\n",
       "    }\n",
       "</style>\n",
       "<table border=\"1\" class=\"dataframe\">\n",
       "  <thead>\n",
       "    <tr style=\"text-align: right;\">\n",
       "      <th></th>\n",
       "      <th></th>\n",
       "      <th></th>\n",
       "      <th></th>\n",
       "      <th>sender_state</th>\n",
       "      <th>receiver_state</th>\n",
       "      <th>shipment_type</th>\n",
       "      <th>quantity</th>\n",
       "      <th>status</th>\n",
       "      <th>date_created</th>\n",
       "      <th>date_visit</th>\n",
       "      <th>target</th>\n",
       "    </tr>\n",
       "    <tr>\n",
       "      <th>service</th>\n",
       "      <th>date_sent</th>\n",
       "      <th>sender_zipcode</th>\n",
       "      <th>receiver_zipcode</th>\n",
       "      <th></th>\n",
       "      <th></th>\n",
       "      <th></th>\n",
       "      <th></th>\n",
       "      <th></th>\n",
       "      <th></th>\n",
       "      <th></th>\n",
       "      <th></th>\n",
       "    </tr>\n",
       "  </thead>\n",
       "  <tbody>\n",
       "    <tr>\n",
       "      <th>0</th>\n",
       "      <th>2019-03-05 13:24:00</th>\n",
       "      <th>3005</th>\n",
       "      <th>5409</th>\n",
       "      <td>SP</td>\n",
       "      <td>SP</td>\n",
       "      <td>express</td>\n",
       "      <td>1</td>\n",
       "      <td>done</td>\n",
       "      <td>2019-03-04 00:00:00</td>\n",
       "      <td>2019-03-07 18:01:00</td>\n",
       "      <td>2</td>\n",
       "    </tr>\n",
       "    <tr>\n",
       "      <th>1</th>\n",
       "      <th>2019-03-20 14:44:00</th>\n",
       "      <th>17052</th>\n",
       "      <th>37750</th>\n",
       "      <td>SP</td>\n",
       "      <td>MG</td>\n",
       "      <td>standard</td>\n",
       "      <td>1</td>\n",
       "      <td>done</td>\n",
       "      <td>2019-03-19 00:00:00</td>\n",
       "      <td>2019-03-27 10:21:00</td>\n",
       "      <td>5</td>\n",
       "    </tr>\n",
       "    <tr>\n",
       "      <th rowspan=\"3\" valign=\"top\">0</th>\n",
       "      <th>2019-02-21 15:08:00</th>\n",
       "      <th>2033</th>\n",
       "      <th>11040</th>\n",
       "      <td>SP</td>\n",
       "      <td>SP</td>\n",
       "      <td>express</td>\n",
       "      <td>1</td>\n",
       "      <td>done</td>\n",
       "      <td>2019-02-18 00:00:00</td>\n",
       "      <td>2019-02-28 18:19:00</td>\n",
       "      <td>5</td>\n",
       "    </tr>\n",
       "    <tr>\n",
       "      <th>2019-03-11 15:48:00</th>\n",
       "      <th>13900</th>\n",
       "      <th>18500</th>\n",
       "      <td>SP</td>\n",
       "      <td>SP</td>\n",
       "      <td>express</td>\n",
       "      <td>1</td>\n",
       "      <td>done</td>\n",
       "      <td>2019-03-09 00:00:00</td>\n",
       "      <td>2019-03-12 13:33:00</td>\n",
       "      <td>1</td>\n",
       "    </tr>\n",
       "    <tr>\n",
       "      <th>2019-03-12 08:19:00</th>\n",
       "      <th>4361</th>\n",
       "      <th>96810</th>\n",
       "      <td>SP</td>\n",
       "      <td>RS</td>\n",
       "      <td>express</td>\n",
       "      <td>1</td>\n",
       "      <td>done</td>\n",
       "      <td>2019-03-08 00:00:00</td>\n",
       "      <td>2019-03-16 08:24:00</td>\n",
       "      <td>4</td>\n",
       "    </tr>\n",
       "  </tbody>\n",
       "</table>\n",
       "</div>"
      ],
      "text/plain": [
       "                                                            sender_state  \\\n",
       "service date_sent           sender_zipcode receiver_zipcode                \n",
       "0       2019-03-05 13:24:00 3005           5409                       SP   \n",
       "1       2019-03-20 14:44:00 17052          37750                      SP   \n",
       "0       2019-02-21 15:08:00 2033           11040                      SP   \n",
       "        2019-03-11 15:48:00 13900          18500                      SP   \n",
       "        2019-03-12 08:19:00 4361           96810                      SP   \n",
       "\n",
       "                                                            receiver_state  \\\n",
       "service date_sent           sender_zipcode receiver_zipcode                  \n",
       "0       2019-03-05 13:24:00 3005           5409                         SP   \n",
       "1       2019-03-20 14:44:00 17052          37750                        MG   \n",
       "0       2019-02-21 15:08:00 2033           11040                        SP   \n",
       "        2019-03-11 15:48:00 13900          18500                        SP   \n",
       "        2019-03-12 08:19:00 4361           96810                        RS   \n",
       "\n",
       "                                                            shipment_type  \\\n",
       "service date_sent           sender_zipcode receiver_zipcode                 \n",
       "0       2019-03-05 13:24:00 3005           5409                   express   \n",
       "1       2019-03-20 14:44:00 17052          37750                 standard   \n",
       "0       2019-02-21 15:08:00 2033           11040                  express   \n",
       "        2019-03-11 15:48:00 13900          18500                  express   \n",
       "        2019-03-12 08:19:00 4361           96810                  express   \n",
       "\n",
       "                                                             quantity status  \\\n",
       "service date_sent           sender_zipcode receiver_zipcode                    \n",
       "0       2019-03-05 13:24:00 3005           5409                     1   done   \n",
       "1       2019-03-20 14:44:00 17052          37750                    1   done   \n",
       "0       2019-02-21 15:08:00 2033           11040                    1   done   \n",
       "        2019-03-11 15:48:00 13900          18500                    1   done   \n",
       "        2019-03-12 08:19:00 4361           96810                    1   done   \n",
       "\n",
       "                                                                    date_created  \\\n",
       "service date_sent           sender_zipcode receiver_zipcode                        \n",
       "0       2019-03-05 13:24:00 3005           5409              2019-03-04 00:00:00   \n",
       "1       2019-03-20 14:44:00 17052          37750             2019-03-19 00:00:00   \n",
       "0       2019-02-21 15:08:00 2033           11040             2019-02-18 00:00:00   \n",
       "        2019-03-11 15:48:00 13900          18500             2019-03-09 00:00:00   \n",
       "        2019-03-12 08:19:00 4361           96810             2019-03-08 00:00:00   \n",
       "\n",
       "                                                                      date_visit  \\\n",
       "service date_sent           sender_zipcode receiver_zipcode                        \n",
       "0       2019-03-05 13:24:00 3005           5409              2019-03-07 18:01:00   \n",
       "1       2019-03-20 14:44:00 17052          37750             2019-03-27 10:21:00   \n",
       "0       2019-02-21 15:08:00 2033           11040             2019-02-28 18:19:00   \n",
       "        2019-03-11 15:48:00 13900          18500             2019-03-12 13:33:00   \n",
       "        2019-03-12 08:19:00 4361           96810             2019-03-16 08:24:00   \n",
       "\n",
       "                                                             target  \n",
       "service date_sent           sender_zipcode receiver_zipcode          \n",
       "0       2019-03-05 13:24:00 3005           5409                   2  \n",
       "1       2019-03-20 14:44:00 17052          37750                  5  \n",
       "0       2019-02-21 15:08:00 2033           11040                  5  \n",
       "        2019-03-11 15:48:00 13900          18500                  1  \n",
       "        2019-03-12 08:19:00 4361           96810                  4  "
      ]
     },
     "execution_count": 10,
     "metadata": {},
     "output_type": "execute_result"
    }
   ],
   "source": [
    "keys = ['service', 'date_sent', 'sender_zipcode', 'receiver_zipcode']\n",
    "\n",
    "df.set_index(keys, drop=True, append=False, inplace=False, verify_integrity=False).head()\n"
   ]
  },
  {
   "cell_type": "code",
   "execution_count": 11,
   "metadata": {},
   "outputs": [
    {
     "data": {
      "text/plain": [
       "pandas.core.indexes.range.RangeIndex"
      ]
     },
     "execution_count": 11,
     "metadata": {},
     "output_type": "execute_result"
    }
   ],
   "source": [
    "type(df.index)\n"
   ]
  },
  {
   "cell_type": "markdown",
   "metadata": {},
   "source": [
    "3- ¿Tenemos datos faltantes? Dar detalles."
   ]
  },
  {
   "cell_type": "code",
   "execution_count": 12,
   "metadata": {},
   "outputs": [
    {
     "data": {
      "text/plain": [
       "sender_state        0\n",
       "sender_zipcode      0\n",
       "receiver_state      0\n",
       "receiver_zipcode    0\n",
       "shipment_type       0\n",
       "quantity            0\n",
       "service             0\n",
       "status              0\n",
       "date_created        0\n",
       "date_sent           0\n",
       "date_visit          0\n",
       "target              0\n",
       "dtype: int64"
      ]
     },
     "execution_count": 12,
     "metadata": {},
     "output_type": "execute_result"
    }
   ],
   "source": [
    "# get the number of missing data points per column\n",
    "missing_values_count = df.isnull().sum()\n",
    "missing_values_count"
   ]
  },
  {
   "cell_type": "markdown",
   "metadata": {},
   "source": [
    "No hay valores faltantes"
   ]
  },
  {
   "cell_type": "markdown",
   "metadata": {},
   "source": [
    "4- ¿Tenemos datos inconsistentes o raros? Dar detalles."
   ]
  },
  {
   "cell_type": "markdown",
   "metadata": {},
   "source": [
    "Hay que realizar un análisis por cada uno de los features. Basicamente tenemos que ver que los datos de cada feature pertenecen a su dominio.\n",
    "En una segunda etapa hay que analizar que los datos de cada feature en un envío son coherentes."
   ]
  },
  {
   "cell_type": "markdown",
   "metadata": {},
   "source": [
    "Estados: analizamos si existe algún valor inusual:"
   ]
  },
  {
   "cell_type": "code",
   "execution_count": 13,
   "metadata": {},
   "outputs": [
    {
     "data": {
      "text/plain": [
       "array(['AC', 'AL', 'AM', 'AP', 'BA', 'CE', 'DF', 'ES', 'GO', 'MA', 'MG',\n",
       "       'MS', 'MT', 'PA', 'PB', 'PE', 'PI', 'PR', 'RJ', 'RN', 'RO', 'RR',\n",
       "       'RS', 'SC', 'SE', 'SP', 'TO'], dtype=object)"
      ]
     },
     "execution_count": 13,
     "metadata": {},
     "output_type": "execute_result"
    }
   ],
   "source": [
    "np.sort(df[\"sender_state\"].unique())"
   ]
  },
  {
   "cell_type": "code",
   "execution_count": 14,
   "metadata": {},
   "outputs": [
    {
     "data": {
      "text/plain": [
       "array(['AC', 'AL', 'AM', 'AP', 'BA', 'CE', 'DF', 'ES', 'GO', 'MA', 'MG',\n",
       "       'MS', 'MT', 'PA', 'PB', 'PE', 'PI', 'PR', 'RJ', 'RN', 'RO', 'RR',\n",
       "       'RS', 'SC', 'SE', 'SP', 'TO'], dtype=object)"
      ]
     },
     "execution_count": 14,
     "metadata": {},
     "output_type": "execute_result"
    }
   ],
   "source": [
    "np.sort(df[\"receiver_state\"].unique())"
   ]
  },
  {
   "cell_type": "markdown",
   "metadata": {},
   "source": [
    "Analizamos los datos de tipo datetime:"
   ]
  },
  {
   "cell_type": "code",
   "execution_count": 15,
   "metadata": {},
   "outputs": [
    {
     "data": {
      "text/html": [
       "<div>\n",
       "<style scoped>\n",
       "    .dataframe tbody tr th:only-of-type {\n",
       "        vertical-align: middle;\n",
       "    }\n",
       "\n",
       "    .dataframe tbody tr th {\n",
       "        vertical-align: top;\n",
       "    }\n",
       "\n",
       "    .dataframe thead th {\n",
       "        text-align: right;\n",
       "    }\n",
       "</style>\n",
       "<table border=\"1\" class=\"dataframe\">\n",
       "  <thead>\n",
       "    <tr style=\"text-align: right;\">\n",
       "      <th></th>\n",
       "      <th>sender_state</th>\n",
       "      <th>sender_zipcode</th>\n",
       "      <th>receiver_state</th>\n",
       "      <th>receiver_zipcode</th>\n",
       "      <th>shipment_type</th>\n",
       "      <th>quantity</th>\n",
       "      <th>service</th>\n",
       "      <th>status</th>\n",
       "      <th>date_created</th>\n",
       "      <th>date_sent</th>\n",
       "      <th>date_visit</th>\n",
       "      <th>target</th>\n",
       "    </tr>\n",
       "  </thead>\n",
       "  <tbody>\n",
       "    <tr>\n",
       "      <th>227160</th>\n",
       "      <td>SP</td>\n",
       "      <td>13920</td>\n",
       "      <td>DF</td>\n",
       "      <td>70857</td>\n",
       "      <td>standard</td>\n",
       "      <td>1</td>\n",
       "      <td>1</td>\n",
       "      <td>done</td>\n",
       "      <td>2019-03-22 00:00:00</td>\n",
       "      <td>2019-03-26 15:56:00</td>\n",
       "      <td>2019-03-26 08:10:00</td>\n",
       "      <td>0</td>\n",
       "    </tr>\n",
       "    <tr>\n",
       "      <th>597454</th>\n",
       "      <td>SP</td>\n",
       "      <td>9961</td>\n",
       "      <td>PE</td>\n",
       "      <td>55604</td>\n",
       "      <td>standard</td>\n",
       "      <td>1</td>\n",
       "      <td>4</td>\n",
       "      <td>done</td>\n",
       "      <td>2019-02-28 00:00:00</td>\n",
       "      <td>2019-03-04 21:58:09</td>\n",
       "      <td>2019-03-04 17:21:00</td>\n",
       "      <td>0</td>\n",
       "    </tr>\n",
       "  </tbody>\n",
       "</table>\n",
       "</div>"
      ],
      "text/plain": [
       "       sender_state  sender_zipcode receiver_state  receiver_zipcode  \\\n",
       "227160           SP           13920             DF             70857   \n",
       "597454           SP            9961             PE             55604   \n",
       "\n",
       "       shipment_type  quantity  service status         date_created  \\\n",
       "227160      standard         1        1   done  2019-03-22 00:00:00   \n",
       "597454      standard         1        4   done  2019-02-28 00:00:00   \n",
       "\n",
       "                  date_sent           date_visit  target  \n",
       "227160  2019-03-26 15:56:00  2019-03-26 08:10:00       0  \n",
       "597454  2019-03-04 21:58:09  2019-03-04 17:21:00       0  "
      ]
     },
     "execution_count": 15,
     "metadata": {},
     "output_type": "execute_result"
    }
   ],
   "source": [
    "df[df[\"date_sent\"] > df[\"date_visit\"]]"
   ]
  },
  {
   "cell_type": "markdown",
   "metadata": {},
   "source": [
    "Hay dos filas con fechas inconcistentes. Es improbable que en Brasil hayan mas de cuatro franjas horarias que justifiquen estos datos."
   ]
  },
  {
   "cell_type": "code",
   "execution_count": 16,
   "metadata": {},
   "outputs": [
    {
     "data": {
      "text/html": [
       "<div>\n",
       "<style scoped>\n",
       "    .dataframe tbody tr th:only-of-type {\n",
       "        vertical-align: middle;\n",
       "    }\n",
       "\n",
       "    .dataframe tbody tr th {\n",
       "        vertical-align: top;\n",
       "    }\n",
       "\n",
       "    .dataframe thead th {\n",
       "        text-align: right;\n",
       "    }\n",
       "</style>\n",
       "<table border=\"1\" class=\"dataframe\">\n",
       "  <thead>\n",
       "    <tr style=\"text-align: right;\">\n",
       "      <th></th>\n",
       "      <th>sender_state</th>\n",
       "      <th>sender_zipcode</th>\n",
       "      <th>receiver_state</th>\n",
       "      <th>receiver_zipcode</th>\n",
       "      <th>shipment_type</th>\n",
       "      <th>quantity</th>\n",
       "      <th>service</th>\n",
       "      <th>status</th>\n",
       "      <th>date_created</th>\n",
       "      <th>date_sent</th>\n",
       "      <th>date_visit</th>\n",
       "      <th>target</th>\n",
       "    </tr>\n",
       "  </thead>\n",
       "  <tbody>\n",
       "    <tr>\n",
       "      <th>8622</th>\n",
       "      <td>SP</td>\n",
       "      <td>1521</td>\n",
       "      <td>DF</td>\n",
       "      <td>72504</td>\n",
       "      <td>standard</td>\n",
       "      <td>1</td>\n",
       "      <td>7</td>\n",
       "      <td>done</td>\n",
       "      <td>2019-06-27 00:00:00</td>\n",
       "      <td>2019-02-06 10:41:00</td>\n",
       "      <td>2019-03-06 14:18:00</td>\n",
       "      <td>17</td>\n",
       "    </tr>\n",
       "    <tr>\n",
       "      <th>10681</th>\n",
       "      <td>SP</td>\n",
       "      <td>3822</td>\n",
       "      <td>PE</td>\n",
       "      <td>51200</td>\n",
       "      <td>standard</td>\n",
       "      <td>1</td>\n",
       "      <td>4</td>\n",
       "      <td>sent</td>\n",
       "      <td>2019-06-18 00:00:00</td>\n",
       "      <td>2019-03-06 13:00:00</td>\n",
       "      <td>2019-03-06 13:24:00</td>\n",
       "      <td>0</td>\n",
       "    </tr>\n",
       "    <tr>\n",
       "      <th>13241</th>\n",
       "      <td>SP</td>\n",
       "      <td>14405</td>\n",
       "      <td>DF</td>\n",
       "      <td>71699</td>\n",
       "      <td>standard</td>\n",
       "      <td>1</td>\n",
       "      <td>7</td>\n",
       "      <td>done</td>\n",
       "      <td>2019-06-20 00:00:00</td>\n",
       "      <td>2019-03-06 05:17:00</td>\n",
       "      <td>2019-03-06 13:17:00</td>\n",
       "      <td>0</td>\n",
       "    </tr>\n",
       "    <tr>\n",
       "      <th>13295</th>\n",
       "      <td>SP</td>\n",
       "      <td>15820</td>\n",
       "      <td>MS</td>\n",
       "      <td>79011</td>\n",
       "      <td>express</td>\n",
       "      <td>1</td>\n",
       "      <td>7</td>\n",
       "      <td>done</td>\n",
       "      <td>2019-06-18 00:00:00</td>\n",
       "      <td>2019-02-06 11:34:00</td>\n",
       "      <td>2019-03-06 13:28:00</td>\n",
       "      <td>17</td>\n",
       "    </tr>\n",
       "    <tr>\n",
       "      <th>13446</th>\n",
       "      <td>SP</td>\n",
       "      <td>9961</td>\n",
       "      <td>SP</td>\n",
       "      <td>18125</td>\n",
       "      <td>standard</td>\n",
       "      <td>1</td>\n",
       "      <td>4</td>\n",
       "      <td>sent</td>\n",
       "      <td>2019-06-28 00:00:00</td>\n",
       "      <td>2019-02-06 03:43:00</td>\n",
       "      <td>2019-03-06 10:49:00</td>\n",
       "      <td>17</td>\n",
       "    </tr>\n",
       "  </tbody>\n",
       "</table>\n",
       "</div>"
      ],
      "text/plain": [
       "      sender_state  sender_zipcode receiver_state  receiver_zipcode  \\\n",
       "8622            SP            1521             DF             72504   \n",
       "10681           SP            3822             PE             51200   \n",
       "13241           SP           14405             DF             71699   \n",
       "13295           SP           15820             MS             79011   \n",
       "13446           SP            9961             SP             18125   \n",
       "\n",
       "      shipment_type  quantity  service status         date_created  \\\n",
       "8622       standard         1        7   done  2019-06-27 00:00:00   \n",
       "10681      standard         1        4   sent  2019-06-18 00:00:00   \n",
       "13241      standard         1        7   done  2019-06-20 00:00:00   \n",
       "13295       express         1        7   done  2019-06-18 00:00:00   \n",
       "13446      standard         1        4   sent  2019-06-28 00:00:00   \n",
       "\n",
       "                 date_sent           date_visit  target  \n",
       "8622   2019-02-06 10:41:00  2019-03-06 14:18:00      17  \n",
       "10681  2019-03-06 13:00:00  2019-03-06 13:24:00       0  \n",
       "13241  2019-03-06 05:17:00  2019-03-06 13:17:00       0  \n",
       "13295  2019-02-06 11:34:00  2019-03-06 13:28:00      17  \n",
       "13446  2019-02-06 03:43:00  2019-03-06 10:49:00      17  "
      ]
     },
     "execution_count": 16,
     "metadata": {},
     "output_type": "execute_result"
    }
   ],
   "source": [
    "df1 = df[df[\"date_created\"] > df[\"date_sent\"]]\n",
    "df1.head()"
   ]
  },
  {
   "cell_type": "code",
   "execution_count": 17,
   "metadata": {},
   "outputs": [
    {
     "data": {
      "text/plain": [
       "171"
      ]
     },
     "execution_count": 17,
     "metadata": {},
     "output_type": "execute_result"
    }
   ],
   "source": [
    "len(df1)"
   ]
  },
  {
   "cell_type": "markdown",
   "metadata": {},
   "source": [
    "Mas datos inconcistentes. Hay 171 compras que se realizaron despues de que fueron enviadas."
   ]
  },
  {
   "cell_type": "code",
   "execution_count": 18,
   "metadata": {},
   "outputs": [
    {
     "data": {
      "text/html": [
       "<div>\n",
       "<style scoped>\n",
       "    .dataframe tbody tr th:only-of-type {\n",
       "        vertical-align: middle;\n",
       "    }\n",
       "\n",
       "    .dataframe tbody tr th {\n",
       "        vertical-align: top;\n",
       "    }\n",
       "\n",
       "    .dataframe thead th {\n",
       "        text-align: right;\n",
       "    }\n",
       "</style>\n",
       "<table border=\"1\" class=\"dataframe\">\n",
       "  <thead>\n",
       "    <tr style=\"text-align: right;\">\n",
       "      <th></th>\n",
       "      <th>sender_state</th>\n",
       "      <th>sender_zipcode</th>\n",
       "      <th>receiver_state</th>\n",
       "      <th>receiver_zipcode</th>\n",
       "      <th>shipment_type</th>\n",
       "      <th>quantity</th>\n",
       "      <th>service</th>\n",
       "      <th>status</th>\n",
       "      <th>date_created</th>\n",
       "      <th>date_sent</th>\n",
       "      <th>date_visit</th>\n",
       "      <th>target</th>\n",
       "    </tr>\n",
       "  </thead>\n",
       "  <tbody>\n",
       "    <tr>\n",
       "      <th>8622</th>\n",
       "      <td>SP</td>\n",
       "      <td>1521</td>\n",
       "      <td>DF</td>\n",
       "      <td>72504</td>\n",
       "      <td>standard</td>\n",
       "      <td>1</td>\n",
       "      <td>7</td>\n",
       "      <td>done</td>\n",
       "      <td>2019-06-27 00:00:00</td>\n",
       "      <td>2019-02-06 10:41:00</td>\n",
       "      <td>2019-03-06 14:18:00</td>\n",
       "      <td>17</td>\n",
       "    </tr>\n",
       "    <tr>\n",
       "      <th>10681</th>\n",
       "      <td>SP</td>\n",
       "      <td>3822</td>\n",
       "      <td>PE</td>\n",
       "      <td>51200</td>\n",
       "      <td>standard</td>\n",
       "      <td>1</td>\n",
       "      <td>4</td>\n",
       "      <td>sent</td>\n",
       "      <td>2019-06-18 00:00:00</td>\n",
       "      <td>2019-03-06 13:00:00</td>\n",
       "      <td>2019-03-06 13:24:00</td>\n",
       "      <td>0</td>\n",
       "    </tr>\n",
       "    <tr>\n",
       "      <th>13241</th>\n",
       "      <td>SP</td>\n",
       "      <td>14405</td>\n",
       "      <td>DF</td>\n",
       "      <td>71699</td>\n",
       "      <td>standard</td>\n",
       "      <td>1</td>\n",
       "      <td>7</td>\n",
       "      <td>done</td>\n",
       "      <td>2019-06-20 00:00:00</td>\n",
       "      <td>2019-03-06 05:17:00</td>\n",
       "      <td>2019-03-06 13:17:00</td>\n",
       "      <td>0</td>\n",
       "    </tr>\n",
       "    <tr>\n",
       "      <th>13295</th>\n",
       "      <td>SP</td>\n",
       "      <td>15820</td>\n",
       "      <td>MS</td>\n",
       "      <td>79011</td>\n",
       "      <td>express</td>\n",
       "      <td>1</td>\n",
       "      <td>7</td>\n",
       "      <td>done</td>\n",
       "      <td>2019-06-18 00:00:00</td>\n",
       "      <td>2019-02-06 11:34:00</td>\n",
       "      <td>2019-03-06 13:28:00</td>\n",
       "      <td>17</td>\n",
       "    </tr>\n",
       "    <tr>\n",
       "      <th>13446</th>\n",
       "      <td>SP</td>\n",
       "      <td>9961</td>\n",
       "      <td>SP</td>\n",
       "      <td>18125</td>\n",
       "      <td>standard</td>\n",
       "      <td>1</td>\n",
       "      <td>4</td>\n",
       "      <td>sent</td>\n",
       "      <td>2019-06-28 00:00:00</td>\n",
       "      <td>2019-02-06 03:43:00</td>\n",
       "      <td>2019-03-06 10:49:00</td>\n",
       "      <td>17</td>\n",
       "    </tr>\n",
       "  </tbody>\n",
       "</table>\n",
       "</div>"
      ],
      "text/plain": [
       "      sender_state  sender_zipcode receiver_state  receiver_zipcode  \\\n",
       "8622            SP            1521             DF             72504   \n",
       "10681           SP            3822             PE             51200   \n",
       "13241           SP           14405             DF             71699   \n",
       "13295           SP           15820             MS             79011   \n",
       "13446           SP            9961             SP             18125   \n",
       "\n",
       "      shipment_type  quantity  service status         date_created  \\\n",
       "8622       standard         1        7   done  2019-06-27 00:00:00   \n",
       "10681      standard         1        4   sent  2019-06-18 00:00:00   \n",
       "13241      standard         1        7   done  2019-06-20 00:00:00   \n",
       "13295       express         1        7   done  2019-06-18 00:00:00   \n",
       "13446      standard         1        4   sent  2019-06-28 00:00:00   \n",
       "\n",
       "                 date_sent           date_visit  target  \n",
       "8622   2019-02-06 10:41:00  2019-03-06 14:18:00      17  \n",
       "10681  2019-03-06 13:00:00  2019-03-06 13:24:00       0  \n",
       "13241  2019-03-06 05:17:00  2019-03-06 13:17:00       0  \n",
       "13295  2019-02-06 11:34:00  2019-03-06 13:28:00      17  \n",
       "13446  2019-02-06 03:43:00  2019-03-06 10:49:00      17  "
      ]
     },
     "execution_count": 18,
     "metadata": {},
     "output_type": "execute_result"
    }
   ],
   "source": [
    "df2 = df[df[\"date_created\"] > df[\"date_visit\"]]\n",
    "df2.head()"
   ]
  },
  {
   "cell_type": "code",
   "execution_count": 19,
   "metadata": {},
   "outputs": [
    {
     "data": {
      "text/plain": [
       "168"
      ]
     },
     "execution_count": 19,
     "metadata": {},
     "output_type": "execute_result"
    }
   ],
   "source": [
    "len(df2)"
   ]
  },
  {
   "cell_type": "markdown",
   "metadata": {},
   "source": [
    "Mas datos inconcistentes. Hay 168 compras que se realizaron despues de que fueron entregadas."
   ]
  },
  {
   "cell_type": "markdown",
   "metadata": {},
   "source": [
    "Analizamos todas las fechas para un envío\n"
   ]
  },
  {
   "cell_type": "code",
   "execution_count": 20,
   "metadata": {},
   "outputs": [
    {
     "data": {
      "text/plain": [
       "173"
      ]
     },
     "execution_count": 20,
     "metadata": {},
     "output_type": "execute_result"
    }
   ],
   "source": [
    "len(df[(df['date_sent'] > df['date_visit']) | (df['date_created'] > df['date_sent']) | (df['date_created'] > df['date_visit'])])"
   ]
  },
  {
   "cell_type": "markdown",
   "metadata": {},
   "source": [
    "En total 173 filas tienen datos inconcistentes con respecto a las fechas. Dados que es una cantidad baja de datos inconcistentes 173/1000000, se pueden eliminar del dataframe"
   ]
  },
  {
   "cell_type": "code",
   "execution_count": 21,
   "metadata": {},
   "outputs": [],
   "source": [
    "df1 = df[(df['date_sent'] <= df['date_visit']) & (df['date_created'] <= df['date_sent']) & (df['date_created'] <= df['date_visit'])].copy()"
   ]
  },
  {
   "cell_type": "code",
   "execution_count": 22,
   "metadata": {},
   "outputs": [
    {
     "data": {
      "text/plain": [
       "(999827, 12)"
      ]
     },
     "execution_count": 22,
     "metadata": {},
     "output_type": "execute_result"
    }
   ],
   "source": [
    "df1.shape"
   ]
  },
  {
   "cell_type": "markdown",
   "metadata": {},
   "source": [
    "Para los zip codes podemos en primer lugar verificar si son todos de tipo numérico"
   ]
  },
  {
   "cell_type": "code",
   "execution_count": 23,
   "metadata": {},
   "outputs": [
    {
     "data": {
      "text/html": [
       "<div>\n",
       "<style scoped>\n",
       "    .dataframe tbody tr th:only-of-type {\n",
       "        vertical-align: middle;\n",
       "    }\n",
       "\n",
       "    .dataframe tbody tr th {\n",
       "        vertical-align: top;\n",
       "    }\n",
       "\n",
       "    .dataframe thead th {\n",
       "        text-align: right;\n",
       "    }\n",
       "</style>\n",
       "<table border=\"1\" class=\"dataframe\">\n",
       "  <thead>\n",
       "    <tr style=\"text-align: right;\">\n",
       "      <th></th>\n",
       "      <th>sender_zipcode</th>\n",
       "      <th>receiver_zipcode</th>\n",
       "    </tr>\n",
       "  </thead>\n",
       "  <tbody>\n",
       "    <tr>\n",
       "      <th>0</th>\n",
       "      <td>3005</td>\n",
       "      <td>5409</td>\n",
       "    </tr>\n",
       "    <tr>\n",
       "      <th>1</th>\n",
       "      <td>17052</td>\n",
       "      <td>37750</td>\n",
       "    </tr>\n",
       "    <tr>\n",
       "      <th>2</th>\n",
       "      <td>2033</td>\n",
       "      <td>11040</td>\n",
       "    </tr>\n",
       "    <tr>\n",
       "      <th>3</th>\n",
       "      <td>13900</td>\n",
       "      <td>18500</td>\n",
       "    </tr>\n",
       "    <tr>\n",
       "      <th>4</th>\n",
       "      <td>4361</td>\n",
       "      <td>96810</td>\n",
       "    </tr>\n",
       "  </tbody>\n",
       "</table>\n",
       "</div>"
      ],
      "text/plain": [
       "   sender_zipcode  receiver_zipcode\n",
       "0            3005              5409\n",
       "1           17052             37750\n",
       "2            2033             11040\n",
       "3           13900             18500\n",
       "4            4361             96810"
      ]
     },
     "execution_count": 23,
     "metadata": {},
     "output_type": "execute_result"
    }
   ],
   "source": [
    "df1 = df[['sender_zipcode','receiver_zipcode']].copy()\n",
    "df1.head()"
   ]
  },
  {
   "cell_type": "code",
   "execution_count": 24,
   "metadata": {},
   "outputs": [
    {
     "data": {
      "text/plain": [
       "(1000000, 2)"
      ]
     },
     "execution_count": 24,
     "metadata": {},
     "output_type": "execute_result"
    }
   ],
   "source": [
    "df1[df1['sender_zipcode'].apply(lambda x: isinstance(x, int))].shape\n"
   ]
  },
  {
   "cell_type": "code",
   "execution_count": 25,
   "metadata": {},
   "outputs": [
    {
     "data": {
      "text/plain": [
       "(1000000, 2)"
      ]
     },
     "execution_count": 25,
     "metadata": {},
     "output_type": "execute_result"
    }
   ],
   "source": [
    "df1[df1['receiver_zipcode'].apply(lambda x: isinstance(x, int))].shape\n"
   ]
  },
  {
   "cell_type": "markdown",
   "metadata": {},
   "source": [
    "Se puede tambien verificar que los zip code esten en un rango correcto de sus valores(min y max)."
   ]
  },
  {
   "cell_type": "code",
   "execution_count": null,
   "metadata": {},
   "outputs": [],
   "source": [
    "df1.describe()"
   ]
  },
  {
   "cell_type": "markdown",
   "metadata": {},
   "source": [
    "También se puede analizar si ademas de que los valores esten en su rango correcto de valores, que estos sean correctos.\n",
    "Es decir, que no hayan zip codes entre 1001-99990 con valores invalidos.\n"
   ]
  },
  {
   "cell_type": "markdown",
   "metadata": {},
   "source": [
    "5-¿Tenemos outliers muy lejanos? ¿Conviene quitarlos del dataset?"
   ]
  },
  {
   "cell_type": "code",
   "execution_count": null,
   "metadata": {},
   "outputs": [],
   "source": [
    "plt.figure(figsize=(20,10))\n",
    "plt.boxplot(df['target'])"
   ]
  },
  {
   "cell_type": "code",
   "execution_count": null,
   "metadata": {
    "scrolled": true
   },
   "outputs": [],
   "source": [
    "df['target'].quantile(np.arange(0.1,1.1,0.1))"
   ]
  },
  {
   "cell_type": "code",
   "execution_count": null,
   "metadata": {},
   "outputs": [],
   "source": [
    "df['target'].quantile(np.arange(0.9,1.01,0.01))"
   ]
  },
  {
   "cell_type": "markdown",
   "metadata": {},
   "source": [
    "los target con un valor  menor que 22 ocupan el 99 por ciento de los datos. Los valores mayores a este valor deberiamos quitarlos ya que nos son representativos, los consideramos outliers."
   ]
  },
  {
   "cell_type": "code",
   "execution_count": null,
   "metadata": {
    "scrolled": true
   },
   "outputs": [],
   "source": [
    "plt.figure(figsize=(20, 10))\n",
    "sb.set(rc={'figure.figsize':(10.5,8.5)})\n",
    "sb.boxplot(x=df['service'], y=df['target'], data=df, palette=\"Set1\")"
   ]
  },
  {
   "cell_type": "markdown",
   "metadata": {},
   "source": [
    "Con esto vemos los outliers por servicio. El mismo análisis se puede realizar para el resto de los features numéricos."
   ]
  },
  {
   "cell_type": "markdown",
   "metadata": {},
   "source": [
    "6- ¿Las fechas tienen sentido? Dar detalles."
   ]
  },
  {
   "cell_type": "markdown",
   "metadata": {},
   "source": [
    "Los datos de fecha originalmente no son reconocidos como datetime, son tipo object,\n",
    "para utilizar todas las funcionalidades que probee el tipo np.datetime64 , se debe cargar el dataframe\n",
    "de la siguiente manera"
   ]
  },
  {
   "cell_type": "code",
   "execution_count": null,
   "metadata": {},
   "outputs": [],
   "source": [
    "df = pd.read_csv(data_path, usecols=cols, parse_dates=[\"date_created\", \"date_sent\", \"date_visit\"])"
   ]
  },
  {
   "cell_type": "code",
   "execution_count": null,
   "metadata": {},
   "outputs": [],
   "source": [
    "df.describe(include=['object', 'datetime64'])"
   ]
  },
  {
   "cell_type": "markdown",
   "metadata": {},
   "source": [
    "Ahora si, los datos date son de tipo datetime64"
   ]
  },
  {
   "cell_type": "code",
   "execution_count": null,
   "metadata": {},
   "outputs": [],
   "source": [
    "df.dtypes"
   ]
  },
  {
   "cell_type": "markdown",
   "metadata": {},
   "source": [
    "7- ¿Que otras verificaciones básicas podrías hacer?"
   ]
  },
  {
   "cell_type": "markdown",
   "metadata": {},
   "source": [
    "Se pueden continuar realizando las mismas validaciones(que los datos pertenezcan a su rango de valores), análisis de outliers, etc, para el resto de los features numéricos. para los features categóricos."
   ]
  },
  {
   "cell_type": "markdown",
   "metadata": {},
   "source": [
    "a-¿Como se podría imputar las fechas faltantes de la columna ​ date_sent​ ? Justificarlo e\n",
    "implementar alguna solución."
   ]
  },
  {
   "cell_type": "code",
   "execution_count": null,
   "metadata": {},
   "outputs": [],
   "source": [
    "df[df['date_sent'].isna()]"
   ]
  },
  {
   "cell_type": "code",
   "execution_count": null,
   "metadata": {},
   "outputs": [],
   "source": [
    "df[df['date_sent'].isnull()]"
   ]
  },
  {
   "cell_type": "markdown",
   "metadata": {},
   "source": [
    "No hay datos faltantes, de echo ya lo habíamos verficado anteriormente, igualmente existen varios metodos para imputar datos\n",
    "En el caso de las fechas, si existiesen datos faltantes, se podría utilizar el siguiente método:\n",
    "\n",
    "    * Generar hash numérico a partir del primary key compuesto por los cuatro atributos mencionados anteriormente.\n",
    "    * Transformar todas las fechas a algun formato numérico como epoch.\n",
    "    * Ordenar los datos segun el nuevo hash numérico.\n",
    "    * Usar algun metodo de regresion (como linear regression) para predecir nuevos valores de fechas numéricos, para las fechas faltantes, tomando como datos de entrada los hash numéricos.\n",
    "    * volver a convertir todos las fechas en formato numérico a datetime.\n"
   ]
  },
  {
   "cell_type": "markdown",
   "metadata": {},
   "source": [
    "b-¿Qué riesgos existen al imputar datos? ¿Qué riesgos existen al imputar estos en particular?\n",
    "¿Cómo corregirías las fechas inconsistentes? Implementar alguna solución"
   ]
  },
  {
   "cell_type": "markdown",
   "metadata": {},
   "source": [
    "El riesgo principal es que el dato generado afecte en alguna medida los mediciones u analisis sobre el dataset original, por ejemplo generando sesgos. "
   ]
  },
  {
   "cell_type": "markdown",
   "metadata": {},
   "source": [
    "c-¿Es conveniente aplicar normalización o estandarización sobre algunos features? ¿Cuales\n",
    "features? ¿Porqué?"
   ]
  },
  {
   "cell_type": "markdown",
   "metadata": {},
   "source": [
    "Solo se pueden normalizar features numericos. La normalización es util cuando se desea comparar u obtener metricas de series de datos que originalmente estan defindidos en distintos rangos de valores. Normalizando se logra tener la misma escala de valores."
   ]
  },
  {
   "cell_type": "code",
   "execution_count": null,
   "metadata": {},
   "outputs": [],
   "source": []
  },
  {
   "cell_type": "markdown",
   "metadata": {},
   "source": [
    "d-¿Qué técnica utilizarías? Implementar alguna solución."
   ]
  },
  {
   "cell_type": "markdown",
   "metadata": {},
   "source": [
    "Existen varias formas de normalizar un rngo de valores, aunque la mas conocida es la normalización standar:\n",
    "\n",
    "$$z = \\frac{X - \\mu}{ \\sigma}$$"
   ]
  },
  {
   "cell_type": "markdown",
   "metadata": {},
   "source": [
    "e-¿Es necesario reducir la dimensión de los features?"
   ]
  },
  {
   "cell_type": "code",
   "execution_count": null,
   "metadata": {},
   "outputs": [],
   "source": []
  },
  {
   "cell_type": "markdown",
   "metadata": {},
   "source": [
    "f-¿Sería útil aplicar el algoritmo de PCA? ¿Sobre qué features? ¿Con qué objetivo?"
   ]
  },
  {
   "cell_type": "code",
   "execution_count": null,
   "metadata": {},
   "outputs": [],
   "source": []
  },
  {
   "cell_type": "markdown",
   "metadata": {},
   "source": [
    "g-Actualmente el target tiene granularidad de días, ¿lo podrías refinar? ¿Como? ¿Qué\n",
    "beneficios obtendrías al aumentar la granularidad?"
   ]
  },
  {
   "cell_type": "code",
   "execution_count": null,
   "metadata": {},
   "outputs": [],
   "source": []
  }
 ],
 "metadata": {
  "kernelspec": {
   "display_name": "Python 3",
   "language": "python",
   "name": "python3"
  },
  "language_info": {
   "codemirror_mode": {
    "name": "ipython",
    "version": 3
   },
   "file_extension": ".py",
   "mimetype": "text/x-python",
   "name": "python",
   "nbconvert_exporter": "python",
   "pygments_lexer": "ipython3",
   "version": "3.7.3"
  }
 },
 "nbformat": 4,
 "nbformat_minor": 2
}
