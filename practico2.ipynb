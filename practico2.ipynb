{
 "cells": [
  {
   "cell_type": "markdown",
   "metadata": {},
   "source": [
    "# DiploDatos 2019 - Análisis de Series Temporales\n",
    "\n",
    "## Integrantes\n",
    "\n",
    "| Nombre | e-mail |\n",
    "|------|------|\n",
    "|Rivadero, Isabel | isarivadero@hotmail.com |\n",
    "|Vargas, Miguel | lvc0107@protonmail.com |\n",
    "|Mancuso, Fernando | manquius@gmail.com |\n",
    "\n",
    "## Práctico de Análisis y Curación de datos\n",
    "\n",
    "En este práctico  continuaremos analizando el dataset más en detalle y tomaremos\n",
    "acciones de limpieza y curación sobre los datos cuando sea necesario"
   ]
  },
  {
   "cell_type": "code",
   "execution_count": 1,
   "metadata": {},
   "outputs": [
    {
     "data": {
      "text/html": [
       "<style>.container { width:90% !important; }</style>"
      ],
      "text/plain": [
       "<IPython.core.display.HTML object>"
      ]
     },
     "metadata": {},
     "output_type": "display_data"
    }
   ],
   "source": [
    "### Aumentar el ancho del notebook\n",
    "from IPython.core.display import display, HTML\n",
    "display(HTML(\"<style>.container { width:90% !important; }</style>\"))"
   ]
  },
  {
   "cell_type": "markdown",
   "metadata": {},
   "source": [
    "### Dataset"
   ]
  },
  {
   "cell_type": "code",
   "execution_count": 2,
   "metadata": {},
   "outputs": [],
   "source": [
    "%matplotlib inline\n",
    "import numpy as np\n",
    "import pandas as pd\n",
    "import matplotlib.pyplot as plt\n",
    "import seaborn as sb\n",
    "sb.set(rc={'figure.figsize':(10,6)})\n",
    "\n",
    "cols = ['service',\n",
    "        'sender_zipcode',\n",
    "        'receiver_zipcode',\n",
    "        'sender_state',\n",
    "        'receiver_state',\n",
    "        'shipment_type',\n",
    "        'quantity',\n",
    "        'status',\n",
    "        'date_created',\n",
    "        'date_sent',\n",
    "        'date_visit',\n",
    "        'target']\n",
    "cols_holidays = ['holiday', \n",
    "                 'description']\n",
    "data_path = './shipments_BR_201903.csv'\n",
    "holidays = './holidays.csv'"
   ]
  },
  {
   "cell_type": "markdown",
   "metadata": {},
   "source": [
    "#### Referencia de las columnas\n",
    "* **service**: Identificador unico que corresponde a un tipo de servicio de un correo en particular.\n",
    "* **sender_zipcode:** Código postal de quien envía el paquete (usualmente el vendedor).\n",
    "* **receiver_zipcode:** Código postal de quien recibe el paquete (usualmente el comprador).\n",
    "* **sender_state:** Nombre abreviado del estado de quien envía el paquete.\n",
    "* **receiver_state:** Nombre abreviado del estado de quien recibe el paquete.\n",
    "* **quantity:** Cantidad de items que tiene dentro el paquete.\n",
    "* **status:** Estado final del envío.\n",
    "* **date_created:** Fecha de compra de el o los items.\n",
    "* **date_sent:** Fecha en que el correo recibe el paquete.\n",
    "* **date_visit:** Fecha en que el correo entrega el paquete.\n",
    "* **target:** Cantidad de dias hábiles que tardó el correo en entregar el paquete desde que lo recibe.\n"
   ]
  },
  {
   "cell_type": "code",
   "execution_count": 3,
   "metadata": {},
   "outputs": [
    {
     "data": {
      "text/plain": [
       "(1000000, 12)"
      ]
     },
     "execution_count": 3,
     "metadata": {},
     "output_type": "execute_result"
    }
   ],
   "source": [
    "df = pd.read_csv(data_path, usecols=cols)\n",
    "df.shape"
   ]
  },
  {
   "cell_type": "code",
   "execution_count": 4,
   "metadata": {},
   "outputs": [
    {
     "data": {
      "text/html": [
       "<div>\n",
       "<style scoped>\n",
       "    .dataframe tbody tr th:only-of-type {\n",
       "        vertical-align: middle;\n",
       "    }\n",
       "\n",
       "    .dataframe tbody tr th {\n",
       "        vertical-align: top;\n",
       "    }\n",
       "\n",
       "    .dataframe thead th {\n",
       "        text-align: right;\n",
       "    }\n",
       "</style>\n",
       "<table border=\"1\" class=\"dataframe\">\n",
       "  <thead>\n",
       "    <tr style=\"text-align: right;\">\n",
       "      <th></th>\n",
       "      <th>sender_state</th>\n",
       "      <th>sender_zipcode</th>\n",
       "      <th>receiver_state</th>\n",
       "      <th>receiver_zipcode</th>\n",
       "      <th>shipment_type</th>\n",
       "      <th>quantity</th>\n",
       "      <th>service</th>\n",
       "      <th>status</th>\n",
       "      <th>date_created</th>\n",
       "      <th>date_sent</th>\n",
       "      <th>date_visit</th>\n",
       "      <th>target</th>\n",
       "    </tr>\n",
       "  </thead>\n",
       "  <tbody>\n",
       "    <tr>\n",
       "      <th>0</th>\n",
       "      <td>SP</td>\n",
       "      <td>3005</td>\n",
       "      <td>SP</td>\n",
       "      <td>5409</td>\n",
       "      <td>express</td>\n",
       "      <td>1</td>\n",
       "      <td>0</td>\n",
       "      <td>done</td>\n",
       "      <td>2019-03-04 00:00:00</td>\n",
       "      <td>2019-03-05 13:24:00</td>\n",
       "      <td>2019-03-07 18:01:00</td>\n",
       "      <td>2</td>\n",
       "    </tr>\n",
       "    <tr>\n",
       "      <th>1</th>\n",
       "      <td>SP</td>\n",
       "      <td>17052</td>\n",
       "      <td>MG</td>\n",
       "      <td>37750</td>\n",
       "      <td>standard</td>\n",
       "      <td>1</td>\n",
       "      <td>1</td>\n",
       "      <td>done</td>\n",
       "      <td>2019-03-19 00:00:00</td>\n",
       "      <td>2019-03-20 14:44:00</td>\n",
       "      <td>2019-03-27 10:21:00</td>\n",
       "      <td>5</td>\n",
       "    </tr>\n",
       "    <tr>\n",
       "      <th>2</th>\n",
       "      <td>SP</td>\n",
       "      <td>2033</td>\n",
       "      <td>SP</td>\n",
       "      <td>11040</td>\n",
       "      <td>express</td>\n",
       "      <td>1</td>\n",
       "      <td>0</td>\n",
       "      <td>done</td>\n",
       "      <td>2019-02-18 00:00:00</td>\n",
       "      <td>2019-02-21 15:08:00</td>\n",
       "      <td>2019-02-28 18:19:00</td>\n",
       "      <td>5</td>\n",
       "    </tr>\n",
       "    <tr>\n",
       "      <th>3</th>\n",
       "      <td>SP</td>\n",
       "      <td>13900</td>\n",
       "      <td>SP</td>\n",
       "      <td>18500</td>\n",
       "      <td>express</td>\n",
       "      <td>1</td>\n",
       "      <td>0</td>\n",
       "      <td>done</td>\n",
       "      <td>2019-03-09 00:00:00</td>\n",
       "      <td>2019-03-11 15:48:00</td>\n",
       "      <td>2019-03-12 13:33:00</td>\n",
       "      <td>1</td>\n",
       "    </tr>\n",
       "    <tr>\n",
       "      <th>4</th>\n",
       "      <td>SP</td>\n",
       "      <td>4361</td>\n",
       "      <td>RS</td>\n",
       "      <td>96810</td>\n",
       "      <td>express</td>\n",
       "      <td>1</td>\n",
       "      <td>0</td>\n",
       "      <td>done</td>\n",
       "      <td>2019-03-08 00:00:00</td>\n",
       "      <td>2019-03-12 08:19:00</td>\n",
       "      <td>2019-03-16 08:24:00</td>\n",
       "      <td>4</td>\n",
       "    </tr>\n",
       "  </tbody>\n",
       "</table>\n",
       "</div>"
      ],
      "text/plain": [
       "  sender_state  sender_zipcode receiver_state  receiver_zipcode shipment_type  \\\n",
       "0           SP            3005             SP              5409       express   \n",
       "1           SP           17052             MG             37750      standard   \n",
       "2           SP            2033             SP             11040       express   \n",
       "3           SP           13900             SP             18500       express   \n",
       "4           SP            4361             RS             96810       express   \n",
       "\n",
       "   quantity  service status         date_created            date_sent  \\\n",
       "0         1        0   done  2019-03-04 00:00:00  2019-03-05 13:24:00   \n",
       "1         1        1   done  2019-03-19 00:00:00  2019-03-20 14:44:00   \n",
       "2         1        0   done  2019-02-18 00:00:00  2019-02-21 15:08:00   \n",
       "3         1        0   done  2019-03-09 00:00:00  2019-03-11 15:48:00   \n",
       "4         1        0   done  2019-03-08 00:00:00  2019-03-12 08:19:00   \n",
       "\n",
       "            date_visit  target  \n",
       "0  2019-03-07 18:01:00       2  \n",
       "1  2019-03-27 10:21:00       5  \n",
       "2  2019-02-28 18:19:00       5  \n",
       "3  2019-03-12 13:33:00       1  \n",
       "4  2019-03-16 08:24:00       4  "
      ]
     },
     "execution_count": 4,
     "metadata": {},
     "output_type": "execute_result"
    }
   ],
   "source": [
    "df.head()"
   ]
  },
  {
   "cell_type": "code",
   "execution_count": 5,
   "metadata": {},
   "outputs": [],
   "source": [
    "# set seed for reproducibility\n",
    "np.random.seed(0)"
   ]
  },
  {
   "cell_type": "code",
   "execution_count": 6,
   "metadata": {},
   "outputs": [
    {
     "data": {
      "text/html": [
       "<div>\n",
       "<style scoped>\n",
       "    .dataframe tbody tr th:only-of-type {\n",
       "        vertical-align: middle;\n",
       "    }\n",
       "\n",
       "    .dataframe tbody tr th {\n",
       "        vertical-align: top;\n",
       "    }\n",
       "\n",
       "    .dataframe thead th {\n",
       "        text-align: right;\n",
       "    }\n",
       "</style>\n",
       "<table border=\"1\" class=\"dataframe\">\n",
       "  <thead>\n",
       "    <tr style=\"text-align: right;\">\n",
       "      <th></th>\n",
       "      <th>sender_state</th>\n",
       "      <th>sender_zipcode</th>\n",
       "      <th>receiver_state</th>\n",
       "      <th>receiver_zipcode</th>\n",
       "      <th>shipment_type</th>\n",
       "      <th>quantity</th>\n",
       "      <th>service</th>\n",
       "      <th>status</th>\n",
       "      <th>date_created</th>\n",
       "      <th>date_sent</th>\n",
       "      <th>date_visit</th>\n",
       "      <th>target</th>\n",
       "    </tr>\n",
       "  </thead>\n",
       "  <tbody>\n",
       "    <tr>\n",
       "      <th>157105</th>\n",
       "      <td>SP</td>\n",
       "      <td>14405</td>\n",
       "      <td>MG</td>\n",
       "      <td>37706</td>\n",
       "      <td>standard</td>\n",
       "      <td>2</td>\n",
       "      <td>3</td>\n",
       "      <td>done</td>\n",
       "      <td>2019-03-13 00:00:00</td>\n",
       "      <td>2019-03-19 20:52:00</td>\n",
       "      <td>2019-03-22 11:00:00</td>\n",
       "      <td>3</td>\n",
       "    </tr>\n",
       "    <tr>\n",
       "      <th>374554</th>\n",
       "      <td>BA</td>\n",
       "      <td>40260</td>\n",
       "      <td>SE</td>\n",
       "      <td>49088</td>\n",
       "      <td>standard</td>\n",
       "      <td>1</td>\n",
       "      <td>1</td>\n",
       "      <td>done</td>\n",
       "      <td>2019-03-04 00:00:00</td>\n",
       "      <td>2019-03-06 15:32:00</td>\n",
       "      <td>2019-03-23 11:23:00</td>\n",
       "      <td>12</td>\n",
       "    </tr>\n",
       "    <tr>\n",
       "      <th>688694</th>\n",
       "      <td>SP</td>\n",
       "      <td>8061</td>\n",
       "      <td>DF</td>\n",
       "      <td>70236</td>\n",
       "      <td>express</td>\n",
       "      <td>1</td>\n",
       "      <td>0</td>\n",
       "      <td>done</td>\n",
       "      <td>2019-03-15 00:00:00</td>\n",
       "      <td>2019-03-15 16:04:00</td>\n",
       "      <td>2019-03-18 12:00:00</td>\n",
       "      <td>1</td>\n",
       "    </tr>\n",
       "    <tr>\n",
       "      <th>265381</th>\n",
       "      <td>SP</td>\n",
       "      <td>3118</td>\n",
       "      <td>BA</td>\n",
       "      <td>48455</td>\n",
       "      <td>standard</td>\n",
       "      <td>3</td>\n",
       "      <td>1</td>\n",
       "      <td>done</td>\n",
       "      <td>2019-03-10 00:00:00</td>\n",
       "      <td>2019-03-11 14:58:00</td>\n",
       "      <td>2019-03-27 07:56:00</td>\n",
       "      <td>12</td>\n",
       "    </tr>\n",
       "    <tr>\n",
       "      <th>955415</th>\n",
       "      <td>SP</td>\n",
       "      <td>14402</td>\n",
       "      <td>DF</td>\n",
       "      <td>71503</td>\n",
       "      <td>standard</td>\n",
       "      <td>1</td>\n",
       "      <td>4</td>\n",
       "      <td>done</td>\n",
       "      <td>2019-03-01 00:00:00</td>\n",
       "      <td>2019-03-07 03:55:36</td>\n",
       "      <td>2019-03-11 16:39:00</td>\n",
       "      <td>1</td>\n",
       "    </tr>\n",
       "  </tbody>\n",
       "</table>\n",
       "</div>"
      ],
      "text/plain": [
       "       sender_state  sender_zipcode receiver_state  receiver_zipcode  \\\n",
       "157105           SP           14405             MG             37706   \n",
       "374554           BA           40260             SE             49088   \n",
       "688694           SP            8061             DF             70236   \n",
       "265381           SP            3118             BA             48455   \n",
       "955415           SP           14402             DF             71503   \n",
       "\n",
       "       shipment_type  quantity  service status         date_created  \\\n",
       "157105      standard         2        3   done  2019-03-13 00:00:00   \n",
       "374554      standard         1        1   done  2019-03-04 00:00:00   \n",
       "688694       express         1        0   done  2019-03-15 00:00:00   \n",
       "265381      standard         3        1   done  2019-03-10 00:00:00   \n",
       "955415      standard         1        4   done  2019-03-01 00:00:00   \n",
       "\n",
       "                  date_sent           date_visit  target  \n",
       "157105  2019-03-19 20:52:00  2019-03-22 11:00:00       3  \n",
       "374554  2019-03-06 15:32:00  2019-03-23 11:23:00      12  \n",
       "688694  2019-03-15 16:04:00  2019-03-18 12:00:00       1  \n",
       "265381  2019-03-11 14:58:00  2019-03-27 07:56:00      12  \n",
       "955415  2019-03-07 03:55:36  2019-03-11 16:39:00       1  "
      ]
     },
     "execution_count": 6,
     "metadata": {},
     "output_type": "execute_result"
    }
   ],
   "source": [
    "df.sample(5)"
   ]
  },
  {
   "cell_type": "code",
   "execution_count": 7,
   "metadata": {},
   "outputs": [
    {
     "data": {
      "text/plain": [
       "sender_state        object\n",
       "sender_zipcode       int64\n",
       "receiver_state      object\n",
       "receiver_zipcode     int64\n",
       "shipment_type       object\n",
       "quantity             int64\n",
       "service              int64\n",
       "status              object\n",
       "date_created        object\n",
       "date_sent           object\n",
       "date_visit          object\n",
       "target               int64\n",
       "dtype: object"
      ]
     },
     "execution_count": 7,
     "metadata": {},
     "output_type": "execute_result"
    }
   ],
   "source": [
    "df.dtypes"
   ]
  },
  {
   "cell_type": "code",
   "execution_count": 8,
   "metadata": {},
   "outputs": [
    {
     "data": {
      "text/html": [
       "<div>\n",
       "<style scoped>\n",
       "    .dataframe tbody tr th:only-of-type {\n",
       "        vertical-align: middle;\n",
       "    }\n",
       "\n",
       "    .dataframe tbody tr th {\n",
       "        vertical-align: top;\n",
       "    }\n",
       "\n",
       "    .dataframe thead th {\n",
       "        text-align: right;\n",
       "    }\n",
       "</style>\n",
       "<table border=\"1\" class=\"dataframe\">\n",
       "  <thead>\n",
       "    <tr style=\"text-align: right;\">\n",
       "      <th></th>\n",
       "      <th>sender_zipcode</th>\n",
       "      <th>receiver_zipcode</th>\n",
       "      <th>quantity</th>\n",
       "      <th>service</th>\n",
       "      <th>target</th>\n",
       "    </tr>\n",
       "  </thead>\n",
       "  <tbody>\n",
       "    <tr>\n",
       "      <th>count</th>\n",
       "      <td>1000000.000000</td>\n",
       "      <td>1000000.000000</td>\n",
       "      <td>1000000.000000</td>\n",
       "      <td>1000000.000000</td>\n",
       "      <td>1000000.000000</td>\n",
       "    </tr>\n",
       "    <tr>\n",
       "      <th>mean</th>\n",
       "      <td>22637.975896</td>\n",
       "      <td>41650.306365</td>\n",
       "      <td>1.277814</td>\n",
       "      <td>1.182677</td>\n",
       "      <td>6.021577</td>\n",
       "    </tr>\n",
       "    <tr>\n",
       "      <th>std</th>\n",
       "      <td>27817.028435</td>\n",
       "      <td>30952.352631</td>\n",
       "      <td>0.661583</td>\n",
       "      <td>1.486557</td>\n",
       "      <td>5.157973</td>\n",
       "    </tr>\n",
       "    <tr>\n",
       "      <th>min</th>\n",
       "      <td>1001.000000</td>\n",
       "      <td>1001.000000</td>\n",
       "      <td>1.000000</td>\n",
       "      <td>0.000000</td>\n",
       "      <td>0.000000</td>\n",
       "    </tr>\n",
       "    <tr>\n",
       "      <th>25%</th>\n",
       "      <td>4836.000000</td>\n",
       "      <td>13465.000000</td>\n",
       "      <td>1.000000</td>\n",
       "      <td>0.000000</td>\n",
       "      <td>2.000000</td>\n",
       "    </tr>\n",
       "    <tr>\n",
       "      <th>50%</th>\n",
       "      <td>12091.000000</td>\n",
       "      <td>35164.000000</td>\n",
       "      <td>1.000000</td>\n",
       "      <td>1.000000</td>\n",
       "      <td>4.000000</td>\n",
       "    </tr>\n",
       "    <tr>\n",
       "      <th>75%</th>\n",
       "      <td>23050.000000</td>\n",
       "      <td>72308.000000</td>\n",
       "      <td>1.000000</td>\n",
       "      <td>1.000000</td>\n",
       "      <td>9.000000</td>\n",
       "    </tr>\n",
       "    <tr>\n",
       "      <th>max</th>\n",
       "      <td>99990.000000</td>\n",
       "      <td>99990.000000</td>\n",
       "      <td>5.000000</td>\n",
       "      <td>11.000000</td>\n",
       "      <td>118.000000</td>\n",
       "    </tr>\n",
       "  </tbody>\n",
       "</table>\n",
       "</div>"
      ],
      "text/plain": [
       "       sender_zipcode  receiver_zipcode        quantity         service  \\\n",
       "count  1000000.000000    1000000.000000  1000000.000000  1000000.000000   \n",
       "mean     22637.975896      41650.306365        1.277814        1.182677   \n",
       "std      27817.028435      30952.352631        0.661583        1.486557   \n",
       "min       1001.000000       1001.000000        1.000000        0.000000   \n",
       "25%       4836.000000      13465.000000        1.000000        0.000000   \n",
       "50%      12091.000000      35164.000000        1.000000        1.000000   \n",
       "75%      23050.000000      72308.000000        1.000000        1.000000   \n",
       "max      99990.000000      99990.000000        5.000000       11.000000   \n",
       "\n",
       "               target  \n",
       "count  1000000.000000  \n",
       "mean         6.021577  \n",
       "std          5.157973  \n",
       "min          0.000000  \n",
       "25%          2.000000  \n",
       "50%          4.000000  \n",
       "75%          9.000000  \n",
       "max        118.000000  "
      ]
     },
     "execution_count": 8,
     "metadata": {},
     "output_type": "execute_result"
    }
   ],
   "source": [
    "df.describe()"
   ]
  },
  {
   "cell_type": "markdown",
   "metadata": {},
   "source": [
    "**Implementación\n",
    "Como primer paso es necesario verificar la consistencia de la información.\n",
    "Para esto debemos verificar al menos lo siguiente:**"
   ]
  },
  {
   "cell_type": "markdown",
   "metadata": {},
   "source": [
    "1- ¿Los ids son únicos?"
   ]
  },
  {
   "cell_type": "code",
   "execution_count": 9,
   "metadata": {},
   "outputs": [
    {
     "data": {
      "text/plain": [
       "RangeIndex(start=0, stop=1000000, step=1)"
      ]
     },
     "execution_count": 9,
     "metadata": {},
     "output_type": "execute_result"
    }
   ],
   "source": [
    "df.index"
   ]
  },
  {
   "cell_type": "code",
   "execution_count": 10,
   "metadata": {},
   "outputs": [
    {
     "name": "stdout",
     "output_type": "stream",
     "text": [
      "<class 'pandas.core.frame.DataFrame'>\n",
      "RangeIndex: 1000000 entries, 0 to 999999\n",
      "Data columns (total 12 columns):\n",
      "sender_state        1000000 non-null object\n",
      "sender_zipcode      1000000 non-null int64\n",
      "receiver_state      1000000 non-null object\n",
      "receiver_zipcode    1000000 non-null int64\n",
      "shipment_type       1000000 non-null object\n",
      "quantity            1000000 non-null int64\n",
      "service             1000000 non-null int64\n",
      "status              1000000 non-null object\n",
      "date_created        1000000 non-null object\n",
      "date_sent           1000000 non-null object\n",
      "date_visit          1000000 non-null object\n",
      "target              1000000 non-null int64\n",
      "dtypes: int64(5), object(7)\n",
      "memory usage: 91.6+ MB\n"
     ]
    }
   ],
   "source": [
    "df.info()"
   ]
  },
  {
   "cell_type": "markdown",
   "metadata": {},
   "source": [
    "Pandas asigna un rango de indices por default automaticamente, en este caso (RangeIndex: 1000000 entries, 0 to 999999), que nos permite identificar cada envío de paquetes. Sin embargo, si deseamos indexar rows en el dataframe por algun valor de las columnas debemos construir un nuevo index de manera de identificar facilmente los envíos de paquetes"
   ]
  },
  {
   "cell_type": "markdown",
   "metadata": {},
   "source": [
    "Ejemplo si deseamos acceder al envío en la posición 24 del dataframe:"
   ]
  },
  {
   "cell_type": "code",
   "execution_count": 11,
   "metadata": {},
   "outputs": [
    {
     "data": {
      "text/plain": [
       "sender_state                         SP\n",
       "sender_zipcode                     5616\n",
       "receiver_state                       SP\n",
       "receiver_zipcode                  17220\n",
       "shipment_type                   express\n",
       "quantity                              1\n",
       "service                               0\n",
       "status                             done\n",
       "date_created        2019-02-27 00:00:00\n",
       "date_sent           2019-03-01 15:18:00\n",
       "date_visit          2019-03-02 10:39:00\n",
       "target                                1\n",
       "Name: 24, dtype: object"
      ]
     },
     "execution_count": 11,
     "metadata": {},
     "output_type": "execute_result"
    }
   ],
   "source": [
    "df.loc[24]"
   ]
  },
  {
   "cell_type": "markdown",
   "metadata": {},
   "source": [
    "2- Si no tuviéramos estos índices, ¿tenemos información para construir una clave\n",
    "primaria?"
   ]
  },
  {
   "cell_type": "markdown",
   "metadata": {},
   "source": [
    "Si. Sabemos que contamos con 11 servicios. \n",
    "Si un servicio envía un paquete i desde una region X en una fecha dada a una region Y, y el mismo servicio envía un paquete j en la misma fecha desde la misma region X al mismo destino Y, podemos concluir que en realidad el paquete i es igual al paquete j.\n",
    "\n",
    "Podemos expresar esto como:\n",
    "\n",
    "servicio + origen + destino + fecha de envío = identificador único de un envío.\n",
    "\n",
    "Las fechas por si solas parecen ser únicas, pero podemos suponer que en un futuro el sistema de envíos pueda permitar enviar multiples paquetes de forma paralela en el mismo horario. Es por esto que fortalecemos la clave con datos de la ruta(sender_zipcode - receiver_zipcode).\n",
    "\n",
    "Por lo tanto la ruta (origen + destino) mas una fecha dada puede utilizarse como identificador único para cada envío.\n",
    "Como mencionamos inicialmente existen 11 servicios. Fortalecemos tambien la clave incorporando el identificador de servicio, pues puede darse el escenario de que dos servicios en la misma region, envíen paquetes a la misma hora y al mismo destino. (Es poco probable, pero no imposible).\n",
    "Por otro lado sabemos que el dataframe contiene 1000000 de filas, por lo tanto debemos comprobar si esta cantidad coincide con la \n",
    "propuesta para los ids.\n"
   ]
  },
  {
   "cell_type": "code",
   "execution_count": 12,
   "metadata": {},
   "outputs": [
    {
     "data": {
      "text/plain": [
       "(1000000, 4)"
      ]
     },
     "execution_count": 12,
     "metadata": {},
     "output_type": "execute_result"
    }
   ],
   "source": [
    "df.loc[:, ['service', 'date_sent', 'sender_zipcode', 'receiver_zipcode']].shape"
   ]
  },
  {
   "cell_type": "markdown",
   "metadata": {},
   "source": [
    "Se puede establecer el index para cada fila de la siguiente manera:"
   ]
  },
  {
   "cell_type": "code",
   "execution_count": 13,
   "metadata": {},
   "outputs": [
    {
     "data": {
      "text/html": [
       "<div>\n",
       "<style scoped>\n",
       "    .dataframe tbody tr th:only-of-type {\n",
       "        vertical-align: middle;\n",
       "    }\n",
       "\n",
       "    .dataframe tbody tr th {\n",
       "        vertical-align: top;\n",
       "    }\n",
       "\n",
       "    .dataframe thead th {\n",
       "        text-align: right;\n",
       "    }\n",
       "</style>\n",
       "<table border=\"1\" class=\"dataframe\">\n",
       "  <thead>\n",
       "    <tr style=\"text-align: right;\">\n",
       "      <th></th>\n",
       "      <th></th>\n",
       "      <th></th>\n",
       "      <th></th>\n",
       "      <th>sender_state</th>\n",
       "      <th>receiver_state</th>\n",
       "      <th>shipment_type</th>\n",
       "      <th>quantity</th>\n",
       "      <th>status</th>\n",
       "      <th>date_created</th>\n",
       "      <th>date_visit</th>\n",
       "      <th>target</th>\n",
       "    </tr>\n",
       "    <tr>\n",
       "      <th>service</th>\n",
       "      <th>date_sent</th>\n",
       "      <th>sender_zipcode</th>\n",
       "      <th>receiver_zipcode</th>\n",
       "      <th></th>\n",
       "      <th></th>\n",
       "      <th></th>\n",
       "      <th></th>\n",
       "      <th></th>\n",
       "      <th></th>\n",
       "      <th></th>\n",
       "      <th></th>\n",
       "    </tr>\n",
       "  </thead>\n",
       "  <tbody>\n",
       "    <tr>\n",
       "      <th>0</th>\n",
       "      <th>2019-03-05 13:24:00</th>\n",
       "      <th>3005</th>\n",
       "      <th>5409</th>\n",
       "      <td>SP</td>\n",
       "      <td>SP</td>\n",
       "      <td>express</td>\n",
       "      <td>1</td>\n",
       "      <td>done</td>\n",
       "      <td>2019-03-04 00:00:00</td>\n",
       "      <td>2019-03-07 18:01:00</td>\n",
       "      <td>2</td>\n",
       "    </tr>\n",
       "    <tr>\n",
       "      <th>1</th>\n",
       "      <th>2019-03-20 14:44:00</th>\n",
       "      <th>17052</th>\n",
       "      <th>37750</th>\n",
       "      <td>SP</td>\n",
       "      <td>MG</td>\n",
       "      <td>standard</td>\n",
       "      <td>1</td>\n",
       "      <td>done</td>\n",
       "      <td>2019-03-19 00:00:00</td>\n",
       "      <td>2019-03-27 10:21:00</td>\n",
       "      <td>5</td>\n",
       "    </tr>\n",
       "    <tr>\n",
       "      <th rowspan=\"3\" valign=\"top\">0</th>\n",
       "      <th>2019-02-21 15:08:00</th>\n",
       "      <th>2033</th>\n",
       "      <th>11040</th>\n",
       "      <td>SP</td>\n",
       "      <td>SP</td>\n",
       "      <td>express</td>\n",
       "      <td>1</td>\n",
       "      <td>done</td>\n",
       "      <td>2019-02-18 00:00:00</td>\n",
       "      <td>2019-02-28 18:19:00</td>\n",
       "      <td>5</td>\n",
       "    </tr>\n",
       "    <tr>\n",
       "      <th>2019-03-11 15:48:00</th>\n",
       "      <th>13900</th>\n",
       "      <th>18500</th>\n",
       "      <td>SP</td>\n",
       "      <td>SP</td>\n",
       "      <td>express</td>\n",
       "      <td>1</td>\n",
       "      <td>done</td>\n",
       "      <td>2019-03-09 00:00:00</td>\n",
       "      <td>2019-03-12 13:33:00</td>\n",
       "      <td>1</td>\n",
       "    </tr>\n",
       "    <tr>\n",
       "      <th>2019-03-12 08:19:00</th>\n",
       "      <th>4361</th>\n",
       "      <th>96810</th>\n",
       "      <td>SP</td>\n",
       "      <td>RS</td>\n",
       "      <td>express</td>\n",
       "      <td>1</td>\n",
       "      <td>done</td>\n",
       "      <td>2019-03-08 00:00:00</td>\n",
       "      <td>2019-03-16 08:24:00</td>\n",
       "      <td>4</td>\n",
       "    </tr>\n",
       "  </tbody>\n",
       "</table>\n",
       "</div>"
      ],
      "text/plain": [
       "                                                            sender_state  \\\n",
       "service date_sent           sender_zipcode receiver_zipcode                \n",
       "0       2019-03-05 13:24:00 3005           5409                       SP   \n",
       "1       2019-03-20 14:44:00 17052          37750                      SP   \n",
       "0       2019-02-21 15:08:00 2033           11040                      SP   \n",
       "        2019-03-11 15:48:00 13900          18500                      SP   \n",
       "        2019-03-12 08:19:00 4361           96810                      SP   \n",
       "\n",
       "                                                            receiver_state  \\\n",
       "service date_sent           sender_zipcode receiver_zipcode                  \n",
       "0       2019-03-05 13:24:00 3005           5409                         SP   \n",
       "1       2019-03-20 14:44:00 17052          37750                        MG   \n",
       "0       2019-02-21 15:08:00 2033           11040                        SP   \n",
       "        2019-03-11 15:48:00 13900          18500                        SP   \n",
       "        2019-03-12 08:19:00 4361           96810                        RS   \n",
       "\n",
       "                                                            shipment_type  \\\n",
       "service date_sent           sender_zipcode receiver_zipcode                 \n",
       "0       2019-03-05 13:24:00 3005           5409                   express   \n",
       "1       2019-03-20 14:44:00 17052          37750                 standard   \n",
       "0       2019-02-21 15:08:00 2033           11040                  express   \n",
       "        2019-03-11 15:48:00 13900          18500                  express   \n",
       "        2019-03-12 08:19:00 4361           96810                  express   \n",
       "\n",
       "                                                             quantity status  \\\n",
       "service date_sent           sender_zipcode receiver_zipcode                    \n",
       "0       2019-03-05 13:24:00 3005           5409                     1   done   \n",
       "1       2019-03-20 14:44:00 17052          37750                    1   done   \n",
       "0       2019-02-21 15:08:00 2033           11040                    1   done   \n",
       "        2019-03-11 15:48:00 13900          18500                    1   done   \n",
       "        2019-03-12 08:19:00 4361           96810                    1   done   \n",
       "\n",
       "                                                                    date_created  \\\n",
       "service date_sent           sender_zipcode receiver_zipcode                        \n",
       "0       2019-03-05 13:24:00 3005           5409              2019-03-04 00:00:00   \n",
       "1       2019-03-20 14:44:00 17052          37750             2019-03-19 00:00:00   \n",
       "0       2019-02-21 15:08:00 2033           11040             2019-02-18 00:00:00   \n",
       "        2019-03-11 15:48:00 13900          18500             2019-03-09 00:00:00   \n",
       "        2019-03-12 08:19:00 4361           96810             2019-03-08 00:00:00   \n",
       "\n",
       "                                                                      date_visit  \\\n",
       "service date_sent           sender_zipcode receiver_zipcode                        \n",
       "0       2019-03-05 13:24:00 3005           5409              2019-03-07 18:01:00   \n",
       "1       2019-03-20 14:44:00 17052          37750             2019-03-27 10:21:00   \n",
       "0       2019-02-21 15:08:00 2033           11040             2019-02-28 18:19:00   \n",
       "        2019-03-11 15:48:00 13900          18500             2019-03-12 13:33:00   \n",
       "        2019-03-12 08:19:00 4361           96810             2019-03-16 08:24:00   \n",
       "\n",
       "                                                             target  \n",
       "service date_sent           sender_zipcode receiver_zipcode          \n",
       "0       2019-03-05 13:24:00 3005           5409                   2  \n",
       "1       2019-03-20 14:44:00 17052          37750                  5  \n",
       "0       2019-02-21 15:08:00 2033           11040                  5  \n",
       "        2019-03-11 15:48:00 13900          18500                  1  \n",
       "        2019-03-12 08:19:00 4361           96810                  4  "
      ]
     },
     "execution_count": 13,
     "metadata": {},
     "output_type": "execute_result"
    }
   ],
   "source": [
    "keys = ['service', 'date_sent', 'sender_zipcode', 'receiver_zipcode']\n",
    "\n",
    "df1 = df.set_index(keys, drop=True, append=False, inplace=False, verify_integrity=False)\n",
    "df1.head()"
   ]
  },
  {
   "cell_type": "markdown",
   "metadata": {},
   "source": [
    "Ejemplo, si deseamos obtener el envío realizado por el servicio 0 el dia 2019-02-21 15:08:00 y enviado desde la region con zipcode 2033 a la region con zip code 11040 se puede ejecutar el siguiente filtro:"
   ]
  },
  {
   "cell_type": "code",
   "execution_count": 14,
   "metadata": {},
   "outputs": [
    {
     "name": "stderr",
     "output_type": "stream",
     "text": [
      "/Users/luisvargas/anaconda3/lib/python3.7/site-packages/ipykernel_launcher.py:1: PerformanceWarning: indexing past lexsort depth may impact performance.\n",
      "  \"\"\"Entry point for launching an IPython kernel.\n"
     ]
    },
    {
     "data": {
      "text/html": [
       "<div>\n",
       "<style scoped>\n",
       "    .dataframe tbody tr th:only-of-type {\n",
       "        vertical-align: middle;\n",
       "    }\n",
       "\n",
       "    .dataframe tbody tr th {\n",
       "        vertical-align: top;\n",
       "    }\n",
       "\n",
       "    .dataframe thead th {\n",
       "        text-align: right;\n",
       "    }\n",
       "</style>\n",
       "<table border=\"1\" class=\"dataframe\">\n",
       "  <thead>\n",
       "    <tr style=\"text-align: right;\">\n",
       "      <th></th>\n",
       "      <th></th>\n",
       "      <th></th>\n",
       "      <th></th>\n",
       "      <th>sender_state</th>\n",
       "      <th>receiver_state</th>\n",
       "      <th>shipment_type</th>\n",
       "      <th>quantity</th>\n",
       "      <th>status</th>\n",
       "      <th>date_created</th>\n",
       "      <th>date_visit</th>\n",
       "      <th>target</th>\n",
       "    </tr>\n",
       "    <tr>\n",
       "      <th>service</th>\n",
       "      <th>date_sent</th>\n",
       "      <th>sender_zipcode</th>\n",
       "      <th>receiver_zipcode</th>\n",
       "      <th></th>\n",
       "      <th></th>\n",
       "      <th></th>\n",
       "      <th></th>\n",
       "      <th></th>\n",
       "      <th></th>\n",
       "      <th></th>\n",
       "      <th></th>\n",
       "    </tr>\n",
       "  </thead>\n",
       "  <tbody>\n",
       "    <tr>\n",
       "      <th>0</th>\n",
       "      <th>2019-02-21 15:08:00</th>\n",
       "      <th>2033</th>\n",
       "      <th>11040</th>\n",
       "      <td>SP</td>\n",
       "      <td>SP</td>\n",
       "      <td>express</td>\n",
       "      <td>1</td>\n",
       "      <td>done</td>\n",
       "      <td>2019-02-18 00:00:00</td>\n",
       "      <td>2019-02-28 18:19:00</td>\n",
       "      <td>5</td>\n",
       "    </tr>\n",
       "  </tbody>\n",
       "</table>\n",
       "</div>"
      ],
      "text/plain": [
       "                                                            sender_state  \\\n",
       "service date_sent           sender_zipcode receiver_zipcode                \n",
       "0       2019-02-21 15:08:00 2033           11040                      SP   \n",
       "\n",
       "                                                            receiver_state  \\\n",
       "service date_sent           sender_zipcode receiver_zipcode                  \n",
       "0       2019-02-21 15:08:00 2033           11040                        SP   \n",
       "\n",
       "                                                            shipment_type  \\\n",
       "service date_sent           sender_zipcode receiver_zipcode                 \n",
       "0       2019-02-21 15:08:00 2033           11040                  express   \n",
       "\n",
       "                                                             quantity status  \\\n",
       "service date_sent           sender_zipcode receiver_zipcode                    \n",
       "0       2019-02-21 15:08:00 2033           11040                    1   done   \n",
       "\n",
       "                                                                    date_created  \\\n",
       "service date_sent           sender_zipcode receiver_zipcode                        \n",
       "0       2019-02-21 15:08:00 2033           11040             2019-02-18 00:00:00   \n",
       "\n",
       "                                                                      date_visit  \\\n",
       "service date_sent           sender_zipcode receiver_zipcode                        \n",
       "0       2019-02-21 15:08:00 2033           11040             2019-02-28 18:19:00   \n",
       "\n",
       "                                                             target  \n",
       "service date_sent           sender_zipcode receiver_zipcode          \n",
       "0       2019-02-21 15:08:00 2033           11040                  5  "
      ]
     },
     "execution_count": 14,
     "metadata": {},
     "output_type": "execute_result"
    }
   ],
   "source": [
    "df1.loc[(0, '2019-02-21 15:08:00', 2033, 11040)]"
   ]
  },
  {
   "cell_type": "markdown",
   "metadata": {},
   "source": [
    "Tambien se puede obtener un subgrupo de envíos que se ajusten a un subconjunto de los atributos del indice, por ejemplo obtener todos los envíos reaizados por el servicio 0 en la fecha 2019-02-21 15:08:00, sin especificar la ruta"
   ]
  },
  {
   "cell_type": "code",
   "execution_count": 15,
   "metadata": {},
   "outputs": [
    {
     "name": "stderr",
     "output_type": "stream",
     "text": [
      "/Users/luisvargas/anaconda3/lib/python3.7/site-packages/ipykernel_launcher.py:1: PerformanceWarning: indexing past lexsort depth may impact performance.\n",
      "  \"\"\"Entry point for launching an IPython kernel.\n"
     ]
    },
    {
     "data": {
      "text/html": [
       "<div>\n",
       "<style scoped>\n",
       "    .dataframe tbody tr th:only-of-type {\n",
       "        vertical-align: middle;\n",
       "    }\n",
       "\n",
       "    .dataframe tbody tr th {\n",
       "        vertical-align: top;\n",
       "    }\n",
       "\n",
       "    .dataframe thead th {\n",
       "        text-align: right;\n",
       "    }\n",
       "</style>\n",
       "<table border=\"1\" class=\"dataframe\">\n",
       "  <thead>\n",
       "    <tr style=\"text-align: right;\">\n",
       "      <th></th>\n",
       "      <th></th>\n",
       "      <th>sender_state</th>\n",
       "      <th>receiver_state</th>\n",
       "      <th>shipment_type</th>\n",
       "      <th>quantity</th>\n",
       "      <th>status</th>\n",
       "      <th>date_created</th>\n",
       "      <th>date_visit</th>\n",
       "      <th>target</th>\n",
       "    </tr>\n",
       "    <tr>\n",
       "      <th>sender_zipcode</th>\n",
       "      <th>receiver_zipcode</th>\n",
       "      <th></th>\n",
       "      <th></th>\n",
       "      <th></th>\n",
       "      <th></th>\n",
       "      <th></th>\n",
       "      <th></th>\n",
       "      <th></th>\n",
       "      <th></th>\n",
       "    </tr>\n",
       "  </thead>\n",
       "  <tbody>\n",
       "    <tr>\n",
       "      <th>2033</th>\n",
       "      <th>11040</th>\n",
       "      <td>SP</td>\n",
       "      <td>SP</td>\n",
       "      <td>express</td>\n",
       "      <td>1</td>\n",
       "      <td>done</td>\n",
       "      <td>2019-02-18 00:00:00</td>\n",
       "      <td>2019-02-28 18:19:00</td>\n",
       "      <td>5</td>\n",
       "    </tr>\n",
       "    <tr>\n",
       "      <th>22430</th>\n",
       "      <th>9771</th>\n",
       "      <td>RJ</td>\n",
       "      <td>SP</td>\n",
       "      <td>express</td>\n",
       "      <td>2</td>\n",
       "      <td>done</td>\n",
       "      <td>2019-02-21 00:00:00</td>\n",
       "      <td>2019-03-04 21:01:00</td>\n",
       "      <td>7</td>\n",
       "    </tr>\n",
       "  </tbody>\n",
       "</table>\n",
       "</div>"
      ],
      "text/plain": [
       "                                sender_state receiver_state shipment_type  \\\n",
       "sender_zipcode receiver_zipcode                                             \n",
       "2033           11040                      SP             SP       express   \n",
       "22430          9771                       RJ             SP       express   \n",
       "\n",
       "                                 quantity status         date_created  \\\n",
       "sender_zipcode receiver_zipcode                                         \n",
       "2033           11040                    1   done  2019-02-18 00:00:00   \n",
       "22430          9771                     2   done  2019-02-21 00:00:00   \n",
       "\n",
       "                                          date_visit  target  \n",
       "sender_zipcode receiver_zipcode                               \n",
       "2033           11040             2019-02-28 18:19:00       5  \n",
       "22430          9771              2019-03-04 21:01:00       7  "
      ]
     },
     "execution_count": 15,
     "metadata": {},
     "output_type": "execute_result"
    }
   ],
   "source": [
    "df1.loc[(0, '2019-02-21 15:08:00')]"
   ]
  },
  {
   "cell_type": "markdown",
   "metadata": {},
   "source": [
    "En este caso el resultado no devuelve los valores del indice."
   ]
  },
  {
   "cell_type": "markdown",
   "metadata": {},
   "source": [
    "Observar que el orden de los componentes del indice deben respetarse, caso contrario se lanza una  excepción 'KeyError'"
   ]
  },
  {
   "cell_type": "markdown",
   "metadata": {},
   "source": [
    "3- ¿Tenemos datos faltantes? Dar detalles."
   ]
  },
  {
   "cell_type": "code",
   "execution_count": 16,
   "metadata": {},
   "outputs": [
    {
     "data": {
      "text/plain": [
       "sender_state        0\n",
       "sender_zipcode      0\n",
       "receiver_state      0\n",
       "receiver_zipcode    0\n",
       "shipment_type       0\n",
       "quantity            0\n",
       "service             0\n",
       "status              0\n",
       "date_created        0\n",
       "date_sent           0\n",
       "date_visit          0\n",
       "target              0\n",
       "dtype: int64"
      ]
     },
     "execution_count": 16,
     "metadata": {},
     "output_type": "execute_result"
    }
   ],
   "source": [
    "# get the number of missing data points per column\n",
    "missing_values_count = df.isnull().sum()\n",
    "missing_values_count"
   ]
  },
  {
   "cell_type": "markdown",
   "metadata": {},
   "source": [
    "No hay valores faltantes"
   ]
  },
  {
   "cell_type": "markdown",
   "metadata": {},
   "source": [
    "4- ¿Tenemos datos inconsistentes o raros? Dar detalles."
   ]
  },
  {
   "cell_type": "markdown",
   "metadata": {},
   "source": [
    "Hay que realizar un análisis por cada uno de los features. Basicamente tenemos que ver que los datos de cada feature pertenecen a su dominio.\n",
    "En una segunda etapa hay que analizar que los datos de cada feature en un envío son coherentes."
   ]
  },
  {
   "cell_type": "markdown",
   "metadata": {},
   "source": [
    "Estados: analizamos si existe algún valor inusual:"
   ]
  },
  {
   "cell_type": "code",
   "execution_count": 17,
   "metadata": {},
   "outputs": [
    {
     "data": {
      "text/plain": [
       "array(['AC', 'AL', 'AM', 'AP', 'BA', 'CE', 'DF', 'ES', 'GO', 'MA', 'MG',\n",
       "       'MS', 'MT', 'PA', 'PB', 'PE', 'PI', 'PR', 'RJ', 'RN', 'RO', 'RR',\n",
       "       'RS', 'SC', 'SE', 'SP', 'TO'], dtype=object)"
      ]
     },
     "execution_count": 17,
     "metadata": {},
     "output_type": "execute_result"
    }
   ],
   "source": [
    "np.sort(df[\"sender_state\"].unique())"
   ]
  },
  {
   "cell_type": "code",
   "execution_count": 18,
   "metadata": {},
   "outputs": [
    {
     "data": {
      "text/plain": [
       "array(['AC', 'AL', 'AM', 'AP', 'BA', 'CE', 'DF', 'ES', 'GO', 'MA', 'MG',\n",
       "       'MS', 'MT', 'PA', 'PB', 'PE', 'PI', 'PR', 'RJ', 'RN', 'RO', 'RR',\n",
       "       'RS', 'SC', 'SE', 'SP', 'TO'], dtype=object)"
      ]
     },
     "execution_count": 18,
     "metadata": {},
     "output_type": "execute_result"
    }
   ],
   "source": [
    "np.sort(df[\"receiver_state\"].unique())"
   ]
  },
  {
   "cell_type": "markdown",
   "metadata": {},
   "source": [
    "Analizamos los datos de tipo datetime:"
   ]
  },
  {
   "cell_type": "code",
   "execution_count": 19,
   "metadata": {},
   "outputs": [
    {
     "data": {
      "text/html": [
       "<div>\n",
       "<style scoped>\n",
       "    .dataframe tbody tr th:only-of-type {\n",
       "        vertical-align: middle;\n",
       "    }\n",
       "\n",
       "    .dataframe tbody tr th {\n",
       "        vertical-align: top;\n",
       "    }\n",
       "\n",
       "    .dataframe thead th {\n",
       "        text-align: right;\n",
       "    }\n",
       "</style>\n",
       "<table border=\"1\" class=\"dataframe\">\n",
       "  <thead>\n",
       "    <tr style=\"text-align: right;\">\n",
       "      <th></th>\n",
       "      <th>sender_state</th>\n",
       "      <th>sender_zipcode</th>\n",
       "      <th>receiver_state</th>\n",
       "      <th>receiver_zipcode</th>\n",
       "      <th>shipment_type</th>\n",
       "      <th>quantity</th>\n",
       "      <th>service</th>\n",
       "      <th>status</th>\n",
       "      <th>date_created</th>\n",
       "      <th>date_sent</th>\n",
       "      <th>date_visit</th>\n",
       "      <th>target</th>\n",
       "    </tr>\n",
       "  </thead>\n",
       "  <tbody>\n",
       "    <tr>\n",
       "      <th>227160</th>\n",
       "      <td>SP</td>\n",
       "      <td>13920</td>\n",
       "      <td>DF</td>\n",
       "      <td>70857</td>\n",
       "      <td>standard</td>\n",
       "      <td>1</td>\n",
       "      <td>1</td>\n",
       "      <td>done</td>\n",
       "      <td>2019-03-22 00:00:00</td>\n",
       "      <td>2019-03-26 15:56:00</td>\n",
       "      <td>2019-03-26 08:10:00</td>\n",
       "      <td>0</td>\n",
       "    </tr>\n",
       "    <tr>\n",
       "      <th>597454</th>\n",
       "      <td>SP</td>\n",
       "      <td>9961</td>\n",
       "      <td>PE</td>\n",
       "      <td>55604</td>\n",
       "      <td>standard</td>\n",
       "      <td>1</td>\n",
       "      <td>4</td>\n",
       "      <td>done</td>\n",
       "      <td>2019-02-28 00:00:00</td>\n",
       "      <td>2019-03-04 21:58:09</td>\n",
       "      <td>2019-03-04 17:21:00</td>\n",
       "      <td>0</td>\n",
       "    </tr>\n",
       "  </tbody>\n",
       "</table>\n",
       "</div>"
      ],
      "text/plain": [
       "       sender_state  sender_zipcode receiver_state  receiver_zipcode  \\\n",
       "227160           SP           13920             DF             70857   \n",
       "597454           SP            9961             PE             55604   \n",
       "\n",
       "       shipment_type  quantity  service status         date_created  \\\n",
       "227160      standard         1        1   done  2019-03-22 00:00:00   \n",
       "597454      standard         1        4   done  2019-02-28 00:00:00   \n",
       "\n",
       "                  date_sent           date_visit  target  \n",
       "227160  2019-03-26 15:56:00  2019-03-26 08:10:00       0  \n",
       "597454  2019-03-04 21:58:09  2019-03-04 17:21:00       0  "
      ]
     },
     "execution_count": 19,
     "metadata": {},
     "output_type": "execute_result"
    }
   ],
   "source": [
    "df[df[\"date_sent\"] > df[\"date_visit\"]]"
   ]
  },
  {
   "cell_type": "markdown",
   "metadata": {},
   "source": [
    "Hay dos filas con fechas inconcistentes. Es improbable que en Brasil hayan mas de cuatro franjas horarias que justifiquen estos datos."
   ]
  },
  {
   "cell_type": "code",
   "execution_count": 20,
   "metadata": {},
   "outputs": [
    {
     "data": {
      "text/html": [
       "<div>\n",
       "<style scoped>\n",
       "    .dataframe tbody tr th:only-of-type {\n",
       "        vertical-align: middle;\n",
       "    }\n",
       "\n",
       "    .dataframe tbody tr th {\n",
       "        vertical-align: top;\n",
       "    }\n",
       "\n",
       "    .dataframe thead th {\n",
       "        text-align: right;\n",
       "    }\n",
       "</style>\n",
       "<table border=\"1\" class=\"dataframe\">\n",
       "  <thead>\n",
       "    <tr style=\"text-align: right;\">\n",
       "      <th></th>\n",
       "      <th>sender_state</th>\n",
       "      <th>sender_zipcode</th>\n",
       "      <th>receiver_state</th>\n",
       "      <th>receiver_zipcode</th>\n",
       "      <th>shipment_type</th>\n",
       "      <th>quantity</th>\n",
       "      <th>service</th>\n",
       "      <th>status</th>\n",
       "      <th>date_created</th>\n",
       "      <th>date_sent</th>\n",
       "      <th>date_visit</th>\n",
       "      <th>target</th>\n",
       "    </tr>\n",
       "  </thead>\n",
       "  <tbody>\n",
       "    <tr>\n",
       "      <th>8622</th>\n",
       "      <td>SP</td>\n",
       "      <td>1521</td>\n",
       "      <td>DF</td>\n",
       "      <td>72504</td>\n",
       "      <td>standard</td>\n",
       "      <td>1</td>\n",
       "      <td>7</td>\n",
       "      <td>done</td>\n",
       "      <td>2019-06-27 00:00:00</td>\n",
       "      <td>2019-02-06 10:41:00</td>\n",
       "      <td>2019-03-06 14:18:00</td>\n",
       "      <td>17</td>\n",
       "    </tr>\n",
       "    <tr>\n",
       "      <th>10681</th>\n",
       "      <td>SP</td>\n",
       "      <td>3822</td>\n",
       "      <td>PE</td>\n",
       "      <td>51200</td>\n",
       "      <td>standard</td>\n",
       "      <td>1</td>\n",
       "      <td>4</td>\n",
       "      <td>sent</td>\n",
       "      <td>2019-06-18 00:00:00</td>\n",
       "      <td>2019-03-06 13:00:00</td>\n",
       "      <td>2019-03-06 13:24:00</td>\n",
       "      <td>0</td>\n",
       "    </tr>\n",
       "    <tr>\n",
       "      <th>13241</th>\n",
       "      <td>SP</td>\n",
       "      <td>14405</td>\n",
       "      <td>DF</td>\n",
       "      <td>71699</td>\n",
       "      <td>standard</td>\n",
       "      <td>1</td>\n",
       "      <td>7</td>\n",
       "      <td>done</td>\n",
       "      <td>2019-06-20 00:00:00</td>\n",
       "      <td>2019-03-06 05:17:00</td>\n",
       "      <td>2019-03-06 13:17:00</td>\n",
       "      <td>0</td>\n",
       "    </tr>\n",
       "    <tr>\n",
       "      <th>13295</th>\n",
       "      <td>SP</td>\n",
       "      <td>15820</td>\n",
       "      <td>MS</td>\n",
       "      <td>79011</td>\n",
       "      <td>express</td>\n",
       "      <td>1</td>\n",
       "      <td>7</td>\n",
       "      <td>done</td>\n",
       "      <td>2019-06-18 00:00:00</td>\n",
       "      <td>2019-02-06 11:34:00</td>\n",
       "      <td>2019-03-06 13:28:00</td>\n",
       "      <td>17</td>\n",
       "    </tr>\n",
       "    <tr>\n",
       "      <th>13446</th>\n",
       "      <td>SP</td>\n",
       "      <td>9961</td>\n",
       "      <td>SP</td>\n",
       "      <td>18125</td>\n",
       "      <td>standard</td>\n",
       "      <td>1</td>\n",
       "      <td>4</td>\n",
       "      <td>sent</td>\n",
       "      <td>2019-06-28 00:00:00</td>\n",
       "      <td>2019-02-06 03:43:00</td>\n",
       "      <td>2019-03-06 10:49:00</td>\n",
       "      <td>17</td>\n",
       "    </tr>\n",
       "  </tbody>\n",
       "</table>\n",
       "</div>"
      ],
      "text/plain": [
       "      sender_state  sender_zipcode receiver_state  receiver_zipcode  \\\n",
       "8622            SP            1521             DF             72504   \n",
       "10681           SP            3822             PE             51200   \n",
       "13241           SP           14405             DF             71699   \n",
       "13295           SP           15820             MS             79011   \n",
       "13446           SP            9961             SP             18125   \n",
       "\n",
       "      shipment_type  quantity  service status         date_created  \\\n",
       "8622       standard         1        7   done  2019-06-27 00:00:00   \n",
       "10681      standard         1        4   sent  2019-06-18 00:00:00   \n",
       "13241      standard         1        7   done  2019-06-20 00:00:00   \n",
       "13295       express         1        7   done  2019-06-18 00:00:00   \n",
       "13446      standard         1        4   sent  2019-06-28 00:00:00   \n",
       "\n",
       "                 date_sent           date_visit  target  \n",
       "8622   2019-02-06 10:41:00  2019-03-06 14:18:00      17  \n",
       "10681  2019-03-06 13:00:00  2019-03-06 13:24:00       0  \n",
       "13241  2019-03-06 05:17:00  2019-03-06 13:17:00       0  \n",
       "13295  2019-02-06 11:34:00  2019-03-06 13:28:00      17  \n",
       "13446  2019-02-06 03:43:00  2019-03-06 10:49:00      17  "
      ]
     },
     "execution_count": 20,
     "metadata": {},
     "output_type": "execute_result"
    }
   ],
   "source": [
    "df1 = df[df[\"date_created\"] > df[\"date_sent\"]]\n",
    "df1.head()"
   ]
  },
  {
   "cell_type": "code",
   "execution_count": 21,
   "metadata": {},
   "outputs": [
    {
     "data": {
      "text/plain": [
       "171"
      ]
     },
     "execution_count": 21,
     "metadata": {},
     "output_type": "execute_result"
    }
   ],
   "source": [
    "len(df1)"
   ]
  },
  {
   "cell_type": "markdown",
   "metadata": {},
   "source": [
    "Mas datos inconcistentes. Hay 171 compras que se realizaron despues de que fueron enviadas."
   ]
  },
  {
   "cell_type": "code",
   "execution_count": 22,
   "metadata": {},
   "outputs": [
    {
     "data": {
      "text/html": [
       "<div>\n",
       "<style scoped>\n",
       "    .dataframe tbody tr th:only-of-type {\n",
       "        vertical-align: middle;\n",
       "    }\n",
       "\n",
       "    .dataframe tbody tr th {\n",
       "        vertical-align: top;\n",
       "    }\n",
       "\n",
       "    .dataframe thead th {\n",
       "        text-align: right;\n",
       "    }\n",
       "</style>\n",
       "<table border=\"1\" class=\"dataframe\">\n",
       "  <thead>\n",
       "    <tr style=\"text-align: right;\">\n",
       "      <th></th>\n",
       "      <th>sender_state</th>\n",
       "      <th>sender_zipcode</th>\n",
       "      <th>receiver_state</th>\n",
       "      <th>receiver_zipcode</th>\n",
       "      <th>shipment_type</th>\n",
       "      <th>quantity</th>\n",
       "      <th>service</th>\n",
       "      <th>status</th>\n",
       "      <th>date_created</th>\n",
       "      <th>date_sent</th>\n",
       "      <th>date_visit</th>\n",
       "      <th>target</th>\n",
       "    </tr>\n",
       "  </thead>\n",
       "  <tbody>\n",
       "    <tr>\n",
       "      <th>8622</th>\n",
       "      <td>SP</td>\n",
       "      <td>1521</td>\n",
       "      <td>DF</td>\n",
       "      <td>72504</td>\n",
       "      <td>standard</td>\n",
       "      <td>1</td>\n",
       "      <td>7</td>\n",
       "      <td>done</td>\n",
       "      <td>2019-06-27 00:00:00</td>\n",
       "      <td>2019-02-06 10:41:00</td>\n",
       "      <td>2019-03-06 14:18:00</td>\n",
       "      <td>17</td>\n",
       "    </tr>\n",
       "    <tr>\n",
       "      <th>10681</th>\n",
       "      <td>SP</td>\n",
       "      <td>3822</td>\n",
       "      <td>PE</td>\n",
       "      <td>51200</td>\n",
       "      <td>standard</td>\n",
       "      <td>1</td>\n",
       "      <td>4</td>\n",
       "      <td>sent</td>\n",
       "      <td>2019-06-18 00:00:00</td>\n",
       "      <td>2019-03-06 13:00:00</td>\n",
       "      <td>2019-03-06 13:24:00</td>\n",
       "      <td>0</td>\n",
       "    </tr>\n",
       "    <tr>\n",
       "      <th>13241</th>\n",
       "      <td>SP</td>\n",
       "      <td>14405</td>\n",
       "      <td>DF</td>\n",
       "      <td>71699</td>\n",
       "      <td>standard</td>\n",
       "      <td>1</td>\n",
       "      <td>7</td>\n",
       "      <td>done</td>\n",
       "      <td>2019-06-20 00:00:00</td>\n",
       "      <td>2019-03-06 05:17:00</td>\n",
       "      <td>2019-03-06 13:17:00</td>\n",
       "      <td>0</td>\n",
       "    </tr>\n",
       "    <tr>\n",
       "      <th>13295</th>\n",
       "      <td>SP</td>\n",
       "      <td>15820</td>\n",
       "      <td>MS</td>\n",
       "      <td>79011</td>\n",
       "      <td>express</td>\n",
       "      <td>1</td>\n",
       "      <td>7</td>\n",
       "      <td>done</td>\n",
       "      <td>2019-06-18 00:00:00</td>\n",
       "      <td>2019-02-06 11:34:00</td>\n",
       "      <td>2019-03-06 13:28:00</td>\n",
       "      <td>17</td>\n",
       "    </tr>\n",
       "    <tr>\n",
       "      <th>13446</th>\n",
       "      <td>SP</td>\n",
       "      <td>9961</td>\n",
       "      <td>SP</td>\n",
       "      <td>18125</td>\n",
       "      <td>standard</td>\n",
       "      <td>1</td>\n",
       "      <td>4</td>\n",
       "      <td>sent</td>\n",
       "      <td>2019-06-28 00:00:00</td>\n",
       "      <td>2019-02-06 03:43:00</td>\n",
       "      <td>2019-03-06 10:49:00</td>\n",
       "      <td>17</td>\n",
       "    </tr>\n",
       "  </tbody>\n",
       "</table>\n",
       "</div>"
      ],
      "text/plain": [
       "      sender_state  sender_zipcode receiver_state  receiver_zipcode  \\\n",
       "8622            SP            1521             DF             72504   \n",
       "10681           SP            3822             PE             51200   \n",
       "13241           SP           14405             DF             71699   \n",
       "13295           SP           15820             MS             79011   \n",
       "13446           SP            9961             SP             18125   \n",
       "\n",
       "      shipment_type  quantity  service status         date_created  \\\n",
       "8622       standard         1        7   done  2019-06-27 00:00:00   \n",
       "10681      standard         1        4   sent  2019-06-18 00:00:00   \n",
       "13241      standard         1        7   done  2019-06-20 00:00:00   \n",
       "13295       express         1        7   done  2019-06-18 00:00:00   \n",
       "13446      standard         1        4   sent  2019-06-28 00:00:00   \n",
       "\n",
       "                 date_sent           date_visit  target  \n",
       "8622   2019-02-06 10:41:00  2019-03-06 14:18:00      17  \n",
       "10681  2019-03-06 13:00:00  2019-03-06 13:24:00       0  \n",
       "13241  2019-03-06 05:17:00  2019-03-06 13:17:00       0  \n",
       "13295  2019-02-06 11:34:00  2019-03-06 13:28:00      17  \n",
       "13446  2019-02-06 03:43:00  2019-03-06 10:49:00      17  "
      ]
     },
     "execution_count": 22,
     "metadata": {},
     "output_type": "execute_result"
    }
   ],
   "source": [
    "df2 = df[df[\"date_created\"] > df[\"date_visit\"]]\n",
    "df2.head()"
   ]
  },
  {
   "cell_type": "code",
   "execution_count": 23,
   "metadata": {},
   "outputs": [
    {
     "data": {
      "text/plain": [
       "168"
      ]
     },
     "execution_count": 23,
     "metadata": {},
     "output_type": "execute_result"
    }
   ],
   "source": [
    "len(df2)"
   ]
  },
  {
   "cell_type": "markdown",
   "metadata": {},
   "source": [
    "Mas datos inconcistentes. Hay 168 compras que se realizaron despues de que fueron entregadas."
   ]
  },
  {
   "cell_type": "markdown",
   "metadata": {},
   "source": [
    "Analizamos todas las fechas para un envío:\n"
   ]
  },
  {
   "cell_type": "code",
   "execution_count": 24,
   "metadata": {},
   "outputs": [
    {
     "data": {
      "text/plain": [
       "173"
      ]
     },
     "execution_count": 24,
     "metadata": {},
     "output_type": "execute_result"
    }
   ],
   "source": [
    "len(df[(df['date_sent'] > df['date_visit']) | (df['date_created'] > df['date_sent']) | (df['date_created'] > df['date_visit'])])"
   ]
  },
  {
   "cell_type": "markdown",
   "metadata": {},
   "source": [
    "En total 173 filas tienen datos inconcistentes con respecto a las fechas. Dados que es una cantidad baja de datos inconcistentes 173/1000000, se pueden eliminar del dataframe"
   ]
  },
  {
   "cell_type": "code",
   "execution_count": 25,
   "metadata": {},
   "outputs": [],
   "source": [
    "df1 = df[(df['date_sent'] <= df['date_visit']) & (df['date_created'] <= df['date_sent']) & (df['date_created'] <= df['date_visit'])].copy()"
   ]
  },
  {
   "cell_type": "code",
   "execution_count": 26,
   "metadata": {},
   "outputs": [
    {
     "data": {
      "text/plain": [
       "(999827, 12)"
      ]
     },
     "execution_count": 26,
     "metadata": {},
     "output_type": "execute_result"
    }
   ],
   "source": [
    "df1.shape"
   ]
  },
  {
   "cell_type": "markdown",
   "metadata": {},
   "source": [
    "Para los zip codes podemos en primer lugar verificar si son todos de tipo numérico:"
   ]
  },
  {
   "cell_type": "code",
   "execution_count": 27,
   "metadata": {},
   "outputs": [
    {
     "data": {
      "text/html": [
       "<div>\n",
       "<style scoped>\n",
       "    .dataframe tbody tr th:only-of-type {\n",
       "        vertical-align: middle;\n",
       "    }\n",
       "\n",
       "    .dataframe tbody tr th {\n",
       "        vertical-align: top;\n",
       "    }\n",
       "\n",
       "    .dataframe thead th {\n",
       "        text-align: right;\n",
       "    }\n",
       "</style>\n",
       "<table border=\"1\" class=\"dataframe\">\n",
       "  <thead>\n",
       "    <tr style=\"text-align: right;\">\n",
       "      <th></th>\n",
       "      <th>sender_zipcode</th>\n",
       "      <th>receiver_zipcode</th>\n",
       "    </tr>\n",
       "  </thead>\n",
       "  <tbody>\n",
       "    <tr>\n",
       "      <th>0</th>\n",
       "      <td>3005</td>\n",
       "      <td>5409</td>\n",
       "    </tr>\n",
       "    <tr>\n",
       "      <th>1</th>\n",
       "      <td>17052</td>\n",
       "      <td>37750</td>\n",
       "    </tr>\n",
       "    <tr>\n",
       "      <th>2</th>\n",
       "      <td>2033</td>\n",
       "      <td>11040</td>\n",
       "    </tr>\n",
       "    <tr>\n",
       "      <th>3</th>\n",
       "      <td>13900</td>\n",
       "      <td>18500</td>\n",
       "    </tr>\n",
       "    <tr>\n",
       "      <th>4</th>\n",
       "      <td>4361</td>\n",
       "      <td>96810</td>\n",
       "    </tr>\n",
       "  </tbody>\n",
       "</table>\n",
       "</div>"
      ],
      "text/plain": [
       "   sender_zipcode  receiver_zipcode\n",
       "0            3005              5409\n",
       "1           17052             37750\n",
       "2            2033             11040\n",
       "3           13900             18500\n",
       "4            4361             96810"
      ]
     },
     "execution_count": 27,
     "metadata": {},
     "output_type": "execute_result"
    }
   ],
   "source": [
    "df1 = df[['sender_zipcode','receiver_zipcode']].copy()\n",
    "df1.head()"
   ]
  },
  {
   "cell_type": "code",
   "execution_count": 28,
   "metadata": {},
   "outputs": [
    {
     "data": {
      "text/plain": [
       "(1000000, 2)"
      ]
     },
     "execution_count": 28,
     "metadata": {},
     "output_type": "execute_result"
    }
   ],
   "source": [
    "df1[df1['sender_zipcode'].apply(lambda x: isinstance(x, int))].shape\n"
   ]
  },
  {
   "cell_type": "code",
   "execution_count": 29,
   "metadata": {},
   "outputs": [
    {
     "data": {
      "text/plain": [
       "(1000000, 2)"
      ]
     },
     "execution_count": 29,
     "metadata": {},
     "output_type": "execute_result"
    }
   ],
   "source": [
    "df1[df1['receiver_zipcode'].apply(lambda x: isinstance(x, int))].shape\n"
   ]
  },
  {
   "cell_type": "markdown",
   "metadata": {},
   "source": [
    "Se puede tambien verificar que los zip code esten en un rango correcto de sus valores(min y max)."
   ]
  },
  {
   "cell_type": "code",
   "execution_count": 30,
   "metadata": {},
   "outputs": [
    {
     "data": {
      "text/html": [
       "<div>\n",
       "<style scoped>\n",
       "    .dataframe tbody tr th:only-of-type {\n",
       "        vertical-align: middle;\n",
       "    }\n",
       "\n",
       "    .dataframe tbody tr th {\n",
       "        vertical-align: top;\n",
       "    }\n",
       "\n",
       "    .dataframe thead th {\n",
       "        text-align: right;\n",
       "    }\n",
       "</style>\n",
       "<table border=\"1\" class=\"dataframe\">\n",
       "  <thead>\n",
       "    <tr style=\"text-align: right;\">\n",
       "      <th></th>\n",
       "      <th>sender_zipcode</th>\n",
       "      <th>receiver_zipcode</th>\n",
       "    </tr>\n",
       "  </thead>\n",
       "  <tbody>\n",
       "    <tr>\n",
       "      <th>count</th>\n",
       "      <td>1000000.000000</td>\n",
       "      <td>1000000.000000</td>\n",
       "    </tr>\n",
       "    <tr>\n",
       "      <th>mean</th>\n",
       "      <td>22637.975896</td>\n",
       "      <td>41650.306365</td>\n",
       "    </tr>\n",
       "    <tr>\n",
       "      <th>std</th>\n",
       "      <td>27817.028435</td>\n",
       "      <td>30952.352631</td>\n",
       "    </tr>\n",
       "    <tr>\n",
       "      <th>min</th>\n",
       "      <td>1001.000000</td>\n",
       "      <td>1001.000000</td>\n",
       "    </tr>\n",
       "    <tr>\n",
       "      <th>25%</th>\n",
       "      <td>4836.000000</td>\n",
       "      <td>13465.000000</td>\n",
       "    </tr>\n",
       "    <tr>\n",
       "      <th>50%</th>\n",
       "      <td>12091.000000</td>\n",
       "      <td>35164.000000</td>\n",
       "    </tr>\n",
       "    <tr>\n",
       "      <th>75%</th>\n",
       "      <td>23050.000000</td>\n",
       "      <td>72308.000000</td>\n",
       "    </tr>\n",
       "    <tr>\n",
       "      <th>max</th>\n",
       "      <td>99990.000000</td>\n",
       "      <td>99990.000000</td>\n",
       "    </tr>\n",
       "  </tbody>\n",
       "</table>\n",
       "</div>"
      ],
      "text/plain": [
       "       sender_zipcode  receiver_zipcode\n",
       "count  1000000.000000    1000000.000000\n",
       "mean     22637.975896      41650.306365\n",
       "std      27817.028435      30952.352631\n",
       "min       1001.000000       1001.000000\n",
       "25%       4836.000000      13465.000000\n",
       "50%      12091.000000      35164.000000\n",
       "75%      23050.000000      72308.000000\n",
       "max      99990.000000      99990.000000"
      ]
     },
     "execution_count": 30,
     "metadata": {},
     "output_type": "execute_result"
    }
   ],
   "source": [
    "df1.describe()"
   ]
  },
  {
   "cell_type": "markdown",
   "metadata": {},
   "source": [
    "También se puede analizar si ademas de que los valores esten en su rango correcto de valores, que estos sean correctos.\n",
    "Es decir, que no hayan zip codes entre 1001-99990 con valores invalidos.\n"
   ]
  },
  {
   "cell_type": "markdown",
   "metadata": {},
   "source": [
    "5-¿Tenemos outliers muy lejanos? ¿Conviene quitarlos del dataset?"
   ]
  },
  {
   "cell_type": "code",
   "execution_count": 31,
   "metadata": {},
   "outputs": [
    {
     "data": {
      "text/plain": [
       "{'whiskers': [<matplotlib.lines.Line2D at 0x1a2a93ab38>,\n",
       "  <matplotlib.lines.Line2D at 0x1a2a93aeb8>],\n",
       " 'caps': [<matplotlib.lines.Line2D at 0x1a2a93afd0>,\n",
       "  <matplotlib.lines.Line2D at 0x1a2a9245f8>],\n",
       " 'boxes': [<matplotlib.lines.Line2D at 0x1a2a93a6d8>],\n",
       " 'medians': [<matplotlib.lines.Line2D at 0x1a2a924978>],\n",
       " 'fliers': [<matplotlib.lines.Line2D at 0x1a2a924cf8>],\n",
       " 'means': []}"
      ]
     },
     "execution_count": 31,
     "metadata": {},
     "output_type": "execute_result"
    },
    {
     "data": {
      "image/png": "[encoded data removed]",
      "text/plain": [
       "<Figure size 1440x720 with 1 Axes>"
      ]
     },
     "metadata": {
      "needs_background": "light"
     },
     "output_type": "display_data"
    }
   ],
   "source": [
    "plt.figure(figsize=(20,10))\n",
    "plt.boxplot(df['target'])"
   ]
  },
  {
   "cell_type": "code",
   "execution_count": 32,
   "metadata": {
    "scrolled": true
   },
   "outputs": [
    {
     "data": {
      "text/plain": [
       "0.1      1.0\n",
       "0.2      2.0\n",
       "0.3      2.0\n",
       "0.4      3.0\n",
       "0.5      4.0\n",
       "0.6      6.0\n",
       "0.7      8.0\n",
       "0.8     10.0\n",
       "0.9     13.0\n",
       "1.0    118.0\n",
       "Name: target, dtype: float64"
      ]
     },
     "execution_count": 32,
     "metadata": {},
     "output_type": "execute_result"
    }
   ],
   "source": [
    "df['target'].quantile(np.arange(0.1,1.1,0.1))"
   ]
  },
  {
   "cell_type": "code",
   "execution_count": 33,
   "metadata": {},
   "outputs": [
    {
     "data": {
      "text/plain": [
       "0.90     13.0\n",
       "0.91     14.0\n",
       "0.92     14.0\n",
       "0.93     15.0\n",
       "0.94     15.0\n",
       "0.95     16.0\n",
       "0.96     17.0\n",
       "0.97     18.0\n",
       "0.98     20.0\n",
       "0.99     22.0\n",
       "1.00    118.0\n",
       "Name: target, dtype: float64"
      ]
     },
     "execution_count": 33,
     "metadata": {},
     "output_type": "execute_result"
    }
   ],
   "source": [
    "df['target'].quantile(np.arange(0.9,1.01,0.01))"
   ]
  },
  {
   "cell_type": "markdown",
   "metadata": {},
   "source": [
    "los target con un valor  menor que 22 ocupan el 99 por ciento de los datos. Los valores mayores a este valor deberiamos quitarlos ya que nos son representativos, los consideramos outliers."
   ]
  },
  {
   "cell_type": "code",
   "execution_count": 34,
   "metadata": {
    "scrolled": true
   },
   "outputs": [
    {
     "data": {
      "text/plain": [
       "<matplotlib.axes._subplots.AxesSubplot at 0x110b042b0>"
      ]
     },
     "execution_count": 34,
     "metadata": {},
     "output_type": "execute_result"
    },
    {
     "data": {
      "image/png": "[encoded data removed]",
      "text/plain": [
       "<Figure size 1440x720 with 1 Axes>"
      ]
     },
     "metadata": {
      "needs_background": "light"
     },
     "output_type": "display_data"
    }
   ],
   "source": [
    "plt.figure(figsize=(20, 10))\n",
    "sb.set(rc={'figure.figsize':(10.5,8.5)})\n",
    "sb.boxplot(x=df['service'], y=df['target'], data=df, palette=\"Set1\")"
   ]
  },
  {
   "cell_type": "markdown",
   "metadata": {},
   "source": [
    "Con esto vemos los outliers por servicio. El mismo análisis se puede realizar para el resto de los features numéricos."
   ]
  },
  {
   "cell_type": "markdown",
   "metadata": {},
   "source": [
    "6- ¿Las fechas tienen sentido? Dar detalles."
   ]
  },
  {
   "cell_type": "markdown",
   "metadata": {},
   "source": [
    "Los datos de fecha originalmente no son reconocidos como datetime, son tipo object,\n",
    "para utilizar todas las funcionalidades que probee el tipo np.datetime64 , se debe cargar el dataframe\n",
    "de la siguiente manera:"
   ]
  },
  {
   "cell_type": "code",
   "execution_count": 35,
   "metadata": {},
   "outputs": [],
   "source": [
    "df = pd.read_csv(data_path, usecols=cols, parse_dates=[\"date_created\", \"date_sent\", \"date_visit\"])"
   ]
  },
  {
   "cell_type": "code",
   "execution_count": 36,
   "metadata": {},
   "outputs": [
    {
     "data": {
      "text/html": [
       "<div>\n",
       "<style scoped>\n",
       "    .dataframe tbody tr th:only-of-type {\n",
       "        vertical-align: middle;\n",
       "    }\n",
       "\n",
       "    .dataframe tbody tr th {\n",
       "        vertical-align: top;\n",
       "    }\n",
       "\n",
       "    .dataframe thead th {\n",
       "        text-align: right;\n",
       "    }\n",
       "</style>\n",
       "<table border=\"1\" class=\"dataframe\">\n",
       "  <thead>\n",
       "    <tr style=\"text-align: right;\">\n",
       "      <th></th>\n",
       "      <th>sender_state</th>\n",
       "      <th>receiver_state</th>\n",
       "      <th>shipment_type</th>\n",
       "      <th>status</th>\n",
       "      <th>date_created</th>\n",
       "      <th>date_sent</th>\n",
       "      <th>date_visit</th>\n",
       "    </tr>\n",
       "  </thead>\n",
       "  <tbody>\n",
       "    <tr>\n",
       "      <th>count</th>\n",
       "      <td>1000000</td>\n",
       "      <td>1000000</td>\n",
       "      <td>1000000</td>\n",
       "      <td>1000000</td>\n",
       "      <td>1000000</td>\n",
       "      <td>1000000</td>\n",
       "      <td>1000000</td>\n",
       "    </tr>\n",
       "    <tr>\n",
       "      <th>unique</th>\n",
       "      <td>27</td>\n",
       "      <td>27</td>\n",
       "      <td>3</td>\n",
       "      <td>4</td>\n",
       "      <td>163</td>\n",
       "      <td>92912</td>\n",
       "      <td>68917</td>\n",
       "    </tr>\n",
       "    <tr>\n",
       "      <th>top</th>\n",
       "      <td>SP</td>\n",
       "      <td>SP</td>\n",
       "      <td>standard</td>\n",
       "      <td>done</td>\n",
       "      <td>2019-03-05 00:00:00</td>\n",
       "      <td>2019-02-25 16:08:00</td>\n",
       "      <td>2019-03-26 22:00:00</td>\n",
       "    </tr>\n",
       "    <tr>\n",
       "      <th>freq</th>\n",
       "      <td>728222</td>\n",
       "      <td>351058</td>\n",
       "      <td>593467</td>\n",
       "      <td>990460</td>\n",
       "      <td>40887</td>\n",
       "      <td>252</td>\n",
       "      <td>592</td>\n",
       "    </tr>\n",
       "    <tr>\n",
       "      <th>first</th>\n",
       "      <td>NaN</td>\n",
       "      <td>NaN</td>\n",
       "      <td>NaN</td>\n",
       "      <td>NaN</td>\n",
       "      <td>2018-09-26 00:00:00</td>\n",
       "      <td>2018-10-01 16:55:00</td>\n",
       "      <td>2019-02-28 00:03:00</td>\n",
       "    </tr>\n",
       "    <tr>\n",
       "      <th>last</th>\n",
       "      <td>NaN</td>\n",
       "      <td>NaN</td>\n",
       "      <td>NaN</td>\n",
       "      <td>NaN</td>\n",
       "      <td>2019-06-28 00:00:00</td>\n",
       "      <td>2019-03-29 07:06:00</td>\n",
       "      <td>2019-03-29 23:31:00</td>\n",
       "    </tr>\n",
       "  </tbody>\n",
       "</table>\n",
       "</div>"
      ],
      "text/plain": [
       "       sender_state receiver_state shipment_type   status  \\\n",
       "count       1000000        1000000       1000000  1000000   \n",
       "unique           27             27             3        4   \n",
       "top              SP             SP      standard     done   \n",
       "freq         728222         351058        593467   990460   \n",
       "first           NaN            NaN           NaN      NaN   \n",
       "last            NaN            NaN           NaN      NaN   \n",
       "\n",
       "               date_created            date_sent           date_visit  \n",
       "count               1000000              1000000              1000000  \n",
       "unique                  163                92912                68917  \n",
       "top     2019-03-05 00:00:00  2019-02-25 16:08:00  2019-03-26 22:00:00  \n",
       "freq                  40887                  252                  592  \n",
       "first   2018-09-26 00:00:00  2018-10-01 16:55:00  2019-02-28 00:03:00  \n",
       "last    2019-06-28 00:00:00  2019-03-29 07:06:00  2019-03-29 23:31:00  "
      ]
     },
     "execution_count": 36,
     "metadata": {},
     "output_type": "execute_result"
    }
   ],
   "source": [
    "df.describe(include=['object', 'datetime64'])"
   ]
  },
  {
   "cell_type": "markdown",
   "metadata": {},
   "source": [
    "Ahora si, los datos date son de tipo datetime64"
   ]
  },
  {
   "cell_type": "code",
   "execution_count": 37,
   "metadata": {},
   "outputs": [
    {
     "data": {
      "text/plain": [
       "sender_state                object\n",
       "sender_zipcode               int64\n",
       "receiver_state              object\n",
       "receiver_zipcode             int64\n",
       "shipment_type               object\n",
       "quantity                     int64\n",
       "service                      int64\n",
       "status                      object\n",
       "date_created        datetime64[ns]\n",
       "date_sent           datetime64[ns]\n",
       "date_visit          datetime64[ns]\n",
       "target                       int64\n",
       "dtype: object"
      ]
     },
     "execution_count": 37,
     "metadata": {},
     "output_type": "execute_result"
    }
   ],
   "source": [
    "df.dtypes"
   ]
  },
  {
   "cell_type": "markdown",
   "metadata": {},
   "source": [
    "7- ¿Que otras verificaciones básicas podrías hacer?"
   ]
  },
  {
   "cell_type": "markdown",
   "metadata": {},
   "source": [
    "Se pueden continuar realizando las mismas validaciones(que los datos pertenezcan a su rango de valores), análisis de outliers, etc, para el resto de los features numéricos. para los features categóricos."
   ]
  },
  {
   "cell_type": "markdown",
   "metadata": {},
   "source": [
    "a-¿Como se podría imputar las fechas faltantes de la columna ​ date_sent​ ? Justificarlo e\n",
    "implementar alguna solución."
   ]
  },
  {
   "cell_type": "code",
   "execution_count": 38,
   "metadata": {},
   "outputs": [
    {
     "data": {
      "text/html": [
       "<div>\n",
       "<style scoped>\n",
       "    .dataframe tbody tr th:only-of-type {\n",
       "        vertical-align: middle;\n",
       "    }\n",
       "\n",
       "    .dataframe tbody tr th {\n",
       "        vertical-align: top;\n",
       "    }\n",
       "\n",
       "    .dataframe thead th {\n",
       "        text-align: right;\n",
       "    }\n",
       "</style>\n",
       "<table border=\"1\" class=\"dataframe\">\n",
       "  <thead>\n",
       "    <tr style=\"text-align: right;\">\n",
       "      <th></th>\n",
       "      <th>sender_state</th>\n",
       "      <th>sender_zipcode</th>\n",
       "      <th>receiver_state</th>\n",
       "      <th>receiver_zipcode</th>\n",
       "      <th>shipment_type</th>\n",
       "      <th>quantity</th>\n",
       "      <th>service</th>\n",
       "      <th>status</th>\n",
       "      <th>date_created</th>\n",
       "      <th>date_sent</th>\n",
       "      <th>date_visit</th>\n",
       "      <th>target</th>\n",
       "    </tr>\n",
       "  </thead>\n",
       "  <tbody>\n",
       "  </tbody>\n",
       "</table>\n",
       "</div>"
      ],
      "text/plain": [
       "Empty DataFrame\n",
       "Columns: [sender_state, sender_zipcode, receiver_state, receiver_zipcode, shipment_type, quantity, service, status, date_created, date_sent, date_visit, target]\n",
       "Index: []"
      ]
     },
     "execution_count": 38,
     "metadata": {},
     "output_type": "execute_result"
    }
   ],
   "source": [
    "df[df['date_sent'].isna()]"
   ]
  },
  {
   "cell_type": "code",
   "execution_count": 39,
   "metadata": {},
   "outputs": [
    {
     "data": {
      "text/html": [
       "<div>\n",
       "<style scoped>\n",
       "    .dataframe tbody tr th:only-of-type {\n",
       "        vertical-align: middle;\n",
       "    }\n",
       "\n",
       "    .dataframe tbody tr th {\n",
       "        vertical-align: top;\n",
       "    }\n",
       "\n",
       "    .dataframe thead th {\n",
       "        text-align: right;\n",
       "    }\n",
       "</style>\n",
       "<table border=\"1\" class=\"dataframe\">\n",
       "  <thead>\n",
       "    <tr style=\"text-align: right;\">\n",
       "      <th></th>\n",
       "      <th>sender_state</th>\n",
       "      <th>sender_zipcode</th>\n",
       "      <th>receiver_state</th>\n",
       "      <th>receiver_zipcode</th>\n",
       "      <th>shipment_type</th>\n",
       "      <th>quantity</th>\n",
       "      <th>service</th>\n",
       "      <th>status</th>\n",
       "      <th>date_created</th>\n",
       "      <th>date_sent</th>\n",
       "      <th>date_visit</th>\n",
       "      <th>target</th>\n",
       "    </tr>\n",
       "  </thead>\n",
       "  <tbody>\n",
       "  </tbody>\n",
       "</table>\n",
       "</div>"
      ],
      "text/plain": [
       "Empty DataFrame\n",
       "Columns: [sender_state, sender_zipcode, receiver_state, receiver_zipcode, shipment_type, quantity, service, status, date_created, date_sent, date_visit, target]\n",
       "Index: []"
      ]
     },
     "execution_count": 39,
     "metadata": {},
     "output_type": "execute_result"
    }
   ],
   "source": [
    "df[df['date_sent'].isnull()]"
   ]
  },
  {
   "cell_type": "markdown",
   "metadata": {},
   "source": [
    "No hay datos faltantes, de echo ya lo habíamos verficado anteriormente, igualmente existen varios metodos para imputar datos\n",
    "En el caso de las fechas, si existiesen datos faltantes, se podría utilizar el siguiente método:\n",
    "\n",
    "    * Generar hash numérico a partir del primary key compuesto por los cuatro atributos mencionados anteriormente.\n",
    "    * Transformar todas las fechas a algun formato numérico como epoch.\n",
    "    * Ordenar los datos segun el nuevo hash numérico.\n",
    "    * Usar algun metodo de regresion (como linear regression) para predecir nuevos valores de fechas numéricos, para las fechas faltantes, tomando como datos de entrada los hash numéricos.\n",
    "    * volver a convertir todos las fechas en formato numérico a datetime.\n"
   ]
  },
  {
   "cell_type": "markdown",
   "metadata": {},
   "source": [
    "b-¿Qué riesgos existen al imputar datos? ¿Qué riesgos existen al imputar estos en particular?\n",
    "¿Cómo corregirías las fechas inconsistentes? Implementar alguna solución"
   ]
  },
  {
   "cell_type": "markdown",
   "metadata": {},
   "source": [
    "El riesgo principal es que el dato generado afecte en alguna medida los mediciones u analisis sobre el dataset original, por ejemplo generando sesgos. "
   ]
  },
  {
   "cell_type": "markdown",
   "metadata": {},
   "source": [
    "c-¿Es conveniente aplicar normalización o estandarización sobre algunos features? ¿Cuales\n",
    "features? ¿Porqué?"
   ]
  },
  {
   "cell_type": "markdown",
   "metadata": {},
   "source": [
    "Solo se pueden normalizar features numéricos. La normalización es util cuando se desea comparar u obtener metricas de series de datos que originalmente estan defindidos en distintos rangos de valores. Normalizando se logra tener la misma escala de valores."
   ]
  },
  {
   "cell_type": "markdown",
   "metadata": {},
   "source": [
    "d-¿Qué técnica utilizarías? Implementar alguna solución."
   ]
  },
  {
   "cell_type": "markdown",
   "metadata": {},
   "source": [
    "Existen varias formas de normalizar un rngo de valores, aunque la mas conocida es la normalización standar:\n",
    "\n",
    "$$z = \\frac{X - \\mu}{ \\sigma}$$"
   ]
  },
  {
   "cell_type": "markdown",
   "metadata": {},
   "source": [
    "e-¿Es necesario reducir la dimensión de los features?"
   ]
  },
  {
   "cell_type": "markdown",
   "metadata": {},
   "source": [
    "La dimensión de los features es el rango de valores posibles que puede tomar un feature\n",
    "A efectos de reducir su varianza, se puede reducir su dimension, es decir, acotar el rango de valores posibles que toma el feature.\n",
    "Se puede utlizar PCA para lograr este efecto. Solo aplica a features numericos\n",
    "\n",
    "Recordamos que features numericos tiene el dataset:\n",
    "#### Referencia de las columnas\n",
    "* **service**: Identificador unico que corresponde a un tipo de servicio de un correo en particular.\n",
    "* **sender_zipcode:** Código postal de quien envía el paquete (usualmente el vendedor).\n",
    "* **receiver_zipcode:** Código postal de quien recibe el paquete (usualmente el comprador).\n",
    "* **sender_state:** Nombre abreviado del estado de quien envía el paquete.\n",
    "* **receiver_state:** Nombre abreviado del estado de quien recibe el paquete.\n",
    "* **quantity:** Cantidad de items que tiene dentro el paquete.\n",
    "* **status:** Estado final del envío.\n",
    "* **date_created:** Fecha de compra de el o los items.\n",
    "* **date_sent:** Fecha en que el correo recibe el paquete.\n",
    "* **date_visit:** Fecha en que el correo entrega el paquete.\n",
    "* **target:** Cantidad de dias hábiles que tardó el correo en entregar el paquete desde que lo recibe.\n",
    "\n"
   ]
  },
  {
   "cell_type": "code",
   "execution_count": 40,
   "metadata": {},
   "outputs": [
    {
     "data": {
      "text/html": [
       "<div>\n",
       "<style scoped>\n",
       "    .dataframe tbody tr th:only-of-type {\n",
       "        vertical-align: middle;\n",
       "    }\n",
       "\n",
       "    .dataframe tbody tr th {\n",
       "        vertical-align: top;\n",
       "    }\n",
       "\n",
       "    .dataframe thead th {\n",
       "        text-align: right;\n",
       "    }\n",
       "</style>\n",
       "<table border=\"1\" class=\"dataframe\">\n",
       "  <thead>\n",
       "    <tr style=\"text-align: right;\">\n",
       "      <th></th>\n",
       "      <th>sender_zipcode</th>\n",
       "      <th>receiver_zipcode</th>\n",
       "      <th>quantity</th>\n",
       "      <th>service</th>\n",
       "      <th>target</th>\n",
       "    </tr>\n",
       "  </thead>\n",
       "  <tbody>\n",
       "    <tr>\n",
       "      <th>count</th>\n",
       "      <td>1000000.000000</td>\n",
       "      <td>1000000.000000</td>\n",
       "      <td>1000000.000000</td>\n",
       "      <td>1000000.000000</td>\n",
       "      <td>1000000.000000</td>\n",
       "    </tr>\n",
       "    <tr>\n",
       "      <th>mean</th>\n",
       "      <td>22637.975896</td>\n",
       "      <td>41650.306365</td>\n",
       "      <td>1.277814</td>\n",
       "      <td>1.182677</td>\n",
       "      <td>6.021577</td>\n",
       "    </tr>\n",
       "    <tr>\n",
       "      <th>std</th>\n",
       "      <td>27817.028435</td>\n",
       "      <td>30952.352631</td>\n",
       "      <td>0.661583</td>\n",
       "      <td>1.486557</td>\n",
       "      <td>5.157973</td>\n",
       "    </tr>\n",
       "    <tr>\n",
       "      <th>min</th>\n",
       "      <td>1001.000000</td>\n",
       "      <td>1001.000000</td>\n",
       "      <td>1.000000</td>\n",
       "      <td>0.000000</td>\n",
       "      <td>0.000000</td>\n",
       "    </tr>\n",
       "    <tr>\n",
       "      <th>25%</th>\n",
       "      <td>4836.000000</td>\n",
       "      <td>13465.000000</td>\n",
       "      <td>1.000000</td>\n",
       "      <td>0.000000</td>\n",
       "      <td>2.000000</td>\n",
       "    </tr>\n",
       "    <tr>\n",
       "      <th>50%</th>\n",
       "      <td>12091.000000</td>\n",
       "      <td>35164.000000</td>\n",
       "      <td>1.000000</td>\n",
       "      <td>1.000000</td>\n",
       "      <td>4.000000</td>\n",
       "    </tr>\n",
       "    <tr>\n",
       "      <th>75%</th>\n",
       "      <td>23050.000000</td>\n",
       "      <td>72308.000000</td>\n",
       "      <td>1.000000</td>\n",
       "      <td>1.000000</td>\n",
       "      <td>9.000000</td>\n",
       "    </tr>\n",
       "    <tr>\n",
       "      <th>max</th>\n",
       "      <td>99990.000000</td>\n",
       "      <td>99990.000000</td>\n",
       "      <td>5.000000</td>\n",
       "      <td>11.000000</td>\n",
       "      <td>118.000000</td>\n",
       "    </tr>\n",
       "  </tbody>\n",
       "</table>\n",
       "</div>"
      ],
      "text/plain": [
       "       sender_zipcode  receiver_zipcode        quantity         service  \\\n",
       "count  1000000.000000    1000000.000000  1000000.000000  1000000.000000   \n",
       "mean     22637.975896      41650.306365        1.277814        1.182677   \n",
       "std      27817.028435      30952.352631        0.661583        1.486557   \n",
       "min       1001.000000       1001.000000        1.000000        0.000000   \n",
       "25%       4836.000000      13465.000000        1.000000        0.000000   \n",
       "50%      12091.000000      35164.000000        1.000000        1.000000   \n",
       "75%      23050.000000      72308.000000        1.000000        1.000000   \n",
       "max      99990.000000      99990.000000        5.000000       11.000000   \n",
       "\n",
       "               target  \n",
       "count  1000000.000000  \n",
       "mean         6.021577  \n",
       "std          5.157973  \n",
       "min          0.000000  \n",
       "25%          2.000000  \n",
       "50%          4.000000  \n",
       "75%          9.000000  \n",
       "max        118.000000  "
      ]
     },
     "execution_count": 40,
     "metadata": {},
     "output_type": "execute_result"
    }
   ],
   "source": [
    "df.describe()"
   ]
  },
  {
   "cell_type": "code",
   "execution_count": 41,
   "metadata": {},
   "outputs": [
    {
     "data": {
      "text/html": [
       "<div>\n",
       "<style scoped>\n",
       "    .dataframe tbody tr th:only-of-type {\n",
       "        vertical-align: middle;\n",
       "    }\n",
       "\n",
       "    .dataframe tbody tr th {\n",
       "        vertical-align: top;\n",
       "    }\n",
       "\n",
       "    .dataframe thead th {\n",
       "        text-align: right;\n",
       "    }\n",
       "</style>\n",
       "<table border=\"1\" class=\"dataframe\">\n",
       "  <thead>\n",
       "    <tr style=\"text-align: right;\">\n",
       "      <th></th>\n",
       "      <th>date_created</th>\n",
       "      <th>date_sent</th>\n",
       "      <th>date_visit</th>\n",
       "    </tr>\n",
       "  </thead>\n",
       "  <tbody>\n",
       "    <tr>\n",
       "      <th>count</th>\n",
       "      <td>1000000</td>\n",
       "      <td>1000000</td>\n",
       "      <td>1000000</td>\n",
       "    </tr>\n",
       "    <tr>\n",
       "      <th>unique</th>\n",
       "      <td>163</td>\n",
       "      <td>92912</td>\n",
       "      <td>68917</td>\n",
       "    </tr>\n",
       "    <tr>\n",
       "      <th>top</th>\n",
       "      <td>2019-03-05 00:00:00</td>\n",
       "      <td>2019-02-25 16:08:00</td>\n",
       "      <td>2019-03-26 22:00:00</td>\n",
       "    </tr>\n",
       "    <tr>\n",
       "      <th>freq</th>\n",
       "      <td>40887</td>\n",
       "      <td>252</td>\n",
       "      <td>592</td>\n",
       "    </tr>\n",
       "    <tr>\n",
       "      <th>first</th>\n",
       "      <td>2018-09-26 00:00:00</td>\n",
       "      <td>2018-10-01 16:55:00</td>\n",
       "      <td>2019-02-28 00:03:00</td>\n",
       "    </tr>\n",
       "    <tr>\n",
       "      <th>last</th>\n",
       "      <td>2019-06-28 00:00:00</td>\n",
       "      <td>2019-03-29 07:06:00</td>\n",
       "      <td>2019-03-29 23:31:00</td>\n",
       "    </tr>\n",
       "  </tbody>\n",
       "</table>\n",
       "</div>"
      ],
      "text/plain": [
       "               date_created            date_sent           date_visit\n",
       "count               1000000              1000000              1000000\n",
       "unique                  163                92912                68917\n",
       "top     2019-03-05 00:00:00  2019-02-25 16:08:00  2019-03-26 22:00:00\n",
       "freq                  40887                  252                  592\n",
       "first   2018-09-26 00:00:00  2018-10-01 16:55:00  2019-02-28 00:03:00\n",
       "last    2019-06-28 00:00:00  2019-03-29 07:06:00  2019-03-29 23:31:00"
      ]
     },
     "execution_count": 41,
     "metadata": {},
     "output_type": "execute_result"
    }
   ],
   "source": [
    "df.describe(include=['datetime64'])"
   ]
  },
  {
   "cell_type": "markdown",
   "metadata": {},
   "source": [
    "los features **service** , **quantity** y **target**  tienen un rango muy pequeño de valores a tomar por lo que no parece tener sentido redducir aún más\n",
    "su dimensión."
   ]
  },
  {
   "cell_type": "markdown",
   "metadata": {},
   "source": [
    "Los datos de la ruta (zip code) tambien varían sobre un rango fijo de posibles valores y ademas brindan información\n",
    "valiosa para los envíos. Ademas si se eliminan los outliers (targets > 22 días) es posible que se eliminen regiones que no son de mayor interes.\n",
    "\n",
    "No sabemos con exactitud si tiene sentido reducir la dimensión de los features de fechas(no son de tipo numerico estrictamente, pero siempre se los puede transformar a algún formato numerico)\n"
   ]
  },
  {
   "cell_type": "markdown",
   "metadata": {},
   "source": [
    "f-¿Sería útil aplicar el algoritmo de PCA? ¿Sobre qué features? ¿Con qué objetivo?"
   ]
  },
  {
   "cell_type": "markdown",
   "metadata": {},
   "source": [
    "### COMPLETAR"
   ]
  },
  {
   "cell_type": "markdown",
   "metadata": {},
   "source": [
    "g-Actualmente el target tiene granularidad de días, ¿lo podrías refinar? ¿Como? ¿Qué\n",
    "beneficios obtendrías al aumentar la granularidad?"
   ]
  },
  {
   "cell_type": "code",
   "execution_count": 42,
   "metadata": {},
   "outputs": [
    {
     "data": {
      "text/plain": [
       "22.0"
      ]
     },
     "execution_count": 42,
     "metadata": {},
     "output_type": "execute_result"
    }
   ],
   "source": [
    "df['target'].quantile(0.99)\n"
   ]
  },
  {
   "cell_type": "code",
   "execution_count": 43,
   "metadata": {},
   "outputs": [
    {
     "data": {
      "text/plain": [
       "1      159537\n",
       "2      135145\n",
       "3      107500\n",
       "4       82250\n",
       "5       68790\n",
       "6       59190\n",
       "7       51902\n",
       "8       47937\n",
       "9       42376\n",
       "10      40461\n",
       "11      35821\n",
       "12      30215\n",
       "13      25068\n",
       "0       21118\n",
       "14      19853\n",
       "15      16241\n",
       "16      12133\n",
       "17       9724\n",
       "18       7340\n",
       "19       6055\n",
       "20       4859\n",
       "21       4014\n",
       "22       3008\n",
       "23       2300\n",
       "24       1766\n",
       "25       1334\n",
       "26       1030\n",
       "27        752\n",
       "28        504\n",
       "29        370\n",
       "        ...  \n",
       "41         17\n",
       "43         16\n",
       "45         13\n",
       "48         13\n",
       "47         11\n",
       "49          7\n",
       "55          7\n",
       "46          7\n",
       "52          6\n",
       "54          5\n",
       "61          3\n",
       "68          3\n",
       "50          3\n",
       "53          2\n",
       "56          2\n",
       "69          2\n",
       "51          2\n",
       "66          2\n",
       "63          2\n",
       "80          1\n",
       "77          1\n",
       "65          1\n",
       "86          1\n",
       "64          1\n",
       "62          1\n",
       "60          1\n",
       "59          1\n",
       "58          1\n",
       "57          1\n",
       "118         1\n",
       "Name: target, Length: 73, dtype: int64"
      ]
     },
     "execution_count": 43,
     "metadata": {},
     "output_type": "execute_result"
    }
   ],
   "source": [
    "df['target'].value_counts()\n"
   ]
  },
  {
   "cell_type": "code",
   "execution_count": 44,
   "metadata": {},
   "outputs": [
    {
     "data": {
      "text/plain": [
       "0.021118"
      ]
     },
     "execution_count": 44,
     "metadata": {},
     "output_type": "execute_result"
    }
   ],
   "source": [
    "21118/1000000"
   ]
  },
  {
   "cell_type": "markdown",
   "metadata": {},
   "source": [
    "Recordamos del practico 1 que el 99% de los datos para el feature 'target' :los envíos se demoran a lo sumo 22 dias.\n",
    "Enfocados en ese grupo y del resultado anterior observamos que hay 21118 valores con target igual a 0.\n",
    "Es decir hay 21118 días en que un paquete fue enviado y entregado en el mismo día.\n",
    "\n",
    "Esta cantidad representa aproximadamente solo el 2%, sin embargo si fuera de interes conocer cuanto demoró la entrega para esos envíos,\n",
    "sería deseable refinar un poco mas  los valores de este feature transformando su unidad de medida en dias a una unidad de medida en horas.\n",
    "\n"
   ]
  },
  {
   "cell_type": "markdown",
   "metadata": {},
   "source": [
    "Eliminamos datos incorrectos"
   ]
  },
  {
   "cell_type": "code",
   "execution_count": 45,
   "metadata": {},
   "outputs": [],
   "source": [
    "df1 = df[(df['date_sent'] <= df['date_visit']) & (df['date_created'] <= df['date_sent']) & (df['date_created'] <= df['date_visit'])].copy()"
   ]
  },
  {
   "cell_type": "markdown",
   "metadata": {},
   "source": [
    "Nos enfoncamos en envíos en el mismo día"
   ]
  },
  {
   "cell_type": "code",
   "execution_count": 46,
   "metadata": {},
   "outputs": [
    {
     "data": {
      "text/html": [
       "<div>\n",
       "<style scoped>\n",
       "    .dataframe tbody tr th:only-of-type {\n",
       "        vertical-align: middle;\n",
       "    }\n",
       "\n",
       "    .dataframe tbody tr th {\n",
       "        vertical-align: top;\n",
       "    }\n",
       "\n",
       "    .dataframe thead th {\n",
       "        text-align: right;\n",
       "    }\n",
       "</style>\n",
       "<table border=\"1\" class=\"dataframe\">\n",
       "  <thead>\n",
       "    <tr style=\"text-align: right;\">\n",
       "      <th></th>\n",
       "      <th>sender_state</th>\n",
       "      <th>sender_zipcode</th>\n",
       "      <th>receiver_state</th>\n",
       "      <th>receiver_zipcode</th>\n",
       "      <th>shipment_type</th>\n",
       "      <th>quantity</th>\n",
       "      <th>service</th>\n",
       "      <th>status</th>\n",
       "      <th>date_created</th>\n",
       "      <th>date_sent</th>\n",
       "      <th>date_visit</th>\n",
       "      <th>target</th>\n",
       "    </tr>\n",
       "  </thead>\n",
       "  <tbody>\n",
       "    <tr>\n",
       "      <th>25</th>\n",
       "      <td>SP</td>\n",
       "      <td>6716</td>\n",
       "      <td>SP</td>\n",
       "      <td>3575</td>\n",
       "      <td>express</td>\n",
       "      <td>1</td>\n",
       "      <td>5</td>\n",
       "      <td>done</td>\n",
       "      <td>2019-03-02</td>\n",
       "      <td>2019-03-05 08:11:18</td>\n",
       "      <td>2019-03-05 12:53:59</td>\n",
       "      <td>0</td>\n",
       "    </tr>\n",
       "    <tr>\n",
       "      <th>58</th>\n",
       "      <td>SP</td>\n",
       "      <td>9895</td>\n",
       "      <td>SP</td>\n",
       "      <td>3375</td>\n",
       "      <td>express</td>\n",
       "      <td>1</td>\n",
       "      <td>5</td>\n",
       "      <td>done</td>\n",
       "      <td>2019-03-15</td>\n",
       "      <td>2019-03-20 06:31:40</td>\n",
       "      <td>2019-03-20 13:33:59</td>\n",
       "      <td>0</td>\n",
       "    </tr>\n",
       "    <tr>\n",
       "      <th>171</th>\n",
       "      <td>SP</td>\n",
       "      <td>6422</td>\n",
       "      <td>SP</td>\n",
       "      <td>2118</td>\n",
       "      <td>express</td>\n",
       "      <td>1</td>\n",
       "      <td>5</td>\n",
       "      <td>done</td>\n",
       "      <td>2019-03-15</td>\n",
       "      <td>2019-03-20 06:30:23</td>\n",
       "      <td>2019-03-20 16:28:36</td>\n",
       "      <td>0</td>\n",
       "    </tr>\n",
       "    <tr>\n",
       "      <th>218</th>\n",
       "      <td>SP</td>\n",
       "      <td>13290</td>\n",
       "      <td>RJ</td>\n",
       "      <td>20960</td>\n",
       "      <td>super</td>\n",
       "      <td>1</td>\n",
       "      <td>6</td>\n",
       "      <td>done</td>\n",
       "      <td>2019-03-09</td>\n",
       "      <td>2019-03-09 14:53:04</td>\n",
       "      <td>2019-03-11 14:34:32</td>\n",
       "      <td>0</td>\n",
       "    </tr>\n",
       "    <tr>\n",
       "      <th>237</th>\n",
       "      <td>SP</td>\n",
       "      <td>5424</td>\n",
       "      <td>SP</td>\n",
       "      <td>4346</td>\n",
       "      <td>express</td>\n",
       "      <td>1</td>\n",
       "      <td>4</td>\n",
       "      <td>done</td>\n",
       "      <td>2019-03-07</td>\n",
       "      <td>2019-03-09 11:57:00</td>\n",
       "      <td>2019-03-11 13:19:00</td>\n",
       "      <td>0</td>\n",
       "    </tr>\n",
       "  </tbody>\n",
       "</table>\n",
       "</div>"
      ],
      "text/plain": [
       "    sender_state  sender_zipcode receiver_state  receiver_zipcode  \\\n",
       "25            SP            6716             SP              3575   \n",
       "58            SP            9895             SP              3375   \n",
       "171           SP            6422             SP              2118   \n",
       "218           SP           13290             RJ             20960   \n",
       "237           SP            5424             SP              4346   \n",
       "\n",
       "    shipment_type  quantity  service status date_created           date_sent  \\\n",
       "25        express         1        5   done   2019-03-02 2019-03-05 08:11:18   \n",
       "58        express         1        5   done   2019-03-15 2019-03-20 06:31:40   \n",
       "171       express         1        5   done   2019-03-15 2019-03-20 06:30:23   \n",
       "218         super         1        6   done   2019-03-09 2019-03-09 14:53:04   \n",
       "237       express         1        4   done   2019-03-07 2019-03-09 11:57:00   \n",
       "\n",
       "             date_visit  target  \n",
       "25  2019-03-05 12:53:59       0  \n",
       "58  2019-03-20 13:33:59       0  \n",
       "171 2019-03-20 16:28:36       0  \n",
       "218 2019-03-11 14:34:32       0  \n",
       "237 2019-03-11 13:19:00       0  "
      ]
     },
     "execution_count": 46,
     "metadata": {},
     "output_type": "execute_result"
    }
   ],
   "source": [
    "df2 = df1[df1['target'] == 0].copy()\n",
    "df2.head()"
   ]
  },
  {
   "cell_type": "code",
   "execution_count": 47,
   "metadata": {},
   "outputs": [
    {
     "data": {
      "text/plain": [
       "(21053, 12)"
      ]
     },
     "execution_count": 47,
     "metadata": {},
     "output_type": "execute_result"
    }
   ],
   "source": [
    "df2.shape"
   ]
  },
  {
   "cell_type": "code",
   "execution_count": 48,
   "metadata": {},
   "outputs": [],
   "source": [
    "date_sent = df2['date_sent']\n",
    "date_visit = df2['date_visit']"
   ]
  },
  {
   "cell_type": "code",
   "execution_count": 49,
   "metadata": {},
   "outputs": [],
   "source": [
    "df2['target'] = (date_visit - date_sent).astype('timedelta64[h]')"
   ]
  },
  {
   "cell_type": "code",
   "execution_count": 50,
   "metadata": {},
   "outputs": [
    {
     "data": {
      "text/html": [
       "<div>\n",
       "<style scoped>\n",
       "    .dataframe tbody tr th:only-of-type {\n",
       "        vertical-align: middle;\n",
       "    }\n",
       "\n",
       "    .dataframe tbody tr th {\n",
       "        vertical-align: top;\n",
       "    }\n",
       "\n",
       "    .dataframe thead th {\n",
       "        text-align: right;\n",
       "    }\n",
       "</style>\n",
       "<table border=\"1\" class=\"dataframe\">\n",
       "  <thead>\n",
       "    <tr style=\"text-align: right;\">\n",
       "      <th></th>\n",
       "      <th>sender_state</th>\n",
       "      <th>sender_zipcode</th>\n",
       "      <th>receiver_state</th>\n",
       "      <th>receiver_zipcode</th>\n",
       "      <th>shipment_type</th>\n",
       "      <th>quantity</th>\n",
       "      <th>service</th>\n",
       "      <th>status</th>\n",
       "      <th>date_created</th>\n",
       "      <th>date_sent</th>\n",
       "      <th>date_visit</th>\n",
       "      <th>target</th>\n",
       "    </tr>\n",
       "  </thead>\n",
       "  <tbody>\n",
       "    <tr>\n",
       "      <th>25</th>\n",
       "      <td>SP</td>\n",
       "      <td>6716</td>\n",
       "      <td>SP</td>\n",
       "      <td>3575</td>\n",
       "      <td>express</td>\n",
       "      <td>1</td>\n",
       "      <td>5</td>\n",
       "      <td>done</td>\n",
       "      <td>2019-03-02</td>\n",
       "      <td>2019-03-05 08:11:18</td>\n",
       "      <td>2019-03-05 12:53:59</td>\n",
       "      <td>4.0</td>\n",
       "    </tr>\n",
       "    <tr>\n",
       "      <th>58</th>\n",
       "      <td>SP</td>\n",
       "      <td>9895</td>\n",
       "      <td>SP</td>\n",
       "      <td>3375</td>\n",
       "      <td>express</td>\n",
       "      <td>1</td>\n",
       "      <td>5</td>\n",
       "      <td>done</td>\n",
       "      <td>2019-03-15</td>\n",
       "      <td>2019-03-20 06:31:40</td>\n",
       "      <td>2019-03-20 13:33:59</td>\n",
       "      <td>7.0</td>\n",
       "    </tr>\n",
       "    <tr>\n",
       "      <th>171</th>\n",
       "      <td>SP</td>\n",
       "      <td>6422</td>\n",
       "      <td>SP</td>\n",
       "      <td>2118</td>\n",
       "      <td>express</td>\n",
       "      <td>1</td>\n",
       "      <td>5</td>\n",
       "      <td>done</td>\n",
       "      <td>2019-03-15</td>\n",
       "      <td>2019-03-20 06:30:23</td>\n",
       "      <td>2019-03-20 16:28:36</td>\n",
       "      <td>9.0</td>\n",
       "    </tr>\n",
       "    <tr>\n",
       "      <th>218</th>\n",
       "      <td>SP</td>\n",
       "      <td>13290</td>\n",
       "      <td>RJ</td>\n",
       "      <td>20960</td>\n",
       "      <td>super</td>\n",
       "      <td>1</td>\n",
       "      <td>6</td>\n",
       "      <td>done</td>\n",
       "      <td>2019-03-09</td>\n",
       "      <td>2019-03-09 14:53:04</td>\n",
       "      <td>2019-03-11 14:34:32</td>\n",
       "      <td>47.0</td>\n",
       "    </tr>\n",
       "    <tr>\n",
       "      <th>237</th>\n",
       "      <td>SP</td>\n",
       "      <td>5424</td>\n",
       "      <td>SP</td>\n",
       "      <td>4346</td>\n",
       "      <td>express</td>\n",
       "      <td>1</td>\n",
       "      <td>4</td>\n",
       "      <td>done</td>\n",
       "      <td>2019-03-07</td>\n",
       "      <td>2019-03-09 11:57:00</td>\n",
       "      <td>2019-03-11 13:19:00</td>\n",
       "      <td>49.0</td>\n",
       "    </tr>\n",
       "  </tbody>\n",
       "</table>\n",
       "</div>"
      ],
      "text/plain": [
       "    sender_state  sender_zipcode receiver_state  receiver_zipcode  \\\n",
       "25            SP            6716             SP              3575   \n",
       "58            SP            9895             SP              3375   \n",
       "171           SP            6422             SP              2118   \n",
       "218           SP           13290             RJ             20960   \n",
       "237           SP            5424             SP              4346   \n",
       "\n",
       "    shipment_type  quantity  service status date_created           date_sent  \\\n",
       "25        express         1        5   done   2019-03-02 2019-03-05 08:11:18   \n",
       "58        express         1        5   done   2019-03-15 2019-03-20 06:31:40   \n",
       "171       express         1        5   done   2019-03-15 2019-03-20 06:30:23   \n",
       "218         super         1        6   done   2019-03-09 2019-03-09 14:53:04   \n",
       "237       express         1        4   done   2019-03-07 2019-03-09 11:57:00   \n",
       "\n",
       "             date_visit  target  \n",
       "25  2019-03-05 12:53:59     4.0  \n",
       "58  2019-03-20 13:33:59     7.0  \n",
       "171 2019-03-20 16:28:36     9.0  \n",
       "218 2019-03-11 14:34:32    47.0  \n",
       "237 2019-03-11 13:19:00    49.0  "
      ]
     },
     "execution_count": 50,
     "metadata": {},
     "output_type": "execute_result"
    }
   ],
   "source": [
    "df2.head()"
   ]
  },
  {
   "cell_type": "markdown",
   "metadata": {},
   "source": [
    "Un primer vistazo nos muestra que hay targets con valores mayores a 23 (hs).\n",
    "Esto evidencia otro error en los datos. Hay envíos que según sus fechas de envíos y fechas de entregas\n",
    "pasaron mas de un día, sin embargo originalmente tienen al feature target con el valor 0."
   ]
  },
  {
   "cell_type": "markdown",
   "metadata": {},
   "source": [
    "Evaluamos cuantos datos eran incorrectos originalmente:"
   ]
  },
  {
   "cell_type": "code",
   "execution_count": 51,
   "metadata": {},
   "outputs": [
    {
     "data": {
      "text/plain": [
       "(7514, 12)"
      ]
     },
     "execution_count": 51,
     "metadata": {},
     "output_type": "execute_result"
    }
   ],
   "source": [
    "df2[df2['target'] > 23].shape"
   ]
  },
  {
   "cell_type": "markdown",
   "metadata": {},
   "source": [
    "Se puede corregir el valor de target(originalmente en día) de la siguiente manera:"
   ]
  },
  {
   "cell_type": "code",
   "execution_count": 52,
   "metadata": {},
   "outputs": [],
   "source": [
    "df1 = df.copy() # para no afectar el dataframe original\n",
    "date_sent = df1['date_sent']\n",
    "date_visit = df1['date_visit']"
   ]
  },
  {
   "cell_type": "code",
   "execution_count": 55,
   "metadata": {},
   "outputs": [
    {
     "data": {
      "text/plain": [
       "21118"
      ]
     },
     "execution_count": 55,
     "metadata": {},
     "output_type": "execute_result"
    }
   ],
   "source": [
    "len(df1[df1['target'] == 0])"
   ]
  },
  {
   "cell_type": "code",
   "execution_count": 56,
   "metadata": {},
   "outputs": [],
   "source": [
    "df.loc[df1['target'] == 0, 'target'] = (date_visit - date_sent).astype('timedelta64[h]') // 24"
   ]
  },
  {
   "cell_type": "code",
   "execution_count": 57,
   "metadata": {},
   "outputs": [
    {
     "data": {
      "text/plain": [
       "21118"
      ]
     },
     "execution_count": 57,
     "metadata": {},
     "output_type": "execute_result"
    }
   ],
   "source": [
    "len(df1[df1['target'] == 0])"
   ]
  },
  {
   "cell_type": "markdown",
   "metadata": {},
   "source": [
    "Antes teniamos 21118  \n",
    "Corregimos 7514   \n",
    "Deberiamos tener ahora hay solamente:"
   ]
  },
  {
   "cell_type": "code",
   "execution_count": 58,
   "metadata": {},
   "outputs": [
    {
     "data": {
      "text/plain": [
       "13604"
      ]
     },
     "execution_count": 58,
     "metadata": {},
     "output_type": "execute_result"
    }
   ],
   "source": [
    "21118 - 7514"
   ]
  },
  {
   "cell_type": "markdown",
   "metadata": {},
   "source": [
    "Pero luego de arreglar nuestros target = 0 incorrectos vemos que perdimos dos envíos.    \n",
    "Del análisis anterior recordemos que teniamos dos filas con el siguiente problema:\n"
   ]
  },
  {
   "cell_type": "code",
   "execution_count": 59,
   "metadata": {},
   "outputs": [
    {
     "data": {
      "text/html": [
       "<div>\n",
       "<style scoped>\n",
       "    .dataframe tbody tr th:only-of-type {\n",
       "        vertical-align: middle;\n",
       "    }\n",
       "\n",
       "    .dataframe tbody tr th {\n",
       "        vertical-align: top;\n",
       "    }\n",
       "\n",
       "    .dataframe thead th {\n",
       "        text-align: right;\n",
       "    }\n",
       "</style>\n",
       "<table border=\"1\" class=\"dataframe\">\n",
       "  <thead>\n",
       "    <tr style=\"text-align: right;\">\n",
       "      <th></th>\n",
       "      <th>sender_state</th>\n",
       "      <th>sender_zipcode</th>\n",
       "      <th>receiver_state</th>\n",
       "      <th>receiver_zipcode</th>\n",
       "      <th>shipment_type</th>\n",
       "      <th>quantity</th>\n",
       "      <th>service</th>\n",
       "      <th>status</th>\n",
       "      <th>date_created</th>\n",
       "      <th>date_sent</th>\n",
       "      <th>date_visit</th>\n",
       "      <th>target</th>\n",
       "    </tr>\n",
       "  </thead>\n",
       "  <tbody>\n",
       "    <tr>\n",
       "      <th>227160</th>\n",
       "      <td>SP</td>\n",
       "      <td>13920</td>\n",
       "      <td>DF</td>\n",
       "      <td>70857</td>\n",
       "      <td>standard</td>\n",
       "      <td>1</td>\n",
       "      <td>1</td>\n",
       "      <td>done</td>\n",
       "      <td>2019-03-22</td>\n",
       "      <td>2019-03-26 15:56:00</td>\n",
       "      <td>2019-03-26 08:10:00</td>\n",
       "      <td>0</td>\n",
       "    </tr>\n",
       "    <tr>\n",
       "      <th>597454</th>\n",
       "      <td>SP</td>\n",
       "      <td>9961</td>\n",
       "      <td>PE</td>\n",
       "      <td>55604</td>\n",
       "      <td>standard</td>\n",
       "      <td>1</td>\n",
       "      <td>4</td>\n",
       "      <td>done</td>\n",
       "      <td>2019-02-28</td>\n",
       "      <td>2019-03-04 21:58:09</td>\n",
       "      <td>2019-03-04 17:21:00</td>\n",
       "      <td>0</td>\n",
       "    </tr>\n",
       "  </tbody>\n",
       "</table>\n",
       "</div>"
      ],
      "text/plain": [
       "       sender_state  sender_zipcode receiver_state  receiver_zipcode  \\\n",
       "227160           SP           13920             DF             70857   \n",
       "597454           SP            9961             PE             55604   \n",
       "\n",
       "       shipment_type  quantity  service status date_created  \\\n",
       "227160      standard         1        1   done   2019-03-22   \n",
       "597454      standard         1        4   done   2019-02-28   \n",
       "\n",
       "                 date_sent          date_visit  target  \n",
       "227160 2019-03-26 15:56:00 2019-03-26 08:10:00       0  \n",
       "597454 2019-03-04 21:58:09 2019-03-04 17:21:00       0  "
      ]
     },
     "execution_count": 59,
     "metadata": {},
     "output_type": "execute_result"
    }
   ],
   "source": [
    "df1[df1[\"date_sent\"] > df1[\"date_visit\"]]"
   ]
  },
  {
   "cell_type": "markdown",
   "metadata": {},
   "source": [
    "Vemos que el error en target ahora se debe por que las fechas parecen estar intercambiadas, o simplemente ningún valor de fecha se puede considerar correcto."
   ]
  }
 ],
 "metadata": {
  "kernelspec": {
   "display_name": "Python 3",
   "language": "python",
   "name": "python3"
  },
  "language_info": {
   "codemirror_mode": {
    "name": "ipython",
    "version": 3
   },
   "file_extension": ".py",
   "mimetype": "text/x-python",
   "name": "python",
   "nbconvert_exporter": "python",
   "pygments_lexer": "ipython3",
   "version": "3.7.3"
  }
 },
 "nbformat": 4,
 "nbformat_minor": 2
}
