{
 "cells": [
  {
   "cell_type": "markdown",
   "metadata": {},
   "source": [
    "# DiploDatos 2019 - Análisis de Series Temporales\n",
    "\n",
    "## Integrantes\n",
    "\n",
    "| Nombre | e-mail |\n",
    "|------|------|\n",
    "|Rivadero, Isabel | isarivadero@hotmail.com |\n",
    "|Vargas, Miguel | lvc0107@protonmail.com |\n",
    "|Mancuso, Fernando | manquius@gmail.com |\n",
    "\n",
    "## Práctico de Introducción al aprendizaje automático\n",
    "\n",
    "En este práctico no introduciremos en las primeras herramientas de aprendizaje\n",
    "automático. Diseñaremos e implementaremos algunos modelos simples y definir métricas\n",
    "para ver como performan."
   ]
  },
  {
   "cell_type": "markdown",
   "metadata": {},
   "source": [
    "### Dataset"
   ]
  },
  {
   "cell_type": "code",
   "execution_count": 1,
   "metadata": {},
   "outputs": [
    {
     "data": {
      "text/html": [
       "<style>.container { width:90% !important; }</style>"
      ],
      "text/plain": [
       "<IPython.core.display.HTML object>"
      ]
     },
     "metadata": {},
     "output_type": "display_data"
    }
   ],
   "source": [
    "### Aumentar el ancho del notebook\n",
    "from IPython.core.display import display, HTML\n",
    "display(HTML(\"<style>.container { width:90% !important; }</style>\"))"
   ]
  },
  {
   "cell_type": "code",
   "execution_count": 2,
   "metadata": {},
   "outputs": [],
   "source": [
    "%matplotlib inline\n",
    "import numpy as np\n",
    "import pandas as pd\n",
    "import matplotlib.pyplot as plt\n",
    "import seaborn as sb\n",
    "sb.set(rc={'figure.figsize':(10,6)})\n",
    "\n",
    "cols = ['service',\n",
    "        'sender_zipcode',\n",
    "        'receiver_zipcode',\n",
    "        'sender_state',\n",
    "        'receiver_state',\n",
    "        'shipment_type',\n",
    "        'quantity',\n",
    "        'status',\n",
    "        'date_created',\n",
    "        'date_sent',\n",
    "        'date_visit',\n",
    "        'target']\n",
    "cols_holidays = ['holiday', \n",
    "                 'description']\n",
    "data_path = './shipments_BR_201903.csv'\n",
    "holidays = './holidays.csv'"
   ]
  },
  {
   "cell_type": "markdown",
   "metadata": {},
   "source": [
    "#### Referencia de las columnas\n",
    "* **service**: Identificador unico que corresponde a un tipo de servicio de un correo en particular.\n",
    "* **sender_zipcode:** Código postal de quien envía el paquete (usualmente el vendedor).\n",
    "* **receiver_zipcode:** Código postal de quien recibe el paquete (usualmente el comprador).\n",
    "* **sender_state:** Nombre abreviado del estado de quien envía el paquete.\n",
    "* **receiver_state:** Nombre abreviado del estado de quien recibe el paquete.\n",
    "* **quantity:** Cantidad de items que tiene dentro el paquete.\n",
    "* **status:** Estado final del envío.\n",
    "* **date_created:** Fecha de compra de el o los items.\n",
    "* **date_sent:** Fecha en que el correo recibe el paquete.\n",
    "* **date_visit:** Fecha en que el correo entrega el paquete.\n",
    "* **target:** Cantidad de dias hábiles que tardó el correo en entregar el paquete desde que lo recibe.\n"
   ]
  },
  {
   "cell_type": "code",
   "execution_count": 3,
   "metadata": {},
   "outputs": [
    {
     "data": {
      "text/plain": [
       "(1000000, 12)"
      ]
     },
     "execution_count": 3,
     "metadata": {},
     "output_type": "execute_result"
    }
   ],
   "source": [
    "df = pd.read_csv(data_path, usecols=cols)\n",
    "df.shape"
   ]
  },
  {
   "cell_type": "code",
   "execution_count": 4,
   "metadata": {},
   "outputs": [
    {
     "data": {
      "text/html": [
       "<div>\n",
       "<style scoped>\n",
       "    .dataframe tbody tr th:only-of-type {\n",
       "        vertical-align: middle;\n",
       "    }\n",
       "\n",
       "    .dataframe tbody tr th {\n",
       "        vertical-align: top;\n",
       "    }\n",
       "\n",
       "    .dataframe thead th {\n",
       "        text-align: right;\n",
       "    }\n",
       "</style>\n",
       "<table border=\"1\" class=\"dataframe\">\n",
       "  <thead>\n",
       "    <tr style=\"text-align: right;\">\n",
       "      <th></th>\n",
       "      <th>sender_state</th>\n",
       "      <th>sender_zipcode</th>\n",
       "      <th>receiver_state</th>\n",
       "      <th>receiver_zipcode</th>\n",
       "      <th>shipment_type</th>\n",
       "      <th>quantity</th>\n",
       "      <th>service</th>\n",
       "      <th>status</th>\n",
       "      <th>date_created</th>\n",
       "      <th>date_sent</th>\n",
       "      <th>date_visit</th>\n",
       "      <th>target</th>\n",
       "    </tr>\n",
       "  </thead>\n",
       "  <tbody>\n",
       "    <tr>\n",
       "      <th>0</th>\n",
       "      <td>SP</td>\n",
       "      <td>3005</td>\n",
       "      <td>SP</td>\n",
       "      <td>5409</td>\n",
       "      <td>express</td>\n",
       "      <td>1</td>\n",
       "      <td>0</td>\n",
       "      <td>done</td>\n",
       "      <td>2019-03-04 00:00:00</td>\n",
       "      <td>2019-03-05 13:24:00</td>\n",
       "      <td>2019-03-07 18:01:00</td>\n",
       "      <td>2</td>\n",
       "    </tr>\n",
       "    <tr>\n",
       "      <th>1</th>\n",
       "      <td>SP</td>\n",
       "      <td>17052</td>\n",
       "      <td>MG</td>\n",
       "      <td>37750</td>\n",
       "      <td>standard</td>\n",
       "      <td>1</td>\n",
       "      <td>1</td>\n",
       "      <td>done</td>\n",
       "      <td>2019-03-19 00:00:00</td>\n",
       "      <td>2019-03-20 14:44:00</td>\n",
       "      <td>2019-03-27 10:21:00</td>\n",
       "      <td>5</td>\n",
       "    </tr>\n",
       "    <tr>\n",
       "      <th>2</th>\n",
       "      <td>SP</td>\n",
       "      <td>2033</td>\n",
       "      <td>SP</td>\n",
       "      <td>11040</td>\n",
       "      <td>express</td>\n",
       "      <td>1</td>\n",
       "      <td>0</td>\n",
       "      <td>done</td>\n",
       "      <td>2019-02-18 00:00:00</td>\n",
       "      <td>2019-02-21 15:08:00</td>\n",
       "      <td>2019-02-28 18:19:00</td>\n",
       "      <td>5</td>\n",
       "    </tr>\n",
       "    <tr>\n",
       "      <th>3</th>\n",
       "      <td>SP</td>\n",
       "      <td>13900</td>\n",
       "      <td>SP</td>\n",
       "      <td>18500</td>\n",
       "      <td>express</td>\n",
       "      <td>1</td>\n",
       "      <td>0</td>\n",
       "      <td>done</td>\n",
       "      <td>2019-03-09 00:00:00</td>\n",
       "      <td>2019-03-11 15:48:00</td>\n",
       "      <td>2019-03-12 13:33:00</td>\n",
       "      <td>1</td>\n",
       "    </tr>\n",
       "    <tr>\n",
       "      <th>4</th>\n",
       "      <td>SP</td>\n",
       "      <td>4361</td>\n",
       "      <td>RS</td>\n",
       "      <td>96810</td>\n",
       "      <td>express</td>\n",
       "      <td>1</td>\n",
       "      <td>0</td>\n",
       "      <td>done</td>\n",
       "      <td>2019-03-08 00:00:00</td>\n",
       "      <td>2019-03-12 08:19:00</td>\n",
       "      <td>2019-03-16 08:24:00</td>\n",
       "      <td>4</td>\n",
       "    </tr>\n",
       "  </tbody>\n",
       "</table>\n",
       "</div>"
      ],
      "text/plain": [
       "  sender_state  sender_zipcode receiver_state  receiver_zipcode shipment_type  \\\n",
       "0           SP            3005             SP              5409       express   \n",
       "1           SP           17052             MG             37750      standard   \n",
       "2           SP            2033             SP             11040       express   \n",
       "3           SP           13900             SP             18500       express   \n",
       "4           SP            4361             RS             96810       express   \n",
       "\n",
       "   quantity  service status         date_created            date_sent  \\\n",
       "0         1        0   done  2019-03-04 00:00:00  2019-03-05 13:24:00   \n",
       "1         1        1   done  2019-03-19 00:00:00  2019-03-20 14:44:00   \n",
       "2         1        0   done  2019-02-18 00:00:00  2019-02-21 15:08:00   \n",
       "3         1        0   done  2019-03-09 00:00:00  2019-03-11 15:48:00   \n",
       "4         1        0   done  2019-03-08 00:00:00  2019-03-12 08:19:00   \n",
       "\n",
       "            date_visit  target  \n",
       "0  2019-03-07 18:01:00       2  \n",
       "1  2019-03-27 10:21:00       5  \n",
       "2  2019-02-28 18:19:00       5  \n",
       "3  2019-03-12 13:33:00       1  \n",
       "4  2019-03-16 08:24:00       4  "
      ]
     },
     "execution_count": 4,
     "metadata": {},
     "output_type": "execute_result"
    }
   ],
   "source": [
    "df.head()"
   ]
  },
  {
   "cell_type": "code",
   "execution_count": 5,
   "metadata": {},
   "outputs": [],
   "source": [
    "# set seed for reproducibility\n",
    "np.random.seed(0)"
   ]
  },
  {
   "cell_type": "markdown",
   "metadata": {},
   "source": [
    "**Eliminamos datos inconsistentes:**\n",
    "\n",
    "Aplicamos curacion y limpieza de datos"
   ]
  },
  {
   "cell_type": "code",
   "execution_count": 6,
   "metadata": {},
   "outputs": [
    {
     "data": {
      "text/plain": [
       "(1000000, 12)"
      ]
     },
     "execution_count": 6,
     "metadata": {},
     "output_type": "execute_result"
    }
   ],
   "source": [
    "df_clean = df[(df['date_sent'] <= df['date_visit']) & (df['date_created'] <= df['date_sent']) & (df['date_created'] <= df['date_visit'])].copy()\n",
    "df.shape"
   ]
  },
  {
   "cell_type": "markdown",
   "metadata": {},
   "source": [
    "**Removemos outliers.**"
   ]
  },
  {
   "cell_type": "code",
   "execution_count": 7,
   "metadata": {},
   "outputs": [
    {
     "data": {
      "text/plain": [
       "(990370, 12)"
      ]
     },
     "execution_count": 7,
     "metadata": {},
     "output_type": "execute_result"
    }
   ],
   "source": [
    "df_clean = df_clean[df_clean['target'] < 23].copy()\n",
    "df_clean.shape"
   ]
  },
  {
   "cell_type": "code",
   "execution_count": 8,
   "metadata": {},
   "outputs": [
    {
     "data": {
      "text/html": [
       "<div>\n",
       "<style scoped>\n",
       "    .dataframe tbody tr th:only-of-type {\n",
       "        vertical-align: middle;\n",
       "    }\n",
       "\n",
       "    .dataframe tbody tr th {\n",
       "        vertical-align: top;\n",
       "    }\n",
       "\n",
       "    .dataframe thead th {\n",
       "        text-align: right;\n",
       "    }\n",
       "</style>\n",
       "<table border=\"1\" class=\"dataframe\">\n",
       "  <thead>\n",
       "    <tr style=\"text-align: right;\">\n",
       "      <th></th>\n",
       "      <th>sender_state</th>\n",
       "      <th>sender_zipcode</th>\n",
       "      <th>receiver_state</th>\n",
       "      <th>receiver_zipcode</th>\n",
       "      <th>shipment_type</th>\n",
       "      <th>quantity</th>\n",
       "      <th>service</th>\n",
       "      <th>status</th>\n",
       "      <th>date_created</th>\n",
       "      <th>date_sent</th>\n",
       "      <th>date_visit</th>\n",
       "      <th>target</th>\n",
       "    </tr>\n",
       "  </thead>\n",
       "  <tbody>\n",
       "    <tr>\n",
       "      <th>157105</th>\n",
       "      <td>SP</td>\n",
       "      <td>14405</td>\n",
       "      <td>MG</td>\n",
       "      <td>37706</td>\n",
       "      <td>standard</td>\n",
       "      <td>2</td>\n",
       "      <td>3</td>\n",
       "      <td>done</td>\n",
       "      <td>2019-03-13 00:00:00</td>\n",
       "      <td>2019-03-19 20:52:00</td>\n",
       "      <td>2019-03-22 11:00:00</td>\n",
       "      <td>3</td>\n",
       "    </tr>\n",
       "    <tr>\n",
       "      <th>374554</th>\n",
       "      <td>BA</td>\n",
       "      <td>40260</td>\n",
       "      <td>SE</td>\n",
       "      <td>49088</td>\n",
       "      <td>standard</td>\n",
       "      <td>1</td>\n",
       "      <td>1</td>\n",
       "      <td>done</td>\n",
       "      <td>2019-03-04 00:00:00</td>\n",
       "      <td>2019-03-06 15:32:00</td>\n",
       "      <td>2019-03-23 11:23:00</td>\n",
       "      <td>12</td>\n",
       "    </tr>\n",
       "    <tr>\n",
       "      <th>688694</th>\n",
       "      <td>SP</td>\n",
       "      <td>8061</td>\n",
       "      <td>DF</td>\n",
       "      <td>70236</td>\n",
       "      <td>express</td>\n",
       "      <td>1</td>\n",
       "      <td>0</td>\n",
       "      <td>done</td>\n",
       "      <td>2019-03-15 00:00:00</td>\n",
       "      <td>2019-03-15 16:04:00</td>\n",
       "      <td>2019-03-18 12:00:00</td>\n",
       "      <td>1</td>\n",
       "    </tr>\n",
       "    <tr>\n",
       "      <th>265381</th>\n",
       "      <td>SP</td>\n",
       "      <td>3118</td>\n",
       "      <td>BA</td>\n",
       "      <td>48455</td>\n",
       "      <td>standard</td>\n",
       "      <td>3</td>\n",
       "      <td>1</td>\n",
       "      <td>done</td>\n",
       "      <td>2019-03-10 00:00:00</td>\n",
       "      <td>2019-03-11 14:58:00</td>\n",
       "      <td>2019-03-27 07:56:00</td>\n",
       "      <td>12</td>\n",
       "    </tr>\n",
       "    <tr>\n",
       "      <th>955415</th>\n",
       "      <td>SP</td>\n",
       "      <td>14402</td>\n",
       "      <td>DF</td>\n",
       "      <td>71503</td>\n",
       "      <td>standard</td>\n",
       "      <td>1</td>\n",
       "      <td>4</td>\n",
       "      <td>done</td>\n",
       "      <td>2019-03-01 00:00:00</td>\n",
       "      <td>2019-03-07 03:55:36</td>\n",
       "      <td>2019-03-11 16:39:00</td>\n",
       "      <td>1</td>\n",
       "    </tr>\n",
       "  </tbody>\n",
       "</table>\n",
       "</div>"
      ],
      "text/plain": [
       "       sender_state  sender_zipcode receiver_state  receiver_zipcode  \\\n",
       "157105           SP           14405             MG             37706   \n",
       "374554           BA           40260             SE             49088   \n",
       "688694           SP            8061             DF             70236   \n",
       "265381           SP            3118             BA             48455   \n",
       "955415           SP           14402             DF             71503   \n",
       "\n",
       "       shipment_type  quantity  service status         date_created  \\\n",
       "157105      standard         2        3   done  2019-03-13 00:00:00   \n",
       "374554      standard         1        1   done  2019-03-04 00:00:00   \n",
       "688694       express         1        0   done  2019-03-15 00:00:00   \n",
       "265381      standard         3        1   done  2019-03-10 00:00:00   \n",
       "955415      standard         1        4   done  2019-03-01 00:00:00   \n",
       "\n",
       "                  date_sent           date_visit  target  \n",
       "157105  2019-03-19 20:52:00  2019-03-22 11:00:00       3  \n",
       "374554  2019-03-06 15:32:00  2019-03-23 11:23:00      12  \n",
       "688694  2019-03-15 16:04:00  2019-03-18 12:00:00       1  \n",
       "265381  2019-03-11 14:58:00  2019-03-27 07:56:00      12  \n",
       "955415  2019-03-07 03:55:36  2019-03-11 16:39:00       1  "
      ]
     },
     "execution_count": 8,
     "metadata": {},
     "output_type": "execute_result"
    }
   ],
   "source": [
    "df.sample(5)"
   ]
  },
  {
   "cell_type": "code",
   "execution_count": 9,
   "metadata": {},
   "outputs": [
    {
     "data": {
      "text/plain": [
       "sender_state        object\n",
       "sender_zipcode       int64\n",
       "receiver_state      object\n",
       "receiver_zipcode     int64\n",
       "shipment_type       object\n",
       "quantity             int64\n",
       "service              int64\n",
       "status              object\n",
       "date_created        object\n",
       "date_sent           object\n",
       "date_visit          object\n",
       "target               int64\n",
       "dtype: object"
      ]
     },
     "execution_count": 9,
     "metadata": {},
     "output_type": "execute_result"
    }
   ],
   "source": [
    "df.dtypes"
   ]
  },
  {
   "cell_type": "code",
   "execution_count": 10,
   "metadata": {},
   "outputs": [
    {
     "data": {
      "text/html": [
       "<div>\n",
       "<style scoped>\n",
       "    .dataframe tbody tr th:only-of-type {\n",
       "        vertical-align: middle;\n",
       "    }\n",
       "\n",
       "    .dataframe tbody tr th {\n",
       "        vertical-align: top;\n",
       "    }\n",
       "\n",
       "    .dataframe thead th {\n",
       "        text-align: right;\n",
       "    }\n",
       "</style>\n",
       "<table border=\"1\" class=\"dataframe\">\n",
       "  <thead>\n",
       "    <tr style=\"text-align: right;\">\n",
       "      <th></th>\n",
       "      <th>sender_zipcode</th>\n",
       "      <th>receiver_zipcode</th>\n",
       "      <th>quantity</th>\n",
       "      <th>service</th>\n",
       "      <th>target</th>\n",
       "    </tr>\n",
       "  </thead>\n",
       "  <tbody>\n",
       "    <tr>\n",
       "      <th>count</th>\n",
       "      <td>1000000.000000</td>\n",
       "      <td>1000000.000000</td>\n",
       "      <td>1000000.000000</td>\n",
       "      <td>1000000.000000</td>\n",
       "      <td>1000000.000000</td>\n",
       "    </tr>\n",
       "    <tr>\n",
       "      <th>mean</th>\n",
       "      <td>22637.975896</td>\n",
       "      <td>41650.306365</td>\n",
       "      <td>1.277814</td>\n",
       "      <td>1.182677</td>\n",
       "      <td>6.021577</td>\n",
       "    </tr>\n",
       "    <tr>\n",
       "      <th>std</th>\n",
       "      <td>27817.028435</td>\n",
       "      <td>30952.352631</td>\n",
       "      <td>0.661583</td>\n",
       "      <td>1.486557</td>\n",
       "      <td>5.157973</td>\n",
       "    </tr>\n",
       "    <tr>\n",
       "      <th>min</th>\n",
       "      <td>1001.000000</td>\n",
       "      <td>1001.000000</td>\n",
       "      <td>1.000000</td>\n",
       "      <td>0.000000</td>\n",
       "      <td>0.000000</td>\n",
       "    </tr>\n",
       "    <tr>\n",
       "      <th>25%</th>\n",
       "      <td>4836.000000</td>\n",
       "      <td>13465.000000</td>\n",
       "      <td>1.000000</td>\n",
       "      <td>0.000000</td>\n",
       "      <td>2.000000</td>\n",
       "    </tr>\n",
       "    <tr>\n",
       "      <th>50%</th>\n",
       "      <td>12091.000000</td>\n",
       "      <td>35164.000000</td>\n",
       "      <td>1.000000</td>\n",
       "      <td>1.000000</td>\n",
       "      <td>4.000000</td>\n",
       "    </tr>\n",
       "    <tr>\n",
       "      <th>75%</th>\n",
       "      <td>23050.000000</td>\n",
       "      <td>72308.000000</td>\n",
       "      <td>1.000000</td>\n",
       "      <td>1.000000</td>\n",
       "      <td>9.000000</td>\n",
       "    </tr>\n",
       "    <tr>\n",
       "      <th>max</th>\n",
       "      <td>99990.000000</td>\n",
       "      <td>99990.000000</td>\n",
       "      <td>5.000000</td>\n",
       "      <td>11.000000</td>\n",
       "      <td>118.000000</td>\n",
       "    </tr>\n",
       "  </tbody>\n",
       "</table>\n",
       "</div>"
      ],
      "text/plain": [
       "       sender_zipcode  receiver_zipcode        quantity         service  \\\n",
       "count  1000000.000000    1000000.000000  1000000.000000  1000000.000000   \n",
       "mean     22637.975896      41650.306365        1.277814        1.182677   \n",
       "std      27817.028435      30952.352631        0.661583        1.486557   \n",
       "min       1001.000000       1001.000000        1.000000        0.000000   \n",
       "25%       4836.000000      13465.000000        1.000000        0.000000   \n",
       "50%      12091.000000      35164.000000        1.000000        1.000000   \n",
       "75%      23050.000000      72308.000000        1.000000        1.000000   \n",
       "max      99990.000000      99990.000000        5.000000       11.000000   \n",
       "\n",
       "               target  \n",
       "count  1000000.000000  \n",
       "mean         6.021577  \n",
       "std          5.157973  \n",
       "min          0.000000  \n",
       "25%          2.000000  \n",
       "50%          4.000000  \n",
       "75%          9.000000  \n",
       "max        118.000000  "
      ]
     },
     "execution_count": 10,
     "metadata": {},
     "output_type": "execute_result"
    }
   ],
   "source": [
    "df.describe()"
   ]
  },
  {
   "cell_type": "markdown",
   "metadata": {},
   "source": [
    "####  Implementación\n",
    "Solo vamos a diferenciar dos tipos de envíos:\n",
    "​ rápidos: un envío es rápido si llega antes de 3 días hábiles \n",
    "​ y lentos: si llega después de 3 días hábiles.\n",
    "Esto nos reduce los problemas de clasificación a solo 2 clases.\n"
   ]
  },
  {
   "cell_type": "markdown",
   "metadata": {},
   "source": [
    "#### Definiciones básicas:\n",
    "1- Definir una métrica binaria para evaluar los modelos\n",
    "\n"
   ]
  },
  {
   "cell_type": "markdown",
   "metadata": {},
   "source": [
    "#### En esta metrica faltaria ver como asegurar que los unos y los ceros del real y del calculado representan lo mismo"
   ]
  },
  {
   "cell_type": "code",
   "execution_count": 11,
   "metadata": {},
   "outputs": [],
   "source": [
    "# defino una metrica\n",
    "def metrica(calculado, real):\n",
    "    cont = 0\n",
    "    for i in range(len(real)):\n",
    "        if (calculado[i] == real[i]):\n",
    "            cont +=1\n",
    "    \n",
    "    return cont/len(real)"
   ]
  },
  {
   "cell_type": "markdown",
   "metadata": {},
   "source": [
    "2- Diseñar un modelo -baseline- para los envíos de SP a SP, como el modelo más\n",
    "simple posible. Para esto no necesitamos machine learning, solo proponer una\n",
    "heurística a partir de los datos observados en los prácticos de análisis\n"
   ]
  },
  {
   "cell_type": "code",
   "execution_count": 12,
   "metadata": {
    "scrolled": true
   },
   "outputs": [
    {
     "data": {
      "text/html": [
       "<div>\n",
       "<style scoped>\n",
       "    .dataframe tbody tr th:only-of-type {\n",
       "        vertical-align: middle;\n",
       "    }\n",
       "\n",
       "    .dataframe tbody tr th {\n",
       "        vertical-align: top;\n",
       "    }\n",
       "\n",
       "    .dataframe thead th {\n",
       "        text-align: right;\n",
       "    }\n",
       "</style>\n",
       "<table border=\"1\" class=\"dataframe\">\n",
       "  <thead>\n",
       "    <tr style=\"text-align: right;\">\n",
       "      <th></th>\n",
       "      <th>sender_state</th>\n",
       "      <th>sender_zipcode</th>\n",
       "      <th>receiver_state</th>\n",
       "      <th>receiver_zipcode</th>\n",
       "      <th>shipment_type</th>\n",
       "      <th>quantity</th>\n",
       "      <th>service</th>\n",
       "      <th>status</th>\n",
       "      <th>date_created</th>\n",
       "      <th>date_sent</th>\n",
       "      <th>date_visit</th>\n",
       "      <th>target</th>\n",
       "    </tr>\n",
       "  </thead>\n",
       "  <tbody>\n",
       "    <tr>\n",
       "      <th>0</th>\n",
       "      <td>SP</td>\n",
       "      <td>3005</td>\n",
       "      <td>SP</td>\n",
       "      <td>5409</td>\n",
       "      <td>express</td>\n",
       "      <td>1</td>\n",
       "      <td>0</td>\n",
       "      <td>done</td>\n",
       "      <td>2019-03-04 00:00:00</td>\n",
       "      <td>2019-03-05 13:24:00</td>\n",
       "      <td>2019-03-07 18:01:00</td>\n",
       "      <td>2</td>\n",
       "    </tr>\n",
       "    <tr>\n",
       "      <th>2</th>\n",
       "      <td>SP</td>\n",
       "      <td>2033</td>\n",
       "      <td>SP</td>\n",
       "      <td>11040</td>\n",
       "      <td>express</td>\n",
       "      <td>1</td>\n",
       "      <td>0</td>\n",
       "      <td>done</td>\n",
       "      <td>2019-02-18 00:00:00</td>\n",
       "      <td>2019-02-21 15:08:00</td>\n",
       "      <td>2019-02-28 18:19:00</td>\n",
       "      <td>5</td>\n",
       "    </tr>\n",
       "    <tr>\n",
       "      <th>3</th>\n",
       "      <td>SP</td>\n",
       "      <td>13900</td>\n",
       "      <td>SP</td>\n",
       "      <td>18500</td>\n",
       "      <td>express</td>\n",
       "      <td>1</td>\n",
       "      <td>0</td>\n",
       "      <td>done</td>\n",
       "      <td>2019-03-09 00:00:00</td>\n",
       "      <td>2019-03-11 15:48:00</td>\n",
       "      <td>2019-03-12 13:33:00</td>\n",
       "      <td>1</td>\n",
       "    </tr>\n",
       "    <tr>\n",
       "      <th>8</th>\n",
       "      <td>SP</td>\n",
       "      <td>2313</td>\n",
       "      <td>SP</td>\n",
       "      <td>4165</td>\n",
       "      <td>express</td>\n",
       "      <td>2</td>\n",
       "      <td>0</td>\n",
       "      <td>done</td>\n",
       "      <td>2019-02-28 00:00:00</td>\n",
       "      <td>2019-03-01 14:35:00</td>\n",
       "      <td>2019-03-04 14:22:00</td>\n",
       "      <td>1</td>\n",
       "    </tr>\n",
       "    <tr>\n",
       "      <th>10</th>\n",
       "      <td>SP</td>\n",
       "      <td>11015</td>\n",
       "      <td>SP</td>\n",
       "      <td>15025</td>\n",
       "      <td>express</td>\n",
       "      <td>2</td>\n",
       "      <td>3</td>\n",
       "      <td>done</td>\n",
       "      <td>2019-02-24 00:00:00</td>\n",
       "      <td>2019-03-04 23:54:00</td>\n",
       "      <td>2019-03-11 22:00:00</td>\n",
       "      <td>4</td>\n",
       "    </tr>\n",
       "  </tbody>\n",
       "</table>\n",
       "</div>"
      ],
      "text/plain": [
       "   sender_state  sender_zipcode receiver_state  receiver_zipcode  \\\n",
       "0            SP            3005             SP              5409   \n",
       "2            SP            2033             SP             11040   \n",
       "3            SP           13900             SP             18500   \n",
       "8            SP            2313             SP              4165   \n",
       "10           SP           11015             SP             15025   \n",
       "\n",
       "   shipment_type  quantity  service status         date_created  \\\n",
       "0        express         1        0   done  2019-03-04 00:00:00   \n",
       "2        express         1        0   done  2019-02-18 00:00:00   \n",
       "3        express         1        0   done  2019-03-09 00:00:00   \n",
       "8        express         2        0   done  2019-02-28 00:00:00   \n",
       "10       express         2        3   done  2019-02-24 00:00:00   \n",
       "\n",
       "              date_sent           date_visit  target  \n",
       "0   2019-03-05 13:24:00  2019-03-07 18:01:00       2  \n",
       "2   2019-02-21 15:08:00  2019-02-28 18:19:00       5  \n",
       "3   2019-03-11 15:48:00  2019-03-12 13:33:00       1  \n",
       "8   2019-03-01 14:35:00  2019-03-04 14:22:00       1  \n",
       "10  2019-03-04 23:54:00  2019-03-11 22:00:00       4  "
      ]
     },
     "execution_count": 12,
     "metadata": {},
     "output_type": "execute_result"
    }
   ],
   "source": [
    "sp_sp = df_clean[(df_clean['sender_state'] == 'SP') & (df_clean['receiver_state'] == 'SP')]\n",
    "sp_sp.head()"
   ]
  },
  {
   "cell_type": "code",
   "execution_count": 13,
   "metadata": {},
   "outputs": [
    {
     "data": {
      "text/plain": [
       "(278081, 12)"
      ]
     },
     "execution_count": 13,
     "metadata": {},
     "output_type": "execute_result"
    }
   ],
   "source": [
    "sp_sp.shape"
   ]
  },
  {
   "cell_type": "code",
   "execution_count": 14,
   "metadata": {},
   "outputs": [],
   "source": [
    "# but it couldnt be useful for you depending on your approach)\n",
    "from sklearn.model_selection import train_test_split\n",
    "\n",
    "\n",
    "# División entre instancias y etiquetas\n",
    "X = sp_sp.drop('target', axis=1)\n",
    "y = sp_sp['target']\n",
    "\n",
    "X_train, X_test, y_train, y_test = train_test_split(X, y, test_size=0.2, random_state=42)"
   ]
  },
  {
   "cell_type": "code",
   "execution_count": 15,
   "metadata": {},
   "outputs": [
    {
     "data": {
      "text/html": [
       "<div>\n",
       "<style scoped>\n",
       "    .dataframe tbody tr th:only-of-type {\n",
       "        vertical-align: middle;\n",
       "    }\n",
       "\n",
       "    .dataframe tbody tr th {\n",
       "        vertical-align: top;\n",
       "    }\n",
       "\n",
       "    .dataframe thead th {\n",
       "        text-align: right;\n",
       "    }\n",
       "</style>\n",
       "<table border=\"1\" class=\"dataframe\">\n",
       "  <thead>\n",
       "    <tr style=\"text-align: right;\">\n",
       "      <th></th>\n",
       "      <th>sender_state</th>\n",
       "      <th>sender_zipcode</th>\n",
       "      <th>receiver_state</th>\n",
       "      <th>receiver_zipcode</th>\n",
       "      <th>shipment_type</th>\n",
       "      <th>quantity</th>\n",
       "      <th>service</th>\n",
       "      <th>status</th>\n",
       "      <th>date_created</th>\n",
       "      <th>date_sent</th>\n",
       "      <th>date_visit</th>\n",
       "    </tr>\n",
       "  </thead>\n",
       "  <tbody>\n",
       "    <tr>\n",
       "      <th>776089</th>\n",
       "      <td>SP</td>\n",
       "      <td>18010</td>\n",
       "      <td>SP</td>\n",
       "      <td>5712</td>\n",
       "      <td>express</td>\n",
       "      <td>1</td>\n",
       "      <td>0</td>\n",
       "      <td>done</td>\n",
       "      <td>2019-03-19 00:00:00</td>\n",
       "      <td>2019-03-20 17:03:00</td>\n",
       "      <td>2019-03-22 12:05:00</td>\n",
       "    </tr>\n",
       "    <tr>\n",
       "      <th>383341</th>\n",
       "      <td>SP</td>\n",
       "      <td>18150</td>\n",
       "      <td>SP</td>\n",
       "      <td>6775</td>\n",
       "      <td>standard</td>\n",
       "      <td>2</td>\n",
       "      <td>1</td>\n",
       "      <td>done</td>\n",
       "      <td>2019-03-06 00:00:00</td>\n",
       "      <td>2019-03-07 14:17:00</td>\n",
       "      <td>2019-03-16 10:35:00</td>\n",
       "    </tr>\n",
       "    <tr>\n",
       "      <th>893527</th>\n",
       "      <td>SP</td>\n",
       "      <td>6422</td>\n",
       "      <td>SP</td>\n",
       "      <td>16290</td>\n",
       "      <td>express</td>\n",
       "      <td>1</td>\n",
       "      <td>0</td>\n",
       "      <td>done</td>\n",
       "      <td>2019-03-11 00:00:00</td>\n",
       "      <td>2019-03-13 00:09:27</td>\n",
       "      <td>2019-03-18 15:41:00</td>\n",
       "    </tr>\n",
       "    <tr>\n",
       "      <th>746617</th>\n",
       "      <td>SP</td>\n",
       "      <td>6622</td>\n",
       "      <td>SP</td>\n",
       "      <td>11740</td>\n",
       "      <td>standard</td>\n",
       "      <td>1</td>\n",
       "      <td>1</td>\n",
       "      <td>done</td>\n",
       "      <td>2019-03-04 00:00:00</td>\n",
       "      <td>2019-03-06 10:53:00</td>\n",
       "      <td>2019-03-12 12:32:00</td>\n",
       "    </tr>\n",
       "    <tr>\n",
       "      <th>696614</th>\n",
       "      <td>SP</td>\n",
       "      <td>13324</td>\n",
       "      <td>SP</td>\n",
       "      <td>5763</td>\n",
       "      <td>express</td>\n",
       "      <td>1</td>\n",
       "      <td>0</td>\n",
       "      <td>done</td>\n",
       "      <td>2019-03-24 00:00:00</td>\n",
       "      <td>2019-03-25 14:37:00</td>\n",
       "      <td>2019-03-26 18:42:00</td>\n",
       "    </tr>\n",
       "  </tbody>\n",
       "</table>\n",
       "</div>"
      ],
      "text/plain": [
       "       sender_state  sender_zipcode receiver_state  receiver_zipcode  \\\n",
       "776089           SP           18010             SP              5712   \n",
       "383341           SP           18150             SP              6775   \n",
       "893527           SP            6422             SP             16290   \n",
       "746617           SP            6622             SP             11740   \n",
       "696614           SP           13324             SP              5763   \n",
       "\n",
       "       shipment_type  quantity  service status         date_created  \\\n",
       "776089       express         1        0   done  2019-03-19 00:00:00   \n",
       "383341      standard         2        1   done  2019-03-06 00:00:00   \n",
       "893527       express         1        0   done  2019-03-11 00:00:00   \n",
       "746617      standard         1        1   done  2019-03-04 00:00:00   \n",
       "696614       express         1        0   done  2019-03-24 00:00:00   \n",
       "\n",
       "                  date_sent           date_visit  \n",
       "776089  2019-03-20 17:03:00  2019-03-22 12:05:00  \n",
       "383341  2019-03-07 14:17:00  2019-03-16 10:35:00  \n",
       "893527  2019-03-13 00:09:27  2019-03-18 15:41:00  \n",
       "746617  2019-03-06 10:53:00  2019-03-12 12:32:00  \n",
       "696614  2019-03-25 14:37:00  2019-03-26 18:42:00  "
      ]
     },
     "execution_count": 15,
     "metadata": {},
     "output_type": "execute_result"
    }
   ],
   "source": [
    "X_train.head()"
   ]
  },
  {
   "cell_type": "code",
   "execution_count": 16,
   "metadata": {},
   "outputs": [
    {
     "data": {
      "text/plain": [
       "(222464, 11)"
      ]
     },
     "execution_count": 16,
     "metadata": {},
     "output_type": "execute_result"
    }
   ],
   "source": [
    "X_train.shape"
   ]
  },
  {
   "cell_type": "code",
   "execution_count": 17,
   "metadata": {},
   "outputs": [
    {
     "data": {
      "text/plain": [
       "776089    2\n",
       "383341    6\n",
       "893527    3\n",
       "746617    3\n",
       "696614    1\n",
       "Name: target, dtype: int64"
      ]
     },
     "execution_count": 17,
     "metadata": {},
     "output_type": "execute_result"
    }
   ],
   "source": [
    "y_train.head()"
   ]
  },
  {
   "cell_type": "code",
   "execution_count": 18,
   "metadata": {},
   "outputs": [
    {
     "data": {
      "text/plain": [
       "(222464,)"
      ]
     },
     "execution_count": 18,
     "metadata": {},
     "output_type": "execute_result"
    }
   ],
   "source": [
    "y_train.shape"
   ]
  },
  {
   "cell_type": "code",
   "execution_count": 19,
   "metadata": {},
   "outputs": [
    {
     "data": {
      "text/html": [
       "<div>\n",
       "<style scoped>\n",
       "    .dataframe tbody tr th:only-of-type {\n",
       "        vertical-align: middle;\n",
       "    }\n",
       "\n",
       "    .dataframe tbody tr th {\n",
       "        vertical-align: top;\n",
       "    }\n",
       "\n",
       "    .dataframe thead th {\n",
       "        text-align: right;\n",
       "    }\n",
       "</style>\n",
       "<table border=\"1\" class=\"dataframe\">\n",
       "  <thead>\n",
       "    <tr style=\"text-align: right;\">\n",
       "      <th></th>\n",
       "      <th>sender_state</th>\n",
       "      <th>sender_zipcode</th>\n",
       "      <th>receiver_state</th>\n",
       "      <th>receiver_zipcode</th>\n",
       "      <th>shipment_type</th>\n",
       "      <th>quantity</th>\n",
       "      <th>service</th>\n",
       "      <th>status</th>\n",
       "      <th>date_created</th>\n",
       "      <th>date_sent</th>\n",
       "      <th>date_visit</th>\n",
       "    </tr>\n",
       "  </thead>\n",
       "  <tbody>\n",
       "    <tr>\n",
       "      <th>68262</th>\n",
       "      <td>SP</td>\n",
       "      <td>15800</td>\n",
       "      <td>SP</td>\n",
       "      <td>13304</td>\n",
       "      <td>express</td>\n",
       "      <td>1</td>\n",
       "      <td>0</td>\n",
       "      <td>done</td>\n",
       "      <td>2019-03-04 00:00:00</td>\n",
       "      <td>2019-03-07 19:15:30</td>\n",
       "      <td>2019-03-11 17:36:00</td>\n",
       "    </tr>\n",
       "    <tr>\n",
       "      <th>269933</th>\n",
       "      <td>SP</td>\n",
       "      <td>12232</td>\n",
       "      <td>SP</td>\n",
       "      <td>12237</td>\n",
       "      <td>express</td>\n",
       "      <td>1</td>\n",
       "      <td>0</td>\n",
       "      <td>done</td>\n",
       "      <td>2019-03-07 00:00:00</td>\n",
       "      <td>2019-03-08 15:40:00</td>\n",
       "      <td>2019-03-11 12:40:00</td>\n",
       "    </tr>\n",
       "    <tr>\n",
       "      <th>206944</th>\n",
       "      <td>SP</td>\n",
       "      <td>1009</td>\n",
       "      <td>SP</td>\n",
       "      <td>6852</td>\n",
       "      <td>express</td>\n",
       "      <td>1</td>\n",
       "      <td>0</td>\n",
       "      <td>done</td>\n",
       "      <td>2019-02-24 00:00:00</td>\n",
       "      <td>2019-02-25 11:13:00</td>\n",
       "      <td>2019-03-06 12:40:00</td>\n",
       "    </tr>\n",
       "    <tr>\n",
       "      <th>422707</th>\n",
       "      <td>SP</td>\n",
       "      <td>9890</td>\n",
       "      <td>SP</td>\n",
       "      <td>13974</td>\n",
       "      <td>standard</td>\n",
       "      <td>1</td>\n",
       "      <td>3</td>\n",
       "      <td>done</td>\n",
       "      <td>2019-03-04 00:00:00</td>\n",
       "      <td>2019-03-07 04:32:00</td>\n",
       "      <td>2019-03-12 14:00:00</td>\n",
       "    </tr>\n",
       "    <tr>\n",
       "      <th>415678</th>\n",
       "      <td>SP</td>\n",
       "      <td>4764</td>\n",
       "      <td>SP</td>\n",
       "      <td>13940</td>\n",
       "      <td>standard</td>\n",
       "      <td>1</td>\n",
       "      <td>2</td>\n",
       "      <td>done</td>\n",
       "      <td>2019-02-21 00:00:00</td>\n",
       "      <td>2019-02-26 23:24:11</td>\n",
       "      <td>2019-02-28 12:24:00</td>\n",
       "    </tr>\n",
       "  </tbody>\n",
       "</table>\n",
       "</div>"
      ],
      "text/plain": [
       "       sender_state  sender_zipcode receiver_state  receiver_zipcode  \\\n",
       "68262            SP           15800             SP             13304   \n",
       "269933           SP           12232             SP             12237   \n",
       "206944           SP            1009             SP              6852   \n",
       "422707           SP            9890             SP             13974   \n",
       "415678           SP            4764             SP             13940   \n",
       "\n",
       "       shipment_type  quantity  service status         date_created  \\\n",
       "68262        express         1        0   done  2019-03-04 00:00:00   \n",
       "269933       express         1        0   done  2019-03-07 00:00:00   \n",
       "206944       express         1        0   done  2019-02-24 00:00:00   \n",
       "422707      standard         1        3   done  2019-03-04 00:00:00   \n",
       "415678      standard         1        2   done  2019-02-21 00:00:00   \n",
       "\n",
       "                  date_sent           date_visit  \n",
       "68262   2019-03-07 19:15:30  2019-03-11 17:36:00  \n",
       "269933  2019-03-08 15:40:00  2019-03-11 12:40:00  \n",
       "206944  2019-02-25 11:13:00  2019-03-06 12:40:00  \n",
       "422707  2019-03-07 04:32:00  2019-03-12 14:00:00  \n",
       "415678  2019-02-26 23:24:11  2019-02-28 12:24:00  "
      ]
     },
     "execution_count": 19,
     "metadata": {},
     "output_type": "execute_result"
    }
   ],
   "source": [
    "X_test.head()"
   ]
  },
  {
   "cell_type": "code",
   "execution_count": 20,
   "metadata": {
    "scrolled": true
   },
   "outputs": [
    {
     "data": {
      "text/plain": [
       "(55617, 11)"
      ]
     },
     "execution_count": 20,
     "metadata": {},
     "output_type": "execute_result"
    }
   ],
   "source": [
    "X_test.shape"
   ]
  },
  {
   "cell_type": "markdown",
   "metadata": {},
   "source": [
    "#### Falta hacer el modelo, esta separado en datos para entrenar y validar "
   ]
  },
  {
   "cell_type": "markdown",
   "metadata": {},
   "source": [
    "3- Calcular la métrica y la matriz de confusión para el baseline"
   ]
  },
  {
   "cell_type": "markdown",
   "metadata": {},
   "source": [
    "#### no puedo calcular las metricas porque no tengo el modelo"
   ]
  },
  {
   "cell_type": "code",
   "execution_count": null,
   "metadata": {},
   "outputs": [],
   "source": []
  },
  {
   "cell_type": "code",
   "execution_count": null,
   "metadata": {},
   "outputs": [],
   "source": []
  },
  {
   "cell_type": "markdown",
   "metadata": {},
   "source": [
    "#### Preparación de los features:\n",
    "4- Con la intención de salvar las rutas poco representadas, implementar una codificación para los features:  sender_zipcode y  receiver_zipcode\n",
    "\n"
   ]
  },
  {
   "cell_type": "markdown",
   "metadata": {},
   "source": [
    "#### no entendi bien que hay que hacer"
   ]
  },
  {
   "cell_type": "markdown",
   "metadata": {},
   "source": [
    "5- Seleccionar un conjunto de features para entrenar modelos de machine learning"
   ]
  },
  {
   "cell_type": "code",
   "execution_count": 21,
   "metadata": {},
   "outputs": [
    {
     "data": {
      "text/html": [
       "<div>\n",
       "<style scoped>\n",
       "    .dataframe tbody tr th:only-of-type {\n",
       "        vertical-align: middle;\n",
       "    }\n",
       "\n",
       "    .dataframe tbody tr th {\n",
       "        vertical-align: top;\n",
       "    }\n",
       "\n",
       "    .dataframe thead th {\n",
       "        text-align: right;\n",
       "    }\n",
       "</style>\n",
       "<table border=\"1\" class=\"dataframe\">\n",
       "  <thead>\n",
       "    <tr style=\"text-align: right;\">\n",
       "      <th></th>\n",
       "      <th>sender_zipcode</th>\n",
       "      <th>receiver_zipcode</th>\n",
       "      <th>quantity</th>\n",
       "      <th>service</th>\n",
       "      <th>target</th>\n",
       "    </tr>\n",
       "  </thead>\n",
       "  <tbody>\n",
       "    <tr>\n",
       "      <th>sender_zipcode</th>\n",
       "      <td>1.000000</td>\n",
       "      <td>0.102486</td>\n",
       "      <td>0.001460</td>\n",
       "      <td>-0.125616</td>\n",
       "      <td>0.167725</td>\n",
       "    </tr>\n",
       "    <tr>\n",
       "      <th>receiver_zipcode</th>\n",
       "      <td>0.102486</td>\n",
       "      <td>1.000000</td>\n",
       "      <td>-0.000603</td>\n",
       "      <td>0.006570</td>\n",
       "      <td>0.375070</td>\n",
       "    </tr>\n",
       "    <tr>\n",
       "      <th>quantity</th>\n",
       "      <td>0.001460</td>\n",
       "      <td>-0.000603</td>\n",
       "      <td>1.000000</td>\n",
       "      <td>-0.000769</td>\n",
       "      <td>-0.000437</td>\n",
       "    </tr>\n",
       "    <tr>\n",
       "      <th>service</th>\n",
       "      <td>-0.125616</td>\n",
       "      <td>0.006570</td>\n",
       "      <td>-0.000769</td>\n",
       "      <td>1.000000</td>\n",
       "      <td>-0.078810</td>\n",
       "    </tr>\n",
       "    <tr>\n",
       "      <th>target</th>\n",
       "      <td>0.167725</td>\n",
       "      <td>0.375070</td>\n",
       "      <td>-0.000437</td>\n",
       "      <td>-0.078810</td>\n",
       "      <td>1.000000</td>\n",
       "    </tr>\n",
       "  </tbody>\n",
       "</table>\n",
       "</div>"
      ],
      "text/plain": [
       "                  sender_zipcode  receiver_zipcode  quantity   service  \\\n",
       "sender_zipcode          1.000000          0.102486  0.001460 -0.125616   \n",
       "receiver_zipcode        0.102486          1.000000 -0.000603  0.006570   \n",
       "quantity                0.001460         -0.000603  1.000000 -0.000769   \n",
       "service                -0.125616          0.006570 -0.000769  1.000000   \n",
       "target                  0.167725          0.375070 -0.000437 -0.078810   \n",
       "\n",
       "                    target  \n",
       "sender_zipcode    0.167725  \n",
       "receiver_zipcode  0.375070  \n",
       "quantity         -0.000437  \n",
       "service          -0.078810  \n",
       "target            1.000000  "
      ]
     },
     "execution_count": 21,
     "metadata": {},
     "output_type": "execute_result"
    }
   ],
   "source": [
    "df_clean.corr(method=  'pearson')"
   ]
  },
  {
   "cell_type": "code",
   "execution_count": 22,
   "metadata": {},
   "outputs": [
    {
     "data": {
      "text/html": [
       "<div>\n",
       "<style scoped>\n",
       "    .dataframe tbody tr th:only-of-type {\n",
       "        vertical-align: middle;\n",
       "    }\n",
       "\n",
       "    .dataframe tbody tr th {\n",
       "        vertical-align: top;\n",
       "    }\n",
       "\n",
       "    .dataframe thead th {\n",
       "        text-align: right;\n",
       "    }\n",
       "</style>\n",
       "<table border=\"1\" class=\"dataframe\">\n",
       "  <thead>\n",
       "    <tr style=\"text-align: right;\">\n",
       "      <th></th>\n",
       "      <th>sender_zipcode</th>\n",
       "      <th>receiver_zipcode</th>\n",
       "      <th>quantity</th>\n",
       "      <th>service</th>\n",
       "      <th>target</th>\n",
       "    </tr>\n",
       "  </thead>\n",
       "  <tbody>\n",
       "    <tr>\n",
       "      <th>sender_zipcode</th>\n",
       "      <td>1.000000</td>\n",
       "      <td>0.063768</td>\n",
       "      <td>0.000968</td>\n",
       "      <td>0.018325</td>\n",
       "      <td>0.152912</td>\n",
       "    </tr>\n",
       "    <tr>\n",
       "      <th>receiver_zipcode</th>\n",
       "      <td>0.063768</td>\n",
       "      <td>1.000000</td>\n",
       "      <td>-0.000695</td>\n",
       "      <td>0.147060</td>\n",
       "      <td>0.321561</td>\n",
       "    </tr>\n",
       "    <tr>\n",
       "      <th>quantity</th>\n",
       "      <td>0.000968</td>\n",
       "      <td>-0.000695</td>\n",
       "      <td>1.000000</td>\n",
       "      <td>-0.001050</td>\n",
       "      <td>-0.000887</td>\n",
       "    </tr>\n",
       "    <tr>\n",
       "      <th>service</th>\n",
       "      <td>0.018325</td>\n",
       "      <td>0.147060</td>\n",
       "      <td>-0.001050</td>\n",
       "      <td>1.000000</td>\n",
       "      <td>0.214300</td>\n",
       "    </tr>\n",
       "    <tr>\n",
       "      <th>target</th>\n",
       "      <td>0.152912</td>\n",
       "      <td>0.321561</td>\n",
       "      <td>-0.000887</td>\n",
       "      <td>0.214300</td>\n",
       "      <td>1.000000</td>\n",
       "    </tr>\n",
       "  </tbody>\n",
       "</table>\n",
       "</div>"
      ],
      "text/plain": [
       "                  sender_zipcode  receiver_zipcode  quantity   service  \\\n",
       "sender_zipcode          1.000000          0.063768  0.000968  0.018325   \n",
       "receiver_zipcode        0.063768          1.000000 -0.000695  0.147060   \n",
       "quantity                0.000968         -0.000695  1.000000 -0.001050   \n",
       "service                 0.018325          0.147060 -0.001050  1.000000   \n",
       "target                  0.152912          0.321561 -0.000887  0.214300   \n",
       "\n",
       "                    target  \n",
       "sender_zipcode    0.152912  \n",
       "receiver_zipcode  0.321561  \n",
       "quantity         -0.000887  \n",
       "service           0.214300  \n",
       "target            1.000000  "
      ]
     },
     "execution_count": 22,
     "metadata": {},
     "output_type": "execute_result"
    }
   ],
   "source": [
    "df_clean.corr(method=  'kendall')"
   ]
  },
  {
   "cell_type": "code",
   "execution_count": 23,
   "metadata": {},
   "outputs": [
    {
     "data": {
      "text/html": [
       "<div>\n",
       "<style scoped>\n",
       "    .dataframe tbody tr th:only-of-type {\n",
       "        vertical-align: middle;\n",
       "    }\n",
       "\n",
       "    .dataframe tbody tr th {\n",
       "        vertical-align: top;\n",
       "    }\n",
       "\n",
       "    .dataframe thead th {\n",
       "        text-align: right;\n",
       "    }\n",
       "</style>\n",
       "<table border=\"1\" class=\"dataframe\">\n",
       "  <thead>\n",
       "    <tr style=\"text-align: right;\">\n",
       "      <th></th>\n",
       "      <th>sender_zipcode</th>\n",
       "      <th>receiver_zipcode</th>\n",
       "      <th>quantity</th>\n",
       "      <th>service</th>\n",
       "      <th>target</th>\n",
       "    </tr>\n",
       "  </thead>\n",
       "  <tbody>\n",
       "    <tr>\n",
       "      <th>sender_zipcode</th>\n",
       "      <td>1.000000</td>\n",
       "      <td>0.093986</td>\n",
       "      <td>0.001211</td>\n",
       "      <td>0.027504</td>\n",
       "      <td>0.221166</td>\n",
       "    </tr>\n",
       "    <tr>\n",
       "      <th>receiver_zipcode</th>\n",
       "      <td>0.093986</td>\n",
       "      <td>1.000000</td>\n",
       "      <td>-0.000870</td>\n",
       "      <td>0.192363</td>\n",
       "      <td>0.448123</td>\n",
       "    </tr>\n",
       "    <tr>\n",
       "      <th>quantity</th>\n",
       "      <td>0.001211</td>\n",
       "      <td>-0.000870</td>\n",
       "      <td>1.000000</td>\n",
       "      <td>-0.001145</td>\n",
       "      <td>-0.001067</td>\n",
       "    </tr>\n",
       "    <tr>\n",
       "      <th>service</th>\n",
       "      <td>0.027504</td>\n",
       "      <td>0.192363</td>\n",
       "      <td>-0.001145</td>\n",
       "      <td>1.000000</td>\n",
       "      <td>0.282425</td>\n",
       "    </tr>\n",
       "    <tr>\n",
       "      <th>target</th>\n",
       "      <td>0.221166</td>\n",
       "      <td>0.448123</td>\n",
       "      <td>-0.001067</td>\n",
       "      <td>0.282425</td>\n",
       "      <td>1.000000</td>\n",
       "    </tr>\n",
       "  </tbody>\n",
       "</table>\n",
       "</div>"
      ],
      "text/plain": [
       "                  sender_zipcode  receiver_zipcode  quantity   service  \\\n",
       "sender_zipcode          1.000000          0.093986  0.001211  0.027504   \n",
       "receiver_zipcode        0.093986          1.000000 -0.000870  0.192363   \n",
       "quantity                0.001211         -0.000870  1.000000 -0.001145   \n",
       "service                 0.027504          0.192363 -0.001145  1.000000   \n",
       "target                  0.221166          0.448123 -0.001067  0.282425   \n",
       "\n",
       "                    target  \n",
       "sender_zipcode    0.221166  \n",
       "receiver_zipcode  0.448123  \n",
       "quantity         -0.001067  \n",
       "service           0.282425  \n",
       "target            1.000000  "
      ]
     },
     "execution_count": 23,
     "metadata": {},
     "output_type": "execute_result"
    }
   ],
   "source": [
    "df_clean.corr(method=  'spearman')"
   ]
  },
  {
   "cell_type": "markdown",
   "metadata": {},
   "source": [
    "Segun estos tres métodos quantity no guarda una relacion importante con target, por lo tanto no lo tendremos en cuenta para entrenar el modelo\n"
   ]
  },
  {
   "cell_type": "code",
   "execution_count": 52,
   "metadata": {},
   "outputs": [],
   "source": [
    "from sklearn.metrics import classification_report, confusion_matrix\n",
    "import itertools\n",
    "def from sklearn.metrics import classification_report, confusion_matrix\n",
    "import itertools\n",
    "def plot_confusion_matrix(cm, classes,\n",
    "                          normalize=False,\n",
    "                          title='Confusion matrix',\n",
    "                          cmap=plt.cm.Blues):\n",
    "    \"\"\"\n",
    "    This function prints and plots the confusion matrix.\n",
    "    Normalization can be applied by setting `normalize=True`.\n",
    "    \"\"\"\n",
    "    if normalize:\n",
    "        cm = cm.astype('float') / cm.sum(axis=1)[:, np.newaxis]\n",
    "        print(\"Normalized confusion matrix\")\n",
    "    else:\n",
    "        print('Confusion matrix, without normalization')\n",
    "\n",
    "    print(cm)\n",
    "\n",
    "    plt.imshow(cm, interpolation='nearest', cmap=cmap)\n",
    "    plt.title(title)\n",
    "    plt.colorbar()\n",
    "    tick_marks = np.arange(len(classes))\n",
    "    plt.xticks(tick_marks, classes, rotation=45)\n",
    "    plt.yticks(tick_marks, classes)\n",
    "\n",
    "    fmt = '.2f' if normalize else 'd'\n",
    "    thresh = cm.max() / 2.\n",
    "    for i, j in itertools.product(range(cm.shape[0]), range(cm.shape[1])):\n",
    "        plt.text(j, i, format(cm[i, j], fmt),\n",
    "                 horizontalalignment=\"center\",\n",
    "                 color=\"white\" if cm[i, j] > thresh else \"black\")\n",
    "\n",
    "    plt.tight_layout()\n",
    "    plt.ylabel('True label')\n",
    "    plt.xlabel('Predicted label')\n",
    "print(confusion_matrix(y_test, yhat, labels=[1,0]))cm, classes,\n",
    "                          normalize=False,\n",
    "                          title='Confusion matrix',\n",
    "                          cmap=plt.cm.Blues):\n",
    "    \"\"\"\n",
    "    This function prints and plots the confusion matrix.\n",
    "    Normalization can be applied by setting `normalize=True`.\n",
    "    \"\"\"\n",
    "    if normalize:\n",
    "        cm = cm.astype('float') / cm.sum(axis=1)[:, np.newaxis]\n",
    "        print(\"Normalized confusion matrix\")\n",
    "    else:\n",
    "        print('Confusion matrix, without normalization')\n",
    "\n",
    "    print(cm)\n",
    "\n",
    "    plt.imshow(cm, interpolation='nearest', cmap=cmap)\n",
    "    plt.title(title)\n",
    "    plt.colorbar()\n",
    "    tick_marks = np.arange(len(classes))\n",
    "    plt.xticks(tick_marks, classes, rotation=45)\n",
    "    plt.yticks(tick_marks, classes)\n",
    "\n",
    "    fmt = '.2f' if normalize else 'd'\n",
    "    thresh = cm.max() / 2.\n",
    "    for i, j in itertools.product(range(cm.shape[0]), range(cm.shape[1])):\n",
    "        plt.text(j, i, format(cm[i, j], fmt),\n",
    "                 horizontalalignment=\"center\",\n",
    "                 color=\"white\" if cm[i, j] > thresh else \"black\")\n",
    "\n",
    "    plt.tight_layout()\n",
    "    plt.ylabel('True label')\n",
    "    plt.xlabel('Predicted label')\n",
    "#print(confusion_matrix(y_test, yhat, labels=[1,0]))"
   ]
  },
  {
   "cell_type": "markdown",
   "metadata": {},
   "source": [
    "#### Clustering:\n",
    "6- Clusterizar los envíos basados únicamente en las rutas. Para esto recomiendo utilizar KMeans\n"
   ]
  },
  {
   "cell_type": "code",
   "execution_count": 24,
   "metadata": {},
   "outputs": [],
   "source": [
    "from sklearn.cluster import KMeans\n",
    "\n"
   ]
  },
  {
   "cell_type": "code",
   "execution_count": 29,
   "metadata": {},
   "outputs": [],
   "source": [
    "X = df_clean.drop('target', axis=1)\n",
    "y = df_clean['target']\n",
    "\n",
    "y=(y<4)*1\n",
    "\n",
    "X_train, X_test, y_train, y_test = train_test_split(X, y, test_size=0.2, random_state=42)"
   ]
  },
  {
   "cell_type": "markdown",
   "metadata": {},
   "source": [
    "Con el KMeans separamos en dos clusters ya que queremos separar en rapido y lento, y entrenamos con las rutas"
   ]
  },
  {
   "cell_type": "code",
   "execution_count": 30,
   "metadata": {},
   "outputs": [],
   "source": [
    "kmeans = KMeans(n_clusters=2, random_state=0).fit(X_train.drop(['sender_state', 'receiver_state', 'shipment_type', 'quantity', 'status', 'date_created', 'date_sent', 'date_visit'], axis=1))\n"
   ]
  },
  {
   "cell_type": "markdown",
   "metadata": {},
   "source": [
    "Con esto veo a que etiqueta le corresponden los x "
   ]
  },
  {
   "cell_type": "code",
   "execution_count": 31,
   "metadata": {},
   "outputs": [],
   "source": [
    "y_pred_kmeans = kmeans.predict(X_test.drop(['sender_state', 'receiver_state', 'shipment_type', 'quantity', 'status', 'date_created', 'date_sent', 'date_visit'], axis=1))"
   ]
  },
  {
   "cell_type": "code",
   "execution_count": 32,
   "metadata": {},
   "outputs": [
    {
     "data": {
      "text/plain": [
       "array([0, 1, 1, ..., 1, 1, 1], dtype=int32)"
      ]
     },
     "execution_count": 32,
     "metadata": {},
     "output_type": "execute_result"
    }
   ],
   "source": [
    "y_pred_kmeans "
   ]
  },
  {
   "cell_type": "code",
   "execution_count": 33,
   "metadata": {
    "scrolled": true
   },
   "outputs": [
    {
     "data": {
      "text/plain": [
       "208571    1\n",
       "929081    0\n",
       "660927    0\n",
       "388688    1\n",
       "388425    1\n",
       "769153    1\n",
       "948627    1\n",
       "840023    1\n",
       "23412     0\n",
       "406278    1\n",
       "531800    0\n",
       "333340    0\n",
       "642850    0\n",
       "59999     0\n",
       "437240    0\n",
       "760965    0\n",
       "774750    0\n",
       "695568    0\n",
       "243501    0\n",
       "668636    0\n",
       "344685    1\n",
       "562154    1\n",
       "496383    1\n",
       "428065    1\n",
       "282856    1\n",
       "417778    0\n",
       "468666    0\n",
       "818462    0\n",
       "99612     0\n",
       "467136    0\n",
       "         ..\n",
       "218773    1\n",
       "539662    0\n",
       "243036    0\n",
       "617610    1\n",
       "918737    0\n",
       "25417     0\n",
       "391793    1\n",
       "331881    1\n",
       "835636    1\n",
       "241765    0\n",
       "359388    0\n",
       "525648    0\n",
       "224684    1\n",
       "141788    1\n",
       "182684    1\n",
       "802595    0\n",
       "504491    0\n",
       "205119    0\n",
       "887843    0\n",
       "430938    0\n",
       "159222    0\n",
       "850758    0\n",
       "751890    0\n",
       "136203    1\n",
       "16224     1\n",
       "783271    1\n",
       "876917    1\n",
       "127590    1\n",
       "675794    0\n",
       "518519    0\n",
       "Name: target, Length: 198074, dtype: int64"
      ]
     },
     "execution_count": 33,
     "metadata": {},
     "output_type": "execute_result"
    }
   ],
   "source": [
    "y_test"
   ]
  },
  {
   "cell_type": "code",
   "execution_count": 35,
   "metadata": {},
   "outputs": [],
   "source": [
    "from sklearn.metrics import accuracy_score"
   ]
  },
  {
   "cell_type": "code",
   "execution_count": 36,
   "metadata": {},
   "outputs": [
    {
     "data": {
      "text/plain": [
       "0.38319516948211274"
      ]
     },
     "execution_count": 36,
     "metadata": {},
     "output_type": "execute_result"
    }
   ],
   "source": [
    "accuracy_score(y_test, y_pred_kmeans)"
   ]
  },
  {
   "cell_type": "code",
   "execution_count": 39,
   "metadata": {},
   "outputs": [],
   "source": [
    "from sklearn.metrics import recall_score"
   ]
  },
  {
   "cell_type": "code",
   "execution_count": 40,
   "metadata": {},
   "outputs": [
    {
     "data": {
      "text/plain": [
       "0.2039785696545362"
      ]
     },
     "execution_count": 40,
     "metadata": {},
     "output_type": "execute_result"
    }
   ],
   "source": [
    "recall_score(y_test, y_pred_kmeans)  "
   ]
  },
  {
   "cell_type": "code",
   "execution_count": 41,
   "metadata": {},
   "outputs": [],
   "source": [
    "from sklearn.metrics import precision_score"
   ]
  },
  {
   "cell_type": "code",
   "execution_count": 42,
   "metadata": {},
   "outputs": [
    {
     "data": {
      "text/plain": [
       "0.23916299192944504"
      ]
     },
     "execution_count": 42,
     "metadata": {},
     "output_type": "execute_result"
    }
   ],
   "source": [
    "precision_score(y_test, y_pred_kmeans)  "
   ]
  },
  {
   "cell_type": "markdown",
   "metadata": {},
   "source": [
    "Las metricas son muy bajas lo que puede deberse a que el kmeans etiqueto los rapidos con 0 y los lentos con 1 y nosotros los etiquetamos al revés, entonces vamos a cambiar las etiquetas del y_pred_kmeans "
   ]
  },
  {
   "cell_type": "code",
   "execution_count": 43,
   "metadata": {},
   "outputs": [],
   "source": [
    "y_pred_kmeans = (y_pred_kmeans -1) * (-1) "
   ]
  },
  {
   "cell_type": "code",
   "execution_count": 44,
   "metadata": {},
   "outputs": [
    {
     "data": {
      "text/plain": [
       "0.6168048305178873"
      ]
     },
     "execution_count": 44,
     "metadata": {},
     "output_type": "execute_result"
    }
   ],
   "source": [
    "accuracy_score(y_test, y_pred_kmeans)"
   ]
  },
  {
   "cell_type": "code",
   "execution_count": 45,
   "metadata": {},
   "outputs": [
    {
     "data": {
      "text/plain": [
       "0.7960214303454638"
      ]
     },
     "execution_count": 45,
     "metadata": {},
     "output_type": "execute_result"
    }
   ],
   "source": [
    "recall_score(y_test, y_pred_kmeans)  "
   ]
  },
  {
   "cell_type": "code",
   "execution_count": 46,
   "metadata": {},
   "outputs": [
    {
     "data": {
      "text/plain": [
       "0.5343442362654811"
      ]
     },
     "execution_count": 46,
     "metadata": {},
     "output_type": "execute_result"
    }
   ],
   "source": [
    "precision_score(y_test, y_pred_kmeans)  "
   ]
  },
  {
   "cell_type": "markdown",
   "metadata": {},
   "source": [
    "Observamos que mejoro el accuracy lo cual es esperable porque dimos vuelta la prediccion. "
   ]
  },
  {
   "cell_type": "code",
   "execution_count": 50,
   "metadata": {},
   "outputs": [
    {
     "data": {
      "text/plain": [
       "array([[54867, 58654],\n",
       "       [17247, 67306]])"
      ]
     },
     "execution_count": 50,
     "metadata": {},
     "output_type": "execute_result"
    }
   ],
   "source": [
    "from sklearn.metrics import confusion_matrix\n",
    "\n",
    "confusion_matrix(y_test, y_pred_kmeans)"
   ]
  },
  {
   "cell_type": "code",
   "execution_count": 56,
   "metadata": {},
   "outputs": [
    {
     "name": "stdout",
     "output_type": "stream",
     "text": [
      "Normalized confusion matrix\n",
      "[[0.48332027 0.51667973]\n",
      " [0.20397857 0.79602143]]\n"
     ]
    },
    {
     "data": {
      "image/png": "[encoded data removed]",
      "text/plain": [
       "<Figure size 432x288 with 2 Axes>"
      ]
     },
     "metadata": {
      "needs_background": "light"
     },
     "output_type": "display_data"
    }
   ],
   "source": [
    "plot_confusion_matrix(confusion_matrix(y_test, y_pred_kmeans),[0,1], normalize = True)"
   ]
  },
  {
   "cell_type": "markdown",
   "metadata": {},
   "source": [
    "7- (*) Cual es el número óptimo de clusters? (Ver método de ​ Elbow​ con KMeans)\n"
   ]
  },
  {
   "cell_type": "code",
   "execution_count": null,
   "metadata": {},
   "outputs": [],
   "source": [
    "from sklearn.cluster import KMeans\n",
    "from sklearn import metrics\n",
    "from scipy.spatial.distance import cdist\n",
    "import numpy as np\n",
    "import matplotlib.pyplot as plt\n",
    "\n",
    "\n",
    "# create new plot and data\n",
    "plt.plot()\n",
    "X = df_clean[['sender_zipcode', 'receiver_zipcode', 'service']]\n",
    "colors = ['b', 'g', 'r']\n",
    "markers = ['o', 'v', 's']\n",
    "\n",
    "# k means determine k\n",
    "distortions = []\n",
    "K = range(1,10)\n",
    "for k in K:\n",
    "    kmeanModel = KMeans(n_clusters=k).fit(X)\n",
    "    distortions.append(sum(np.min(cdist(X, kmeanModel.cluster_centers_, 'euclidean'), axis=1)) / X.shape[0])\n",
    "\n",
    "# Plot the elbow\n",
    "plt.plot(K, distortions, 'bx-')\n",
    "plt.xlabel('k')\n",
    "plt.ylabel('Distortion')\n",
    "plt.title('The Elbow Method showing the optimal k')\n",
    "plt.show()\n"
   ]
  },
  {
   "cell_type": "markdown",
   "metadata": {},
   "source": [
    "Este metodo me dice que a partir de 5 clusters las distancias no tienen un cambio significativo por lo tanto el numero optimo de clusters podemos tomarlo como 5"
   ]
  },
  {
   "cell_type": "markdown",
   "metadata": {},
   "source": [
    "8- Describir brevemente las características interesantes de los clusters\n"
   ]
  },
  {
   "cell_type": "markdown",
   "metadata": {},
   "source": [
    "Algunas de las caracteristicas interesantes son que:\n",
    "* Para entrenar no es necesario decir a que etiqueta corresponde cada fila esto se debe a que es un algoritmo de aprendizaje no supervisado\n",
    "* A pesar de que queremos separar en dos clusters el metodo elbow nos dice que seria mas optimo dividir en 5 clusters"
   ]
  },
  {
   "cell_type": "markdown",
   "metadata": {},
   "source": [
    "#### Modelos lineales:\n",
    "9- Leer sobre accuracy, precision y recall para agregarlas al pool de métricas que vamos a utilizar.\n"
   ]
  },
  {
   "cell_type": "markdown",
   "metadata": {},
   "source": [
    "Preprocessing de los datos para entrenar con el metodo lineal"
   ]
  },
  {
   "cell_type": "code",
   "execution_count": 58,
   "metadata": {
    "scrolled": true
   },
   "outputs": [],
   "source": [
    "df_clean['clasif_velocity']= df_clean.target<=3"
   ]
  },
  {
   "cell_type": "code",
   "execution_count": 59,
   "metadata": {
    "scrolled": true
   },
   "outputs": [
    {
     "data": {
      "text/plain": [
       "0          True\n",
       "1         False\n",
       "2         False\n",
       "3          True\n",
       "4         False\n",
       "5         False\n",
       "6         False\n",
       "7         False\n",
       "8          True\n",
       "9         False\n",
       "10        False\n",
       "11         True\n",
       "12         True\n",
       "13         True\n",
       "14         True\n",
       "15        False\n",
       "16        False\n",
       "17        False\n",
       "18         True\n",
       "19         True\n",
       "20        False\n",
       "21        False\n",
       "22        False\n",
       "23         True\n",
       "24         True\n",
       "25         True\n",
       "26         True\n",
       "27         True\n",
       "28        False\n",
       "29         True\n",
       "          ...  \n",
       "999969    False\n",
       "999970     True\n",
       "999971    False\n",
       "999972    False\n",
       "999973     True\n",
       "999974    False\n",
       "999975    False\n",
       "999976    False\n",
       "999978    False\n",
       "999979    False\n",
       "999980    False\n",
       "999981    False\n",
       "999982     True\n",
       "999983    False\n",
       "999984    False\n",
       "999985    False\n",
       "999986    False\n",
       "999987     True\n",
       "999988    False\n",
       "999989     True\n",
       "999990     True\n",
       "999991    False\n",
       "999992     True\n",
       "999993    False\n",
       "999994    False\n",
       "999995    False\n",
       "999996    False\n",
       "999997     True\n",
       "999998     True\n",
       "999999    False\n",
       "Name: clasif_velocity, Length: 990370, dtype: bool"
      ]
     },
     "execution_count": 59,
     "metadata": {},
     "output_type": "execute_result"
    }
   ],
   "source": [
    "df_clean.clasif_velocity"
   ]
  },
  {
   "cell_type": "code",
   "execution_count": 60,
   "metadata": {},
   "outputs": [],
   "source": [
    "df_clean.clasif_velocity= df_clean.clasif_velocity*1"
   ]
  },
  {
   "cell_type": "code",
   "execution_count": 61,
   "metadata": {},
   "outputs": [
    {
     "data": {
      "text/plain": [
       "sender_state        object\n",
       "sender_zipcode       int64\n",
       "receiver_state      object\n",
       "receiver_zipcode     int64\n",
       "shipment_type       object\n",
       "quantity             int64\n",
       "service              int64\n",
       "status              object\n",
       "date_created        object\n",
       "date_sent           object\n",
       "date_visit          object\n",
       "target               int64\n",
       "clasif_velocity      int64\n",
       "dtype: object"
      ]
     },
     "execution_count": 61,
     "metadata": {},
     "output_type": "execute_result"
    }
   ],
   "source": [
    "df_clean.dtypes"
   ]
  },
  {
   "cell_type": "code",
   "execution_count": 62,
   "metadata": {
    "scrolled": true
   },
   "outputs": [],
   "source": [
    "df_clean=pd.get_dummies(df_clean, columns=['sender_state', 'receiver_state', 'shipment_type'])"
   ]
  },
  {
   "cell_type": "code",
   "execution_count": 63,
   "metadata": {},
   "outputs": [],
   "source": [
    "from sklearn.model_selection import train_test_split\n",
    "\n",
    "\n",
    "X = df_clean.drop(['target', 'clasif_velocity', 'date_created', 'date_sent', 'date_visit','status'], axis=1)\n",
    "y = df_clean['clasif_velocity']\n",
    "\n",
    "X_train, X_test, y_train, y_test = train_test_split(X, y, test_size=0.2, random_state=42)"
   ]
  },
  {
   "cell_type": "code",
   "execution_count": 64,
   "metadata": {
    "scrolled": true
   },
   "outputs": [
    {
     "data": {
      "text/html": [
       "<div>\n",
       "<style scoped>\n",
       "    .dataframe tbody tr th:only-of-type {\n",
       "        vertical-align: middle;\n",
       "    }\n",
       "\n",
       "    .dataframe tbody tr th {\n",
       "        vertical-align: top;\n",
       "    }\n",
       "\n",
       "    .dataframe thead th {\n",
       "        text-align: right;\n",
       "    }\n",
       "</style>\n",
       "<table border=\"1\" class=\"dataframe\">\n",
       "  <thead>\n",
       "    <tr style=\"text-align: right;\">\n",
       "      <th></th>\n",
       "      <th>sender_zipcode</th>\n",
       "      <th>receiver_zipcode</th>\n",
       "      <th>quantity</th>\n",
       "      <th>service</th>\n",
       "      <th>sender_state_AC</th>\n",
       "      <th>sender_state_AL</th>\n",
       "      <th>sender_state_AM</th>\n",
       "      <th>sender_state_AP</th>\n",
       "      <th>sender_state_BA</th>\n",
       "      <th>sender_state_CE</th>\n",
       "      <th>...</th>\n",
       "      <th>receiver_state_RO</th>\n",
       "      <th>receiver_state_RR</th>\n",
       "      <th>receiver_state_RS</th>\n",
       "      <th>receiver_state_SC</th>\n",
       "      <th>receiver_state_SE</th>\n",
       "      <th>receiver_state_SP</th>\n",
       "      <th>receiver_state_TO</th>\n",
       "      <th>shipment_type_express</th>\n",
       "      <th>shipment_type_standard</th>\n",
       "      <th>shipment_type_super</th>\n",
       "    </tr>\n",
       "  </thead>\n",
       "  <tbody>\n",
       "    <tr>\n",
       "      <th>0</th>\n",
       "      <td>3005</td>\n",
       "      <td>5409</td>\n",
       "      <td>1</td>\n",
       "      <td>0</td>\n",
       "      <td>0</td>\n",
       "      <td>0</td>\n",
       "      <td>0</td>\n",
       "      <td>0</td>\n",
       "      <td>0</td>\n",
       "      <td>0</td>\n",
       "      <td>...</td>\n",
       "      <td>0</td>\n",
       "      <td>0</td>\n",
       "      <td>0</td>\n",
       "      <td>0</td>\n",
       "      <td>0</td>\n",
       "      <td>1</td>\n",
       "      <td>0</td>\n",
       "      <td>1</td>\n",
       "      <td>0</td>\n",
       "      <td>0</td>\n",
       "    </tr>\n",
       "    <tr>\n",
       "      <th>1</th>\n",
       "      <td>17052</td>\n",
       "      <td>37750</td>\n",
       "      <td>1</td>\n",
       "      <td>1</td>\n",
       "      <td>0</td>\n",
       "      <td>0</td>\n",
       "      <td>0</td>\n",
       "      <td>0</td>\n",
       "      <td>0</td>\n",
       "      <td>0</td>\n",
       "      <td>...</td>\n",
       "      <td>0</td>\n",
       "      <td>0</td>\n",
       "      <td>0</td>\n",
       "      <td>0</td>\n",
       "      <td>0</td>\n",
       "      <td>0</td>\n",
       "      <td>0</td>\n",
       "      <td>0</td>\n",
       "      <td>1</td>\n",
       "      <td>0</td>\n",
       "    </tr>\n",
       "    <tr>\n",
       "      <th>2</th>\n",
       "      <td>2033</td>\n",
       "      <td>11040</td>\n",
       "      <td>1</td>\n",
       "      <td>0</td>\n",
       "      <td>0</td>\n",
       "      <td>0</td>\n",
       "      <td>0</td>\n",
       "      <td>0</td>\n",
       "      <td>0</td>\n",
       "      <td>0</td>\n",
       "      <td>...</td>\n",
       "      <td>0</td>\n",
       "      <td>0</td>\n",
       "      <td>0</td>\n",
       "      <td>0</td>\n",
       "      <td>0</td>\n",
       "      <td>1</td>\n",
       "      <td>0</td>\n",
       "      <td>1</td>\n",
       "      <td>0</td>\n",
       "      <td>0</td>\n",
       "    </tr>\n",
       "    <tr>\n",
       "      <th>3</th>\n",
       "      <td>13900</td>\n",
       "      <td>18500</td>\n",
       "      <td>1</td>\n",
       "      <td>0</td>\n",
       "      <td>0</td>\n",
       "      <td>0</td>\n",
       "      <td>0</td>\n",
       "      <td>0</td>\n",
       "      <td>0</td>\n",
       "      <td>0</td>\n",
       "      <td>...</td>\n",
       "      <td>0</td>\n",
       "      <td>0</td>\n",
       "      <td>0</td>\n",
       "      <td>0</td>\n",
       "      <td>0</td>\n",
       "      <td>1</td>\n",
       "      <td>0</td>\n",
       "      <td>1</td>\n",
       "      <td>0</td>\n",
       "      <td>0</td>\n",
       "    </tr>\n",
       "    <tr>\n",
       "      <th>4</th>\n",
       "      <td>4361</td>\n",
       "      <td>96810</td>\n",
       "      <td>1</td>\n",
       "      <td>0</td>\n",
       "      <td>0</td>\n",
       "      <td>0</td>\n",
       "      <td>0</td>\n",
       "      <td>0</td>\n",
       "      <td>0</td>\n",
       "      <td>0</td>\n",
       "      <td>...</td>\n",
       "      <td>0</td>\n",
       "      <td>0</td>\n",
       "      <td>1</td>\n",
       "      <td>0</td>\n",
       "      <td>0</td>\n",
       "      <td>0</td>\n",
       "      <td>0</td>\n",
       "      <td>1</td>\n",
       "      <td>0</td>\n",
       "      <td>0</td>\n",
       "    </tr>\n",
       "  </tbody>\n",
       "</table>\n",
       "<p>5 rows × 61 columns</p>\n",
       "</div>"
      ],
      "text/plain": [
       "   sender_zipcode  receiver_zipcode  quantity  service  sender_state_AC  \\\n",
       "0            3005              5409         1        0                0   \n",
       "1           17052             37750         1        1                0   \n",
       "2            2033             11040         1        0                0   \n",
       "3           13900             18500         1        0                0   \n",
       "4            4361             96810         1        0                0   \n",
       "\n",
       "   sender_state_AL  sender_state_AM  sender_state_AP  sender_state_BA  \\\n",
       "0                0                0                0                0   \n",
       "1                0                0                0                0   \n",
       "2                0                0                0                0   \n",
       "3                0                0                0                0   \n",
       "4                0                0                0                0   \n",
       "\n",
       "   sender_state_CE         ...           receiver_state_RO  receiver_state_RR  \\\n",
       "0                0         ...                           0                  0   \n",
       "1                0         ...                           0                  0   \n",
       "2                0         ...                           0                  0   \n",
       "3                0         ...                           0                  0   \n",
       "4                0         ...                           0                  0   \n",
       "\n",
       "   receiver_state_RS  receiver_state_SC  receiver_state_SE  receiver_state_SP  \\\n",
       "0                  0                  0                  0                  1   \n",
       "1                  0                  0                  0                  0   \n",
       "2                  0                  0                  0                  1   \n",
       "3                  0                  0                  0                  1   \n",
       "4                  1                  0                  0                  0   \n",
       "\n",
       "   receiver_state_TO  shipment_type_express  shipment_type_standard  \\\n",
       "0                  0                      1                       0   \n",
       "1                  0                      0                       1   \n",
       "2                  0                      1                       0   \n",
       "3                  0                      1                       0   \n",
       "4                  0                      1                       0   \n",
       "\n",
       "   shipment_type_super  \n",
       "0                    0  \n",
       "1                    0  \n",
       "2                    0  \n",
       "3                    0  \n",
       "4                    0  \n",
       "\n",
       "[5 rows x 61 columns]"
      ]
     },
     "execution_count": 64,
     "metadata": {},
     "output_type": "execute_result"
    }
   ],
   "source": [
    "X.head()"
   ]
  },
  {
   "cell_type": "markdown",
   "metadata": {},
   "source": [
    "10- Implementar un modelo basado en regresión lineal, calcular las métricas y la matriz de confusión\n"
   ]
  },
  {
   "cell_type": "code",
   "execution_count": 65,
   "metadata": {},
   "outputs": [],
   "source": [
    "from sklearn.linear_model import LinearRegression"
   ]
  },
  {
   "cell_type": "code",
   "execution_count": 66,
   "metadata": {},
   "outputs": [],
   "source": [
    "linear_reg = LinearRegression().fit(X_train, y_train)"
   ]
  },
  {
   "cell_type": "code",
   "execution_count": 67,
   "metadata": {},
   "outputs": [],
   "source": [
    "y_pred_lin = linear_reg.predict(X_test)"
   ]
  },
  {
   "cell_type": "code",
   "execution_count": 68,
   "metadata": {},
   "outputs": [],
   "source": [
    "y_pred_lin = (y_pred_lin>0.5)*1\n"
   ]
  },
  {
   "cell_type": "code",
   "execution_count": 69,
   "metadata": {},
   "outputs": [
    {
     "data": {
      "text/plain": [
       "0.8594464695012975"
      ]
     },
     "execution_count": 69,
     "metadata": {},
     "output_type": "execute_result"
    }
   ],
   "source": [
    "accuracy_score(y_test, y_pred_lin)"
   ]
  },
  {
   "cell_type": "code",
   "execution_count": 70,
   "metadata": {
    "scrolled": true
   },
   "outputs": [
    {
     "data": {
      "text/plain": [
       "0.8154648563622816"
      ]
     },
     "execution_count": 70,
     "metadata": {},
     "output_type": "execute_result"
    }
   ],
   "source": [
    "recall_score(y_test, y_pred_lin)  "
   ]
  },
  {
   "cell_type": "code",
   "execution_count": 71,
   "metadata": {},
   "outputs": [
    {
     "data": {
      "text/plain": [
       "0.8492738985305529"
      ]
     },
     "execution_count": 71,
     "metadata": {},
     "output_type": "execute_result"
    }
   ],
   "source": [
    "precision_score(y_test, y_pred_lin)  "
   ]
  },
  {
   "cell_type": "markdown",
   "metadata": {},
   "source": [
    "### el metodo parece andar bien"
   ]
  },
  {
   "cell_type": "code",
   "execution_count": 72,
   "metadata": {},
   "outputs": [],
   "source": [
    "from sklearn.metrics import confusion_matrix"
   ]
  },
  {
   "cell_type": "code",
   "execution_count": 73,
   "metadata": {
    "scrolled": true
   },
   "outputs": [
    {
     "data": {
      "text/plain": [
       "array([[101284,  12237],\n",
       "       [ 15603,  68950]])"
      ]
     },
     "execution_count": 73,
     "metadata": {},
     "output_type": "execute_result"
    }
   ],
   "source": [
    "confusion_matrix(y_test, y_pred_lin)"
   ]
  },
  {
   "cell_type": "code",
   "execution_count": 75,
   "metadata": {},
   "outputs": [
    {
     "name": "stdout",
     "output_type": "stream",
     "text": [
      "Normalized confusion matrix\n",
      "[[0.89220497 0.10779503]\n",
      " [0.18453514 0.81546486]]\n"
     ]
    },
    {
     "data": {
      "image/png": "[encoded data removed]",
      "text/plain": [
       "<Figure size 432x288 with 2 Axes>"
      ]
     },
     "metadata": {
      "needs_background": "light"
     },
     "output_type": "display_data"
    }
   ],
   "source": [
    "plot_confusion_matrix(confusion_matrix(y_test, y_pred_lin),[0,1], normalize = True)"
   ]
  },
  {
   "cell_type": "markdown",
   "metadata": {},
   "source": [
    "11- Implementar un modelo basado en regresión logística, calcular las métricas y la matriz de confusión\n"
   ]
  },
  {
   "cell_type": "code",
   "execution_count": 76,
   "metadata": {},
   "outputs": [],
   "source": [
    "from sklearn.linear_model import LogisticRegression\n"
   ]
  },
  {
   "cell_type": "code",
   "execution_count": 77,
   "metadata": {},
   "outputs": [
    {
     "name": "stderr",
     "output_type": "stream",
     "text": [
      "/home/isanti/anaconda3/lib/python3.7/site-packages/sklearn/linear_model/logistic.py:433: FutureWarning: Default solver will be changed to 'lbfgs' in 0.22. Specify a solver to silence this warning.\n",
      "  FutureWarning)\n"
     ]
    }
   ],
   "source": [
    "clf = LogisticRegression(penalty= 'l1', random_state=0).fit(X_train, y_train)"
   ]
  },
  {
   "cell_type": "code",
   "execution_count": 78,
   "metadata": {},
   "outputs": [],
   "source": [
    "y_pred = clf.predict(X_test)"
   ]
  },
  {
   "cell_type": "code",
   "execution_count": 79,
   "metadata": {},
   "outputs": [],
   "source": [
    "from sklearn.metrics import accuracy_score\n"
   ]
  },
  {
   "cell_type": "code",
   "execution_count": 80,
   "metadata": {},
   "outputs": [
    {
     "data": {
      "text/plain": [
       "0.8617688338701698"
      ]
     },
     "execution_count": 80,
     "metadata": {},
     "output_type": "execute_result"
    }
   ],
   "source": [
    "accuracy_score(y_test, y_pred)"
   ]
  },
  {
   "cell_type": "code",
   "execution_count": 81,
   "metadata": {},
   "outputs": [
    {
     "data": {
      "text/plain": [
       "0.8091138102728466"
      ]
     },
     "execution_count": 81,
     "metadata": {},
     "output_type": "execute_result"
    }
   ],
   "source": [
    "from sklearn.metrics import recall_score\n",
    "recall_score(y_test, y_pred)  "
   ]
  },
  {
   "cell_type": "code",
   "execution_count": 82,
   "metadata": {},
   "outputs": [
    {
     "data": {
      "text/plain": [
       "0.8588879263806762"
      ]
     },
     "execution_count": 82,
     "metadata": {},
     "output_type": "execute_result"
    }
   ],
   "source": [
    "from sklearn.metrics import precision_score\n",
    "precision_score(y_test, y_pred, average='binary')  "
   ]
  },
  {
   "cell_type": "markdown",
   "metadata": {},
   "source": [
    "Todas las metricas se encuentran por encima del 0.80 lo que podria interpretarse como que el modelo es bueno"
   ]
  },
  {
   "cell_type": "code",
   "execution_count": 83,
   "metadata": {},
   "outputs": [
    {
     "data": {
      "text/plain": [
       "array([[102281,  11240],\n",
       "       [ 16140,  68413]])"
      ]
     },
     "execution_count": 83,
     "metadata": {},
     "output_type": "execute_result"
    }
   ],
   "source": [
    "confusion_matrix(y_test, y_pred)"
   ]
  },
  {
   "cell_type": "code",
   "execution_count": 84,
   "metadata": {},
   "outputs": [
    {
     "name": "stdout",
     "output_type": "stream",
     "text": [
      "Normalized confusion matrix\n",
      "[[0.90098748 0.09901252]\n",
      " [0.19088619 0.80911381]]\n"
     ]
    },
    {
     "data": {
      "image/png": "[encoded data removed]",
      "text/plain": [
       "<Figure size 432x288 with 2 Axes>"
      ]
     },
     "metadata": {
      "needs_background": "light"
     },
     "output_type": "display_data"
    }
   ],
   "source": [
    "plot_confusion_matrix(confusion_matrix(y_test, y_pred),[0,1], normalize = True)"
   ]
  },
  {
   "cell_type": "markdown",
   "metadata": {},
   "source": [
    "12- Cual es la principal diferencia entre estos modelos? Tuviste que hacer algún tipo de post-procesamiento?\n"
   ]
  },
  {
   "cell_type": "markdown",
   "metadata": {},
   "source": [
    "La principal diferencia entre los modelos es que la Regresión Lineal busca una recta que este lo mas cerca posible de todos los puntos y la Regresion Logística busca una recta que separe los datos en dos grupos.\n",
    "Al usar la regresion lineal la predicción es una variable continua y tuvimos que elegir un criterio para transformarla en una discreta y poder usar eso como una clasificación."
   ]
  },
  {
   "cell_type": "markdown",
   "metadata": {},
   "source": [
    "13- Estandarizar los features seleccionados y re entrenar los modelos. Las métricas\n",
    "mejoran? Explicar por qué.\n"
   ]
  },
  {
   "cell_type": "code",
   "execution_count": 85,
   "metadata": {},
   "outputs": [],
   "source": [
    "from sklearn.preprocessing import MinMaxScaler"
   ]
  },
  {
   "cell_type": "code",
   "execution_count": 86,
   "metadata": {
    "scrolled": true
   },
   "outputs": [
    {
     "name": "stderr",
     "output_type": "stream",
     "text": [
      "/home/isanti/anaconda3/lib/python3.7/site-packages/sklearn/preprocessing/data.py:323: DataConversionWarning: Data with input dtype uint8, int64 were all converted to float64 by MinMaxScaler.\n",
      "  return self.partial_fit(X, y)\n"
     ]
    }
   ],
   "source": [
    "scaler = MinMaxScaler()\n",
    "scaler.fit(df_clean.drop(['target', 'clasif_velocity', 'date_created', 'date_sent', 'date_visit','status'], axis =1))\n",
    "df_n = scaler.transform(df_clean.drop(['target', 'clasif_velocity', 'date_created', 'date_sent', 'date_visit','status'], axis=1))"
   ]
  },
  {
   "cell_type": "markdown",
   "metadata": {},
   "source": [
    "Ahora reentrenamos con los datos normalizados"
   ]
  },
  {
   "cell_type": "code",
   "execution_count": 87,
   "metadata": {},
   "outputs": [],
   "source": [
    "X = df_n.copy()\n",
    "y = df_clean['clasif_velocity']\n",
    "\n",
    "X_train, X_test, y_train, y_test = train_test_split(X, y, test_size=0.2, random_state=42)"
   ]
  },
  {
   "cell_type": "code",
   "execution_count": 88,
   "metadata": {},
   "outputs": [],
   "source": [
    "from sklearn.linear_model import LinearRegression"
   ]
  },
  {
   "cell_type": "code",
   "execution_count": 89,
   "metadata": {},
   "outputs": [],
   "source": [
    "linear_reg = LinearRegression().fit(X_train, y_train)"
   ]
  },
  {
   "cell_type": "code",
   "execution_count": 90,
   "metadata": {},
   "outputs": [],
   "source": [
    "y_pred_lin = linear_reg.predict(X_test)"
   ]
  },
  {
   "cell_type": "code",
   "execution_count": 91,
   "metadata": {},
   "outputs": [],
   "source": [
    "y_pred_lin = (y_pred_lin>0.5)*1\n"
   ]
  },
  {
   "cell_type": "code",
   "execution_count": 92,
   "metadata": {},
   "outputs": [
    {
     "data": {
      "text/plain": [
       "0.8594464695012975"
      ]
     },
     "execution_count": 92,
     "metadata": {},
     "output_type": "execute_result"
    }
   ],
   "source": [
    "accuracy_score(y_test, y_pred_lin)"
   ]
  },
  {
   "cell_type": "code",
   "execution_count": 93,
   "metadata": {
    "scrolled": true
   },
   "outputs": [
    {
     "data": {
      "text/plain": [
       "0.8154648563622816"
      ]
     },
     "execution_count": 93,
     "metadata": {},
     "output_type": "execute_result"
    }
   ],
   "source": [
    "from sklearn.metrics import recall_score\n",
    "recall_score(y_test, y_pred_lin)  "
   ]
  },
  {
   "cell_type": "code",
   "execution_count": 94,
   "metadata": {},
   "outputs": [
    {
     "data": {
      "text/plain": [
       "0.8492738985305529"
      ]
     },
     "execution_count": 94,
     "metadata": {},
     "output_type": "execute_result"
    }
   ],
   "source": [
    "from sklearn.metrics import precision_score\n",
    "precision_score(y_test, y_pred_lin)  "
   ]
  },
  {
   "cell_type": "code",
   "execution_count": 95,
   "metadata": {},
   "outputs": [],
   "source": [
    "from sklearn.metrics import confusion_matrix"
   ]
  },
  {
   "cell_type": "code",
   "execution_count": 96,
   "metadata": {
    "scrolled": false
   },
   "outputs": [
    {
     "data": {
      "text/plain": [
       "array([[101284,  12237],\n",
       "       [ 15603,  68950]])"
      ]
     },
     "execution_count": 96,
     "metadata": {},
     "output_type": "execute_result"
    }
   ],
   "source": [
    "confusion_matrix(y_test, y_pred_lin)"
   ]
  },
  {
   "cell_type": "code",
   "execution_count": 97,
   "metadata": {},
   "outputs": [
    {
     "name": "stdout",
     "output_type": "stream",
     "text": [
      "Normalized confusion matrix\n",
      "[[0.89220497 0.10779503]\n",
      " [0.18453514 0.81546486]]\n"
     ]
    },
    {
     "data": {
      "image/png": "[encoded data removed]",
      "text/plain": [
       "<Figure size 432x288 with 2 Axes>"
      ]
     },
     "metadata": {
      "needs_background": "light"
     },
     "output_type": "display_data"
    }
   ],
   "source": [
    "plot_confusion_matrix(confusion_matrix(y_test, y_pred_lin),[0,1], normalize = True)"
   ]
  },
  {
   "cell_type": "markdown",
   "metadata": {},
   "source": [
    "El metodo lineal con las features normalizadas no presenta un cambio en las metricas"
   ]
  },
  {
   "cell_type": "markdown",
   "metadata": {},
   "source": [
    "Implemento un modelo basado en regresión logística, calculo las métricas y la matriz de confusión\n"
   ]
  },
  {
   "cell_type": "code",
   "execution_count": 98,
   "metadata": {},
   "outputs": [],
   "source": [
    "from sklearn.linear_model import LogisticRegression\n"
   ]
  },
  {
   "cell_type": "code",
   "execution_count": 99,
   "metadata": {},
   "outputs": [
    {
     "name": "stderr",
     "output_type": "stream",
     "text": [
      "/home/isanti/anaconda3/lib/python3.7/site-packages/sklearn/linear_model/logistic.py:433: FutureWarning: Default solver will be changed to 'lbfgs' in 0.22. Specify a solver to silence this warning.\n",
      "  FutureWarning)\n"
     ]
    }
   ],
   "source": [
    "clf = LogisticRegression(penalty= 'l1', random_state=0).fit(X_train, y_train)"
   ]
  },
  {
   "cell_type": "code",
   "execution_count": 100,
   "metadata": {},
   "outputs": [],
   "source": [
    "y_pred = clf.predict(X_test)"
   ]
  },
  {
   "cell_type": "code",
   "execution_count": 101,
   "metadata": {},
   "outputs": [],
   "source": [
    "from sklearn.metrics import accuracy_score\n"
   ]
  },
  {
   "cell_type": "code",
   "execution_count": 102,
   "metadata": {},
   "outputs": [
    {
     "data": {
      "text/plain": [
       "0.8617637852519765"
      ]
     },
     "execution_count": 102,
     "metadata": {},
     "output_type": "execute_result"
    }
   ],
   "source": [
    "accuracy_score(y_test, y_pred)"
   ]
  },
  {
   "cell_type": "code",
   "execution_count": 103,
   "metadata": {},
   "outputs": [
    {
     "data": {
      "text/plain": [
       "0.8091138102728466"
      ]
     },
     "execution_count": 103,
     "metadata": {},
     "output_type": "execute_result"
    }
   ],
   "source": [
    "from sklearn.metrics import recall_score\n",
    "recall_score(y_test, y_pred)  "
   ]
  },
  {
   "cell_type": "code",
   "execution_count": 104,
   "metadata": {},
   "outputs": [
    {
     "data": {
      "text/plain": [
       "0.8588771436462701"
      ]
     },
     "execution_count": 104,
     "metadata": {},
     "output_type": "execute_result"
    }
   ],
   "source": [
    "from sklearn.metrics import precision_score\n",
    "precision_score(y_test, y_pred, average='binary')  "
   ]
  },
  {
   "cell_type": "markdown",
   "metadata": {},
   "source": [
    "En este caso también observamos que no cambiaron, esto se podria deber a que todos los features tenian el mismo peso o que el modelo no es afectado por el rango de los features"
   ]
  },
  {
   "cell_type": "code",
   "execution_count": 105,
   "metadata": {},
   "outputs": [
    {
     "data": {
      "text/plain": [
       "array([[102280,  11241],\n",
       "       [ 16140,  68413]])"
      ]
     },
     "execution_count": 105,
     "metadata": {},
     "output_type": "execute_result"
    }
   ],
   "source": [
    "confusion_matrix(y_test, y_pred)"
   ]
  },
  {
   "cell_type": "code",
   "execution_count": 106,
   "metadata": {},
   "outputs": [
    {
     "name": "stdout",
     "output_type": "stream",
     "text": [
      "Normalized confusion matrix\n",
      "[[0.90097867 0.09902133]\n",
      " [0.19088619 0.80911381]]\n"
     ]
    },
    {
     "data": {
      "image/png": "[encoded data removed]",
      "text/plain": [
       "<Figure size 432x288 with 2 Axes>"
      ]
     },
     "metadata": {
      "needs_background": "light"
     },
     "output_type": "display_data"
    }
   ],
   "source": [
    "plot_confusion_matrix(confusion_matrix(y_test, y_pred),[0,1], normalize = True)"
   ]
  },
  {
   "cell_type": "markdown",
   "metadata": {},
   "source": [
    "Para concluir podemos decir que el mejor metodo para clasificarlos fue LogisticRegression. En el kmeans solo usamos las rutas y las metricas nos dieron alrededor de 0.65, esto nos dice que la ruta influye mucho en el tiempo que tarda en llegar un paquete sin embargo en las regresiones usamos ademas otros features y nos dieron mejores metricas lo que podriamos interpretar como que quizas el kmeans andaria mejor con mas features"
   ]
  },
  {
   "cell_type": "code",
   "execution_count": null,
   "metadata": {},
   "outputs": [],
   "source": []
  }
 ],
 "metadata": {
  "kernelspec": {
   "display_name": "Python 3",
   "language": "python",
   "name": "python3"
  },
  "language_info": {
   "codemirror_mode": {
    "name": "ipython",
    "version": 3
   },
   "file_extension": ".py",
   "mimetype": "text/x-python",
   "name": "python",
   "nbconvert_exporter": "python",
   "pygments_lexer": "ipython3",
   "version": "3.7.1"
  }
 },
 "nbformat": 4,
 "nbformat_minor": 2
}
