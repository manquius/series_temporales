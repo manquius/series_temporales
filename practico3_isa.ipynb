{
 "cells": [
  {
   "cell_type": "markdown",
   "metadata": {},
   "source": [
    "# DiploDatos 2019 - Análisis de Series Temporales\n",
    "\n",
    "## Integrantes\n",
    "\n",
    "| Nombre | e-mail |\n",
    "|------|------|\n",
    "|Rivadero, Isabel | isarivadero@hotmail.com |\n",
    "|Vargas, Miguel | lvc0107@protonmail.com |\n",
    "|Mancuso, Fernando | manquius@gmail.com |\n",
    "\n",
    "## Práctico de Introducción al aprendizaje automático\n",
    "\n",
    "En este práctico no introduciremos en las primeras herramientas de aprendizaje\n",
    "automático. Diseñaremos e implementaremos algunos modelos simples y definir métricas\n",
    "para ver como performan."
   ]
  },
  {
   "cell_type": "markdown",
   "metadata": {},
   "source": [
    "### Dataset"
   ]
  },
  {
   "cell_type": "code",
   "execution_count": 7,
   "metadata": {},
   "outputs": [
    {
     "data": {
      "text/html": [
       "<style>.container { width:90% !important; }</style>"
      ],
      "text/plain": [
       "<IPython.core.display.HTML object>"
      ]
     },
     "metadata": {},
     "output_type": "display_data"
    }
   ],
   "source": [
    "### Aumentar el ancho del notebook\n",
    "from IPython.core.display import display, HTML\n",
    "display(HTML(\"<style>.container { width:90% !important; }</style>\"))"
   ]
  },
  {
   "cell_type": "code",
   "execution_count": 8,
   "metadata": {},
   "outputs": [],
   "source": [
    "%matplotlib inline\n",
    "import numpy as np\n",
    "import pandas as pd\n",
    "import matplotlib.pyplot as plt\n",
    "import seaborn as sb\n",
    "sb.set(rc={'figure.figsize':(10,6)})\n",
    "\n",
    "cols = ['service',\n",
    "        'sender_zipcode',\n",
    "        'receiver_zipcode',\n",
    "        'sender_state',\n",
    "        'receiver_state',\n",
    "        'shipment_type',\n",
    "        'quantity',\n",
    "        'status',\n",
    "        'date_created',\n",
    "        'date_sent',\n",
    "        'date_visit',\n",
    "        'target']\n",
    "cols_holidays = ['holiday', \n",
    "                 'description']\n",
    "data_path = './shipments_BR_201903.csv'\n",
    "holidays = './holidays.csv'"
   ]
  },
  {
   "cell_type": "markdown",
   "metadata": {},
   "source": [
    "#### Referencia de las columnas\n",
    "* **service**: Identificador unico que corresponde a un tipo de servicio de un correo en particular.\n",
    "* **sender_zipcode:** Código postal de quien envía el paquete (usualmente el vendedor).\n",
    "* **receiver_zipcode:** Código postal de quien recibe el paquete (usualmente el comprador).\n",
    "* **sender_state:** Nombre abreviado del estado de quien envía el paquete.\n",
    "* **receiver_state:** Nombre abreviado del estado de quien recibe el paquete.\n",
    "* **quantity:** Cantidad de items que tiene dentro el paquete.\n",
    "* **status:** Estado final del envío.\n",
    "* **date_created:** Fecha de compra de el o los items.\n",
    "* **date_sent:** Fecha en que el correo recibe el paquete.\n",
    "* **date_visit:** Fecha en que el correo entrega el paquete.\n",
    "* **target:** Cantidad de dias hábiles que tardó el correo en entregar el paquete desde que lo recibe.\n"
   ]
  },
  {
   "cell_type": "code",
   "execution_count": 9,
   "metadata": {},
   "outputs": [
    {
     "data": {
      "text/plain": [
       "(1000000, 12)"
      ]
     },
     "execution_count": 9,
     "metadata": {},
     "output_type": "execute_result"
    }
   ],
   "source": [
    "df = pd.read_csv(data_path, usecols=cols)\n",
    "df.shape"
   ]
  },
  {
   "cell_type": "code",
   "execution_count": 10,
   "metadata": {},
   "outputs": [
    {
     "data": {
      "text/html": [
       "<div>\n",
       "<style scoped>\n",
       "    .dataframe tbody tr th:only-of-type {\n",
       "        vertical-align: middle;\n",
       "    }\n",
       "\n",
       "    .dataframe tbody tr th {\n",
       "        vertical-align: top;\n",
       "    }\n",
       "\n",
       "    .dataframe thead th {\n",
       "        text-align: right;\n",
       "    }\n",
       "</style>\n",
       "<table border=\"1\" class=\"dataframe\">\n",
       "  <thead>\n",
       "    <tr style=\"text-align: right;\">\n",
       "      <th></th>\n",
       "      <th>sender_state</th>\n",
       "      <th>sender_zipcode</th>\n",
       "      <th>receiver_state</th>\n",
       "      <th>receiver_zipcode</th>\n",
       "      <th>shipment_type</th>\n",
       "      <th>quantity</th>\n",
       "      <th>service</th>\n",
       "      <th>status</th>\n",
       "      <th>date_created</th>\n",
       "      <th>date_sent</th>\n",
       "      <th>date_visit</th>\n",
       "      <th>target</th>\n",
       "    </tr>\n",
       "  </thead>\n",
       "  <tbody>\n",
       "    <tr>\n",
       "      <th>0</th>\n",
       "      <td>SP</td>\n",
       "      <td>3005</td>\n",
       "      <td>SP</td>\n",
       "      <td>5409</td>\n",
       "      <td>express</td>\n",
       "      <td>1</td>\n",
       "      <td>0</td>\n",
       "      <td>done</td>\n",
       "      <td>2019-03-04 00:00:00</td>\n",
       "      <td>2019-03-05 13:24:00</td>\n",
       "      <td>2019-03-07 18:01:00</td>\n",
       "      <td>2</td>\n",
       "    </tr>\n",
       "    <tr>\n",
       "      <th>1</th>\n",
       "      <td>SP</td>\n",
       "      <td>17052</td>\n",
       "      <td>MG</td>\n",
       "      <td>37750</td>\n",
       "      <td>standard</td>\n",
       "      <td>1</td>\n",
       "      <td>1</td>\n",
       "      <td>done</td>\n",
       "      <td>2019-03-19 00:00:00</td>\n",
       "      <td>2019-03-20 14:44:00</td>\n",
       "      <td>2019-03-27 10:21:00</td>\n",
       "      <td>5</td>\n",
       "    </tr>\n",
       "    <tr>\n",
       "      <th>2</th>\n",
       "      <td>SP</td>\n",
       "      <td>2033</td>\n",
       "      <td>SP</td>\n",
       "      <td>11040</td>\n",
       "      <td>express</td>\n",
       "      <td>1</td>\n",
       "      <td>0</td>\n",
       "      <td>done</td>\n",
       "      <td>2019-02-18 00:00:00</td>\n",
       "      <td>2019-02-21 15:08:00</td>\n",
       "      <td>2019-02-28 18:19:00</td>\n",
       "      <td>5</td>\n",
       "    </tr>\n",
       "    <tr>\n",
       "      <th>3</th>\n",
       "      <td>SP</td>\n",
       "      <td>13900</td>\n",
       "      <td>SP</td>\n",
       "      <td>18500</td>\n",
       "      <td>express</td>\n",
       "      <td>1</td>\n",
       "      <td>0</td>\n",
       "      <td>done</td>\n",
       "      <td>2019-03-09 00:00:00</td>\n",
       "      <td>2019-03-11 15:48:00</td>\n",
       "      <td>2019-03-12 13:33:00</td>\n",
       "      <td>1</td>\n",
       "    </tr>\n",
       "    <tr>\n",
       "      <th>4</th>\n",
       "      <td>SP</td>\n",
       "      <td>4361</td>\n",
       "      <td>RS</td>\n",
       "      <td>96810</td>\n",
       "      <td>express</td>\n",
       "      <td>1</td>\n",
       "      <td>0</td>\n",
       "      <td>done</td>\n",
       "      <td>2019-03-08 00:00:00</td>\n",
       "      <td>2019-03-12 08:19:00</td>\n",
       "      <td>2019-03-16 08:24:00</td>\n",
       "      <td>4</td>\n",
       "    </tr>\n",
       "  </tbody>\n",
       "</table>\n",
       "</div>"
      ],
      "text/plain": [
       "  sender_state  sender_zipcode receiver_state  receiver_zipcode shipment_type  \\\n",
       "0           SP            3005             SP              5409       express   \n",
       "1           SP           17052             MG             37750      standard   \n",
       "2           SP            2033             SP             11040       express   \n",
       "3           SP           13900             SP             18500       express   \n",
       "4           SP            4361             RS             96810       express   \n",
       "\n",
       "   quantity  service status         date_created            date_sent  \\\n",
       "0         1        0   done  2019-03-04 00:00:00  2019-03-05 13:24:00   \n",
       "1         1        1   done  2019-03-19 00:00:00  2019-03-20 14:44:00   \n",
       "2         1        0   done  2019-02-18 00:00:00  2019-02-21 15:08:00   \n",
       "3         1        0   done  2019-03-09 00:00:00  2019-03-11 15:48:00   \n",
       "4         1        0   done  2019-03-08 00:00:00  2019-03-12 08:19:00   \n",
       "\n",
       "            date_visit  target  \n",
       "0  2019-03-07 18:01:00       2  \n",
       "1  2019-03-27 10:21:00       5  \n",
       "2  2019-02-28 18:19:00       5  \n",
       "3  2019-03-12 13:33:00       1  \n",
       "4  2019-03-16 08:24:00       4  "
      ]
     },
     "execution_count": 10,
     "metadata": {},
     "output_type": "execute_result"
    }
   ],
   "source": [
    "df.head()"
   ]
  },
  {
   "cell_type": "code",
   "execution_count": 11,
   "metadata": {},
   "outputs": [],
   "source": [
    "# set seed for reproducibility\n",
    "np.random.seed(0)"
   ]
  },
  {
   "cell_type": "code",
   "execution_count": 12,
   "metadata": {},
   "outputs": [
    {
     "data": {
      "text/html": [
       "<div>\n",
       "<style scoped>\n",
       "    .dataframe tbody tr th:only-of-type {\n",
       "        vertical-align: middle;\n",
       "    }\n",
       "\n",
       "    .dataframe tbody tr th {\n",
       "        vertical-align: top;\n",
       "    }\n",
       "\n",
       "    .dataframe thead th {\n",
       "        text-align: right;\n",
       "    }\n",
       "</style>\n",
       "<table border=\"1\" class=\"dataframe\">\n",
       "  <thead>\n",
       "    <tr style=\"text-align: right;\">\n",
       "      <th></th>\n",
       "      <th>sender_state</th>\n",
       "      <th>sender_zipcode</th>\n",
       "      <th>receiver_state</th>\n",
       "      <th>receiver_zipcode</th>\n",
       "      <th>shipment_type</th>\n",
       "      <th>quantity</th>\n",
       "      <th>service</th>\n",
       "      <th>status</th>\n",
       "      <th>date_created</th>\n",
       "      <th>date_sent</th>\n",
       "      <th>date_visit</th>\n",
       "      <th>target</th>\n",
       "    </tr>\n",
       "  </thead>\n",
       "  <tbody>\n",
       "    <tr>\n",
       "      <th>157105</th>\n",
       "      <td>SP</td>\n",
       "      <td>14405</td>\n",
       "      <td>MG</td>\n",
       "      <td>37706</td>\n",
       "      <td>standard</td>\n",
       "      <td>2</td>\n",
       "      <td>3</td>\n",
       "      <td>done</td>\n",
       "      <td>2019-03-13 00:00:00</td>\n",
       "      <td>2019-03-19 20:52:00</td>\n",
       "      <td>2019-03-22 11:00:00</td>\n",
       "      <td>3</td>\n",
       "    </tr>\n",
       "    <tr>\n",
       "      <th>374554</th>\n",
       "      <td>BA</td>\n",
       "      <td>40260</td>\n",
       "      <td>SE</td>\n",
       "      <td>49088</td>\n",
       "      <td>standard</td>\n",
       "      <td>1</td>\n",
       "      <td>1</td>\n",
       "      <td>done</td>\n",
       "      <td>2019-03-04 00:00:00</td>\n",
       "      <td>2019-03-06 15:32:00</td>\n",
       "      <td>2019-03-23 11:23:00</td>\n",
       "      <td>12</td>\n",
       "    </tr>\n",
       "    <tr>\n",
       "      <th>688694</th>\n",
       "      <td>SP</td>\n",
       "      <td>8061</td>\n",
       "      <td>DF</td>\n",
       "      <td>70236</td>\n",
       "      <td>express</td>\n",
       "      <td>1</td>\n",
       "      <td>0</td>\n",
       "      <td>done</td>\n",
       "      <td>2019-03-15 00:00:00</td>\n",
       "      <td>2019-03-15 16:04:00</td>\n",
       "      <td>2019-03-18 12:00:00</td>\n",
       "      <td>1</td>\n",
       "    </tr>\n",
       "    <tr>\n",
       "      <th>265381</th>\n",
       "      <td>SP</td>\n",
       "      <td>3118</td>\n",
       "      <td>BA</td>\n",
       "      <td>48455</td>\n",
       "      <td>standard</td>\n",
       "      <td>3</td>\n",
       "      <td>1</td>\n",
       "      <td>done</td>\n",
       "      <td>2019-03-10 00:00:00</td>\n",
       "      <td>2019-03-11 14:58:00</td>\n",
       "      <td>2019-03-27 07:56:00</td>\n",
       "      <td>12</td>\n",
       "    </tr>\n",
       "    <tr>\n",
       "      <th>955415</th>\n",
       "      <td>SP</td>\n",
       "      <td>14402</td>\n",
       "      <td>DF</td>\n",
       "      <td>71503</td>\n",
       "      <td>standard</td>\n",
       "      <td>1</td>\n",
       "      <td>4</td>\n",
       "      <td>done</td>\n",
       "      <td>2019-03-01 00:00:00</td>\n",
       "      <td>2019-03-07 03:55:36</td>\n",
       "      <td>2019-03-11 16:39:00</td>\n",
       "      <td>1</td>\n",
       "    </tr>\n",
       "  </tbody>\n",
       "</table>\n",
       "</div>"
      ],
      "text/plain": [
       "       sender_state  sender_zipcode receiver_state  receiver_zipcode  \\\n",
       "157105           SP           14405             MG             37706   \n",
       "374554           BA           40260             SE             49088   \n",
       "688694           SP            8061             DF             70236   \n",
       "265381           SP            3118             BA             48455   \n",
       "955415           SP           14402             DF             71503   \n",
       "\n",
       "       shipment_type  quantity  service status         date_created  \\\n",
       "157105      standard         2        3   done  2019-03-13 00:00:00   \n",
       "374554      standard         1        1   done  2019-03-04 00:00:00   \n",
       "688694       express         1        0   done  2019-03-15 00:00:00   \n",
       "265381      standard         3        1   done  2019-03-10 00:00:00   \n",
       "955415      standard         1        4   done  2019-03-01 00:00:00   \n",
       "\n",
       "                  date_sent           date_visit  target  \n",
       "157105  2019-03-19 20:52:00  2019-03-22 11:00:00       3  \n",
       "374554  2019-03-06 15:32:00  2019-03-23 11:23:00      12  \n",
       "688694  2019-03-15 16:04:00  2019-03-18 12:00:00       1  \n",
       "265381  2019-03-11 14:58:00  2019-03-27 07:56:00      12  \n",
       "955415  2019-03-07 03:55:36  2019-03-11 16:39:00       1  "
      ]
     },
     "execution_count": 12,
     "metadata": {},
     "output_type": "execute_result"
    }
   ],
   "source": [
    "df.sample(5)"
   ]
  },
  {
   "cell_type": "code",
   "execution_count": 13,
   "metadata": {},
   "outputs": [
    {
     "data": {
      "text/plain": [
       "sender_state        object\n",
       "sender_zipcode       int64\n",
       "receiver_state      object\n",
       "receiver_zipcode     int64\n",
       "shipment_type       object\n",
       "quantity             int64\n",
       "service              int64\n",
       "status              object\n",
       "date_created        object\n",
       "date_sent           object\n",
       "date_visit          object\n",
       "target               int64\n",
       "dtype: object"
      ]
     },
     "execution_count": 13,
     "metadata": {},
     "output_type": "execute_result"
    }
   ],
   "source": [
    "df.dtypes"
   ]
  },
  {
   "cell_type": "code",
   "execution_count": 14,
   "metadata": {},
   "outputs": [
    {
     "data": {
      "text/html": [
       "<div>\n",
       "<style scoped>\n",
       "    .dataframe tbody tr th:only-of-type {\n",
       "        vertical-align: middle;\n",
       "    }\n",
       "\n",
       "    .dataframe tbody tr th {\n",
       "        vertical-align: top;\n",
       "    }\n",
       "\n",
       "    .dataframe thead th {\n",
       "        text-align: right;\n",
       "    }\n",
       "</style>\n",
       "<table border=\"1\" class=\"dataframe\">\n",
       "  <thead>\n",
       "    <tr style=\"text-align: right;\">\n",
       "      <th></th>\n",
       "      <th>sender_zipcode</th>\n",
       "      <th>receiver_zipcode</th>\n",
       "      <th>quantity</th>\n",
       "      <th>service</th>\n",
       "      <th>target</th>\n",
       "    </tr>\n",
       "  </thead>\n",
       "  <tbody>\n",
       "    <tr>\n",
       "      <th>count</th>\n",
       "      <td>1000000.000000</td>\n",
       "      <td>1000000.000000</td>\n",
       "      <td>1000000.000000</td>\n",
       "      <td>1000000.000000</td>\n",
       "      <td>1000000.000000</td>\n",
       "    </tr>\n",
       "    <tr>\n",
       "      <th>mean</th>\n",
       "      <td>22637.975896</td>\n",
       "      <td>41650.306365</td>\n",
       "      <td>1.277814</td>\n",
       "      <td>1.182677</td>\n",
       "      <td>6.021577</td>\n",
       "    </tr>\n",
       "    <tr>\n",
       "      <th>std</th>\n",
       "      <td>27817.028435</td>\n",
       "      <td>30952.352631</td>\n",
       "      <td>0.661583</td>\n",
       "      <td>1.486557</td>\n",
       "      <td>5.157973</td>\n",
       "    </tr>\n",
       "    <tr>\n",
       "      <th>min</th>\n",
       "      <td>1001.000000</td>\n",
       "      <td>1001.000000</td>\n",
       "      <td>1.000000</td>\n",
       "      <td>0.000000</td>\n",
       "      <td>0.000000</td>\n",
       "    </tr>\n",
       "    <tr>\n",
       "      <th>25%</th>\n",
       "      <td>4836.000000</td>\n",
       "      <td>13465.000000</td>\n",
       "      <td>1.000000</td>\n",
       "      <td>0.000000</td>\n",
       "      <td>2.000000</td>\n",
       "    </tr>\n",
       "    <tr>\n",
       "      <th>50%</th>\n",
       "      <td>12091.000000</td>\n",
       "      <td>35164.000000</td>\n",
       "      <td>1.000000</td>\n",
       "      <td>1.000000</td>\n",
       "      <td>4.000000</td>\n",
       "    </tr>\n",
       "    <tr>\n",
       "      <th>75%</th>\n",
       "      <td>23050.000000</td>\n",
       "      <td>72308.000000</td>\n",
       "      <td>1.000000</td>\n",
       "      <td>1.000000</td>\n",
       "      <td>9.000000</td>\n",
       "    </tr>\n",
       "    <tr>\n",
       "      <th>max</th>\n",
       "      <td>99990.000000</td>\n",
       "      <td>99990.000000</td>\n",
       "      <td>5.000000</td>\n",
       "      <td>11.000000</td>\n",
       "      <td>118.000000</td>\n",
       "    </tr>\n",
       "  </tbody>\n",
       "</table>\n",
       "</div>"
      ],
      "text/plain": [
       "       sender_zipcode  receiver_zipcode        quantity         service  \\\n",
       "count  1000000.000000    1000000.000000  1000000.000000  1000000.000000   \n",
       "mean     22637.975896      41650.306365        1.277814        1.182677   \n",
       "std      27817.028435      30952.352631        0.661583        1.486557   \n",
       "min       1001.000000       1001.000000        1.000000        0.000000   \n",
       "25%       4836.000000      13465.000000        1.000000        0.000000   \n",
       "50%      12091.000000      35164.000000        1.000000        1.000000   \n",
       "75%      23050.000000      72308.000000        1.000000        1.000000   \n",
       "max      99990.000000      99990.000000        5.000000       11.000000   \n",
       "\n",
       "               target  \n",
       "count  1000000.000000  \n",
       "mean         6.021577  \n",
       "std          5.157973  \n",
       "min          0.000000  \n",
       "25%          2.000000  \n",
       "50%          4.000000  \n",
       "75%          9.000000  \n",
       "max        118.000000  "
      ]
     },
     "execution_count": 14,
     "metadata": {},
     "output_type": "execute_result"
    }
   ],
   "source": [
    "df.describe()"
   ]
  },
  {
   "cell_type": "markdown",
   "metadata": {},
   "source": [
    "####  Implementación\n",
    "Solo vamos a diferenciar dos tipos de envíos:\n",
    "​ rápidos: un envío es rápido si llega antes de 3 días hábiles \n",
    "​ y lentos: si llega después de 3 días hábiles.\n",
    "Esto nos reduce los problemas de clasificación a solo 2 clases.\n"
   ]
  },
  {
   "cell_type": "markdown",
   "metadata": {},
   "source": [
    "#### Definiciones básicas:\n",
    "1- Definir una métrica binaria para evaluar los modelos\n",
    "\n"
   ]
  },
  {
   "cell_type": "code",
   "execution_count": null,
   "metadata": {},
   "outputs": [],
   "source": []
  },
  {
   "cell_type": "markdown",
   "metadata": {},
   "source": [
    "2- Diseñar un modelo -baseline- para los envíos de SP a SP, como el modelo más\n",
    "simple posible. Para esto no necesitamos machine learning, solo proponer una\n",
    "heurística a partir de los datos observados en los prácticos de análisis\n"
   ]
  },
  {
   "cell_type": "code",
   "execution_count": null,
   "metadata": {},
   "outputs": [],
   "source": []
  },
  {
   "cell_type": "markdown",
   "metadata": {},
   "source": [
    "3- Calcular la métrica y la matriz de confusión para el baseline"
   ]
  },
  {
   "cell_type": "code",
   "execution_count": null,
   "metadata": {},
   "outputs": [],
   "source": []
  },
  {
   "cell_type": "code",
   "execution_count": null,
   "metadata": {},
   "outputs": [],
   "source": []
  },
  {
   "cell_type": "code",
   "execution_count": null,
   "metadata": {},
   "outputs": [],
   "source": []
  },
  {
   "cell_type": "markdown",
   "metadata": {},
   "source": [
    "#### Preparación de los features:\n",
    "4- Con la intención de salvar las rutas poco representadas, implementar una codificación para los features:  sender_zipcode y  receiver_zipcode\n",
    "\n"
   ]
  },
  {
   "cell_type": "code",
   "execution_count": null,
   "metadata": {},
   "outputs": [],
   "source": []
  },
  {
   "cell_type": "markdown",
   "metadata": {},
   "source": [
    "5- Seleccionar un conjunto de features para entrenar modelos de machine learning"
   ]
  },
  {
   "cell_type": "code",
   "execution_count": null,
   "metadata": {},
   "outputs": [],
   "source": []
  },
  {
   "cell_type": "code",
   "execution_count": null,
   "metadata": {},
   "outputs": [],
   "source": []
  },
  {
   "cell_type": "code",
   "execution_count": null,
   "metadata": {},
   "outputs": [],
   "source": []
  },
  {
   "cell_type": "markdown",
   "metadata": {},
   "source": [
    "#### Clustering:\n",
    "6- Clusterizar los envíos basados únicamente en las rutas. Para esto recomiendo utilizar KMeans\n"
   ]
  },
  {
   "cell_type": "code",
   "execution_count": null,
   "metadata": {},
   "outputs": [],
   "source": []
  },
  {
   "cell_type": "markdown",
   "metadata": {},
   "source": [
    "7- (*) Cual es el número óptimo de clusters? (Ver método de ​ Elbow​ con KMeans)\n"
   ]
  },
  {
   "cell_type": "code",
   "execution_count": null,
   "metadata": {},
   "outputs": [],
   "source": []
  },
  {
   "cell_type": "markdown",
   "metadata": {},
   "source": [
    "8- Describir brevemente las características interesante de los clusters\n"
   ]
  },
  {
   "cell_type": "code",
   "execution_count": null,
   "metadata": {},
   "outputs": [],
   "source": []
  },
  {
   "cell_type": "markdown",
   "metadata": {},
   "source": [
    "#### Modelos lineales:\n",
    "9- Leer sobre accuracy, precision y recall para agregarlas al pool de métricas que vamos a utilizar.\n"
   ]
  },
  {
   "cell_type": "code",
   "execution_count": null,
   "metadata": {},
   "outputs": [],
   "source": []
  },
  {
   "cell_type": "markdown",
   "metadata": {},
   "source": [
    "10- Implementar un modelo basado en regresión lineal, calcular las métricas y la matriz de confusión\n"
   ]
  },
  {
   "cell_type": "code",
   "execution_count": null,
   "metadata": {},
   "outputs": [],
   "source": []
  },
  {
   "cell_type": "markdown",
   "metadata": {},
   "source": [
    "11- Implementar un modelo basado en regresión logística, calcular las métricas y la matriz de confusión\n"
   ]
  },
  {
   "cell_type": "code",
   "execution_count": null,
   "metadata": {},
   "outputs": [],
   "source": []
  },
  {
   "cell_type": "markdown",
   "metadata": {},
   "source": [
    "12- Cual es la principal diferencia entre estos modelos? Tuviste que hacer algún tipo de post-procesamiento?\n"
   ]
  },
  {
   "cell_type": "code",
   "execution_count": null,
   "metadata": {},
   "outputs": [],
   "source": []
  },
  {
   "cell_type": "markdown",
   "metadata": {},
   "source": [
    "13- Estandarizar los features seleccionados y re entrenar los modelos. Las métricas\n",
    "mejoran? Explicar por qué.\n"
   ]
  },
  {
   "cell_type": "code",
   "execution_count": null,
   "metadata": {},
   "outputs": [],
   "source": []
  }
 ],
 "metadata": {
  "kernelspec": {
   "display_name": "Python 3",
   "language": "python",
   "name": "python3"
  },
  "language_info": {
   "codemirror_mode": {
    "name": "ipython",
    "version": 3
   },
   "file_extension": ".py",
   "mimetype": "text/x-python",
   "name": "python",
   "nbconvert_exporter": "python",
   "pygments_lexer": "ipython3",
   "version": "3.7.1"
  }
 },
 "nbformat": 4,
 "nbformat_minor": 2
}
