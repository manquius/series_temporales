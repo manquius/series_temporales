{
 "cells": [
  {
   "cell_type": "markdown",
   "metadata": {},
   "source": [
    "# DiploDatos 2019 - Análisis de Series Temporales\n",
    "\n",
    "## Integrantes\n",
    "\n",
    "| Nombre | e-mail |\n",
    "|------|------|\n",
    "|Rivadero, Isabel | isarivadero@hotmail.com |\n",
    "|Vargas, Miguel | lvc0107@protonmail.com |\n",
    "|Mancuso, Fernando | manquius@gmail.com |\n",
    "\n",
    "\n",
    "\n",
    "## Introducción\n",
    "En este práctico se propone explorar un dataset que contiene información de varias agencias de correo de Brasil, con el objetivo de extraer toda la información relevante sobre estos datos y presentarla de manera organizada y sencilla.\n",
    "En estos datos vamos a encontrar información geográfica de los compradores y vendedores, el tipo de servicio por el que viajan los paquetes, el estado del paquete, algunas fechas relevantes y la cantidad de días hábiles que tardó el envío en llegar a su destino (target)."
   ]
  },
  {
   "cell_type": "markdown",
   "metadata": {},
   "source": [
    "## Dataset"
   ]
  },
  {
   "cell_type": "markdown",
   "metadata": {},
   "source": [
    "## Definiciones"
   ]
  },
  {
   "cell_type": "code",
   "execution_count": 3,
   "metadata": {},
   "outputs": [],
   "source": [
    "%matplotlib inline\n",
    "import numpy as np\n",
    "import pandas as pd\n",
    "import matplotlib.pyplot as plt\n",
    "import seaborn as sb\n",
    "sb.set(rc={'figure.figsize':(10,6)})\n",
    "#plt.figure(figsize=(10,6))\n",
    "\n",
    "cols = ['service',\n",
    "        'sender_zipcode',\n",
    "        'receiver_zipcode',\n",
    "        'sender_state',\n",
    "        'receiver_state',\n",
    "        'shipment_type',\n",
    "        'quantity',\n",
    "        'status',\n",
    "        'date_created',\n",
    "        'date_sent',\n",
    "        'date_visit',\n",
    "        'target']\n",
    "cols_holidays = ['holiday', \n",
    "                 'description']\n",
    "data_path = './shipments_BR_201903.csv'\n",
    "holidays = './holidays.csv'"
   ]
  },
  {
   "cell_type": "code",
   "execution_count": 5,
   "metadata": {},
   "outputs": [
    {
     "data": {
      "text/plain": [
       "(1000000, 12)"
      ]
     },
     "execution_count": 5,
     "metadata": {},
     "output_type": "execute_result"
    }
   ],
   "source": [
    "df = pd.read_csv(data_path, usecols=cols)\n",
    "df.shape"
   ]
  },
  {
   "cell_type": "code",
   "execution_count": 214,
   "metadata": {},
   "outputs": [
    {
     "data": {
      "text/html": [
       "<div>\n",
       "<style scoped>\n",
       "    .dataframe tbody tr th:only-of-type {\n",
       "        vertical-align: middle;\n",
       "    }\n",
       "\n",
       "    .dataframe tbody tr th {\n",
       "        vertical-align: top;\n",
       "    }\n",
       "\n",
       "    .dataframe thead th {\n",
       "        text-align: right;\n",
       "    }\n",
       "</style>\n",
       "<table border=\"1\" class=\"dataframe\">\n",
       "  <thead>\n",
       "    <tr style=\"text-align: right;\">\n",
       "      <th></th>\n",
       "      <th>sender_state</th>\n",
       "      <th>sender_zipcode</th>\n",
       "      <th>receiver_state</th>\n",
       "      <th>receiver_zipcode</th>\n",
       "      <th>shipment_type</th>\n",
       "      <th>quantity</th>\n",
       "      <th>service</th>\n",
       "      <th>status</th>\n",
       "      <th>date_created</th>\n",
       "      <th>date_sent</th>\n",
       "      <th>date_visit</th>\n",
       "      <th>target</th>\n",
       "    </tr>\n",
       "  </thead>\n",
       "  <tbody>\n",
       "    <tr>\n",
       "      <th>0</th>\n",
       "      <td>SP</td>\n",
       "      <td>3005</td>\n",
       "      <td>SP</td>\n",
       "      <td>5409</td>\n",
       "      <td>express</td>\n",
       "      <td>1</td>\n",
       "      <td>0</td>\n",
       "      <td>done</td>\n",
       "      <td>2019-03-04 00:00:00</td>\n",
       "      <td>2019-03-05 13:24:00</td>\n",
       "      <td>2019-03-07 18:01:00</td>\n",
       "      <td>2</td>\n",
       "    </tr>\n",
       "    <tr>\n",
       "      <th>1</th>\n",
       "      <td>SP</td>\n",
       "      <td>17052</td>\n",
       "      <td>MG</td>\n",
       "      <td>37750</td>\n",
       "      <td>standard</td>\n",
       "      <td>1</td>\n",
       "      <td>1</td>\n",
       "      <td>done</td>\n",
       "      <td>2019-03-19 00:00:00</td>\n",
       "      <td>2019-03-20 14:44:00</td>\n",
       "      <td>2019-03-27 10:21:00</td>\n",
       "      <td>5</td>\n",
       "    </tr>\n",
       "    <tr>\n",
       "      <th>2</th>\n",
       "      <td>SP</td>\n",
       "      <td>2033</td>\n",
       "      <td>SP</td>\n",
       "      <td>11040</td>\n",
       "      <td>express</td>\n",
       "      <td>1</td>\n",
       "      <td>0</td>\n",
       "      <td>done</td>\n",
       "      <td>2019-02-18 00:00:00</td>\n",
       "      <td>2019-02-21 15:08:00</td>\n",
       "      <td>2019-02-28 18:19:00</td>\n",
       "      <td>5</td>\n",
       "    </tr>\n",
       "    <tr>\n",
       "      <th>3</th>\n",
       "      <td>SP</td>\n",
       "      <td>13900</td>\n",
       "      <td>SP</td>\n",
       "      <td>18500</td>\n",
       "      <td>express</td>\n",
       "      <td>1</td>\n",
       "      <td>0</td>\n",
       "      <td>done</td>\n",
       "      <td>2019-03-09 00:00:00</td>\n",
       "      <td>2019-03-11 15:48:00</td>\n",
       "      <td>2019-03-12 13:33:00</td>\n",
       "      <td>1</td>\n",
       "    </tr>\n",
       "    <tr>\n",
       "      <th>4</th>\n",
       "      <td>SP</td>\n",
       "      <td>4361</td>\n",
       "      <td>RS</td>\n",
       "      <td>96810</td>\n",
       "      <td>express</td>\n",
       "      <td>1</td>\n",
       "      <td>0</td>\n",
       "      <td>done</td>\n",
       "      <td>2019-03-08 00:00:00</td>\n",
       "      <td>2019-03-12 08:19:00</td>\n",
       "      <td>2019-03-16 08:24:00</td>\n",
       "      <td>4</td>\n",
       "    </tr>\n",
       "  </tbody>\n",
       "</table>\n",
       "</div>"
      ],
      "text/plain": [
       "  sender_state  sender_zipcode receiver_state  receiver_zipcode shipment_type  \\\n",
       "0           SP            3005             SP              5409       express   \n",
       "1           SP           17052             MG             37750      standard   \n",
       "2           SP            2033             SP             11040       express   \n",
       "3           SP           13900             SP             18500       express   \n",
       "4           SP            4361             RS             96810       express   \n",
       "\n",
       "   quantity  service status         date_created            date_sent  \\\n",
       "0         1        0   done  2019-03-04 00:00:00  2019-03-05 13:24:00   \n",
       "1         1        1   done  2019-03-19 00:00:00  2019-03-20 14:44:00   \n",
       "2         1        0   done  2019-02-18 00:00:00  2019-02-21 15:08:00   \n",
       "3         1        0   done  2019-03-09 00:00:00  2019-03-11 15:48:00   \n",
       "4         1        0   done  2019-03-08 00:00:00  2019-03-12 08:19:00   \n",
       "\n",
       "            date_visit  target  \n",
       "0  2019-03-07 18:01:00       2  \n",
       "1  2019-03-27 10:21:00       5  \n",
       "2  2019-02-28 18:19:00       5  \n",
       "3  2019-03-12 13:33:00       1  \n",
       "4  2019-03-16 08:24:00       4  "
      ]
     },
     "execution_count": 214,
     "metadata": {},
     "output_type": "execute_result"
    }
   ],
   "source": [
    "df.head()"
   ]
  },
  {
   "cell_type": "markdown",
   "metadata": {},
   "source": [
    "#### Referencia de las columnas\n",
    "* **service**: Identificador unico que corresponde a un tipo de servicio de un correo en particular.\n",
    "* **sender_zipcode:** Código postal de quien envía el paquete (usualmente el vendedor).\n",
    "* **receiver_zipcode:** Código postal de quien recibe el paquete (usualmente el comprador).\n",
    "* **sender_state:** Nombre abreviado del estado de quien envía el paquete.\n",
    "* **receiver_state:** Nombre abreviado del estado de quien recibe el paquete.\n",
    "* **quantity:** Cantidad de items que tiene dentro el paquete.\n",
    "* **status:** Estado final del envío.\n",
    "* **date_created:** Fecha de compra de el o los items.\n",
    "* **date_sent:** Fecha en que el correo recibe el paquete.\n",
    "* **date_visit:** Fecha en que el correo entrega el paquete.\n",
    "* **target:** Cantidad de dias hábiles que tardó el correo en entregar el paquete desde que lo recibe.\n"
   ]
  },
  {
   "cell_type": "markdown",
   "metadata": {},
   "source": [
    "#### Feriados"
   ]
  },
  {
   "cell_type": "code",
   "execution_count": 215,
   "metadata": {},
   "outputs": [
    {
     "data": {
      "text/plain": [
       "(26, 2)"
      ]
     },
     "execution_count": 215,
     "metadata": {},
     "output_type": "execute_result"
    }
   ],
   "source": [
    "df_h = pd.read_csv(holidays, usecols=cols_holidays)\n",
    "df_h.shape"
   ]
  },
  {
   "cell_type": "code",
   "execution_count": 216,
   "metadata": {},
   "outputs": [
    {
     "data": {
      "text/html": [
       "<div>\n",
       "<style scoped>\n",
       "    .dataframe tbody tr th:only-of-type {\n",
       "        vertical-align: middle;\n",
       "    }\n",
       "\n",
       "    .dataframe tbody tr th {\n",
       "        vertical-align: top;\n",
       "    }\n",
       "\n",
       "    .dataframe thead th {\n",
       "        text-align: right;\n",
       "    }\n",
       "</style>\n",
       "<table border=\"1\" class=\"dataframe\">\n",
       "  <thead>\n",
       "    <tr style=\"text-align: right;\">\n",
       "      <th></th>\n",
       "      <th>holiday</th>\n",
       "      <th>description</th>\n",
       "    </tr>\n",
       "  </thead>\n",
       "  <tbody>\n",
       "    <tr>\n",
       "      <th>23</th>\n",
       "      <td>2019-12-23</td>\n",
       "      <td>Noche buena</td>\n",
       "    </tr>\n",
       "    <tr>\n",
       "      <th>15</th>\n",
       "      <td>2018-12-31</td>\n",
       "      <td>Ano Novo</td>\n",
       "    </tr>\n",
       "    <tr>\n",
       "      <th>19</th>\n",
       "      <td>2019-07-08</td>\n",
       "      <td>Data Magna do Estado de São Paulo</td>\n",
       "    </tr>\n",
       "    <tr>\n",
       "      <th>3</th>\n",
       "      <td>2019-03-31</td>\n",
       "      <td>Páscoa</td>\n",
       "    </tr>\n",
       "    <tr>\n",
       "      <th>17</th>\n",
       "      <td>2019-05-30</td>\n",
       "      <td>Corpus Christi</td>\n",
       "    </tr>\n",
       "  </tbody>\n",
       "</table>\n",
       "</div>"
      ],
      "text/plain": [
       "       holiday                        description\n",
       "23  2019-12-23                        Noche buena\n",
       "15  2018-12-31                           Ano Novo\n",
       "19  2019-07-08  Data Magna do Estado de São Paulo\n",
       "3   2019-03-31                             Páscoa\n",
       "17  2019-05-30                     Corpus Christi"
      ]
     },
     "execution_count": 216,
     "metadata": {},
     "output_type": "execute_result"
    }
   ],
   "source": [
    "df_h.sample(5)"
   ]
  },
  {
   "cell_type": "markdown",
   "metadata": {},
   "source": [
    "# 1. Información general"
   ]
  },
  {
   "cell_type": "markdown",
   "metadata": {},
   "source": [
    "**1.1 Cantidad y proporción de envíos, servicios, tipos de envíos y rutas (consideramos como ruta la tripla zipcode, zipcode, servicio).**\n"
   ]
  },
  {
   "cell_type": "code",
   "execution_count": 217,
   "metadata": {},
   "outputs": [
    {
     "name": "stdout",
     "output_type": "stream",
     "text": [
      "Cantidad de servicios: 12\n"
     ]
    }
   ],
   "source": [
    "services = pd.unique(df['service']).tolist()\n",
    "print(f\"Cantidad de servicios: {len(services)}\")"
   ]
  },
  {
   "cell_type": "code",
   "execution_count": 218,
   "metadata": {},
   "outputs": [
    {
     "name": "stdout",
     "output_type": "stream",
     "text": [
      "Cantidad de envíos: 1000000\n"
     ]
    }
   ],
   "source": [
    "print(f\"Cantidad de envíos: {len(df)}\")"
   ]
  },
  {
   "cell_type": "markdown",
   "metadata": {},
   "source": [
    "Cantidad de envíos por servicio:"
   ]
  },
  {
   "cell_type": "code",
   "execution_count": 219,
   "metadata": {},
   "outputs": [
    {
     "data": {
      "text/plain": [
       "1     501509\n",
       "0     321839\n",
       "4      58517\n",
       "2      49185\n",
       "3      22057\n",
       "5      20116\n",
       "6      17602\n",
       "8       5288\n",
       "9       3224\n",
       "7        528\n",
       "10       134\n",
       "11         1\n",
       "Name: service, dtype: int64"
      ]
     },
     "execution_count": 219,
     "metadata": {},
     "output_type": "execute_result"
    }
   ],
   "source": [
    "df['service'].value_counts()"
   ]
  },
  {
   "cell_type": "code",
   "execution_count": 220,
   "metadata": {},
   "outputs": [
    {
     "data": {
      "text/plain": [
       "<matplotlib.axes._subplots.AxesSubplot at 0x1c423bc438>"
      ]
     },
     "execution_count": 220,
     "metadata": {},
     "output_type": "execute_result"
    },
    {
     "data": {
      "image/png": "[encoded data removed]",
      "text/plain": [
       "<Figure size 720x432 with 1 Axes>"
      ]
     },
     "metadata": {},
     "output_type": "display_data"
    }
   ],
   "source": [
    "sb.countplot(data=df, x='service')"
   ]
  },
  {
   "cell_type": "markdown",
   "metadata": {},
   "source": [
    "Cantidad de envíos por tipo de envío:"
   ]
  },
  {
   "cell_type": "code",
   "execution_count": 221,
   "metadata": {},
   "outputs": [
    {
     "data": {
      "text/plain": [
       "<matplotlib.axes._subplots.AxesSubplot at 0x1c11fb11d0>"
      ]
     },
     "execution_count": 221,
     "metadata": {},
     "output_type": "execute_result"
    },
    {
     "data": {
      "image/png": "[encoded data removed]",
      "text/plain": [
       "<Figure size 720x432 with 1 Axes>"
      ]
     },
     "metadata": {},
     "output_type": "display_data"
    }
   ],
   "source": [
    "sb.countplot(data=df, x='shipment_type')"
   ]
  },
  {
   "cell_type": "code",
   "execution_count": 222,
   "metadata": {},
   "outputs": [
    {
     "data": {
      "text/plain": [
       "standard    593467\n",
       "express     394600\n",
       "super        11933\n",
       "Name: shipment_type, dtype: int64"
      ]
     },
     "execution_count": 222,
     "metadata": {},
     "output_type": "execute_result"
    }
   ],
   "source": [
    "df['shipment_type'].value_counts()\n"
   ]
  },
  {
   "cell_type": "code",
   "execution_count": 223,
   "metadata": {},
   "outputs": [
    {
     "name": "stdout",
     "output_type": "stream",
     "text": [
      "Cantidad de rutas: 945777\n"
     ]
    }
   ],
   "source": [
    "routes = pd.DataFrame(df, columns=['sender_zipcode', 'receiver_zipcode', 'service']).copy()\n",
    "routes = routes.sort_values(by=['service']).copy()\n",
    "print(f\"Cantidad de rutas: {len(routes.drop_duplicates())}\")"
   ]
  },
  {
   "cell_type": "code",
   "execution_count": 224,
   "metadata": {},
   "outputs": [
    {
     "data": {
      "text/html": [
       "<div>\n",
       "<style scoped>\n",
       "    .dataframe tbody tr th:only-of-type {\n",
       "        vertical-align: middle;\n",
       "    }\n",
       "\n",
       "    .dataframe tbody tr th {\n",
       "        vertical-align: top;\n",
       "    }\n",
       "\n",
       "    .dataframe thead th {\n",
       "        text-align: right;\n",
       "    }\n",
       "</style>\n",
       "<table border=\"1\" class=\"dataframe\">\n",
       "  <thead>\n",
       "    <tr style=\"text-align: right;\">\n",
       "      <th></th>\n",
       "      <th>sender_zipcode</th>\n",
       "      <th>receiver_zipcode</th>\n",
       "      <th>service</th>\n",
       "    </tr>\n",
       "  </thead>\n",
       "  <tbody>\n",
       "    <tr>\n",
       "      <th>0</th>\n",
       "      <td>3005</td>\n",
       "      <td>5409</td>\n",
       "      <td>0</td>\n",
       "    </tr>\n",
       "    <tr>\n",
       "      <th>740868</th>\n",
       "      <td>9580</td>\n",
       "      <td>41720</td>\n",
       "      <td>0</td>\n",
       "    </tr>\n",
       "    <tr>\n",
       "      <th>320312</th>\n",
       "      <td>14070</td>\n",
       "      <td>59700</td>\n",
       "      <td>0</td>\n",
       "    </tr>\n",
       "    <tr>\n",
       "      <th>740871</th>\n",
       "      <td>3572</td>\n",
       "      <td>4616</td>\n",
       "      <td>0</td>\n",
       "    </tr>\n",
       "    <tr>\n",
       "      <th>320310</th>\n",
       "      <td>4904</td>\n",
       "      <td>17022</td>\n",
       "      <td>0</td>\n",
       "    </tr>\n",
       "  </tbody>\n",
       "</table>\n",
       "</div>"
      ],
      "text/plain": [
       "        sender_zipcode  receiver_zipcode  service\n",
       "0                 3005              5409        0\n",
       "740868            9580             41720        0\n",
       "320312           14070             59700        0\n",
       "740871            3572              4616        0\n",
       "320310            4904             17022        0"
      ]
     },
     "execution_count": 224,
     "metadata": {},
     "output_type": "execute_result"
    }
   ],
   "source": [
    "routes.head()\n"
   ]
  },
  {
   "cell_type": "code",
   "execution_count": 227,
   "metadata": {},
   "outputs": [],
   "source": [
    "routes_by_services = [route for _ , route in routes.groupby(routes['service'])]"
   ]
  },
  {
   "cell_type": "markdown",
   "metadata": {},
   "source": [
    "**Cantidad de rutas utilizadas por cada servicio:**"
   ]
  },
  {
   "cell_type": "code",
   "execution_count": 228,
   "metadata": {},
   "outputs": [
    {
     "data": {
      "text/html": [
       "<div>\n",
       "<style scoped>\n",
       "    .dataframe tbody tr th:only-of-type {\n",
       "        vertical-align: middle;\n",
       "    }\n",
       "\n",
       "    .dataframe tbody tr th {\n",
       "        vertical-align: top;\n",
       "    }\n",
       "\n",
       "    .dataframe thead th {\n",
       "        text-align: right;\n",
       "    }\n",
       "</style>\n",
       "<table border=\"1\" class=\"dataframe\">\n",
       "  <thead>\n",
       "    <tr style=\"text-align: right;\">\n",
       "      <th></th>\n",
       "      <th>service</th>\n",
       "      <th>amount_routes</th>\n",
       "    </tr>\n",
       "  </thead>\n",
       "  <tbody>\n",
       "    <tr>\n",
       "      <th>0</th>\n",
       "      <td>0</td>\n",
       "      <td>321839</td>\n",
       "    </tr>\n",
       "    <tr>\n",
       "      <th>1</th>\n",
       "      <td>1</td>\n",
       "      <td>501509</td>\n",
       "    </tr>\n",
       "    <tr>\n",
       "      <th>2</th>\n",
       "      <td>2</td>\n",
       "      <td>49185</td>\n",
       "    </tr>\n",
       "    <tr>\n",
       "      <th>3</th>\n",
       "      <td>3</td>\n",
       "      <td>22057</td>\n",
       "    </tr>\n",
       "    <tr>\n",
       "      <th>4</th>\n",
       "      <td>4</td>\n",
       "      <td>58517</td>\n",
       "    </tr>\n",
       "    <tr>\n",
       "      <th>5</th>\n",
       "      <td>5</td>\n",
       "      <td>20116</td>\n",
       "    </tr>\n",
       "    <tr>\n",
       "      <th>6</th>\n",
       "      <td>6</td>\n",
       "      <td>17602</td>\n",
       "    </tr>\n",
       "    <tr>\n",
       "      <th>7</th>\n",
       "      <td>7</td>\n",
       "      <td>528</td>\n",
       "    </tr>\n",
       "    <tr>\n",
       "      <th>8</th>\n",
       "      <td>8</td>\n",
       "      <td>5288</td>\n",
       "    </tr>\n",
       "    <tr>\n",
       "      <th>9</th>\n",
       "      <td>9</td>\n",
       "      <td>3224</td>\n",
       "    </tr>\n",
       "    <tr>\n",
       "      <th>10</th>\n",
       "      <td>10</td>\n",
       "      <td>134</td>\n",
       "    </tr>\n",
       "    <tr>\n",
       "      <th>11</th>\n",
       "      <td>11</td>\n",
       "      <td>1</td>\n",
       "    </tr>\n",
       "  </tbody>\n",
       "</table>\n",
       "</div>"
      ],
      "text/plain": [
       "    service  amount_routes\n",
       "0         0         321839\n",
       "1         1         501509\n",
       "2         2          49185\n",
       "3         3          22057\n",
       "4         4          58517\n",
       "5         5          20116\n",
       "6         6          17602\n",
       "7         7            528\n",
       "8         8           5288\n",
       "9         9           3224\n",
       "10       10            134\n",
       "11       11              1"
      ]
     },
     "execution_count": 228,
     "metadata": {},
     "output_type": "execute_result"
    }
   ],
   "source": [
    "# Creating an empty Dataframe with column names only\n",
    "df_routes = pd.DataFrame(columns=['service', 'amount_routes'], dtype=int)\n",
    "\n",
    "for service_id, service in enumerate(routes_by_services):\n",
    "    df_routes = df_routes.append({'service': service_id, 'amount_routes': len(service)}, ignore_index=True)\n",
    "df_routes"
   ]
  },
  {
   "cell_type": "markdown",
   "metadata": {},
   "source": [
    "**1.2 Puntos máximos y mínimos de cada feature.**\n"
   ]
  },
  {
   "cell_type": "code",
   "execution_count": 229,
   "metadata": {},
   "outputs": [
    {
     "data": {
      "text/plain": [
       "count    1000000.000000\n",
       "mean           6.021577\n",
       "std            5.157973\n",
       "min            0.000000\n",
       "25%            2.000000\n",
       "50%            4.000000\n",
       "75%            9.000000\n",
       "max          118.000000\n",
       "Name: target, dtype: float64"
      ]
     },
     "execution_count": 229,
     "metadata": {},
     "output_type": "execute_result"
    }
   ],
   "source": [
    "df['target'].describe()"
   ]
  },
  {
   "cell_type": "code",
   "execution_count": 230,
   "metadata": {},
   "outputs": [
    {
     "name": "stdout",
     "output_type": "stream",
     "text": [
      "Primera fecha de creación envío: 2018-09-26 00:00:00\n",
      "Ultima fecha de creación envío: 2019-06-28 00:00:00\n",
      "Primera fecha de envío: 2018-10-01 16:55:00\n",
      "Ultima fecha de envío: 2019-03-29 07:06:00\n",
      "Primera fecha de entrega del envío: 2019-02-28 00:03:00\n",
      "Ultima fecha de entregaa del envío: 2019-03-29 23:31:00\n"
     ]
    }
   ],
   "source": [
    "print(f\"Primera fecha de creación envío: {df['date_created'].min()}\")\n",
    "print(f\"Ultima fecha de creación envío: {df['date_created'].max()}\")\n",
    "\n",
    "print(f\"Primera fecha de envío: {df['date_sent'].min()}\")\n",
    "print(f\"Ultima fecha de envío: {df['date_sent'].max()}\")\n",
    "      \n",
    "print(f\"Primera fecha de entrega del envío: {df['date_visit'].min()}\")\n",
    "print(f\"Ultima fecha de entregaa del envío: {df['date_visit'].max()}\")\n",
    "      "
   ]
  },
  {
   "cell_type": "code",
   "execution_count": 231,
   "metadata": {},
   "outputs": [
    {
     "name": "stdout",
     "output_type": "stream",
     "text": [
      "Cantidad mínima de items en el envío : 1\n",
      "Cantidad máxima de items en el envío : 5\n"
     ]
    }
   ],
   "source": [
    "print(f\"Cantidad mínima de items en el envío : {df['quantity'].min()}\")\n",
    "print(f\"Cantidad máxima de items en el envío : {df['quantity'].max()}\")\n"
   ]
  },
  {
   "cell_type": "markdown",
   "metadata": {},
   "source": [
    "**1.3 Calcular estadísticos como la media, mediana, desviación estándar y percentiles del\n",
    "target.**"
   ]
  },
  {
   "cell_type": "code",
   "execution_count": 232,
   "metadata": {},
   "outputs": [
    {
     "name": "stdout",
     "output_type": "stream",
     "text": [
      "Valor minimo: 0\n",
      "Valor maximo: 118\n",
      "Media: 6.021577\n",
      "Dev std: 5.157973055157452\n",
      "Mediana: 4.0\n"
     ]
    }
   ],
   "source": [
    "print(f\"Valor minimo: {df['target'].min()}\")\n",
    "print(f\"Valor maximo: {df['target'].max()}\")\n",
    "print(f\"Media: {df['target'].mean()}\")\n",
    "print(f\"Dev std: {df['target'].std()}\")\n",
    "print(f\"Mediana: {df['target'].median()}\")\n",
    "      "
   ]
  },
  {
   "cell_type": "markdown",
   "metadata": {},
   "source": [
    "**1.4 Graficar la distribución del target ¿Responde a alguna distribución conocida?**\n"
   ]
  },
  {
   "cell_type": "code",
   "execution_count": 233,
   "metadata": {},
   "outputs": [
    {
     "data": {
      "text/plain": [
       "<matplotlib.axes._subplots.AxesSubplot at 0x1c11a1a588>"
      ]
     },
     "execution_count": 233,
     "metadata": {},
     "output_type": "execute_result"
    },
    {
     "data": {
      "image/png": "[encoded data removed]",
      "text/plain": [
       "<Figure size 720x432 with 1 Axes>"
      ]
     },
     "metadata": {},
     "output_type": "display_data"
    }
   ],
   "source": [
    "plt.figure(figsize=(10,6))\n",
    "sb.distplot(df['target'])"
   ]
  },
  {
   "cell_type": "markdown",
   "metadata": {},
   "source": [
    "La distribución tiene apariencia de distribuír como una exponcial."
   ]
  },
  {
   "cell_type": "code",
   "execution_count": 234,
   "metadata": {},
   "outputs": [
    {
     "data": {
      "text/plain": [
       "KstestResult(statistic=0.9764561589743064, pvalue=0.0)"
      ]
     },
     "execution_count": 234,
     "metadata": {},
     "output_type": "execute_result"
    }
   ],
   "source": [
    "from scipy.stats import expon, kstest\n",
    "kstest(df['target'], expon(scale=1.0 / df['target'].mean()).cdf)"
   ]
  },
  {
   "cell_type": "markdown",
   "metadata": {},
   "source": [
    "Sin embargo el estadistico KS(Kolmogorov-Smirnov) da un p-valor demasiado bajo\n",
    "Por lo tanto se rechaza la hipotesis de que el atributo target distribuya como exponencial."
   ]
  },
  {
   "cell_type": "markdown",
   "metadata": {},
   "source": [
    "**1.5 Graficar solo la parte más informativa de la distribución del target , teniendo cuidado\n",
    "con elegir correctamente los parámetros de los gráficos, como la cantidad de bins en\n",
    "un histograma.**\n"
   ]
  },
  {
   "cell_type": "markdown",
   "metadata": {},
   "source": [
    "Ploteamos hasta donde se concentran el 99% de los datos dejando fuera los outliers"
   ]
  },
  {
   "cell_type": "code",
   "execution_count": 250,
   "metadata": {},
   "outputs": [
    {
     "data": {
      "text/plain": [
       "<matplotlib.axes._subplots.AxesSubplot at 0x1c127a5828>"
      ]
     },
     "execution_count": 250,
     "metadata": {},
     "output_type": "execute_result"
    },
    {
     "data": {
      "image/png": "[encoded data removed]",
      "text/plain": [
       "<Figure size 720x432 with 1 Axes>"
      ]
     },
     "metadata": {},
     "output_type": "display_data"
    }
   ],
   "source": [
    "plt.figure(figsize=(10,6))\n",
    "df1 = df[df['target'] <= df['target'].quantile(0.99)]\n",
    "sb.distplot(df1['target'], bins=100)"
   ]
  },
  {
   "cell_type": "code",
   "execution_count": null,
   "metadata": {},
   "outputs": [],
   "source": []
  },
  {
   "cell_type": "markdown",
   "metadata": {},
   "source": [
    "**1.6 Identificar y graficar outliers. ¿Son significativos?**\n"
   ]
  },
  {
   "cell_type": "code",
   "execution_count": 236,
   "metadata": {},
   "outputs": [
    {
     "data": {
      "text/plain": [
       "<matplotlib.axes._subplots.AxesSubplot at 0x1ad057b630>"
      ]
     },
     "execution_count": 236,
     "metadata": {},
     "output_type": "execute_result"
    },
    {
     "data": {
      "image/png": "[encoded data removed]",
      "text/plain": [
       "<Figure size 756x612 with 1 Axes>"
      ]
     },
     "metadata": {},
     "output_type": "display_data"
    }
   ],
   "source": [
    "#plt.figure(figsize=(15,10))\n",
    "sb.set(rc={'figure.figsize':(10.5,8.5)})\n",
    "sb.boxplot(x=df['service'], y=df['target'], data=df, palette=\"Set1\")"
   ]
  },
  {
   "cell_type": "markdown",
   "metadata": {},
   "source": [
    "Análisis para servicio 0:"
   ]
  },
  {
   "cell_type": "code",
   "execution_count": 239,
   "metadata": {},
   "outputs": [
    {
     "data": {
      "text/plain": [
       "3.0"
      ]
     },
     "execution_count": 239,
     "metadata": {},
     "output_type": "execute_result"
    }
   ],
   "source": [
    "df[df['service'] == 0]['target'].quantile(0.75)"
   ]
  },
  {
   "cell_type": "code",
   "execution_count": 240,
   "metadata": {},
   "outputs": [
    {
     "data": {
      "text/plain": [
       "9.0"
      ]
     },
     "execution_count": 240,
     "metadata": {},
     "output_type": "execute_result"
    }
   ],
   "source": [
    "df[df['service'] == 0]['target'].quantile(0.99)"
   ]
  },
  {
   "cell_type": "code",
   "execution_count": 241,
   "metadata": {},
   "outputs": [
    {
     "data": {
      "text/plain": [
       "4569"
      ]
     },
     "execution_count": 241,
     "metadata": {},
     "output_type": "execute_result"
    }
   ],
   "source": [
    "service_0 = len(df[df['service'] == 0])\n",
    "service_0_9 = len(df[(df['service'] == 0 ) & (df['target'] < 9)])\n",
    "service_0 - service_0_9"
   ]
  },
  {
   "cell_type": "markdown",
   "metadata": {},
   "source": [
    "El 75% de los envíos tardó a lo sumo 3 dias en ser entregado.\n",
    "El 99% de los envíos tardó a lo sumo 9 dias en ser entregado.\n",
    "Esto indica que hay un 1% de envíos que demoraron entre 10 y 61 días. Estos son outliers para el servicio 0\n",
    "En total son 4569 paquetes que demoraron entre 10 y 61 días\n",
    "\n"
   ]
  },
  {
   "cell_type": "markdown",
   "metadata": {},
   "source": [
    "Analisís para el resto de los servicios:"
   ]
  },
  {
   "cell_type": "code",
   "execution_count": 242,
   "metadata": {},
   "outputs": [
    {
     "name": "stdout",
     "output_type": "stream",
     "text": [
      "percentil 75 para servicio 0 = 3.0\n",
      "percentil 75 para servicio 1 = 12.0\n",
      "percentil 75 para servicio 2 = 6.0\n",
      "percentil 75 para servicio 3 = 5.0\n",
      "percentil 75 para servicio 4 = 4.0\n",
      "percentil 75 para servicio 5 = 1.0\n",
      "percentil 75 para servicio 6 = 2.0\n",
      "percentil 75 para servicio 7 = 6.25\n",
      "percentil 75 para servicio 8 = 1.0\n",
      "percentil 75 para servicio 9 = 2.0\n",
      "percentil 75 para servicio 10 = 1.0\n",
      "percentil 75 para servicio 11 = 1.0\n"
     ]
    }
   ],
   "source": [
    "for i in range(12):\n",
    "    per_75 = df[df['service'] == i]['target'].quantile(0.75)\n",
    "    print(f\"percentil 75 para servicio {i} = {per_75}\")"
   ]
  },
  {
   "cell_type": "code",
   "execution_count": 243,
   "metadata": {},
   "outputs": [
    {
     "name": "stdout",
     "output_type": "stream",
     "text": [
      "percentil 99 para servicio 0 = 9.0\n",
      "percentil 99 para servicio 1 = 25.0\n",
      "percentil 99 para servicio 2 = 15.0\n",
      "percentil 99 para servicio 3 = 9.0\n",
      "percentil 99 para servicio 4 = 10.0\n",
      "percentil 99 para servicio 5 = 2.0\n",
      "percentil 99 para servicio 6 = 5.0\n",
      "percentil 99 para servicio 7 = 17.0\n",
      "percentil 99 para servicio 8 = 1.0\n",
      "percentil 99 para servicio 9 = 3.0\n",
      "percentil 99 para servicio 10 = 10.0\n",
      "percentil 99 para servicio 11 = 1.0\n"
     ]
    }
   ],
   "source": [
    "for i in range(12):\n",
    "    per_99 = df[df['service'] == i]['target'].quantile(0.99)\n",
    "    print(f\"percentil 99 para servicio {i} = {per_99}\")"
   ]
  },
  {
   "cell_type": "markdown",
   "metadata": {},
   "source": [
    "Claramente se observa que cualquier entrega que haya tomado más de 25 días en ser entregado es un ouliers\n",
    "También se observa que el servicio 1 en general demora muchos mas dias en entregar sus paquetes.\n",
    "Aunque tambien hay que destacar que este servicio es el que mas paquetes envía.\n",
    "Es de destacar que el servicio 7 es uno de los que mas demora aun enviando solo 505 paquetes.\n"
   ]
  },
  {
   "cell_type": "markdown",
   "metadata": {},
   "source": [
    "Sobre el servicio 7 se puede analizar un poco más en detalle que en en tiempo observado solo envió paquetes en dos meses y medio, (entre Enero y Febrero)."
   ]
  },
  {
   "cell_type": "code",
   "execution_count": 244,
   "metadata": {},
   "outputs": [
    {
     "data": {
      "text/plain": [
       "'2019-01-06 05:20:00'"
      ]
     },
     "execution_count": 244,
     "metadata": {},
     "output_type": "execute_result"
    }
   ],
   "source": [
    "df[df['service'] == 7 ]['date_sent'].min()"
   ]
  },
  {
   "cell_type": "code",
   "execution_count": 245,
   "metadata": {},
   "outputs": [
    {
     "data": {
      "text/plain": [
       "'2019-03-27 01:37:56'"
      ]
     },
     "execution_count": 245,
     "metadata": {},
     "output_type": "execute_result"
    }
   ],
   "source": [
    "df[df['service'] == 7 ]['date_sent'].max()"
   ]
  },
  {
   "cell_type": "code",
   "execution_count": 246,
   "metadata": {},
   "outputs": [
    {
     "data": {
      "text/plain": [
       "count    528.000000\n",
       "mean       6.475379\n",
       "std        5.308273\n",
       "min        0.000000\n",
       "25%        3.000000\n",
       "50%        5.000000\n",
       "75%        6.250000\n",
       "max       38.000000\n",
       "Name: target, dtype: float64"
      ]
     },
     "execution_count": 246,
     "metadata": {},
     "output_type": "execute_result"
    }
   ],
   "source": [
    "df[df['service'] == 7 ]['target'].describe()"
   ]
  },
  {
   "cell_type": "markdown",
   "metadata": {},
   "source": [
    "El total de outliers sobre el 99% de los envíos para todos los servicios es de 4063 paquetes.\n",
    "No resultan ser significativos desde un punto de vista análitico, aunque es necesario analizar el impacto económico"
   ]
  },
  {
   "cell_type": "code",
   "execution_count": 247,
   "metadata": {},
   "outputs": [
    {
     "data": {
      "text/plain": [
       "4063"
      ]
     },
     "execution_count": 247,
     "metadata": {},
     "output_type": "execute_result"
    }
   ],
   "source": [
    "outliers = len(df[df['target'] > 25])\n",
    "outliers"
   ]
  },
  {
   "cell_type": "markdown",
   "metadata": {},
   "source": [
    "**1.7 ¿Los fines de semana son diferentes a los días de semana? ¿En qué sentido?**\n"
   ]
  },
  {
   "cell_type": "code",
   "execution_count": 248,
   "metadata": {},
   "outputs": [],
   "source": [
    "import datetime as dt"
   ]
  },
  {
   "cell_type": "code",
   "execution_count": 249,
   "metadata": {},
   "outputs": [],
   "source": [
    "date_by_days = df.copy()\n",
    "date_by_days['date_created'] = pd.to_datetime(date_by_days['date_created'])\n",
    "date_by_days['dn_date_created'] = date_by_days['date_created'].apply(lambda x: x.day_name())\n",
    "date_by_days['date_sent'] = pd.to_datetime(date_by_days['date_sent'])\n",
    "date_by_days['dn_date_sent'] = date_by_days['date_sent'].apply(lambda x: x.day_name())\n",
    "date_by_days['date_visit'] = pd.to_datetime(date_by_days['date_visit'])\n",
    "date_by_days['dn_date_visit'] = date_by_days['date_visit'].apply(lambda x: x.day_name())"
   ]
  },
  {
   "cell_type": "code",
   "execution_count": 105,
   "metadata": {},
   "outputs": [
    {
     "data": {
      "text/plain": [
       "Tuesday      173153\n",
       "Wednesday    164127\n",
       "Monday       162587\n",
       "Thursday     155649\n",
       "Friday       133823\n",
       "Sunday       106375\n",
       "Saturday     104286\n",
       "Name: dn_date_created, dtype: int64"
      ]
     },
     "execution_count": 105,
     "metadata": {},
     "output_type": "execute_result"
    }
   ],
   "source": [
    "date_by_days['dn_date_created'].value_counts()"
   ]
  },
  {
   "cell_type": "code",
   "execution_count": 170,
   "metadata": {},
   "outputs": [
    {
     "data": {
      "text/plain": [
       "<matplotlib.axes._subplots.AxesSubplot at 0x1be5ba9c18>"
      ]
     },
     "execution_count": 170,
     "metadata": {},
     "output_type": "execute_result"
    },
    {
     "data": {
      "image/png": "[encoded data removed]",
      "text/plain": [
       "<Figure size 720x360 with 1 Axes>"
      ]
     },
     "metadata": {},
     "output_type": "display_data"
    }
   ],
   "source": [
    "sb.set(rc={'figure.figsize':(10,5)})\n",
    "sb.countplot(date_by_days['dn_date_created'])"
   ]
  },
  {
   "cell_type": "markdown",
   "metadata": {},
   "source": [
    "Como podemos observar los servicios de correo crean sus envios mayormente en días de la semana, mientras que los fines de semana se crean menos envíos."
   ]
  },
  {
   "cell_type": "code",
   "execution_count": 171,
   "metadata": {},
   "outputs": [
    {
     "data": {
      "text/plain": [
       "Monday       226608\n",
       "Tuesday      201105\n",
       "Wednesday    198988\n",
       "Thursday     172596\n",
       "Friday       166019\n",
       "Saturday      32629\n",
       "Sunday         2055\n",
       "Name: dn_date_sent, dtype: int64"
      ]
     },
     "execution_count": 171,
     "metadata": {},
     "output_type": "execute_result"
    }
   ],
   "source": [
    "date_by_days['dn_date_sent'].value_counts()"
   ]
  },
  {
   "cell_type": "code",
   "execution_count": 172,
   "metadata": {},
   "outputs": [
    {
     "data": {
      "text/plain": [
       "<matplotlib.axes._subplots.AxesSubplot at 0x1b7c81c550>"
      ]
     },
     "execution_count": 172,
     "metadata": {},
     "output_type": "execute_result"
    },
    {
     "data": {
      "image/png": "[encoded data removed]",
      "text/plain": [
       "<Figure size 720x360 with 1 Axes>"
      ]
     },
     "metadata": {},
     "output_type": "display_data"
    }
   ],
   "source": [
    "sb.countplot(date_by_days['dn_date_sent'])"
   ]
  },
  {
   "cell_type": "markdown",
   "metadata": {},
   "source": [
    "Tambien se observa que los servicios de correo envían sus paquetes mayormente en días de la semana, mientras que los fines de semana se envían menos paquetes."
   ]
  },
  {
   "cell_type": "code",
   "execution_count": 173,
   "metadata": {},
   "outputs": [
    {
     "data": {
      "text/plain": [
       "Thursday     222291\n",
       "Monday       186650\n",
       "Tuesday      180087\n",
       "Wednesday    177875\n",
       "Friday       173354\n",
       "Saturday      42280\n",
       "Sunday        17463\n",
       "Name: dn_date_visit, dtype: int64"
      ]
     },
     "execution_count": 173,
     "metadata": {},
     "output_type": "execute_result"
    }
   ],
   "source": [
    "date_by_days['dn_date_visit'].value_counts()"
   ]
  },
  {
   "cell_type": "code",
   "execution_count": 174,
   "metadata": {},
   "outputs": [
    {
     "data": {
      "text/plain": [
       "<matplotlib.axes._subplots.AxesSubplot at 0x1b7c86f518>"
      ]
     },
     "execution_count": 174,
     "metadata": {},
     "output_type": "execute_result"
    },
    {
     "data": {
      "image/png": "[encoded data removed]",
      "text/plain": [
       "<Figure size 720x360 with 1 Axes>"
      ]
     },
     "metadata": {},
     "output_type": "display_data"
    }
   ],
   "source": [
    "sb.countplot(date_by_days['dn_date_visit'])"
   ]
  },
  {
   "cell_type": "markdown",
   "metadata": {},
   "source": [
    "Finalmente los servicios de correo entregan sus paquetes mayormente en los días Jueves, mientras que los fines de semana se realizan menos entregas."
   ]
  },
  {
   "cell_type": "markdown",
   "metadata": {},
   "source": [
    "**1.8 ¿Existe algún periodo de tiempo diferente a los demás? Comparar gráficamente las\n",
    "distribuciones de los targets (Puede ayudar utilizar información externa).**\n"
   ]
  },
  {
   "cell_type": "code",
   "execution_count": 197,
   "metadata": {},
   "outputs": [],
   "source": [
    "data_sorted_by_date = df.sort_values(by=['date_sent']).copy()\n",
    "# delete hours- min- sec\n",
    "data_sorted_by_date['date_sent'] = pd.to_datetime(data_sorted_by_date['date_sent']).dt.date\n",
    "data_sorted_by_date['date_created'] = pd.to_datetime(data_sorted_by_date['date_created']).dt.date\n",
    "data_sorted_by_date['date_visit'] = pd.to_datetime(data_sorted_by_date['date_visit']).dt.date\n",
    "\n"
   ]
  },
  {
   "cell_type": "code",
   "execution_count": 196,
   "metadata": {},
   "outputs": [
    {
     "data": {
      "text/plain": [
       "<matplotlib.axes._subplots.AxesSubplot at 0x1afc480b38>"
      ]
     },
     "execution_count": 196,
     "metadata": {},
     "output_type": "execute_result"
    },
    {
     "data": {
      "image/png": "[encoded data removed]",
      "text/plain": [
       "<Figure size 720x360 with 1 Axes>"
      ]
     },
     "metadata": {},
     "output_type": "display_data"
    }
   ],
   "source": [
    "sb.lineplot(x='date_sent', y='target', data=data_sorted_by_date)"
   ]
  },
  {
   "cell_type": "markdown",
   "metadata": {},
   "source": [
    "Se observa que los primeros dias muestreados el servicio 1 realizó envíos que demoraron varios meses\n"
   ]
  },
  {
   "cell_type": "code",
   "execution_count": 195,
   "metadata": {},
   "outputs": [
    {
     "data": {
      "text/html": [
       "<div>\n",
       "<style scoped>\n",
       "    .dataframe tbody tr th:only-of-type {\n",
       "        vertical-align: middle;\n",
       "    }\n",
       "\n",
       "    .dataframe tbody tr th {\n",
       "        vertical-align: top;\n",
       "    }\n",
       "\n",
       "    .dataframe thead th {\n",
       "        text-align: right;\n",
       "    }\n",
       "</style>\n",
       "<table border=\"1\" class=\"dataframe\">\n",
       "  <thead>\n",
       "    <tr style=\"text-align: right;\">\n",
       "      <th></th>\n",
       "      <th>sender_state</th>\n",
       "      <th>sender_zipcode</th>\n",
       "      <th>receiver_state</th>\n",
       "      <th>receiver_zipcode</th>\n",
       "      <th>shipment_type</th>\n",
       "      <th>quantity</th>\n",
       "      <th>service</th>\n",
       "      <th>status</th>\n",
       "      <th>date_created</th>\n",
       "      <th>date_sent</th>\n",
       "      <th>date_visit</th>\n",
       "      <th>target</th>\n",
       "    </tr>\n",
       "  </thead>\n",
       "  <tbody>\n",
       "    <tr>\n",
       "      <th>860785</th>\n",
       "      <td>SP</td>\n",
       "      <td>4905</td>\n",
       "      <td>PR</td>\n",
       "      <td>86450</td>\n",
       "      <td>standard</td>\n",
       "      <td>1</td>\n",
       "      <td>1</td>\n",
       "      <td>done</td>\n",
       "      <td>2018-09-30</td>\n",
       "      <td>2018-10-01</td>\n",
       "      <td>2019-03-22</td>\n",
       "      <td>118</td>\n",
       "    </tr>\n",
       "    <tr>\n",
       "      <th>416653</th>\n",
       "      <td>PE</td>\n",
       "      <td>50721</td>\n",
       "      <td>RJ</td>\n",
       "      <td>21730</td>\n",
       "      <td>standard</td>\n",
       "      <td>1</td>\n",
       "      <td>1</td>\n",
       "      <td>done</td>\n",
       "      <td>2018-11-11</td>\n",
       "      <td>2018-11-15</td>\n",
       "      <td>2019-03-25</td>\n",
       "      <td>86</td>\n",
       "    </tr>\n",
       "    <tr>\n",
       "      <th>213876</th>\n",
       "      <td>RJ</td>\n",
       "      <td>24720</td>\n",
       "      <td>ES</td>\n",
       "      <td>29304</td>\n",
       "      <td>standard</td>\n",
       "      <td>3</td>\n",
       "      <td>1</td>\n",
       "      <td>done</td>\n",
       "      <td>2018-11-11</td>\n",
       "      <td>2018-11-16</td>\n",
       "      <td>2019-02-28</td>\n",
       "      <td>69</td>\n",
       "    </tr>\n",
       "    <tr>\n",
       "      <th>334207</th>\n",
       "      <td>MG</td>\n",
       "      <td>31170</td>\n",
       "      <td>RJ</td>\n",
       "      <td>28621</td>\n",
       "      <td>standard</td>\n",
       "      <td>2</td>\n",
       "      <td>1</td>\n",
       "      <td>done</td>\n",
       "      <td>2018-11-16</td>\n",
       "      <td>2018-11-19</td>\n",
       "      <td>2019-03-14</td>\n",
       "      <td>77</td>\n",
       "    </tr>\n",
       "    <tr>\n",
       "      <th>845332</th>\n",
       "      <td>RJ</td>\n",
       "      <td>20910</td>\n",
       "      <td>PB</td>\n",
       "      <td>58780</td>\n",
       "      <td>standard</td>\n",
       "      <td>1</td>\n",
       "      <td>1</td>\n",
       "      <td>failed</td>\n",
       "      <td>2018-11-21</td>\n",
       "      <td>2018-11-22</td>\n",
       "      <td>2019-03-22</td>\n",
       "      <td>80</td>\n",
       "    </tr>\n",
       "  </tbody>\n",
       "</table>\n",
       "</div>"
      ],
      "text/plain": [
       "       sender_state  sender_zipcode receiver_state  receiver_zipcode  \\\n",
       "860785           SP            4905             PR             86450   \n",
       "416653           PE           50721             RJ             21730   \n",
       "213876           RJ           24720             ES             29304   \n",
       "334207           MG           31170             RJ             28621   \n",
       "845332           RJ           20910             PB             58780   \n",
       "\n",
       "       shipment_type  quantity  service  status date_created   date_sent  \\\n",
       "860785      standard         1        1    done   2018-09-30  2018-10-01   \n",
       "416653      standard         1        1    done   2018-11-11  2018-11-15   \n",
       "213876      standard         3        1    done   2018-11-11  2018-11-16   \n",
       "334207      standard         2        1    done   2018-11-16  2018-11-19   \n",
       "845332      standard         1        1  failed   2018-11-21  2018-11-22   \n",
       "\n",
       "        date_visit  target  \n",
       "860785  2019-03-22     118  \n",
       "416653  2019-03-25      86  \n",
       "213876  2019-02-28      69  \n",
       "334207  2019-03-14      77  \n",
       "845332  2019-03-22      80  "
      ]
     },
     "execution_count": 195,
     "metadata": {},
     "output_type": "execute_result"
    }
   ],
   "source": [
    "data_sorted_by_date.head()"
   ]
  },
  {
   "cell_type": "markdown",
   "metadata": {},
   "source": [
    "Del ejercicio 1.5, sabemos que el 99% de las entregas tomo como a lo sumo 22 dias. Con esa información\n",
    "y observando el primer gráfico de este punto, sabemos que esas entregas se concretaron a partir de febrero de 2019\n",
    "Es decir que entre Febrero y Abril de 2019 se enviaron y entregaron el 99% de los paquetes.\n"
   ]
  },
  {
   "cell_type": "markdown",
   "metadata": {},
   "source": [
    "**1.9 Observando la distribución del target semana a semana. Explicar que sucede y cuál\n",
    "puede ser la razón. Graficar las distribuciones en conjunto o la diferencia entre ellas.**\n"
   ]
  },
  {
   "cell_type": "code",
   "execution_count": 303,
   "metadata": {},
   "outputs": [
    {
     "data": {
      "text/html": [
       "<div>\n",
       "<style scoped>\n",
       "    .dataframe tbody tr th:only-of-type {\n",
       "        vertical-align: middle;\n",
       "    }\n",
       "\n",
       "    .dataframe tbody tr th {\n",
       "        vertical-align: top;\n",
       "    }\n",
       "\n",
       "    .dataframe thead th {\n",
       "        text-align: right;\n",
       "    }\n",
       "</style>\n",
       "<table border=\"1\" class=\"dataframe\">\n",
       "  <thead>\n",
       "    <tr style=\"text-align: right;\">\n",
       "      <th></th>\n",
       "      <th>date_sent</th>\n",
       "      <th>target_by_week</th>\n",
       "    </tr>\n",
       "  </thead>\n",
       "  <tbody>\n",
       "    <tr>\n",
       "      <th>0</th>\n",
       "      <td>2018-09-30</td>\n",
       "      <td>118</td>\n",
       "    </tr>\n",
       "    <tr>\n",
       "      <th>1</th>\n",
       "      <td>2018-10-07</td>\n",
       "      <td>0</td>\n",
       "    </tr>\n",
       "    <tr>\n",
       "      <th>2</th>\n",
       "      <td>2018-10-14</td>\n",
       "      <td>0</td>\n",
       "    </tr>\n",
       "    <tr>\n",
       "      <th>3</th>\n",
       "      <td>2018-10-21</td>\n",
       "      <td>0</td>\n",
       "    </tr>\n",
       "    <tr>\n",
       "      <th>4</th>\n",
       "      <td>2018-10-28</td>\n",
       "      <td>0</td>\n",
       "    </tr>\n",
       "    <tr>\n",
       "      <th>5</th>\n",
       "      <td>2018-11-04</td>\n",
       "      <td>0</td>\n",
       "    </tr>\n",
       "    <tr>\n",
       "      <th>6</th>\n",
       "      <td>2018-11-11</td>\n",
       "      <td>155</td>\n",
       "    </tr>\n",
       "    <tr>\n",
       "      <th>7</th>\n",
       "      <td>2018-11-18</td>\n",
       "      <td>157</td>\n",
       "    </tr>\n",
       "    <tr>\n",
       "      <th>8</th>\n",
       "      <td>2018-11-25</td>\n",
       "      <td>396</td>\n",
       "    </tr>\n",
       "    <tr>\n",
       "      <th>9</th>\n",
       "      <td>2018-12-02</td>\n",
       "      <td>428</td>\n",
       "    </tr>\n",
       "    <tr>\n",
       "      <th>10</th>\n",
       "      <td>2018-12-09</td>\n",
       "      <td>356</td>\n",
       "    </tr>\n",
       "    <tr>\n",
       "      <th>11</th>\n",
       "      <td>2018-12-16</td>\n",
       "      <td>1424</td>\n",
       "    </tr>\n",
       "    <tr>\n",
       "      <th>12</th>\n",
       "      <td>2018-12-23</td>\n",
       "      <td>1186</td>\n",
       "    </tr>\n",
       "    <tr>\n",
       "      <th>13</th>\n",
       "      <td>2018-12-30</td>\n",
       "      <td>3339</td>\n",
       "    </tr>\n",
       "    <tr>\n",
       "      <th>14</th>\n",
       "      <td>2019-01-06</td>\n",
       "      <td>8360</td>\n",
       "    </tr>\n",
       "    <tr>\n",
       "      <th>15</th>\n",
       "      <td>2019-01-13</td>\n",
       "      <td>19261</td>\n",
       "    </tr>\n",
       "    <tr>\n",
       "      <th>16</th>\n",
       "      <td>2019-01-20</td>\n",
       "      <td>50954</td>\n",
       "    </tr>\n",
       "    <tr>\n",
       "      <th>17</th>\n",
       "      <td>2019-01-27</td>\n",
       "      <td>115870</td>\n",
       "    </tr>\n",
       "    <tr>\n",
       "      <th>18</th>\n",
       "      <td>2019-02-03</td>\n",
       "      <td>249050</td>\n",
       "    </tr>\n",
       "    <tr>\n",
       "      <th>19</th>\n",
       "      <td>2019-02-10</td>\n",
       "      <td>546479</td>\n",
       "    </tr>\n",
       "    <tr>\n",
       "      <th>20</th>\n",
       "      <td>2019-02-17</td>\n",
       "      <td>1203343</td>\n",
       "    </tr>\n",
       "    <tr>\n",
       "      <th>21</th>\n",
       "      <td>2019-02-24</td>\n",
       "      <td>1332413</td>\n",
       "    </tr>\n",
       "    <tr>\n",
       "      <th>22</th>\n",
       "      <td>2019-03-03</td>\n",
       "      <td>1142578</td>\n",
       "    </tr>\n",
       "    <tr>\n",
       "      <th>23</th>\n",
       "      <td>2019-03-10</td>\n",
       "      <td>868693</td>\n",
       "    </tr>\n",
       "    <tr>\n",
       "      <th>24</th>\n",
       "      <td>2019-03-17</td>\n",
       "      <td>418181</td>\n",
       "    </tr>\n",
       "    <tr>\n",
       "      <th>25</th>\n",
       "      <td>2019-03-24</td>\n",
       "      <td>58836</td>\n",
       "    </tr>\n",
       "  </tbody>\n",
       "</table>\n",
       "</div>"
      ],
      "text/plain": [
       "    date_sent  target_by_week\n",
       "0  2018-09-30             118\n",
       "1  2018-10-07               0\n",
       "2  2018-10-14               0\n",
       "3  2018-10-21               0\n",
       "4  2018-10-28               0\n",
       "5  2018-11-04               0\n",
       "6  2018-11-11             155\n",
       "7  2018-11-18             157\n",
       "8  2018-11-25             396\n",
       "9  2018-12-02             428\n",
       "10 2018-12-09             356\n",
       "11 2018-12-16            1424\n",
       "12 2018-12-23            1186\n",
       "13 2018-12-30            3339\n",
       "14 2019-01-06            8360\n",
       "15 2019-01-13           19261\n",
       "16 2019-01-20           50954\n",
       "17 2019-01-27          115870\n",
       "18 2019-02-03          249050\n",
       "19 2019-02-10          546479\n",
       "20 2019-02-17         1203343\n",
       "21 2019-02-24         1332413\n",
       "22 2019-03-03         1142578\n",
       "23 2019-03-10          868693\n",
       "24 2019-03-17          418181\n",
       "25 2019-03-24           58836"
      ]
     },
     "execution_count": 303,
     "metadata": {},
     "output_type": "execute_result"
    }
   ],
   "source": [
    "df1 = data_sorted_by_date.sort_values(by=['date_sent']).copy()\n",
    "df1['date_sent'] = pd.to_datetime(df1['date_sent']) - pd.to_timedelta(7, unit='d')\n",
    "df2 = df1.set_index('date_sent').resample('W')[\"target\"].sum()\n",
    "df3 = pd.DataFrame({'target_by_week' : df1.set_index('date_sent').resample('W')[\"target\"].sum()}).reset_index()\n",
    "df3"
   ]
  },
  {
   "cell_type": "code",
   "execution_count": 305,
   "metadata": {},
   "outputs": [
    {
     "data": {
      "text/plain": [
       "<matplotlib.axes._subplots.AxesSubplot at 0x1a405852e8>"
      ]
     },
     "execution_count": 305,
     "metadata": {},
     "output_type": "execute_result"
    },
    {
     "data": {
      "image/png": "[encoded data removed]",
      "text/plain": [
       "<Figure size 720x432 with 1 Axes>"
      ]
     },
     "metadata": {},
     "output_type": "display_data"
    }
   ],
   "source": [
    "plt.figure(figsize=(10,6))\n",
    "sb.distplot(df3['target_by_week'], bins=10)"
   ]
  },
  {
   "cell_type": "markdown",
   "metadata": {},
   "source": [
    "NO ENTIENDO POR QUE ESTOY VIENDO ESTA DISTRIBUCION\n",
    "LA ANALIZO MA˜NANA"
   ]
  },
  {
   "cell_type": "markdown",
   "metadata": {},
   "source": [
    "**1.10 ¿Existen rutas más representadas que otras?**\n"
   ]
  },
  {
   "cell_type": "markdown",
   "metadata": {},
   "source": [
    "Asi es:"
   ]
  },
  {
   "cell_type": "code",
   "execution_count": 175,
   "metadata": {},
   "outputs": [
    {
     "data": {
      "text/html": [
       "<div>\n",
       "<style scoped>\n",
       "    .dataframe tbody tr th:only-of-type {\n",
       "        vertical-align: middle;\n",
       "    }\n",
       "\n",
       "    .dataframe tbody tr th {\n",
       "        vertical-align: top;\n",
       "    }\n",
       "\n",
       "    .dataframe thead th {\n",
       "        text-align: right;\n",
       "    }\n",
       "</style>\n",
       "<table border=\"1\" class=\"dataframe\">\n",
       "  <thead>\n",
       "    <tr style=\"text-align: right;\">\n",
       "      <th></th>\n",
       "      <th>sender_zipcode</th>\n",
       "      <th>receiver_zipcode</th>\n",
       "      <th>service</th>\n",
       "      <th>count</th>\n",
       "    </tr>\n",
       "  </thead>\n",
       "  <tbody>\n",
       "    <tr>\n",
       "      <th>12180</th>\n",
       "      <td>6422</td>\n",
       "      <td>28943</td>\n",
       "      <td>0</td>\n",
       "      <td>68</td>\n",
       "    </tr>\n",
       "    <tr>\n",
       "      <th>14058</th>\n",
       "      <td>6422</td>\n",
       "      <td>95095</td>\n",
       "      <td>0</td>\n",
       "      <td>55</td>\n",
       "    </tr>\n",
       "    <tr>\n",
       "      <th>10217</th>\n",
       "      <td>5206</td>\n",
       "      <td>5203</td>\n",
       "      <td>0</td>\n",
       "      <td>50</td>\n",
       "    </tr>\n",
       "    <tr>\n",
       "      <th>36566</th>\n",
       "      <td>37165</td>\n",
       "      <td>37165</td>\n",
       "      <td>0</td>\n",
       "      <td>40</td>\n",
       "    </tr>\n",
       "    <tr>\n",
       "      <th>6888</th>\n",
       "      <td>3728</td>\n",
       "      <td>3727</td>\n",
       "      <td>0</td>\n",
       "      <td>34</td>\n",
       "    </tr>\n",
       "  </tbody>\n",
       "</table>\n",
       "</div>"
      ],
      "text/plain": [
       "       sender_zipcode  receiver_zipcode  service  count\n",
       "12180            6422             28943        0     68\n",
       "14058            6422             95095        0     55\n",
       "10217            5206              5203        0     50\n",
       "36566           37165             37165        0     40\n",
       "6888             3728              3727        0     34"
      ]
     },
     "execution_count": 175,
     "metadata": {},
     "output_type": "execute_result"
    }
   ],
   "source": [
    "df1 = routes[routes.duplicated()]\n",
    "df2 = df1.groupby(df1.columns.tolist()).size().reset_index().rename(columns={0:'count'})\n",
    "df2 = df2.sort_values(by=['count'], ascending=[False])\n",
    "df2.head()"
   ]
  },
  {
   "cell_type": "markdown",
   "metadata": {},
   "source": [
    "**1.11 La cantidad de items por paquete, ¿tiene relación con la velocidad del envío?**\n"
   ]
  },
  {
   "cell_type": "markdown",
   "metadata": {},
   "source": [
    "Se realiza análisis de correlación entre las variab"
   ]
  },
  {
   "cell_type": "code",
   "execution_count": 178,
   "metadata": {},
   "outputs": [
    {
     "data": {
      "text/html": [
       "<div>\n",
       "<style scoped>\n",
       "    .dataframe tbody tr th:only-of-type {\n",
       "        vertical-align: middle;\n",
       "    }\n",
       "\n",
       "    .dataframe tbody tr th {\n",
       "        vertical-align: top;\n",
       "    }\n",
       "\n",
       "    .dataframe thead th {\n",
       "        text-align: right;\n",
       "    }\n",
       "</style>\n",
       "<table border=\"1\" class=\"dataframe\">\n",
       "  <thead>\n",
       "    <tr style=\"text-align: right;\">\n",
       "      <th></th>\n",
       "      <th>quantity</th>\n",
       "      <th>target</th>\n",
       "    </tr>\n",
       "  </thead>\n",
       "  <tbody>\n",
       "    <tr>\n",
       "      <th>quantity</th>\n",
       "      <td>1.000000</td>\n",
       "      <td>-0.001342</td>\n",
       "    </tr>\n",
       "    <tr>\n",
       "      <th>target</th>\n",
       "      <td>-0.001342</td>\n",
       "      <td>1.000000</td>\n",
       "    </tr>\n",
       "  </tbody>\n",
       "</table>\n",
       "</div>"
      ],
      "text/plain": [
       "          quantity    target\n",
       "quantity  1.000000 -0.001342\n",
       "target   -0.001342  1.000000"
      ]
     },
     "execution_count": 178,
     "metadata": {},
     "output_type": "execute_result"
    }
   ],
   "source": [
    "df[['quantity', 'target']].corr(method='spearman')"
   ]
  },
  {
   "cell_type": "code",
   "execution_count": 179,
   "metadata": {},
   "outputs": [
    {
     "data": {
      "text/html": [
       "<div>\n",
       "<style scoped>\n",
       "    .dataframe tbody tr th:only-of-type {\n",
       "        vertical-align: middle;\n",
       "    }\n",
       "\n",
       "    .dataframe tbody tr th {\n",
       "        vertical-align: top;\n",
       "    }\n",
       "\n",
       "    .dataframe thead th {\n",
       "        text-align: right;\n",
       "    }\n",
       "</style>\n",
       "<table border=\"1\" class=\"dataframe\">\n",
       "  <thead>\n",
       "    <tr style=\"text-align: right;\">\n",
       "      <th></th>\n",
       "      <th>quantity</th>\n",
       "      <th>target</th>\n",
       "    </tr>\n",
       "  </thead>\n",
       "  <tbody>\n",
       "    <tr>\n",
       "      <th>quantity</th>\n",
       "      <td>1.000000</td>\n",
       "      <td>-0.000918</td>\n",
       "    </tr>\n",
       "    <tr>\n",
       "      <th>target</th>\n",
       "      <td>-0.000918</td>\n",
       "      <td>1.000000</td>\n",
       "    </tr>\n",
       "  </tbody>\n",
       "</table>\n",
       "</div>"
      ],
      "text/plain": [
       "          quantity    target\n",
       "quantity  1.000000 -0.000918\n",
       "target   -0.000918  1.000000"
      ]
     },
     "execution_count": 179,
     "metadata": {},
     "output_type": "execute_result"
    }
   ],
   "source": [
    "df[['quantity', 'target']].corr(method='pearson')"
   ]
  },
  {
   "cell_type": "code",
   "execution_count": 180,
   "metadata": {},
   "outputs": [
    {
     "data": {
      "text/plain": [
       "Text(0.5, 1.05, 'quantity vs target')"
      ]
     },
     "execution_count": 180,
     "metadata": {},
     "output_type": "execute_result"
    },
    {
     "data": {
      "image/png": "[encoded data removed]",
      "text/plain": [
       "<Figure size 576x576 with 3 Axes>"
      ]
     },
     "metadata": {},
     "output_type": "display_data"
    }
   ],
   "source": [
    "g = sb.jointplot(x=df['quantity'], y=df['target'],\n",
    "                 data=df, kind=\"reg\",\n",
    "                 line_kws={'color':'green'},\n",
    "                 scatter_kws={'alpha': 0.33})\n",
    "g.fig.set_size_inches(8, 8)\n",
    "g.fig.suptitle(\"quantity vs target\",\n",
    "               fontsize=16, weight=\"bold\", y=1.05)"
   ]
  },
  {
   "cell_type": "markdown",
   "metadata": {},
   "source": [
    "las variables no estan relacionadas"
   ]
  },
  {
   "cell_type": "markdown",
   "metadata": {},
   "source": [
    "**1.12 ¿Existen variables correlacionadas?**\n"
   ]
  },
  {
   "cell_type": "markdown",
   "metadata": {},
   "source": [
    "Se realiza análisis para variables cuantativas."
   ]
  },
  {
   "cell_type": "code",
   "execution_count": 182,
   "metadata": {},
   "outputs": [
    {
     "data": {
      "image/png": "[encoded data removed]",
      "text/plain": [
       "<Figure size 540x540 with 12 Axes>"
      ]
     },
     "metadata": {},
     "output_type": "display_data"
    }
   ],
   "source": [
    "df1 = df[['quantity', 'target', 'service', 'status' ]]\n",
    "g = sb.pairplot(df1)"
   ]
  },
  {
   "cell_type": "code",
   "execution_count": 183,
   "metadata": {},
   "outputs": [
    {
     "data": {
      "text/html": [
       "<div>\n",
       "<style scoped>\n",
       "    .dataframe tbody tr th:only-of-type {\n",
       "        vertical-align: middle;\n",
       "    }\n",
       "\n",
       "    .dataframe tbody tr th {\n",
       "        vertical-align: top;\n",
       "    }\n",
       "\n",
       "    .dataframe thead th {\n",
       "        text-align: right;\n",
       "    }\n",
       "</style>\n",
       "<table border=\"1\" class=\"dataframe\">\n",
       "  <thead>\n",
       "    <tr style=\"text-align: right;\">\n",
       "      <th></th>\n",
       "      <th>service</th>\n",
       "      <th>target</th>\n",
       "      <th>quantity</th>\n",
       "    </tr>\n",
       "  </thead>\n",
       "  <tbody>\n",
       "    <tr>\n",
       "      <th>service</th>\n",
       "      <td>1.000000</td>\n",
       "      <td>0.282141</td>\n",
       "      <td>-0.001207</td>\n",
       "    </tr>\n",
       "    <tr>\n",
       "      <th>target</th>\n",
       "      <td>0.282141</td>\n",
       "      <td>1.000000</td>\n",
       "      <td>-0.001342</td>\n",
       "    </tr>\n",
       "    <tr>\n",
       "      <th>quantity</th>\n",
       "      <td>-0.001207</td>\n",
       "      <td>-0.001342</td>\n",
       "      <td>1.000000</td>\n",
       "    </tr>\n",
       "  </tbody>\n",
       "</table>\n",
       "</div>"
      ],
      "text/plain": [
       "           service    target  quantity\n",
       "service   1.000000  0.282141 -0.001207\n",
       "target    0.282141  1.000000 -0.001342\n",
       "quantity -0.001207 -0.001342  1.000000"
      ]
     },
     "execution_count": 183,
     "metadata": {},
     "output_type": "execute_result"
    }
   ],
   "source": [
    "df[['service', 'target', 'quantity']].corr(method='spearman')"
   ]
  },
  {
   "cell_type": "code",
   "execution_count": 184,
   "metadata": {},
   "outputs": [
    {
     "data": {
      "text/html": [
       "<div>\n",
       "<style scoped>\n",
       "    .dataframe tbody tr th:only-of-type {\n",
       "        vertical-align: middle;\n",
       "    }\n",
       "\n",
       "    .dataframe tbody tr th {\n",
       "        vertical-align: top;\n",
       "    }\n",
       "\n",
       "    .dataframe thead th {\n",
       "        text-align: right;\n",
       "    }\n",
       "</style>\n",
       "<table border=\"1\" class=\"dataframe\">\n",
       "  <thead>\n",
       "    <tr style=\"text-align: right;\">\n",
       "      <th></th>\n",
       "      <th>service</th>\n",
       "      <th>target</th>\n",
       "      <th>quantity</th>\n",
       "    </tr>\n",
       "  </thead>\n",
       "  <tbody>\n",
       "    <tr>\n",
       "      <th>service</th>\n",
       "      <td>1.000000</td>\n",
       "      <td>-0.076455</td>\n",
       "      <td>-0.000788</td>\n",
       "    </tr>\n",
       "    <tr>\n",
       "      <th>target</th>\n",
       "      <td>-0.076455</td>\n",
       "      <td>1.000000</td>\n",
       "      <td>-0.000918</td>\n",
       "    </tr>\n",
       "    <tr>\n",
       "      <th>quantity</th>\n",
       "      <td>-0.000788</td>\n",
       "      <td>-0.000918</td>\n",
       "      <td>1.000000</td>\n",
       "    </tr>\n",
       "  </tbody>\n",
       "</table>\n",
       "</div>"
      ],
      "text/plain": [
       "           service    target  quantity\n",
       "service   1.000000 -0.076455 -0.000788\n",
       "target   -0.076455  1.000000 -0.000918\n",
       "quantity -0.000788 -0.000918  1.000000"
      ]
     },
     "execution_count": 184,
     "metadata": {},
     "output_type": "execute_result"
    }
   ],
   "source": [
    "df[['service', 'target', 'quantity']].corr(method='pearson')"
   ]
  },
  {
   "cell_type": "markdown",
   "metadata": {},
   "source": [
    "No se perciben correlaciones entre las variables numericas"
   ]
  },
  {
   "cell_type": "markdown",
   "metadata": {},
   "source": [
    "**1.13 Graficar la distribución del target agrupando por tipo de envío.**\n"
   ]
  },
  {
   "cell_type": "markdown",
   "metadata": {},
   "source": [
    "Recordamos la distribución de target para todos los datos de la muestra"
   ]
  },
  {
   "cell_type": "code",
   "execution_count": 187,
   "metadata": {},
   "outputs": [
    {
     "data": {
      "text/plain": [
       "Text(0.5, 1.0, 'Target: Cantidad de dias hábiles que tardó el correo en entregar el paquete desde que lo recibe.')"
      ]
     },
     "execution_count": 187,
     "metadata": {},
     "output_type": "execute_result"
    },
    {
     "data": {
      "image/png": "[encoded data removed]",
      "text/plain": [
       "<Figure size 720x360 with 1 Axes>"
      ]
     },
     "metadata": {},
     "output_type": "display_data"
    }
   ],
   "source": [
    "sb.distplot(df['target'], kde_kws={\"lw\": 3})\n",
    "plt.title('Target: Cantidad de dias hábiles que tardó el correo en entregar el paquete desde que lo recibe.')\n"
   ]
  },
  {
   "cell_type": "markdown",
   "metadata": {},
   "source": [
    "Distribución de target para los tipos standar y express "
   ]
  },
  {
   "cell_type": "code",
   "execution_count": 185,
   "metadata": {},
   "outputs": [
    {
     "data": {
      "text/plain": [
       "<matplotlib.axes._subplots.AxesSubplot at 0x1be4270dd8>"
      ]
     },
     "execution_count": 185,
     "metadata": {},
     "output_type": "execute_result"
    },
    {
     "data": {
      "image/png": "[encoded data removed]",
      "text/plain": [
       "<Figure size 720x360 with 1 Axes>"
      ]
     },
     "metadata": {},
     "output_type": "display_data"
    }
   ],
   "source": [
    "target_0 = df[df['shipment_type'] == 'standard']['target']\n",
    "target_1 = df[df['shipment_type'] == 'express']['target']\n",
    "\n",
    "sb.distplot(target_0, hist=True, rug=True, rug_kws={\"color\": \"g\"},\n",
    "            kde_kws={ \"lw\": 3, \"label\": \"standar\", \"color\": \"g\" })\n",
    "sb.distplot(target_1, hist=True, rug=True, kde_kws={ \"lw\": 3, \"label\": \"express\"})\n"
   ]
  },
  {
   "cell_type": "markdown",
   "metadata": {},
   "source": [
    "La variable target para el tipo de envío super tiene muchos mas valores de target ceoncetrados entre cero y dos días\n",
    "Lo que indica que este tipo de servicio es más premium."
   ]
  },
  {
   "cell_type": "code",
   "execution_count": 192,
   "metadata": {},
   "outputs": [
    {
     "data": {
      "text/plain": [
       "<matplotlib.axes._subplots.AxesSubplot at 0x1c10ad2cf8>"
      ]
     },
     "execution_count": 192,
     "metadata": {},
     "output_type": "execute_result"
    },
    {
     "data": {
      "image/png": "[encoded data removed]",
      "text/plain": [
       "<Figure size 720x360 with 1 Axes>"
      ]
     },
     "metadata": {},
     "output_type": "display_data"
    }
   ],
   "source": [
    "target_2 = df[df['shipment_type'] == 'super']['target']\n",
    "sb.distplot(target_2, hist=True, rug=True,  rug_kws={\"color\": \"r\"}, \n",
    "            kde_kws={ \"lw\": 3, \"label\": \"super\",  \"color\": \"r\"})\n"
   ]
  },
  {
   "cell_type": "markdown",
   "metadata": {},
   "source": [
    "**1.14 Determinar cuales son los servicios y los estados más representados**\n"
   ]
  },
  {
   "cell_type": "code",
   "execution_count": 188,
   "metadata": {},
   "outputs": [
    {
     "data": {
      "text/plain": [
       "1     501509\n",
       "0     321839\n",
       "4      58517\n",
       "2      49185\n",
       "3      22057\n",
       "5      20116\n",
       "6      17602\n",
       "8       5288\n",
       "9       3224\n",
       "7        528\n",
       "10       134\n",
       "11         1\n",
       "Name: service, dtype: int64"
      ]
     },
     "execution_count": 188,
     "metadata": {},
     "output_type": "execute_result"
    }
   ],
   "source": [
    "df['service'].value_counts()"
   ]
  },
  {
   "cell_type": "code",
   "execution_count": 189,
   "metadata": {},
   "outputs": [
    {
     "data": {
      "text/plain": [
       "done         990460\n",
       "failed         8755\n",
       "sent            784\n",
       "cancelled         1\n",
       "Name: status, dtype: int64"
      ]
     },
     "execution_count": 189,
     "metadata": {},
     "output_type": "execute_result"
    }
   ],
   "source": [
    "df['status'].value_counts()"
   ]
  },
  {
   "cell_type": "code",
   "execution_count": 190,
   "metadata": {},
   "outputs": [],
   "source": [
    "# 2. Servicios"
   ]
  },
  {
   "cell_type": "markdown",
   "metadata": {},
   "source": [
    "**2.1 Graficar solo la parte más informativa de la distribución del target para los 4\n",
    "servicios más representados, con los cuidados correspondientes.**\n"
   ]
  },
  {
   "cell_type": "code",
   "execution_count": 6,
   "metadata": {},
   "outputs": [],
   "source": [
    "df_1=df.copy()"
   ]
  },
  {
   "cell_type": "code",
   "execution_count": 7,
   "metadata": {},
   "outputs": [
    {
     "data": {
      "text/plain": [
       "1     501509\n",
       "0     321839\n",
       "4      58517\n",
       "2      49185\n",
       "3      22057\n",
       "5      20116\n",
       "6      17602\n",
       "8       5288\n",
       "9       3224\n",
       "7        528\n",
       "10       134\n",
       "11         1\n",
       "Name: service, dtype: int64"
      ]
     },
     "execution_count": 7,
     "metadata": {},
     "output_type": "execute_result"
    }
   ],
   "source": [
    "df_1['service'].value_counts()"
   ]
  },
  {
   "cell_type": "markdown",
   "metadata": {},
   "source": [
    "Podemos observar con esto que los cuatro servicios mas representados son los cuatro primeros, los cuales representaré mediante un gráfico de barras que describe cuantas veces aparece el target.\n"
   ]
  },
  {
   "cell_type": "code",
   "execution_count": 8,
   "metadata": {},
   "outputs": [],
   "source": [
    "df_serv= df_1[df_1['service'].isin([1, 0, 4, 2])]"
   ]
  },
  {
   "cell_type": "code",
   "execution_count": 9,
   "metadata": {},
   "outputs": [
    {
     "data": {
      "text/html": [
       "<div>\n",
       "<style scoped>\n",
       "    .dataframe tbody tr th:only-of-type {\n",
       "        vertical-align: middle;\n",
       "    }\n",
       "\n",
       "    .dataframe tbody tr th {\n",
       "        vertical-align: top;\n",
       "    }\n",
       "\n",
       "    .dataframe thead th {\n",
       "        text-align: right;\n",
       "    }\n",
       "</style>\n",
       "<table border=\"1\" class=\"dataframe\">\n",
       "  <thead>\n",
       "    <tr style=\"text-align: right;\">\n",
       "      <th></th>\n",
       "      <th>sender_state</th>\n",
       "      <th>sender_zipcode</th>\n",
       "      <th>receiver_state</th>\n",
       "      <th>receiver_zipcode</th>\n",
       "      <th>shipment_type</th>\n",
       "      <th>quantity</th>\n",
       "      <th>service</th>\n",
       "      <th>status</th>\n",
       "      <th>date_created</th>\n",
       "      <th>date_sent</th>\n",
       "      <th>date_visit</th>\n",
       "      <th>target</th>\n",
       "    </tr>\n",
       "  </thead>\n",
       "  <tbody>\n",
       "    <tr>\n",
       "      <th>0</th>\n",
       "      <td>SP</td>\n",
       "      <td>3005</td>\n",
       "      <td>SP</td>\n",
       "      <td>5409</td>\n",
       "      <td>express</td>\n",
       "      <td>1</td>\n",
       "      <td>0</td>\n",
       "      <td>done</td>\n",
       "      <td>2019-03-04 00:00:00</td>\n",
       "      <td>2019-03-05 13:24:00</td>\n",
       "      <td>2019-03-07 18:01:00</td>\n",
       "      <td>2</td>\n",
       "    </tr>\n",
       "    <tr>\n",
       "      <th>1</th>\n",
       "      <td>SP</td>\n",
       "      <td>17052</td>\n",
       "      <td>MG</td>\n",
       "      <td>37750</td>\n",
       "      <td>standard</td>\n",
       "      <td>1</td>\n",
       "      <td>1</td>\n",
       "      <td>done</td>\n",
       "      <td>2019-03-19 00:00:00</td>\n",
       "      <td>2019-03-20 14:44:00</td>\n",
       "      <td>2019-03-27 10:21:00</td>\n",
       "      <td>5</td>\n",
       "    </tr>\n",
       "    <tr>\n",
       "      <th>2</th>\n",
       "      <td>SP</td>\n",
       "      <td>2033</td>\n",
       "      <td>SP</td>\n",
       "      <td>11040</td>\n",
       "      <td>express</td>\n",
       "      <td>1</td>\n",
       "      <td>0</td>\n",
       "      <td>done</td>\n",
       "      <td>2019-02-18 00:00:00</td>\n",
       "      <td>2019-02-21 15:08:00</td>\n",
       "      <td>2019-02-28 18:19:00</td>\n",
       "      <td>5</td>\n",
       "    </tr>\n",
       "    <tr>\n",
       "      <th>3</th>\n",
       "      <td>SP</td>\n",
       "      <td>13900</td>\n",
       "      <td>SP</td>\n",
       "      <td>18500</td>\n",
       "      <td>express</td>\n",
       "      <td>1</td>\n",
       "      <td>0</td>\n",
       "      <td>done</td>\n",
       "      <td>2019-03-09 00:00:00</td>\n",
       "      <td>2019-03-11 15:48:00</td>\n",
       "      <td>2019-03-12 13:33:00</td>\n",
       "      <td>1</td>\n",
       "    </tr>\n",
       "    <tr>\n",
       "      <th>4</th>\n",
       "      <td>SP</td>\n",
       "      <td>4361</td>\n",
       "      <td>RS</td>\n",
       "      <td>96810</td>\n",
       "      <td>express</td>\n",
       "      <td>1</td>\n",
       "      <td>0</td>\n",
       "      <td>done</td>\n",
       "      <td>2019-03-08 00:00:00</td>\n",
       "      <td>2019-03-12 08:19:00</td>\n",
       "      <td>2019-03-16 08:24:00</td>\n",
       "      <td>4</td>\n",
       "    </tr>\n",
       "    <tr>\n",
       "      <th>5</th>\n",
       "      <td>SP</td>\n",
       "      <td>15708</td>\n",
       "      <td>RJ</td>\n",
       "      <td>24230</td>\n",
       "      <td>standard</td>\n",
       "      <td>1</td>\n",
       "      <td>1</td>\n",
       "      <td>done</td>\n",
       "      <td>2019-03-01 00:00:00</td>\n",
       "      <td>2019-03-02 08:55:00</td>\n",
       "      <td>2019-03-18 14:28:00</td>\n",
       "      <td>9</td>\n",
       "    </tr>\n",
       "    <tr>\n",
       "      <th>6</th>\n",
       "      <td>ES</td>\n",
       "      <td>29060</td>\n",
       "      <td>RS</td>\n",
       "      <td>98700</td>\n",
       "      <td>standard</td>\n",
       "      <td>2</td>\n",
       "      <td>1</td>\n",
       "      <td>done</td>\n",
       "      <td>2019-03-07 00:00:00</td>\n",
       "      <td>2019-03-08 17:47:00</td>\n",
       "      <td>2019-03-25 14:01:00</td>\n",
       "      <td>11</td>\n",
       "    </tr>\n",
       "    <tr>\n",
       "      <th>7</th>\n",
       "      <td>SP</td>\n",
       "      <td>1202</td>\n",
       "      <td>RS</td>\n",
       "      <td>93230</td>\n",
       "      <td>standard</td>\n",
       "      <td>1</td>\n",
       "      <td>1</td>\n",
       "      <td>done</td>\n",
       "      <td>2019-02-16 00:00:00</td>\n",
       "      <td>2019-02-20 12:24:00</td>\n",
       "      <td>2019-03-12 10:11:00</td>\n",
       "      <td>13</td>\n",
       "    </tr>\n",
       "    <tr>\n",
       "      <th>8</th>\n",
       "      <td>SP</td>\n",
       "      <td>2313</td>\n",
       "      <td>SP</td>\n",
       "      <td>4165</td>\n",
       "      <td>express</td>\n",
       "      <td>2</td>\n",
       "      <td>0</td>\n",
       "      <td>done</td>\n",
       "      <td>2019-02-28 00:00:00</td>\n",
       "      <td>2019-03-01 14:35:00</td>\n",
       "      <td>2019-03-04 14:22:00</td>\n",
       "      <td>1</td>\n",
       "    </tr>\n",
       "    <tr>\n",
       "      <th>9</th>\n",
       "      <td>PR</td>\n",
       "      <td>80215</td>\n",
       "      <td>SP</td>\n",
       "      <td>7055</td>\n",
       "      <td>standard</td>\n",
       "      <td>1</td>\n",
       "      <td>1</td>\n",
       "      <td>done</td>\n",
       "      <td>2019-02-28 00:00:00</td>\n",
       "      <td>2019-03-04 16:04:00</td>\n",
       "      <td>2019-03-14 15:27:00</td>\n",
       "      <td>7</td>\n",
       "    </tr>\n",
       "    <tr>\n",
       "      <th>11</th>\n",
       "      <td>SP</td>\n",
       "      <td>8320</td>\n",
       "      <td>RS</td>\n",
       "      <td>95555</td>\n",
       "      <td>standard</td>\n",
       "      <td>1</td>\n",
       "      <td>1</td>\n",
       "      <td>done</td>\n",
       "      <td>2019-03-04 00:00:00</td>\n",
       "      <td>2019-03-05 12:01:00</td>\n",
       "      <td>2019-03-08 17:16:00</td>\n",
       "      <td>2</td>\n",
       "    </tr>\n",
       "    <tr>\n",
       "      <th>12</th>\n",
       "      <td>SP</td>\n",
       "      <td>7094</td>\n",
       "      <td>SP</td>\n",
       "      <td>7855</td>\n",
       "      <td>express</td>\n",
       "      <td>1</td>\n",
       "      <td>0</td>\n",
       "      <td>done</td>\n",
       "      <td>2019-03-14 00:00:00</td>\n",
       "      <td>2019-03-15 18:19:00</td>\n",
       "      <td>2019-03-19 12:57:00</td>\n",
       "      <td>2</td>\n",
       "    </tr>\n",
       "    <tr>\n",
       "      <th>13</th>\n",
       "      <td>SP</td>\n",
       "      <td>18081</td>\n",
       "      <td>SP</td>\n",
       "      <td>1310</td>\n",
       "      <td>express</td>\n",
       "      <td>1</td>\n",
       "      <td>0</td>\n",
       "      <td>done</td>\n",
       "      <td>2019-03-17 00:00:00</td>\n",
       "      <td>2019-03-22 13:19:00</td>\n",
       "      <td>2019-03-23 11:49:00</td>\n",
       "      <td>1</td>\n",
       "    </tr>\n",
       "    <tr>\n",
       "      <th>14</th>\n",
       "      <td>SP</td>\n",
       "      <td>3480</td>\n",
       "      <td>SP</td>\n",
       "      <td>15370</td>\n",
       "      <td>express</td>\n",
       "      <td>1</td>\n",
       "      <td>0</td>\n",
       "      <td>done</td>\n",
       "      <td>2019-03-13 00:00:00</td>\n",
       "      <td>2019-03-14 11:01:00</td>\n",
       "      <td>2019-03-15 17:24:00</td>\n",
       "      <td>1</td>\n",
       "    </tr>\n",
       "    <tr>\n",
       "      <th>15</th>\n",
       "      <td>SP</td>\n",
       "      <td>3611</td>\n",
       "      <td>RS</td>\n",
       "      <td>95270</td>\n",
       "      <td>standard</td>\n",
       "      <td>1</td>\n",
       "      <td>1</td>\n",
       "      <td>done</td>\n",
       "      <td>2019-02-24 00:00:00</td>\n",
       "      <td>2019-02-25 19:02:00</td>\n",
       "      <td>2019-03-09 11:02:00</td>\n",
       "      <td>9</td>\n",
       "    </tr>\n",
       "    <tr>\n",
       "      <th>16</th>\n",
       "      <td>SP</td>\n",
       "      <td>17605</td>\n",
       "      <td>PR</td>\n",
       "      <td>85420</td>\n",
       "      <td>standard</td>\n",
       "      <td>1</td>\n",
       "      <td>1</td>\n",
       "      <td>done</td>\n",
       "      <td>2019-02-15 00:00:00</td>\n",
       "      <td>2019-02-15 09:47:00</td>\n",
       "      <td>2019-03-05 12:45:00</td>\n",
       "      <td>12</td>\n",
       "    </tr>\n",
       "    <tr>\n",
       "      <th>17</th>\n",
       "      <td>RJ</td>\n",
       "      <td>25655</td>\n",
       "      <td>SP</td>\n",
       "      <td>16920</td>\n",
       "      <td>standard</td>\n",
       "      <td>1</td>\n",
       "      <td>1</td>\n",
       "      <td>done</td>\n",
       "      <td>2019-02-24 00:00:00</td>\n",
       "      <td>2019-02-25 11:17:00</td>\n",
       "      <td>2019-03-11 15:55:00</td>\n",
       "      <td>9</td>\n",
       "    </tr>\n",
       "    <tr>\n",
       "      <th>18</th>\n",
       "      <td>SP</td>\n",
       "      <td>9520</td>\n",
       "      <td>BA</td>\n",
       "      <td>41680</td>\n",
       "      <td>express</td>\n",
       "      <td>1</td>\n",
       "      <td>0</td>\n",
       "      <td>done</td>\n",
       "      <td>2019-03-04 00:00:00</td>\n",
       "      <td>2019-03-05 15:32:00</td>\n",
       "      <td>2019-03-07 16:09:00</td>\n",
       "      <td>2</td>\n",
       "    </tr>\n",
       "    <tr>\n",
       "      <th>19</th>\n",
       "      <td>SP</td>\n",
       "      <td>1109</td>\n",
       "      <td>SP</td>\n",
       "      <td>4281</td>\n",
       "      <td>express</td>\n",
       "      <td>1</td>\n",
       "      <td>0</td>\n",
       "      <td>done</td>\n",
       "      <td>2019-03-12 00:00:00</td>\n",
       "      <td>2019-03-13 17:09:00</td>\n",
       "      <td>2019-03-15 16:27:00</td>\n",
       "      <td>2</td>\n",
       "    </tr>\n",
       "    <tr>\n",
       "      <th>20</th>\n",
       "      <td>MS</td>\n",
       "      <td>79011</td>\n",
       "      <td>RS</td>\n",
       "      <td>99740</td>\n",
       "      <td>standard</td>\n",
       "      <td>1</td>\n",
       "      <td>1</td>\n",
       "      <td>done</td>\n",
       "      <td>2019-02-15 00:00:00</td>\n",
       "      <td>2019-02-18 13:27:00</td>\n",
       "      <td>2019-02-28 15:53:00</td>\n",
       "      <td>8</td>\n",
       "    </tr>\n",
       "    <tr>\n",
       "      <th>21</th>\n",
       "      <td>SP</td>\n",
       "      <td>1408</td>\n",
       "      <td>PB</td>\n",
       "      <td>58046</td>\n",
       "      <td>standard</td>\n",
       "      <td>1</td>\n",
       "      <td>1</td>\n",
       "      <td>done</td>\n",
       "      <td>2019-03-07 00:00:00</td>\n",
       "      <td>2019-03-08 12:00:00</td>\n",
       "      <td>2019-03-28 16:42:00</td>\n",
       "      <td>14</td>\n",
       "    </tr>\n",
       "    <tr>\n",
       "      <th>22</th>\n",
       "      <td>SP</td>\n",
       "      <td>3041</td>\n",
       "      <td>PR</td>\n",
       "      <td>84052</td>\n",
       "      <td>standard</td>\n",
       "      <td>1</td>\n",
       "      <td>4</td>\n",
       "      <td>done</td>\n",
       "      <td>2019-03-09 00:00:00</td>\n",
       "      <td>2019-03-14 19:58:51</td>\n",
       "      <td>2019-03-21 12:48:00</td>\n",
       "      <td>5</td>\n",
       "    </tr>\n",
       "    <tr>\n",
       "      <th>24</th>\n",
       "      <td>SP</td>\n",
       "      <td>5616</td>\n",
       "      <td>SP</td>\n",
       "      <td>17220</td>\n",
       "      <td>express</td>\n",
       "      <td>1</td>\n",
       "      <td>0</td>\n",
       "      <td>done</td>\n",
       "      <td>2019-02-27 00:00:00</td>\n",
       "      <td>2019-03-01 15:18:00</td>\n",
       "      <td>2019-03-02 10:39:00</td>\n",
       "      <td>1</td>\n",
       "    </tr>\n",
       "    <tr>\n",
       "      <th>28</th>\n",
       "      <td>SC</td>\n",
       "      <td>89026</td>\n",
       "      <td>PR</td>\n",
       "      <td>86801</td>\n",
       "      <td>standard</td>\n",
       "      <td>1</td>\n",
       "      <td>1</td>\n",
       "      <td>done</td>\n",
       "      <td>2019-03-21 00:00:00</td>\n",
       "      <td>2019-03-22 16:09:00</td>\n",
       "      <td>2019-03-28 15:09:00</td>\n",
       "      <td>4</td>\n",
       "    </tr>\n",
       "    <tr>\n",
       "      <th>29</th>\n",
       "      <td>SP</td>\n",
       "      <td>5411</td>\n",
       "      <td>SP</td>\n",
       "      <td>14110</td>\n",
       "      <td>express</td>\n",
       "      <td>1</td>\n",
       "      <td>0</td>\n",
       "      <td>done</td>\n",
       "      <td>2019-03-07 00:00:00</td>\n",
       "      <td>2019-03-08 11:24:00</td>\n",
       "      <td>2019-03-11 18:06:00</td>\n",
       "      <td>1</td>\n",
       "    </tr>\n",
       "    <tr>\n",
       "      <th>30</th>\n",
       "      <td>SC</td>\n",
       "      <td>89162</td>\n",
       "      <td>PE</td>\n",
       "      <td>55330</td>\n",
       "      <td>standard</td>\n",
       "      <td>1</td>\n",
       "      <td>1</td>\n",
       "      <td>done</td>\n",
       "      <td>2019-03-02 00:00:00</td>\n",
       "      <td>2019-03-05 13:28:00</td>\n",
       "      <td>2019-03-28 10:58:00</td>\n",
       "      <td>16</td>\n",
       "    </tr>\n",
       "    <tr>\n",
       "      <th>31</th>\n",
       "      <td>SP</td>\n",
       "      <td>19020</td>\n",
       "      <td>AL</td>\n",
       "      <td>57601</td>\n",
       "      <td>standard</td>\n",
       "      <td>2</td>\n",
       "      <td>2</td>\n",
       "      <td>done</td>\n",
       "      <td>2019-02-11 00:00:00</td>\n",
       "      <td>2019-02-18 12:46:00</td>\n",
       "      <td>2019-03-07 13:10:00</td>\n",
       "      <td>13</td>\n",
       "    </tr>\n",
       "    <tr>\n",
       "      <th>32</th>\n",
       "      <td>SP</td>\n",
       "      <td>9911</td>\n",
       "      <td>RJ</td>\n",
       "      <td>21070</td>\n",
       "      <td>express</td>\n",
       "      <td>1</td>\n",
       "      <td>0</td>\n",
       "      <td>done</td>\n",
       "      <td>2019-03-18 00:00:00</td>\n",
       "      <td>2019-03-19 15:05:00</td>\n",
       "      <td>2019-03-22 15:38:00</td>\n",
       "      <td>3</td>\n",
       "    </tr>\n",
       "    <tr>\n",
       "      <th>33</th>\n",
       "      <td>SP</td>\n",
       "      <td>8061</td>\n",
       "      <td>MG</td>\n",
       "      <td>38750</td>\n",
       "      <td>standard</td>\n",
       "      <td>1</td>\n",
       "      <td>1</td>\n",
       "      <td>done</td>\n",
       "      <td>2019-03-07 00:00:00</td>\n",
       "      <td>2019-03-08 10:14:00</td>\n",
       "      <td>2019-03-15 09:36:00</td>\n",
       "      <td>5</td>\n",
       "    </tr>\n",
       "    <tr>\n",
       "      <th>34</th>\n",
       "      <td>MG</td>\n",
       "      <td>36460</td>\n",
       "      <td>SC</td>\n",
       "      <td>88354</td>\n",
       "      <td>standard</td>\n",
       "      <td>1</td>\n",
       "      <td>1</td>\n",
       "      <td>done</td>\n",
       "      <td>2019-03-21 00:00:00</td>\n",
       "      <td>2019-03-22 07:36:00</td>\n",
       "      <td>2019-03-28 09:24:00</td>\n",
       "      <td>4</td>\n",
       "    </tr>\n",
       "    <tr>\n",
       "      <th>...</th>\n",
       "      <td>...</td>\n",
       "      <td>...</td>\n",
       "      <td>...</td>\n",
       "      <td>...</td>\n",
       "      <td>...</td>\n",
       "      <td>...</td>\n",
       "      <td>...</td>\n",
       "      <td>...</td>\n",
       "      <td>...</td>\n",
       "      <td>...</td>\n",
       "      <td>...</td>\n",
       "      <td>...</td>\n",
       "    </tr>\n",
       "    <tr>\n",
       "      <th>999970</th>\n",
       "      <td>RJ</td>\n",
       "      <td>28620</td>\n",
       "      <td>RJ</td>\n",
       "      <td>22261</td>\n",
       "      <td>express</td>\n",
       "      <td>1</td>\n",
       "      <td>0</td>\n",
       "      <td>done</td>\n",
       "      <td>2019-03-13 00:00:00</td>\n",
       "      <td>2019-03-13 15:31:00</td>\n",
       "      <td>2019-03-14 12:27:00</td>\n",
       "      <td>1</td>\n",
       "    </tr>\n",
       "    <tr>\n",
       "      <th>999971</th>\n",
       "      <td>PR</td>\n",
       "      <td>83045</td>\n",
       "      <td>MS</td>\n",
       "      <td>79290</td>\n",
       "      <td>standard</td>\n",
       "      <td>1</td>\n",
       "      <td>1</td>\n",
       "      <td>done</td>\n",
       "      <td>2019-02-28 00:00:00</td>\n",
       "      <td>2019-02-28 13:21:00</td>\n",
       "      <td>2019-03-14 16:29:00</td>\n",
       "      <td>9</td>\n",
       "    </tr>\n",
       "    <tr>\n",
       "      <th>999972</th>\n",
       "      <td>SC</td>\n",
       "      <td>88914</td>\n",
       "      <td>MG</td>\n",
       "      <td>33805</td>\n",
       "      <td>standard</td>\n",
       "      <td>1</td>\n",
       "      <td>1</td>\n",
       "      <td>done</td>\n",
       "      <td>2019-02-26 00:00:00</td>\n",
       "      <td>2019-02-27 15:58:00</td>\n",
       "      <td>2019-03-23 10:28:00</td>\n",
       "      <td>17</td>\n",
       "    </tr>\n",
       "    <tr>\n",
       "      <th>999973</th>\n",
       "      <td>MS</td>\n",
       "      <td>79004</td>\n",
       "      <td>MS</td>\n",
       "      <td>79010</td>\n",
       "      <td>express</td>\n",
       "      <td>2</td>\n",
       "      <td>0</td>\n",
       "      <td>done</td>\n",
       "      <td>2019-02-28 00:00:00</td>\n",
       "      <td>2019-03-01 16:34:00</td>\n",
       "      <td>2019-03-04 15:46:00</td>\n",
       "      <td>1</td>\n",
       "    </tr>\n",
       "    <tr>\n",
       "      <th>999974</th>\n",
       "      <td>SP</td>\n",
       "      <td>7082</td>\n",
       "      <td>ES</td>\n",
       "      <td>29902</td>\n",
       "      <td>standard</td>\n",
       "      <td>1</td>\n",
       "      <td>1</td>\n",
       "      <td>done</td>\n",
       "      <td>2019-02-18 00:00:00</td>\n",
       "      <td>2019-02-19 12:46:00</td>\n",
       "      <td>2019-03-04 14:28:00</td>\n",
       "      <td>9</td>\n",
       "    </tr>\n",
       "    <tr>\n",
       "      <th>999975</th>\n",
       "      <td>SP</td>\n",
       "      <td>11060</td>\n",
       "      <td>CE</td>\n",
       "      <td>60714</td>\n",
       "      <td>standard</td>\n",
       "      <td>1</td>\n",
       "      <td>2</td>\n",
       "      <td>done</td>\n",
       "      <td>2019-03-04 00:00:00</td>\n",
       "      <td>2019-03-07 21:06:51</td>\n",
       "      <td>2019-03-25 21:17:00</td>\n",
       "      <td>11</td>\n",
       "    </tr>\n",
       "    <tr>\n",
       "      <th>999976</th>\n",
       "      <td>SP</td>\n",
       "      <td>4040</td>\n",
       "      <td>SP</td>\n",
       "      <td>1233</td>\n",
       "      <td>express</td>\n",
       "      <td>1</td>\n",
       "      <td>0</td>\n",
       "      <td>done</td>\n",
       "      <td>2019-03-17 00:00:00</td>\n",
       "      <td>2019-03-18 11:34:00</td>\n",
       "      <td>2019-03-25 19:06:00</td>\n",
       "      <td>5</td>\n",
       "    </tr>\n",
       "    <tr>\n",
       "      <th>999977</th>\n",
       "      <td>RS</td>\n",
       "      <td>98400</td>\n",
       "      <td>CE</td>\n",
       "      <td>60115</td>\n",
       "      <td>standard</td>\n",
       "      <td>1</td>\n",
       "      <td>1</td>\n",
       "      <td>done</td>\n",
       "      <td>2019-02-07 00:00:00</td>\n",
       "      <td>2019-02-08 14:35:00</td>\n",
       "      <td>2019-03-21 18:03:00</td>\n",
       "      <td>25</td>\n",
       "    </tr>\n",
       "    <tr>\n",
       "      <th>999978</th>\n",
       "      <td>PR</td>\n",
       "      <td>85807</td>\n",
       "      <td>PE</td>\n",
       "      <td>55340</td>\n",
       "      <td>standard</td>\n",
       "      <td>1</td>\n",
       "      <td>1</td>\n",
       "      <td>done</td>\n",
       "      <td>2019-02-15 00:00:00</td>\n",
       "      <td>2019-02-19 11:25:00</td>\n",
       "      <td>2019-03-08 14:30:00</td>\n",
       "      <td>12</td>\n",
       "    </tr>\n",
       "    <tr>\n",
       "      <th>999979</th>\n",
       "      <td>SC</td>\n",
       "      <td>88359</td>\n",
       "      <td>PR</td>\n",
       "      <td>87705</td>\n",
       "      <td>standard</td>\n",
       "      <td>1</td>\n",
       "      <td>1</td>\n",
       "      <td>done</td>\n",
       "      <td>2019-02-17 00:00:00</td>\n",
       "      <td>2019-02-20 13:58:00</td>\n",
       "      <td>2019-03-06 16:00:00</td>\n",
       "      <td>10</td>\n",
       "    </tr>\n",
       "    <tr>\n",
       "      <th>999980</th>\n",
       "      <td>SP</td>\n",
       "      <td>9010</td>\n",
       "      <td>BA</td>\n",
       "      <td>45450</td>\n",
       "      <td>standard</td>\n",
       "      <td>2</td>\n",
       "      <td>1</td>\n",
       "      <td>done</td>\n",
       "      <td>2019-02-18 00:00:00</td>\n",
       "      <td>2019-02-18 19:31:00</td>\n",
       "      <td>2019-03-05 15:20:00</td>\n",
       "      <td>11</td>\n",
       "    </tr>\n",
       "    <tr>\n",
       "      <th>999981</th>\n",
       "      <td>SP</td>\n",
       "      <td>2520</td>\n",
       "      <td>SP</td>\n",
       "      <td>13477</td>\n",
       "      <td>express</td>\n",
       "      <td>1</td>\n",
       "      <td>0</td>\n",
       "      <td>done</td>\n",
       "      <td>2019-03-10 00:00:00</td>\n",
       "      <td>2019-03-12 17:16:23</td>\n",
       "      <td>2019-03-18 18:06:00</td>\n",
       "      <td>4</td>\n",
       "    </tr>\n",
       "    <tr>\n",
       "      <th>999982</th>\n",
       "      <td>SP</td>\n",
       "      <td>13024</td>\n",
       "      <td>SP</td>\n",
       "      <td>5328</td>\n",
       "      <td>express</td>\n",
       "      <td>1</td>\n",
       "      <td>0</td>\n",
       "      <td>done</td>\n",
       "      <td>2019-03-06 00:00:00</td>\n",
       "      <td>2019-03-06 14:46:00</td>\n",
       "      <td>2019-03-07 15:54:00</td>\n",
       "      <td>1</td>\n",
       "    </tr>\n",
       "    <tr>\n",
       "      <th>999983</th>\n",
       "      <td>SP</td>\n",
       "      <td>17730</td>\n",
       "      <td>PA</td>\n",
       "      <td>68470</td>\n",
       "      <td>standard</td>\n",
       "      <td>1</td>\n",
       "      <td>1</td>\n",
       "      <td>done</td>\n",
       "      <td>2019-02-22 00:00:00</td>\n",
       "      <td>2019-02-22 14:19:00</td>\n",
       "      <td>2019-03-18 16:28:00</td>\n",
       "      <td>15</td>\n",
       "    </tr>\n",
       "    <tr>\n",
       "      <th>999984</th>\n",
       "      <td>PR</td>\n",
       "      <td>87504</td>\n",
       "      <td>PB</td>\n",
       "      <td>58040</td>\n",
       "      <td>standard</td>\n",
       "      <td>2</td>\n",
       "      <td>1</td>\n",
       "      <td>done</td>\n",
       "      <td>2019-02-12 00:00:00</td>\n",
       "      <td>2019-02-19 15:59:00</td>\n",
       "      <td>2019-03-16 12:17:00</td>\n",
       "      <td>18</td>\n",
       "    </tr>\n",
       "    <tr>\n",
       "      <th>999985</th>\n",
       "      <td>SP</td>\n",
       "      <td>6365</td>\n",
       "      <td>RJ</td>\n",
       "      <td>25850</td>\n",
       "      <td>standard</td>\n",
       "      <td>1</td>\n",
       "      <td>1</td>\n",
       "      <td>done</td>\n",
       "      <td>2019-03-04 00:00:00</td>\n",
       "      <td>2019-03-05 16:14:00</td>\n",
       "      <td>2019-03-12 11:52:00</td>\n",
       "      <td>4</td>\n",
       "    </tr>\n",
       "    <tr>\n",
       "      <th>999986</th>\n",
       "      <td>RJ</td>\n",
       "      <td>20061</td>\n",
       "      <td>ES</td>\n",
       "      <td>29101</td>\n",
       "      <td>standard</td>\n",
       "      <td>1</td>\n",
       "      <td>1</td>\n",
       "      <td>done</td>\n",
       "      <td>2019-02-27 00:00:00</td>\n",
       "      <td>2019-02-28 13:26:00</td>\n",
       "      <td>2019-03-25 16:12:00</td>\n",
       "      <td>16</td>\n",
       "    </tr>\n",
       "    <tr>\n",
       "      <th>999987</th>\n",
       "      <td>SP</td>\n",
       "      <td>2033</td>\n",
       "      <td>SP</td>\n",
       "      <td>5633</td>\n",
       "      <td>express</td>\n",
       "      <td>2</td>\n",
       "      <td>0</td>\n",
       "      <td>done</td>\n",
       "      <td>2019-03-06 00:00:00</td>\n",
       "      <td>2019-03-06 16:29:00</td>\n",
       "      <td>2019-03-07 15:55:00</td>\n",
       "      <td>1</td>\n",
       "    </tr>\n",
       "    <tr>\n",
       "      <th>999988</th>\n",
       "      <td>MG</td>\n",
       "      <td>35450</td>\n",
       "      <td>SP</td>\n",
       "      <td>17030</td>\n",
       "      <td>standard</td>\n",
       "      <td>2</td>\n",
       "      <td>1</td>\n",
       "      <td>done</td>\n",
       "      <td>2019-03-06 00:00:00</td>\n",
       "      <td>2019-03-07 13:05:00</td>\n",
       "      <td>2019-03-14 14:53:00</td>\n",
       "      <td>4</td>\n",
       "    </tr>\n",
       "    <tr>\n",
       "      <th>999989</th>\n",
       "      <td>SP</td>\n",
       "      <td>9725</td>\n",
       "      <td>GO</td>\n",
       "      <td>75908</td>\n",
       "      <td>standard</td>\n",
       "      <td>1</td>\n",
       "      <td>2</td>\n",
       "      <td>done</td>\n",
       "      <td>2019-03-11 00:00:00</td>\n",
       "      <td>2019-03-18 16:14:00</td>\n",
       "      <td>2019-03-21 17:17:00</td>\n",
       "      <td>3</td>\n",
       "    </tr>\n",
       "    <tr>\n",
       "      <th>999990</th>\n",
       "      <td>SP</td>\n",
       "      <td>2011</td>\n",
       "      <td>RS</td>\n",
       "      <td>94070</td>\n",
       "      <td>express</td>\n",
       "      <td>3</td>\n",
       "      <td>4</td>\n",
       "      <td>done</td>\n",
       "      <td>2019-02-25 00:00:00</td>\n",
       "      <td>2019-02-26 02:07:39</td>\n",
       "      <td>2019-02-28 17:54:00</td>\n",
       "      <td>2</td>\n",
       "    </tr>\n",
       "    <tr>\n",
       "      <th>999991</th>\n",
       "      <td>SP</td>\n",
       "      <td>8050</td>\n",
       "      <td>SC</td>\n",
       "      <td>88090</td>\n",
       "      <td>standard</td>\n",
       "      <td>1</td>\n",
       "      <td>1</td>\n",
       "      <td>done</td>\n",
       "      <td>2019-03-15 00:00:00</td>\n",
       "      <td>2019-03-15 14:34:00</td>\n",
       "      <td>2019-03-21 15:28:00</td>\n",
       "      <td>4</td>\n",
       "    </tr>\n",
       "    <tr>\n",
       "      <th>999992</th>\n",
       "      <td>SP</td>\n",
       "      <td>6445</td>\n",
       "      <td>SP</td>\n",
       "      <td>13503</td>\n",
       "      <td>express</td>\n",
       "      <td>1</td>\n",
       "      <td>0</td>\n",
       "      <td>done</td>\n",
       "      <td>2019-03-19 00:00:00</td>\n",
       "      <td>2019-03-19 14:41:00</td>\n",
       "      <td>2019-03-21 11:42:00</td>\n",
       "      <td>2</td>\n",
       "    </tr>\n",
       "    <tr>\n",
       "      <th>999993</th>\n",
       "      <td>MT</td>\n",
       "      <td>78365</td>\n",
       "      <td>RJ</td>\n",
       "      <td>20071</td>\n",
       "      <td>standard</td>\n",
       "      <td>1</td>\n",
       "      <td>1</td>\n",
       "      <td>done</td>\n",
       "      <td>2019-02-21 00:00:00</td>\n",
       "      <td>2019-02-26 09:04:00</td>\n",
       "      <td>2019-03-04 12:33:00</td>\n",
       "      <td>4</td>\n",
       "    </tr>\n",
       "    <tr>\n",
       "      <th>999994</th>\n",
       "      <td>SP</td>\n",
       "      <td>2738</td>\n",
       "      <td>ES</td>\n",
       "      <td>29194</td>\n",
       "      <td>standard</td>\n",
       "      <td>1</td>\n",
       "      <td>1</td>\n",
       "      <td>done</td>\n",
       "      <td>2019-03-01 00:00:00</td>\n",
       "      <td>2019-03-04 12:02:00</td>\n",
       "      <td>2019-03-27 13:50:00</td>\n",
       "      <td>16</td>\n",
       "    </tr>\n",
       "    <tr>\n",
       "      <th>999995</th>\n",
       "      <td>SP</td>\n",
       "      <td>7094</td>\n",
       "      <td>CE</td>\n",
       "      <td>60822</td>\n",
       "      <td>standard</td>\n",
       "      <td>2</td>\n",
       "      <td>1</td>\n",
       "      <td>done</td>\n",
       "      <td>2019-02-15 00:00:00</td>\n",
       "      <td>2019-02-15 14:09:00</td>\n",
       "      <td>2019-03-14 12:40:00</td>\n",
       "      <td>18</td>\n",
       "    </tr>\n",
       "    <tr>\n",
       "      <th>999996</th>\n",
       "      <td>SP</td>\n",
       "      <td>4458</td>\n",
       "      <td>MG</td>\n",
       "      <td>38410</td>\n",
       "      <td>standard</td>\n",
       "      <td>1</td>\n",
       "      <td>1</td>\n",
       "      <td>done</td>\n",
       "      <td>2019-03-02 00:00:00</td>\n",
       "      <td>2019-03-04 09:56:00</td>\n",
       "      <td>2019-03-19 16:04:00</td>\n",
       "      <td>10</td>\n",
       "    </tr>\n",
       "    <tr>\n",
       "      <th>999997</th>\n",
       "      <td>MG</td>\n",
       "      <td>39400</td>\n",
       "      <td>SP</td>\n",
       "      <td>4437</td>\n",
       "      <td>express</td>\n",
       "      <td>1</td>\n",
       "      <td>0</td>\n",
       "      <td>done</td>\n",
       "      <td>2019-03-20 00:00:00</td>\n",
       "      <td>2019-03-22 16:30:00</td>\n",
       "      <td>2019-03-27 16:01:00</td>\n",
       "      <td>3</td>\n",
       "    </tr>\n",
       "    <tr>\n",
       "      <th>999998</th>\n",
       "      <td>SP</td>\n",
       "      <td>14405</td>\n",
       "      <td>SP</td>\n",
       "      <td>7404</td>\n",
       "      <td>express</td>\n",
       "      <td>1</td>\n",
       "      <td>4</td>\n",
       "      <td>done</td>\n",
       "      <td>2019-03-15 00:00:00</td>\n",
       "      <td>2019-03-20 19:10:51</td>\n",
       "      <td>2019-03-24 17:00:00</td>\n",
       "      <td>3</td>\n",
       "    </tr>\n",
       "    <tr>\n",
       "      <th>999999</th>\n",
       "      <td>SP</td>\n",
       "      <td>17340</td>\n",
       "      <td>SP</td>\n",
       "      <td>3449</td>\n",
       "      <td>standard</td>\n",
       "      <td>1</td>\n",
       "      <td>1</td>\n",
       "      <td>done</td>\n",
       "      <td>2019-02-28 00:00:00</td>\n",
       "      <td>2019-03-01 13:30:00</td>\n",
       "      <td>2019-03-12 09:53:00</td>\n",
       "      <td>6</td>\n",
       "    </tr>\n",
       "  </tbody>\n",
       "</table>\n",
       "<p>931050 rows × 12 columns</p>\n",
       "</div>"
      ],
      "text/plain": [
       "       sender_state  sender_zipcode receiver_state  receiver_zipcode  \\\n",
       "0                SP            3005             SP              5409   \n",
       "1                SP           17052             MG             37750   \n",
       "2                SP            2033             SP             11040   \n",
       "3                SP           13900             SP             18500   \n",
       "4                SP            4361             RS             96810   \n",
       "5                SP           15708             RJ             24230   \n",
       "6                ES           29060             RS             98700   \n",
       "7                SP            1202             RS             93230   \n",
       "8                SP            2313             SP              4165   \n",
       "9                PR           80215             SP              7055   \n",
       "11               SP            8320             RS             95555   \n",
       "12               SP            7094             SP              7855   \n",
       "13               SP           18081             SP              1310   \n",
       "14               SP            3480             SP             15370   \n",
       "15               SP            3611             RS             95270   \n",
       "16               SP           17605             PR             85420   \n",
       "17               RJ           25655             SP             16920   \n",
       "18               SP            9520             BA             41680   \n",
       "19               SP            1109             SP              4281   \n",
       "20               MS           79011             RS             99740   \n",
       "21               SP            1408             PB             58046   \n",
       "22               SP            3041             PR             84052   \n",
       "24               SP            5616             SP             17220   \n",
       "28               SC           89026             PR             86801   \n",
       "29               SP            5411             SP             14110   \n",
       "30               SC           89162             PE             55330   \n",
       "31               SP           19020             AL             57601   \n",
       "32               SP            9911             RJ             21070   \n",
       "33               SP            8061             MG             38750   \n",
       "34               MG           36460             SC             88354   \n",
       "...             ...             ...            ...               ...   \n",
       "999970           RJ           28620             RJ             22261   \n",
       "999971           PR           83045             MS             79290   \n",
       "999972           SC           88914             MG             33805   \n",
       "999973           MS           79004             MS             79010   \n",
       "999974           SP            7082             ES             29902   \n",
       "999975           SP           11060             CE             60714   \n",
       "999976           SP            4040             SP              1233   \n",
       "999977           RS           98400             CE             60115   \n",
       "999978           PR           85807             PE             55340   \n",
       "999979           SC           88359             PR             87705   \n",
       "999980           SP            9010             BA             45450   \n",
       "999981           SP            2520             SP             13477   \n",
       "999982           SP           13024             SP              5328   \n",
       "999983           SP           17730             PA             68470   \n",
       "999984           PR           87504             PB             58040   \n",
       "999985           SP            6365             RJ             25850   \n",
       "999986           RJ           20061             ES             29101   \n",
       "999987           SP            2033             SP              5633   \n",
       "999988           MG           35450             SP             17030   \n",
       "999989           SP            9725             GO             75908   \n",
       "999990           SP            2011             RS             94070   \n",
       "999991           SP            8050             SC             88090   \n",
       "999992           SP            6445             SP             13503   \n",
       "999993           MT           78365             RJ             20071   \n",
       "999994           SP            2738             ES             29194   \n",
       "999995           SP            7094             CE             60822   \n",
       "999996           SP            4458             MG             38410   \n",
       "999997           MG           39400             SP              4437   \n",
       "999998           SP           14405             SP              7404   \n",
       "999999           SP           17340             SP              3449   \n",
       "\n",
       "       shipment_type  quantity  service status         date_created  \\\n",
       "0            express         1        0   done  2019-03-04 00:00:00   \n",
       "1           standard         1        1   done  2019-03-19 00:00:00   \n",
       "2            express         1        0   done  2019-02-18 00:00:00   \n",
       "3            express         1        0   done  2019-03-09 00:00:00   \n",
       "4            express         1        0   done  2019-03-08 00:00:00   \n",
       "5           standard         1        1   done  2019-03-01 00:00:00   \n",
       "6           standard         2        1   done  2019-03-07 00:00:00   \n",
       "7           standard         1        1   done  2019-02-16 00:00:00   \n",
       "8            express         2        0   done  2019-02-28 00:00:00   \n",
       "9           standard         1        1   done  2019-02-28 00:00:00   \n",
       "11          standard         1        1   done  2019-03-04 00:00:00   \n",
       "12           express         1        0   done  2019-03-14 00:00:00   \n",
       "13           express         1        0   done  2019-03-17 00:00:00   \n",
       "14           express         1        0   done  2019-03-13 00:00:00   \n",
       "15          standard         1        1   done  2019-02-24 00:00:00   \n",
       "16          standard         1        1   done  2019-02-15 00:00:00   \n",
       "17          standard         1        1   done  2019-02-24 00:00:00   \n",
       "18           express         1        0   done  2019-03-04 00:00:00   \n",
       "19           express         1        0   done  2019-03-12 00:00:00   \n",
       "20          standard         1        1   done  2019-02-15 00:00:00   \n",
       "21          standard         1        1   done  2019-03-07 00:00:00   \n",
       "22          standard         1        4   done  2019-03-09 00:00:00   \n",
       "24           express         1        0   done  2019-02-27 00:00:00   \n",
       "28          standard         1        1   done  2019-03-21 00:00:00   \n",
       "29           express         1        0   done  2019-03-07 00:00:00   \n",
       "30          standard         1        1   done  2019-03-02 00:00:00   \n",
       "31          standard         2        2   done  2019-02-11 00:00:00   \n",
       "32           express         1        0   done  2019-03-18 00:00:00   \n",
       "33          standard         1        1   done  2019-03-07 00:00:00   \n",
       "34          standard         1        1   done  2019-03-21 00:00:00   \n",
       "...              ...       ...      ...    ...                  ...   \n",
       "999970       express         1        0   done  2019-03-13 00:00:00   \n",
       "999971      standard         1        1   done  2019-02-28 00:00:00   \n",
       "999972      standard         1        1   done  2019-02-26 00:00:00   \n",
       "999973       express         2        0   done  2019-02-28 00:00:00   \n",
       "999974      standard         1        1   done  2019-02-18 00:00:00   \n",
       "999975      standard         1        2   done  2019-03-04 00:00:00   \n",
       "999976       express         1        0   done  2019-03-17 00:00:00   \n",
       "999977      standard         1        1   done  2019-02-07 00:00:00   \n",
       "999978      standard         1        1   done  2019-02-15 00:00:00   \n",
       "999979      standard         1        1   done  2019-02-17 00:00:00   \n",
       "999980      standard         2        1   done  2019-02-18 00:00:00   \n",
       "999981       express         1        0   done  2019-03-10 00:00:00   \n",
       "999982       express         1        0   done  2019-03-06 00:00:00   \n",
       "999983      standard         1        1   done  2019-02-22 00:00:00   \n",
       "999984      standard         2        1   done  2019-02-12 00:00:00   \n",
       "999985      standard         1        1   done  2019-03-04 00:00:00   \n",
       "999986      standard         1        1   done  2019-02-27 00:00:00   \n",
       "999987       express         2        0   done  2019-03-06 00:00:00   \n",
       "999988      standard         2        1   done  2019-03-06 00:00:00   \n",
       "999989      standard         1        2   done  2019-03-11 00:00:00   \n",
       "999990       express         3        4   done  2019-02-25 00:00:00   \n",
       "999991      standard         1        1   done  2019-03-15 00:00:00   \n",
       "999992       express         1        0   done  2019-03-19 00:00:00   \n",
       "999993      standard         1        1   done  2019-02-21 00:00:00   \n",
       "999994      standard         1        1   done  2019-03-01 00:00:00   \n",
       "999995      standard         2        1   done  2019-02-15 00:00:00   \n",
       "999996      standard         1        1   done  2019-03-02 00:00:00   \n",
       "999997       express         1        0   done  2019-03-20 00:00:00   \n",
       "999998       express         1        4   done  2019-03-15 00:00:00   \n",
       "999999      standard         1        1   done  2019-02-28 00:00:00   \n",
       "\n",
       "                  date_sent           date_visit  target  \n",
       "0       2019-03-05 13:24:00  2019-03-07 18:01:00       2  \n",
       "1       2019-03-20 14:44:00  2019-03-27 10:21:00       5  \n",
       "2       2019-02-21 15:08:00  2019-02-28 18:19:00       5  \n",
       "3       2019-03-11 15:48:00  2019-03-12 13:33:00       1  \n",
       "4       2019-03-12 08:19:00  2019-03-16 08:24:00       4  \n",
       "5       2019-03-02 08:55:00  2019-03-18 14:28:00       9  \n",
       "6       2019-03-08 17:47:00  2019-03-25 14:01:00      11  \n",
       "7       2019-02-20 12:24:00  2019-03-12 10:11:00      13  \n",
       "8       2019-03-01 14:35:00  2019-03-04 14:22:00       1  \n",
       "9       2019-03-04 16:04:00  2019-03-14 15:27:00       7  \n",
       "11      2019-03-05 12:01:00  2019-03-08 17:16:00       2  \n",
       "12      2019-03-15 18:19:00  2019-03-19 12:57:00       2  \n",
       "13      2019-03-22 13:19:00  2019-03-23 11:49:00       1  \n",
       "14      2019-03-14 11:01:00  2019-03-15 17:24:00       1  \n",
       "15      2019-02-25 19:02:00  2019-03-09 11:02:00       9  \n",
       "16      2019-02-15 09:47:00  2019-03-05 12:45:00      12  \n",
       "17      2019-02-25 11:17:00  2019-03-11 15:55:00       9  \n",
       "18      2019-03-05 15:32:00  2019-03-07 16:09:00       2  \n",
       "19      2019-03-13 17:09:00  2019-03-15 16:27:00       2  \n",
       "20      2019-02-18 13:27:00  2019-02-28 15:53:00       8  \n",
       "21      2019-03-08 12:00:00  2019-03-28 16:42:00      14  \n",
       "22      2019-03-14 19:58:51  2019-03-21 12:48:00       5  \n",
       "24      2019-03-01 15:18:00  2019-03-02 10:39:00       1  \n",
       "28      2019-03-22 16:09:00  2019-03-28 15:09:00       4  \n",
       "29      2019-03-08 11:24:00  2019-03-11 18:06:00       1  \n",
       "30      2019-03-05 13:28:00  2019-03-28 10:58:00      16  \n",
       "31      2019-02-18 12:46:00  2019-03-07 13:10:00      13  \n",
       "32      2019-03-19 15:05:00  2019-03-22 15:38:00       3  \n",
       "33      2019-03-08 10:14:00  2019-03-15 09:36:00       5  \n",
       "34      2019-03-22 07:36:00  2019-03-28 09:24:00       4  \n",
       "...                     ...                  ...     ...  \n",
       "999970  2019-03-13 15:31:00  2019-03-14 12:27:00       1  \n",
       "999971  2019-02-28 13:21:00  2019-03-14 16:29:00       9  \n",
       "999972  2019-02-27 15:58:00  2019-03-23 10:28:00      17  \n",
       "999973  2019-03-01 16:34:00  2019-03-04 15:46:00       1  \n",
       "999974  2019-02-19 12:46:00  2019-03-04 14:28:00       9  \n",
       "999975  2019-03-07 21:06:51  2019-03-25 21:17:00      11  \n",
       "999976  2019-03-18 11:34:00  2019-03-25 19:06:00       5  \n",
       "999977  2019-02-08 14:35:00  2019-03-21 18:03:00      25  \n",
       "999978  2019-02-19 11:25:00  2019-03-08 14:30:00      12  \n",
       "999979  2019-02-20 13:58:00  2019-03-06 16:00:00      10  \n",
       "999980  2019-02-18 19:31:00  2019-03-05 15:20:00      11  \n",
       "999981  2019-03-12 17:16:23  2019-03-18 18:06:00       4  \n",
       "999982  2019-03-06 14:46:00  2019-03-07 15:54:00       1  \n",
       "999983  2019-02-22 14:19:00  2019-03-18 16:28:00      15  \n",
       "999984  2019-02-19 15:59:00  2019-03-16 12:17:00      18  \n",
       "999985  2019-03-05 16:14:00  2019-03-12 11:52:00       4  \n",
       "999986  2019-02-28 13:26:00  2019-03-25 16:12:00      16  \n",
       "999987  2019-03-06 16:29:00  2019-03-07 15:55:00       1  \n",
       "999988  2019-03-07 13:05:00  2019-03-14 14:53:00       4  \n",
       "999989  2019-03-18 16:14:00  2019-03-21 17:17:00       3  \n",
       "999990  2019-02-26 02:07:39  2019-02-28 17:54:00       2  \n",
       "999991  2019-03-15 14:34:00  2019-03-21 15:28:00       4  \n",
       "999992  2019-03-19 14:41:00  2019-03-21 11:42:00       2  \n",
       "999993  2019-02-26 09:04:00  2019-03-04 12:33:00       4  \n",
       "999994  2019-03-04 12:02:00  2019-03-27 13:50:00      16  \n",
       "999995  2019-02-15 14:09:00  2019-03-14 12:40:00      18  \n",
       "999996  2019-03-04 09:56:00  2019-03-19 16:04:00      10  \n",
       "999997  2019-03-22 16:30:00  2019-03-27 16:01:00       3  \n",
       "999998  2019-03-20 19:10:51  2019-03-24 17:00:00       3  \n",
       "999999  2019-03-01 13:30:00  2019-03-12 09:53:00       6  \n",
       "\n",
       "[931050 rows x 12 columns]"
      ]
     },
     "execution_count": 9,
     "metadata": {},
     "output_type": "execute_result"
    }
   ],
   "source": [
    "df_serv"
   ]
  },
  {
   "cell_type": "code",
   "execution_count": 10,
   "metadata": {},
   "outputs": [
    {
     "data": {
      "text/plain": [
       "(array([ 0,  1,  2,  3,  4,  5,  6,  7,  8,  9, 10, 11, 12, 13, 14, 15, 16,\n",
       "        17, 18, 19, 20, 21, 22, 23, 24, 25, 26, 27, 28, 29, 30, 31, 32, 33,\n",
       "        34, 35, 36, 37, 38, 39, 40, 41, 42, 43, 44, 45, 46, 47, 48, 49, 50,\n",
       "        51, 52, 53, 54, 55, 56, 57, 58, 59, 60, 61, 62, 63, 64, 65, 66, 67,\n",
       "        68, 69, 70, 71, 72]), <a list of 73 Text xticklabel objects>)"
      ]
     },
     "execution_count": 10,
     "metadata": {},
     "output_type": "execute_result"
    },
    {
     "data": {
      "image/png": "[encoded data removed]",
      "text/plain": [
       "<Figure size 1080x432 with 1 Axes>"
      ]
     },
     "metadata": {
      "needs_background": "light"
     },
     "output_type": "display_data"
    }
   ],
   "source": [
    "plt.figure(figsize=(15,6))\n",
    "sb.countplot(df_serv['target'])\n",
    "plt.xticks(rotation=90)"
   ]
  },
  {
   "cell_type": "markdown",
   "metadata": {},
   "source": [
    "Busco representar sólo la parte más informativa de la distribución target"
   ]
  },
  {
   "cell_type": "code",
   "execution_count": 11,
   "metadata": {},
   "outputs": [
    {
     "data": {
      "text/plain": [
       "23.0"
      ]
     },
     "execution_count": 11,
     "metadata": {},
     "output_type": "execute_result"
    }
   ],
   "source": [
    "df_serv['target'].quantile(0.99)"
   ]
  },
  {
   "cell_type": "code",
   "execution_count": 12,
   "metadata": {},
   "outputs": [
    {
     "data": {
      "text/plain": [
       "(array([ 0,  1,  2,  3,  4,  5,  6,  7,  8,  9, 10, 11, 12, 13, 14, 15, 16,\n",
       "        17, 18, 19, 20, 21, 22, 23]), <a list of 24 Text xticklabel objects>)"
      ]
     },
     "execution_count": 12,
     "metadata": {},
     "output_type": "execute_result"
    },
    {
     "data": {
      "image/png": "[encoded data removed]",
      "text/plain": [
       "<Figure size 1080x432 with 1 Axes>"
      ]
     },
     "metadata": {
      "needs_background": "light"
     },
     "output_type": "display_data"
    }
   ],
   "source": [
    "plt.figure(figsize=(15,6))\n",
    "sb.countplot(df_serv[df_serv['target']<24]['target'])\n",
    "plt.xticks(rotation=90)"
   ]
  },
  {
   "cell_type": "markdown",
   "metadata": {},
   "source": [
    "**2.2 ¿Existen servicios más rápidos que otros?**"
   ]
  },
  {
   "cell_type": "code",
   "execution_count": 13,
   "metadata": {},
   "outputs": [],
   "source": [
    "df_fast=df_1[df_1['target']<24].groupby(['service'],as_index=False).agg({'target':'mean'})"
   ]
  },
  {
   "cell_type": "code",
   "execution_count": 14,
   "metadata": {},
   "outputs": [
    {
     "data": {
      "text/html": [
       "<div>\n",
       "<style scoped>\n",
       "    .dataframe tbody tr th:only-of-type {\n",
       "        vertical-align: middle;\n",
       "    }\n",
       "\n",
       "    .dataframe tbody tr th {\n",
       "        vertical-align: top;\n",
       "    }\n",
       "\n",
       "    .dataframe thead th {\n",
       "        text-align: right;\n",
       "    }\n",
       "</style>\n",
       "<table border=\"1\" class=\"dataframe\">\n",
       "  <thead>\n",
       "    <tr style=\"text-align: right;\">\n",
       "      <th></th>\n",
       "      <th>service</th>\n",
       "      <th>target</th>\n",
       "    </tr>\n",
       "  </thead>\n",
       "  <tbody>\n",
       "    <tr>\n",
       "      <th>0</th>\n",
       "      <td>0</td>\n",
       "      <td>2.301487</td>\n",
       "    </tr>\n",
       "    <tr>\n",
       "      <th>1</th>\n",
       "      <td>1</td>\n",
       "      <td>9.129298</td>\n",
       "    </tr>\n",
       "    <tr>\n",
       "      <th>2</th>\n",
       "      <td>2</td>\n",
       "      <td>4.861787</td>\n",
       "    </tr>\n",
       "    <tr>\n",
       "      <th>3</th>\n",
       "      <td>3</td>\n",
       "      <td>3.861314</td>\n",
       "    </tr>\n",
       "    <tr>\n",
       "      <th>4</th>\n",
       "      <td>4</td>\n",
       "      <td>3.352907</td>\n",
       "    </tr>\n",
       "    <tr>\n",
       "      <th>5</th>\n",
       "      <td>5</td>\n",
       "      <td>0.577650</td>\n",
       "    </tr>\n",
       "    <tr>\n",
       "      <th>6</th>\n",
       "      <td>6</td>\n",
       "      <td>1.577955</td>\n",
       "    </tr>\n",
       "    <tr>\n",
       "      <th>7</th>\n",
       "      <td>7</td>\n",
       "      <td>6.297143</td>\n",
       "    </tr>\n",
       "    <tr>\n",
       "      <th>8</th>\n",
       "      <td>8</td>\n",
       "      <td>0.510212</td>\n",
       "    </tr>\n",
       "    <tr>\n",
       "      <th>9</th>\n",
       "      <td>9</td>\n",
       "      <td>1.233251</td>\n",
       "    </tr>\n",
       "    <tr>\n",
       "      <th>10</th>\n",
       "      <td>10</td>\n",
       "      <td>1.313433</td>\n",
       "    </tr>\n",
       "    <tr>\n",
       "      <th>11</th>\n",
       "      <td>11</td>\n",
       "      <td>1.000000</td>\n",
       "    </tr>\n",
       "  </tbody>\n",
       "</table>\n",
       "</div>"
      ],
      "text/plain": [
       "    service    target\n",
       "0         0  2.301487\n",
       "1         1  9.129298\n",
       "2         2  4.861787\n",
       "3         3  3.861314\n",
       "4         4  3.352907\n",
       "5         5  0.577650\n",
       "6         6  1.577955\n",
       "7         7  6.297143\n",
       "8         8  0.510212\n",
       "9         9  1.233251\n",
       "10       10  1.313433\n",
       "11       11  1.000000"
      ]
     },
     "execution_count": 14,
     "metadata": {},
     "output_type": "execute_result"
    }
   ],
   "source": [
    "df_fast"
   ]
  },
  {
   "cell_type": "code",
   "execution_count": 15,
   "metadata": {},
   "outputs": [
    {
     "data": {
      "text/plain": [
       "<matplotlib.axes._subplots.AxesSubplot at 0x7fca48cacc18>"
      ]
     },
     "execution_count": 15,
     "metadata": {},
     "output_type": "execute_result"
    },
    {
     "data": {
      "image/png": "[encoded data removed]",
      "text/plain": [
       "<Figure size 432x288 with 1 Axes>"
      ]
     },
     "metadata": {
      "needs_background": "light"
     },
     "output_type": "display_data"
    }
   ],
   "source": [
    "sb.barplot(data=df_fast, x='service', y='target')"
   ]
  },
  {
   "cell_type": "markdown",
   "metadata": {},
   "source": [
    "En promedio podemos decir que si existen servicios que demoran más que otros en este caso se trata de las barras mas altas. Sin embargo, los servicios más pedidos son 1 (que corresponde a la barra más alta i.e. mayor demora), 0, 4, 2."
   ]
  },
  {
   "cell_type": "markdown",
   "metadata": {},
   "source": [
    "**2.3 ¿Existen servicios similares entre sí? ¿Alguna idea de porque?**"
   ]
  },
  {
   "cell_type": "code",
   "execution_count": 19,
   "metadata": {},
   "outputs": [],
   "source": [
    "df_ss_ser=df.groupby(['sender_state','service'],as_index=False).agg({}) #agrupo\n",
    "\n",
    "df_sz_ser=df.groupby(['sender_zipcode','service'],as_index=False).agg({})\n",
    "\n",
    "df_rs_ser=df.groupby(['receiver_state','service'],as_index=False).agg({})\n",
    "\n",
    "df_rz_ser=df.groupby(['receiver_zipcode','service'],as_index=False).agg({})\n",
    "\n",
    "df_st_ser=df.groupby(['shipment_type','service'],as_index=False).agg({})\n",
    "\n",
    "df_q_ser=df.groupby(['quantity','service'],as_index=False).agg({})\n",
    "\n",
    "df_s_ser=df.groupby(['status','service'],as_index=False).agg({})\n",
    "\n",
    "df_dc_ser=df.groupby(['date_created','service'],as_index=False).agg({})\n",
    "\n",
    "df_ds_ser=df.groupby(['date_sent','service'],as_index=False).agg({})\n",
    "\n",
    "df_dv_ser=df.groupby(['date_visit','service'],as_index=False).agg({})\n",
    "\n",
    "df_t_ser=df.groupby(['target','service'],as_index=False).agg({})\n",
    "\n"
   ]
  },
  {
   "cell_type": "markdown",
   "metadata": {},
   "source": [
    "veamos si existe alguna relacion entre service y las otras columnas"
   ]
  },
  {
   "cell_type": "code",
   "execution_count": 20,
   "metadata": {},
   "outputs": [
    {
     "data": {
      "text/plain": [
       "<matplotlib.axes._subplots.AxesSubplot at 0x7fca4804e198>"
      ]
     },
     "execution_count": 20,
     "metadata": {},
     "output_type": "execute_result"
    },
    {
     "data": {
      "image/png": "[encoded data removed]",
      "text/plain": [
       "<Figure size 720x360 with 1 Axes>"
      ]
     },
     "metadata": {
      "needs_background": "light"
     },
     "output_type": "display_data"
    }
   ],
   "source": [
    "plt.figure(figsize=(10,5))\n",
    "\n",
    "sb.scatterplot(data=df_ss_ser, x='sender_state', y='service')"
   ]
  },
  {
   "cell_type": "markdown",
   "metadata": {},
   "source": [
    "\n",
    "Existen servicios similares entre sí, en este caso 0-1 y por otra parte 2-10 coinciden en sender_state"
   ]
  },
  {
   "cell_type": "code",
   "execution_count": 21,
   "metadata": {},
   "outputs": [
    {
     "data": {
      "text/plain": [
       "<matplotlib.axes._subplots.AxesSubplot at 0x7fca48c40fd0>"
      ]
     },
     "execution_count": 21,
     "metadata": {},
     "output_type": "execute_result"
    },
    {
     "data": {
      "image/png": "[encoded data removed]",
      "text/plain": [
       "<Figure size 720x360 with 1 Axes>"
      ]
     },
     "metadata": {
      "needs_background": "light"
     },
     "output_type": "display_data"
    }
   ],
   "source": [
    "plt.figure(figsize=(10,5))\n",
    "\n",
    "sb.scatterplot(data=df_st_ser, x='shipment_type', y='service')"
   ]
  },
  {
   "cell_type": "markdown",
   "metadata": {},
   "source": [
    "Viendo el shipment_type los servicios que  son los siguientes: \n",
    "0, 3 y 6 (coinciden los 3), el 1, 2, 4, 7, 9, 10 (coinciden en express y en standard), el 8 y el 11(express), y el 5(express y super)\n"
   ]
  },
  {
   "cell_type": "code",
   "execution_count": 22,
   "metadata": {},
   "outputs": [
    {
     "data": {
      "text/plain": [
       "<matplotlib.axes._subplots.AxesSubplot at 0x7fca47da9080>"
      ]
     },
     "execution_count": 22,
     "metadata": {},
     "output_type": "execute_result"
    },
    {
     "data": {
      "image/png": "[encoded data removed]",
      "text/plain": [
       "<Figure size 720x360 with 1 Axes>"
      ]
     },
     "metadata": {
      "needs_background": "light"
     },
     "output_type": "display_data"
    }
   ],
   "source": [
    "plt.figure(figsize=(10,5))\n",
    "\n",
    "sb.scatterplot(data=df_rs_ser, x='receiver_state', y='service')"
   ]
  },
  {
   "cell_type": "markdown",
   "metadata": {},
   "source": [
    "Viendo el receiver_state coinciden los servicios: 0, 1, 2, 6 (coinciden todos). Además,  5, 8 y 11 coinciden en sp. Todos los demás son distintos entre sí"
   ]
  },
  {
   "cell_type": "code",
   "execution_count": 23,
   "metadata": {},
   "outputs": [
    {
     "data": {
      "text/plain": [
       "<matplotlib.axes._subplots.AxesSubplot at 0x7fca47fc82e8>"
      ]
     },
     "execution_count": 23,
     "metadata": {},
     "output_type": "execute_result"
    },
    {
     "data": {
      "image/png": "[encoded data removed]",
      "text/plain": [
       "<Figure size 720x360 with 1 Axes>"
      ]
     },
     "metadata": {
      "needs_background": "light"
     },
     "output_type": "display_data"
    }
   ],
   "source": [
    "plt.figure(figsize=(10,5))\n",
    "\n",
    "sb.scatterplot(data=df_s_ser, x='status', y='service')"
   ]
  },
  {
   "cell_type": "markdown",
   "metadata": {},
   "source": [
    "Viendo status los servicios 0, 1, 2, 4, 5, 6, 7, 9 (coinciden en done, failed y sent), el 3 tiene todos los status y 8 (done y failed)"
   ]
  },
  {
   "cell_type": "markdown",
   "metadata": {},
   "source": [
    "**2.4 (Extra) ¿Podrías identificar cuántos correos aparecen en los datos?**\n"
   ]
  },
  {
   "cell_type": "code",
   "execution_count": null,
   "metadata": {},
   "outputs": [],
   "source": []
  },
  {
   "cell_type": "markdown",
   "metadata": {},
   "source": [
    "# 3. Estados"
   ]
  },
  {
   "cell_type": "markdown",
   "metadata": {},
   "source": [
    "**3.1 Graficar solo la parte más informativa de la distribución del target para los 4 estados\n",
    "más representados, con los cuidados correspondientes.**\n"
   ]
  },
  {
   "cell_type": "code",
   "execution_count": null,
   "metadata": {},
   "outputs": [],
   "source": []
  },
  {
   "cell_type": "markdown",
   "metadata": {},
   "source": [
    "**3.2 ¿Cómo están distribuidos los vendedores geográficamente?**\n"
   ]
  },
  {
   "cell_type": "code",
   "execution_count": null,
   "metadata": {},
   "outputs": [],
   "source": []
  },
  {
   "cell_type": "markdown",
   "metadata": {},
   "source": [
    "**3.3 ¿Cómo es la participación de los servicios dentro y fuera de San Pablo?**\n"
   ]
  },
  {
   "cell_type": "code",
   "execution_count": null,
   "metadata": {},
   "outputs": [],
   "source": []
  },
  {
   "cell_type": "markdown",
   "metadata": {},
   "source": [
    "**3.4 (Extra) ¿Podrías explicar porque estos estados están más representados que los\n",
    "otros?.**\n"
   ]
  },
  {
   "cell_type": "code",
   "execution_count": null,
   "metadata": {},
   "outputs": [],
   "source": []
  },
  {
   "cell_type": "markdown",
   "metadata": {},
   "source": [
    "**3.5 Realizar un mapa de calor utilizando los zipcodes de los vendedores y los\n",
    "compradores.**\n"
   ]
  },
  {
   "cell_type": "code",
   "execution_count": null,
   "metadata": {},
   "outputs": [],
   "source": []
  },
  {
   "cell_type": "markdown",
   "metadata": {},
   "source": [
    "**3.6 ¿Cual es la relación entre los zipcodes y los estados?**\n"
   ]
  },
  {
   "cell_type": "code",
   "execution_count": null,
   "metadata": {},
   "outputs": [],
   "source": []
  },
  {
   "cell_type": "markdown",
   "metadata": {},
   "source": [
    "Se espera que utilicen las preguntas como guía de lo que se espera que vean en los datos,\n",
    "todas las respuestas tienen que estar justificadas con datos o gráficos. Se evaluará la\n",
    "legibilidad del notebook, el detalle a la hora de responder las preguntas y mostrar la\n",
    "información solicitada, y además que los gráficos utilizados sean apropiados y correctos. La\n",
    "información no contemplada en las preguntas que se logre encontrar y presentar\n",
    "correctamente será valorada."
   ]
  },
  {
   "cell_type": "markdown",
   "metadata": {},
   "source": [
    "# 4. Conclusion"
   ]
  },
  {
   "cell_type": "code",
   "execution_count": null,
   "metadata": {},
   "outputs": [],
   "source": []
  },
  {
   "cell_type": "markdown",
   "metadata": {},
   "source": []
  }
 ],
 "metadata": {
  "kernelspec": {
   "display_name": "Python 3",
   "language": "python",
   "name": "python3"
  },
  "language_info": {
   "codemirror_mode": {
    "name": "ipython",
    "version": 3
   },
   "file_extension": ".py",
   "mimetype": "text/x-python",
   "name": "python",
   "nbconvert_exporter": "python",
   "pygments_lexer": "ipython3",
   "version": "3.7.1"
  }
 },
 "nbformat": 4,
 "nbformat_minor": 2
}
