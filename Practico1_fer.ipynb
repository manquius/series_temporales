{
 "cells": [
  {
   "cell_type": "markdown",
   "metadata": {},
   "source": [
    "# DiploDatos 2019 - Análisis de Series Temporales\n",
    "\n",
    "## Integrantes\n",
    "\n",
    "| Nombre | e-mail |\n",
    "|------|------|\n",
    "|Rivadero, Isabel | isarivadero@hotmail.com |\n",
    "|Vargas, Miguel | lvc0107@protonmail.com |\n",
    "|Mancuso, Fernando | manquius@gmail.com |\n",
    "\n",
    "\n",
    "\n",
    "## Introducción\n",
    "En este práctico se propone explorar un dataset que contiene información de varias agencias de correo de Brasil, con el objetivo de extraer toda la información relevante sobre estos datos y presentarla de manera organizada y sencilla.\n",
    "En estos datos vamos a encontrar información geográfica de los compradores y vendedores, el tipo de servicio por el que viajan los paquetes, el estado del paquete, algunas fechas relevantes y la cantidad de días hábiles que tardó el envío en llegar a su destino (target)."
   ]
  },
  {
   "cell_type": "markdown",
   "metadata": {},
   "source": [
    "## Dataset"
   ]
  },
  {
   "cell_type": "markdown",
   "metadata": {},
   "source": [
    "## Definiciones"
   ]
  },
  {
   "cell_type": "code",
   "execution_count": 1,
   "metadata": {},
   "outputs": [],
   "source": [
    "%matplotlib inline\n",
    "import numpy as np\n",
    "import pandas as pd\n",
    "\n",
    "cols = ['service',\n",
    "        'sender_zipcode',\n",
    "        'receiver_zipcode',\n",
    "        'sender_state',\n",
    "        'receiver_state',\n",
    "        'shipment_type',\n",
    "        'quantity',\n",
    "        'status',\n",
    "        'date_created',\n",
    "        'date_sent',\n",
    "        'date_visit',\n",
    "        'target']\n",
    "cols_holidays = ['holiday', \n",
    "                 'description']\n",
    "data_path = './shipments_BR_201903.csv'\n",
    "holidays = './holidays.csv'"
   ]
  },
  {
   "cell_type": "markdown",
   "metadata": {},
   "source": [
    "### Datos\n",
    "Los datos que vamos a cargar son un sample no uniforme que corresponde al mes de Marzo de 2019."
   ]
  },
  {
   "cell_type": "code",
   "execution_count": 2,
   "metadata": {},
   "outputs": [
    {
     "data": {
      "text/plain": [
       "(1000000, 12)"
      ]
     },
     "execution_count": 2,
     "metadata": {},
     "output_type": "execute_result"
    }
   ],
   "source": [
    "df = pd.read_csv(data_path, usecols=cols)\n",
    "df.shape"
   ]
  },
  {
   "cell_type": "code",
   "execution_count": 3,
   "metadata": {
    "scrolled": true
   },
   "outputs": [
    {
     "data": {
      "text/html": [
       "<div>\n",
       "<style scoped>\n",
       "    .dataframe tbody tr th:only-of-type {\n",
       "        vertical-align: middle;\n",
       "    }\n",
       "\n",
       "    .dataframe tbody tr th {\n",
       "        vertical-align: top;\n",
       "    }\n",
       "\n",
       "    .dataframe thead th {\n",
       "        text-align: right;\n",
       "    }\n",
       "</style>\n",
       "<table border=\"1\" class=\"dataframe\">\n",
       "  <thead>\n",
       "    <tr style=\"text-align: right;\">\n",
       "      <th></th>\n",
       "      <th>sender_state</th>\n",
       "      <th>sender_zipcode</th>\n",
       "      <th>receiver_state</th>\n",
       "      <th>receiver_zipcode</th>\n",
       "      <th>shipment_type</th>\n",
       "      <th>quantity</th>\n",
       "      <th>service</th>\n",
       "      <th>status</th>\n",
       "      <th>date_created</th>\n",
       "      <th>date_sent</th>\n",
       "      <th>date_visit</th>\n",
       "      <th>target</th>\n",
       "    </tr>\n",
       "  </thead>\n",
       "  <tbody>\n",
       "    <tr>\n",
       "      <th>0</th>\n",
       "      <td>SP</td>\n",
       "      <td>3005</td>\n",
       "      <td>SP</td>\n",
       "      <td>5409</td>\n",
       "      <td>express</td>\n",
       "      <td>1</td>\n",
       "      <td>0</td>\n",
       "      <td>done</td>\n",
       "      <td>2019-03-04 00:00:00</td>\n",
       "      <td>2019-03-05 13:24:00</td>\n",
       "      <td>2019-03-07 18:01:00</td>\n",
       "      <td>2</td>\n",
       "    </tr>\n",
       "    <tr>\n",
       "      <th>1</th>\n",
       "      <td>SP</td>\n",
       "      <td>17052</td>\n",
       "      <td>MG</td>\n",
       "      <td>37750</td>\n",
       "      <td>standard</td>\n",
       "      <td>1</td>\n",
       "      <td>1</td>\n",
       "      <td>done</td>\n",
       "      <td>2019-03-19 00:00:00</td>\n",
       "      <td>2019-03-20 14:44:00</td>\n",
       "      <td>2019-03-27 10:21:00</td>\n",
       "      <td>5</td>\n",
       "    </tr>\n",
       "    <tr>\n",
       "      <th>2</th>\n",
       "      <td>SP</td>\n",
       "      <td>2033</td>\n",
       "      <td>SP</td>\n",
       "      <td>11040</td>\n",
       "      <td>express</td>\n",
       "      <td>1</td>\n",
       "      <td>0</td>\n",
       "      <td>done</td>\n",
       "      <td>2019-02-18 00:00:00</td>\n",
       "      <td>2019-02-21 15:08:00</td>\n",
       "      <td>2019-02-28 18:19:00</td>\n",
       "      <td>5</td>\n",
       "    </tr>\n",
       "    <tr>\n",
       "      <th>3</th>\n",
       "      <td>SP</td>\n",
       "      <td>13900</td>\n",
       "      <td>SP</td>\n",
       "      <td>18500</td>\n",
       "      <td>express</td>\n",
       "      <td>1</td>\n",
       "      <td>0</td>\n",
       "      <td>done</td>\n",
       "      <td>2019-03-09 00:00:00</td>\n",
       "      <td>2019-03-11 15:48:00</td>\n",
       "      <td>2019-03-12 13:33:00</td>\n",
       "      <td>1</td>\n",
       "    </tr>\n",
       "    <tr>\n",
       "      <th>4</th>\n",
       "      <td>SP</td>\n",
       "      <td>4361</td>\n",
       "      <td>RS</td>\n",
       "      <td>96810</td>\n",
       "      <td>express</td>\n",
       "      <td>1</td>\n",
       "      <td>0</td>\n",
       "      <td>done</td>\n",
       "      <td>2019-03-08 00:00:00</td>\n",
       "      <td>2019-03-12 08:19:00</td>\n",
       "      <td>2019-03-16 08:24:00</td>\n",
       "      <td>4</td>\n",
       "    </tr>\n",
       "  </tbody>\n",
       "</table>\n",
       "</div>"
      ],
      "text/plain": [
       "  sender_state  sender_zipcode receiver_state  receiver_zipcode shipment_type  \\\n",
       "0           SP            3005             SP              5409       express   \n",
       "1           SP           17052             MG             37750      standard   \n",
       "2           SP            2033             SP             11040       express   \n",
       "3           SP           13900             SP             18500       express   \n",
       "4           SP            4361             RS             96810       express   \n",
       "\n",
       "   quantity  service status         date_created            date_sent  \\\n",
       "0         1        0   done  2019-03-04 00:00:00  2019-03-05 13:24:00   \n",
       "1         1        1   done  2019-03-19 00:00:00  2019-03-20 14:44:00   \n",
       "2         1        0   done  2019-02-18 00:00:00  2019-02-21 15:08:00   \n",
       "3         1        0   done  2019-03-09 00:00:00  2019-03-11 15:48:00   \n",
       "4         1        0   done  2019-03-08 00:00:00  2019-03-12 08:19:00   \n",
       "\n",
       "            date_visit  target  \n",
       "0  2019-03-07 18:01:00       2  \n",
       "1  2019-03-27 10:21:00       5  \n",
       "2  2019-02-28 18:19:00       5  \n",
       "3  2019-03-12 13:33:00       1  \n",
       "4  2019-03-16 08:24:00       4  "
      ]
     },
     "execution_count": 3,
     "metadata": {},
     "output_type": "execute_result"
    }
   ],
   "source": [
    "df.head()"
   ]
  },
  {
   "cell_type": "markdown",
   "metadata": {},
   "source": [
    "#### Referencia de las columnas\n",
    "* **service**: Identificador unico que corresponde a un tipo de servicio de un correo en particular.\n",
    "* **sender_zipcode:** Código postal de quien envía el paquete (usualmente el vendedor).\n",
    "* **receiver_zipcode:** Código postal de quien recibe el paquete (usualmente el comprador).\n",
    "* **sender_state:** Nombre abreviado del estado de quien envía el paquete.\n",
    "* **receiver_state:** Nombre abreviado del estado de quien recibe el paquete.\n",
    "* **quantity:** Cantidad de items que tiene dentro el paquete.\n",
    "* **status:** Estado final del envío.\n",
    "* **date_created:** Fecha de compra de el o los items.\n",
    "* **date_sent:** Fecha en que el correo recibe el paquete.\n",
    "* **date_visit:** Fecha en que el correo entrega el paquete.\n",
    "* **target:** Cantidad de dias hábiles que tardó el correo en entregar el paquete desde que lo recibe.\n"
   ]
  },
  {
   "cell_type": "markdown",
   "metadata": {},
   "source": [
    "#### Feriados\n",
    "Las series temporales se ven afectadas por los eventos que ocurren en cada fecha. Por esto es importante identificar los eventos sucedidos en cada fecha e identificar como afecta a nuestra serie.\n",
    "En este caso, tendremos en cuenta los feriados de Brasil durante el año 2019."
   ]
  },
  {
   "cell_type": "code",
   "execution_count": 4,
   "metadata": {},
   "outputs": [
    {
     "data": {
      "text/html": [
       "<div>\n",
       "<style scoped>\n",
       "    .dataframe tbody tr th:only-of-type {\n",
       "        vertical-align: middle;\n",
       "    }\n",
       "\n",
       "    .dataframe tbody tr th {\n",
       "        vertical-align: top;\n",
       "    }\n",
       "\n",
       "    .dataframe thead th {\n",
       "        text-align: right;\n",
       "    }\n",
       "</style>\n",
       "<table border=\"1\" class=\"dataframe\">\n",
       "  <thead>\n",
       "    <tr style=\"text-align: right;\">\n",
       "      <th></th>\n",
       "      <th>holiday</th>\n",
       "      <th>description</th>\n",
       "    </tr>\n",
       "  </thead>\n",
       "  <tbody>\n",
       "    <tr>\n",
       "      <th>0</th>\n",
       "      <td>2019-02-12</td>\n",
       "      <td>Carnaval</td>\n",
       "    </tr>\n",
       "    <tr>\n",
       "      <th>1</th>\n",
       "      <td>2019-01-05</td>\n",
       "      <td>Dia de Reis</td>\n",
       "    </tr>\n",
       "    <tr>\n",
       "      <th>2</th>\n",
       "      <td>2019-01-24</td>\n",
       "      <td>[Feriado Municipal] Aniversário da Cidade conf...</td>\n",
       "    </tr>\n",
       "    <tr>\n",
       "      <th>3</th>\n",
       "      <td>2019-03-31</td>\n",
       "      <td>Páscoa</td>\n",
       "    </tr>\n",
       "    <tr>\n",
       "      <th>4</th>\n",
       "      <td>2019-04-21</td>\n",
       "      <td>Descobrimento do Brasil</td>\n",
       "    </tr>\n",
       "    <tr>\n",
       "      <th>5</th>\n",
       "      <td>2019-02-13</td>\n",
       "      <td>Carnaval</td>\n",
       "    </tr>\n",
       "    <tr>\n",
       "      <th>6</th>\n",
       "      <td>2019-04-20</td>\n",
       "      <td>Aniversário de Brasília</td>\n",
       "    </tr>\n",
       "    <tr>\n",
       "      <th>7</th>\n",
       "      <td>2019-12-24</td>\n",
       "      <td>Natal</td>\n",
       "    </tr>\n",
       "    <tr>\n",
       "      <th>8</th>\n",
       "      <td>2019-11-14</td>\n",
       "      <td>Proclamação da República</td>\n",
       "    </tr>\n",
       "    <tr>\n",
       "      <th>9</th>\n",
       "      <td>2019-04-18</td>\n",
       "      <td>Dia do Índio</td>\n",
       "    </tr>\n",
       "    <tr>\n",
       "      <th>10</th>\n",
       "      <td>2019-06-04</td>\n",
       "      <td>Dia Mundial do Meio Ambiente</td>\n",
       "    </tr>\n",
       "    <tr>\n",
       "      <th>11</th>\n",
       "      <td>2019-10-11</td>\n",
       "      <td>Dia das Crianças</td>\n",
       "    </tr>\n",
       "    <tr>\n",
       "      <th>12</th>\n",
       "      <td>2019-05-12</td>\n",
       "      <td>Dia da Abolição da Escravatura</td>\n",
       "    </tr>\n",
       "    <tr>\n",
       "      <th>13</th>\n",
       "      <td>2019-11-19</td>\n",
       "      <td>Dia da Consciência Negra</td>\n",
       "    </tr>\n",
       "    <tr>\n",
       "      <th>14</th>\n",
       "      <td>2019-03-07</td>\n",
       "      <td>Dia da Mulher</td>\n",
       "    </tr>\n",
       "    <tr>\n",
       "      <th>15</th>\n",
       "      <td>2018-12-31</td>\n",
       "      <td>Ano Novo</td>\n",
       "    </tr>\n",
       "    <tr>\n",
       "      <th>16</th>\n",
       "      <td>2019-09-06</td>\n",
       "      <td>Independência do Brasil</td>\n",
       "    </tr>\n",
       "    <tr>\n",
       "      <th>17</th>\n",
       "      <td>2019-05-30</td>\n",
       "      <td>Corpus Christi</td>\n",
       "    </tr>\n",
       "    <tr>\n",
       "      <th>18</th>\n",
       "      <td>2019-04-20</td>\n",
       "      <td>Tiradentes</td>\n",
       "    </tr>\n",
       "    <tr>\n",
       "      <th>19</th>\n",
       "      <td>2019-07-08</td>\n",
       "      <td>Data Magna do Estado de São Paulo</td>\n",
       "    </tr>\n",
       "    <tr>\n",
       "      <th>20</th>\n",
       "      <td>2019-03-29</td>\n",
       "      <td>Sexta-feira Santa</td>\n",
       "    </tr>\n",
       "    <tr>\n",
       "      <th>21</th>\n",
       "      <td>2019-02-11</td>\n",
       "      <td>Carnaval</td>\n",
       "    </tr>\n",
       "    <tr>\n",
       "      <th>22</th>\n",
       "      <td>2019-11-01</td>\n",
       "      <td>Finados</td>\n",
       "    </tr>\n",
       "    <tr>\n",
       "      <th>23</th>\n",
       "      <td>2019-12-23</td>\n",
       "      <td>Noche buena</td>\n",
       "    </tr>\n",
       "    <tr>\n",
       "      <th>24</th>\n",
       "      <td>2019-12-30</td>\n",
       "      <td>Noche vieja</td>\n",
       "    </tr>\n",
       "    <tr>\n",
       "      <th>25</th>\n",
       "      <td>2019-04-30</td>\n",
       "      <td>Dia do Trabalhador</td>\n",
       "    </tr>\n",
       "  </tbody>\n",
       "</table>\n",
       "</div>"
      ],
      "text/plain": [
       "       holiday                                        description\n",
       "0   2019-02-12                                           Carnaval\n",
       "1   2019-01-05                                        Dia de Reis\n",
       "2   2019-01-24  [Feriado Municipal] Aniversário da Cidade conf...\n",
       "3   2019-03-31                                             Páscoa\n",
       "4   2019-04-21                            Descobrimento do Brasil\n",
       "5   2019-02-13                                           Carnaval\n",
       "6   2019-04-20                            Aniversário de Brasília\n",
       "7   2019-12-24                                              Natal\n",
       "8   2019-11-14                           Proclamação da República\n",
       "9   2019-04-18                                       Dia do Índio\n",
       "10  2019-06-04                       Dia Mundial do Meio Ambiente\n",
       "11  2019-10-11                                   Dia das Crianças\n",
       "12  2019-05-12                     Dia da Abolição da Escravatura\n",
       "13  2019-11-19                           Dia da Consciência Negra\n",
       "14  2019-03-07                                      Dia da Mulher\n",
       "15  2018-12-31                                           Ano Novo\n",
       "16  2019-09-06                            Independência do Brasil\n",
       "17  2019-05-30                                     Corpus Christi\n",
       "18  2019-04-20                                         Tiradentes\n",
       "19  2019-07-08                  Data Magna do Estado de São Paulo\n",
       "20  2019-03-29                                  Sexta-feira Santa\n",
       "21  2019-02-11                                           Carnaval\n",
       "22  2019-11-01                                            Finados\n",
       "23  2019-12-23                                        Noche buena\n",
       "24  2019-12-30                                        Noche vieja\n",
       "25  2019-04-30                                 Dia do Trabalhador"
      ]
     },
     "execution_count": 4,
     "metadata": {},
     "output_type": "execute_result"
    }
   ],
   "source": [
    "df_h = pd.read_csv(holidays, usecols=cols_holidays)\n",
    "df_h"
   ]
  },
  {
   "cell_type": "markdown",
   "metadata": {},
   "source": [
    "Observamos 26 dias feriados a lo largo del año."
   ]
  },
  {
   "cell_type": "markdown",
   "metadata": {},
   "source": [
    "# Información general"
   ]
  },
  {
   "cell_type": "code",
   "execution_count": 5,
   "metadata": {
    "scrolled": true
   },
   "outputs": [],
   "source": [
    "import seaborn as sb\n",
    "import matplotlib.pyplot as plt"
   ]
  },
  {
   "cell_type": "markdown",
   "metadata": {},
   "source": [
    "Existen un total de 12 servicios que distribuyen 1000000 envios de manera eterogenea."
   ]
  },
  {
   "cell_type": "code",
   "execution_count": 6,
   "metadata": {},
   "outputs": [
    {
     "data": {
      "text/plain": [
       "1000000"
      ]
     },
     "execution_count": 6,
     "metadata": {},
     "output_type": "execute_result"
    }
   ],
   "source": [
    "len(df)"
   ]
  },
  {
   "cell_type": "code",
   "execution_count": 7,
   "metadata": {},
   "outputs": [
    {
     "data": {
      "text/plain": [
       "<matplotlib.axes._subplots.AxesSubplot at 0x29d80000908>"
      ]
     },
     "execution_count": 7,
     "metadata": {},
     "output_type": "execute_result"
    },
    {
     "data": {
      "image/png": "[encoded data removed]",
      "text/plain": [
       "<Figure size 432x288 with 1 Axes>"
      ]
     },
     "metadata": {
      "needs_background": "light"
     },
     "output_type": "display_data"
    }
   ],
   "source": [
    "sb.countplot(data=df, x='service')"
   ]
  },
  {
   "cell_type": "markdown",
   "metadata": {},
   "source": [
    "Asi mismo existen 3 tipos de envios que se distribuyen de la siguiente manera"
   ]
  },
  {
   "cell_type": "markdown",
   "metadata": {},
   "source": [
    "La forma de envio mas comun es la Standard, seguida por el tipo express."
   ]
  },
  {
   "cell_type": "code",
   "execution_count": 8,
   "metadata": {
    "scrolled": true
   },
   "outputs": [
    {
     "data": {
      "text/plain": [
       "<matplotlib.axes._subplots.AxesSubplot at 0x29d81580c18>"
      ]
     },
     "execution_count": 8,
     "metadata": {},
     "output_type": "execute_result"
    },
    {
     "data": {
      "image/png": "[encoded data removed]",
      "text/plain": [
       "<Figure size 432x288 with 1 Axes>"
      ]
     },
     "metadata": {
      "needs_background": "light"
     },
     "output_type": "display_data"
    }
   ],
   "source": [
    "sb.countplot(data=df, x='shipment_type')"
   ]
  },
  {
   "cell_type": "code",
   "execution_count": null,
   "metadata": {},
   "outputs": [
    {
     "data": {
      "text/plain": [
       "standard    0.593467\n",
       "express     0.394600\n",
       "super       0.011933\n",
       "Name: shipment_type, dtype: float64"
      ]
     },
     "execution_count": 9,
     "metadata": {},
     "output_type": "execute_result"
    }
   ],
   "source": [
    "df['shipment_type'].value_counts(normalize=True)"
   ]
  },
  {
   "cell_type": "markdown",
   "metadata": {},
   "source": [
    "Existen tambien 945777 rutas, algunas de las cuales son mas transitadas que otras"
   ]
  },
  {
   "cell_type": "code",
   "execution_count": null,
   "metadata": {
    "scrolled": true
   },
   "outputs": [
    {
     "data": {
      "text/plain": [
       "6422-28943-0     69\n",
       "6422-95095-0     56\n",
       "5206-5203-0      51\n",
       "37165-37165-0    41\n",
       "3728-3727-0      35\n",
       "9260-9280-0      32\n",
       "9520-9520-0      29\n",
       "2523-2523-0      29\n",
       "6422-16015-0     29\n",
       "14940-14940-0    28\n",
       "9195-9606-0      28\n",
       "14402-14403-0    26\n",
       "6422-17050-0     24\n",
       "1207-1207-0      24\n",
       "13290-13212-6    23\n",
       "6422-26510-0     21\n",
       "6422-7092-0      21\n",
       "6422-41650-0     20\n",
       "6422-87370-0     20\n",
       "6422-49160-0     20\n",
       "13290-35162-6    20\n",
       "14400-14400-0    20\n",
       "14401-14401-0    20\n",
       "13290-38400-6    19\n",
       "13290-39400-6    18\n",
       "6422-45602-0     17\n",
       "13290-37701-6    17\n",
       "13290-13214-6    17\n",
       "13290-33200-6    17\n",
       "13290-13481-6    17\n",
       "                 ..\n",
       "13500-31555-4     1\n",
       "1210-11443-0      1\n",
       "21044-29904-1     1\n",
       "4346-4379-0       1\n",
       "13060-72445-0     1\n",
       "5043-88053-1      1\n",
       "95670-97015-1     1\n",
       "14400-44695-1     1\n",
       "18080-13421-0     1\n",
       "9171-13043-0      1\n",
       "2442-13506-0      1\n",
       "15800-13142-0     1\n",
       "9751-6433-8       1\n",
       "1209-36400-1      1\n",
       "7097-95250-1      1\n",
       "22640-40436-1     1\n",
       "20756-4232-0      1\n",
       "9891-84465-1      1\n",
       "22755-3522-0      1\n",
       "13500-79803-1     1\n",
       "14161-97200-2     1\n",
       "6422-26562-2      1\n",
       "14030-99010-1     1\n",
       "83829-14815-1     1\n",
       "30220-85805-1     1\n",
       "5364-95650-1      1\n",
       "3176-49080-2      1\n",
       "1109-28230-1      1\n",
       "13329-70680-1     1\n",
       "21931-37578-1     1\n",
       "Name: ruta, Length: 945777, dtype: int64"
      ]
     },
     "execution_count": 11,
     "metadata": {},
     "output_type": "execute_result"
    }
   ],
   "source": [
    "df['ruta'].value_counts()"
   ]
  },
  {
   "cell_type": "code",
   "execution_count": null,
   "metadata": {
    "scrolled": true
   },
   "outputs": [
    {
     "data": {
      "text/plain": [
       "6422-28943-0     0.000069\n",
       "6422-95095-0     0.000056\n",
       "5206-5203-0      0.000051\n",
       "37165-37165-0    0.000041\n",
       "3728-3727-0      0.000035\n",
       "9260-9280-0      0.000032\n",
       "9520-9520-0      0.000029\n",
       "2523-2523-0      0.000029\n",
       "6422-16015-0     0.000029\n",
       "14940-14940-0    0.000028\n",
       "9195-9606-0      0.000028\n",
       "14402-14403-0    0.000026\n",
       "6422-17050-0     0.000024\n",
       "1207-1207-0      0.000024\n",
       "13290-13212-6    0.000023\n",
       "6422-26510-0     0.000021\n",
       "6422-7092-0      0.000021\n",
       "6422-41650-0     0.000020\n",
       "6422-87370-0     0.000020\n",
       "6422-49160-0     0.000020\n",
       "13290-35162-6    0.000020\n",
       "14400-14400-0    0.000020\n",
       "14401-14401-0    0.000020\n",
       "13290-38400-6    0.000019\n",
       "13290-39400-6    0.000018\n",
       "6422-45602-0     0.000017\n",
       "13290-37701-6    0.000017\n",
       "13290-13214-6    0.000017\n",
       "13290-33200-6    0.000017\n",
       "13290-13481-6    0.000017\n",
       "                   ...   \n",
       "13500-31555-4    0.000001\n",
       "1210-11443-0     0.000001\n",
       "21044-29904-1    0.000001\n",
       "4346-4379-0      0.000001\n",
       "13060-72445-0    0.000001\n",
       "5043-88053-1     0.000001\n",
       "95670-97015-1    0.000001\n",
       "14400-44695-1    0.000001\n",
       "18080-13421-0    0.000001\n",
       "9171-13043-0     0.000001\n",
       "2442-13506-0     0.000001\n",
       "15800-13142-0    0.000001\n",
       "9751-6433-8      0.000001\n",
       "1209-36400-1     0.000001\n",
       "7097-95250-1     0.000001\n",
       "22640-40436-1    0.000001\n",
       "20756-4232-0     0.000001\n",
       "9891-84465-1     0.000001\n",
       "22755-3522-0     0.000001\n",
       "13500-79803-1    0.000001\n",
       "14161-97200-2    0.000001\n",
       "6422-26562-2     0.000001\n",
       "14030-99010-1    0.000001\n",
       "83829-14815-1    0.000001\n",
       "30220-85805-1    0.000001\n",
       "5364-95650-1     0.000001\n",
       "3176-49080-2     0.000001\n",
       "1109-28230-1     0.000001\n",
       "13329-70680-1    0.000001\n",
       "21931-37578-1    0.000001\n",
       "Name: ruta, Length: 945777, dtype: float64"
      ]
     },
     "execution_count": 12,
     "metadata": {},
     "output_type": "execute_result"
    }
   ],
   "source": [
    "df['ruta'].value_counts(normalize=True)"
   ]
  },
  {
   "cell_type": "markdown",
   "metadata": {},
   "source": [
    "Puntos máximos y mínimos de cada feature"
   ]
  },
  {
   "cell_type": "code",
   "execution_count": null,
   "metadata": {},
   "outputs": [
    {
     "data": {
      "text/plain": [
       "sender_state                         TO\n",
       "sender_zipcode                    99990\n",
       "receiver_state                       TO\n",
       "receiver_zipcode                  99990\n",
       "shipment_type                     super\n",
       "quantity                              5\n",
       "service                              11\n",
       "status                             sent\n",
       "date_created        2019-06-28 00:00:00\n",
       "date_sent           2019-03-29 07:06:00\n",
       "date_visit          2019-03-29 23:31:00\n",
       "target                              118\n",
       "ruta                      99990-44790-1\n",
       "dtype: object"
      ]
     },
     "execution_count": 13,
     "metadata": {},
     "output_type": "execute_result"
    }
   ],
   "source": [
    "df.max()"
   ]
  },
  {
   "cell_type": "code",
   "execution_count": null,
   "metadata": {},
   "outputs": [
    {
     "data": {
      "text/plain": [
       "sender_state                         AC\n",
       "sender_zipcode                     1001\n",
       "receiver_state                       AC\n",
       "receiver_zipcode                   1001\n",
       "shipment_type                   express\n",
       "quantity                              1\n",
       "service                               0\n",
       "status                        cancelled\n",
       "date_created        2018-09-26 00:00:00\n",
       "date_sent           2018-10-01 16:55:00\n",
       "date_visit          2019-02-28 00:03:00\n",
       "target                                0\n",
       "ruta                       1001-11065-0\n",
       "dtype: object"
      ]
     },
     "execution_count": 14,
     "metadata": {},
     "output_type": "execute_result"
    }
   ],
   "source": [
    "df.min()"
   ]
  },
  {
   "cell_type": "code",
   "execution_count": null,
   "metadata": {
    "scrolled": true
   },
   "outputs": [
    {
     "data": {
      "text/plain": [
       "count    1000000.000000\n",
       "mean           6.021577\n",
       "std            5.157973\n",
       "min            0.000000\n",
       "25%            2.000000\n",
       "50%            4.000000\n",
       "75%            9.000000\n",
       "max          118.000000\n",
       "Name: target, dtype: float64"
      ]
     },
     "execution_count": 15,
     "metadata": {},
     "output_type": "execute_result"
    }
   ],
   "source": [
    "df['target'].describe()"
   ]
  },
  {
   "cell_type": "code",
   "execution_count": null,
   "metadata": {},
   "outputs": [
    {
     "data": {
      "text/plain": [
       "59.0"
      ]
     },
     "execution_count": 16,
     "metadata": {},
     "output_type": "execute_result"
    }
   ],
   "source": [
    "(df['target'].max()-df['target'].min())/2"
   ]
  },
  {
   "cell_type": "code",
   "execution_count": null,
   "metadata": {},
   "outputs": [],
   "source": []
  },
  {
   "cell_type": "code",
   "execution_count": null,
   "metadata": {},
   "outputs": [
    {
     "data": {
      "text/plain": [
       "<matplotlib.axes._subplots.AxesSubplot at 0x29d85418208>"
      ]
     },
     "execution_count": 17,
     "metadata": {},
     "output_type": "execute_result"
    },
    {
     "data": {
      "image/png": "[encoded data removed]",
      "text/plain": [
       "<Figure size 720x432 with 1 Axes>"
      ]
     },
     "metadata": {
      "needs_background": "light"
     },
     "output_type": "display_data"
    }
   ],
   "source": [
    "plt.figure(figsize=(10,6))\n",
    "sb.distplot(df['target'])"
   ]
  },
  {
   "cell_type": "code",
   "execution_count": null,
   "metadata": {
    "scrolled": true
   },
   "outputs": [
    {
     "data": {
      "text/plain": [
       "(array([1.80655e+05, 1.35145e+05, 1.07500e+05, 8.22500e+04, 6.87900e+04,\n",
       "        1.11092e+05, 4.79370e+04, 4.23760e+04, 4.04610e+04, 3.58210e+04,\n",
       "        3.02150e+04, 4.49210e+04, 1.62410e+04, 1.21330e+04, 9.72400e+03,\n",
       "        7.34000e+03, 1.09140e+04, 4.01400e+03, 3.00800e+03, 2.30000e+03,\n",
       "        1.76600e+03, 1.33400e+03, 1.78200e+03, 5.04000e+02, 3.70000e+02,\n",
       "        2.33000e+02, 2.19000e+02, 2.97000e+02, 1.17000e+02, 9.40000e+01,\n",
       "        7.10000e+01, 6.20000e+01, 5.90000e+01, 8.10000e+01, 1.70000e+01,\n",
       "        1.80000e+01, 1.60000e+01, 2.20000e+01, 2.00000e+01, 1.10000e+01,\n",
       "        1.30000e+01, 7.00000e+00, 3.00000e+00, 2.00000e+00, 8.00000e+00,\n",
       "        5.00000e+00, 7.00000e+00, 2.00000e+00, 1.00000e+00, 1.00000e+00,\n",
       "        2.00000e+00, 3.00000e+00, 1.00000e+00, 2.00000e+00, 1.00000e+00,\n",
       "        3.00000e+00, 0.00000e+00, 3.00000e+00, 2.00000e+00, 0.00000e+00,\n",
       "        0.00000e+00, 0.00000e+00, 0.00000e+00, 0.00000e+00, 0.00000e+00,\n",
       "        1.00000e+00, 0.00000e+00, 1.00000e+00, 0.00000e+00, 0.00000e+00,\n",
       "        0.00000e+00, 0.00000e+00, 1.00000e+00, 0.00000e+00, 0.00000e+00,\n",
       "        0.00000e+00, 0.00000e+00, 0.00000e+00, 0.00000e+00, 0.00000e+00,\n",
       "        0.00000e+00, 0.00000e+00, 0.00000e+00, 0.00000e+00, 0.00000e+00,\n",
       "        0.00000e+00, 0.00000e+00, 0.00000e+00, 0.00000e+00, 0.00000e+00,\n",
       "        0.00000e+00, 0.00000e+00, 0.00000e+00, 0.00000e+00, 0.00000e+00,\n",
       "        0.00000e+00, 0.00000e+00, 0.00000e+00, 0.00000e+00, 1.00000e+00]),\n",
       " array([  0.  ,   1.18,   2.36,   3.54,   4.72,   5.9 ,   7.08,   8.26,\n",
       "          9.44,  10.62,  11.8 ,  12.98,  14.16,  15.34,  16.52,  17.7 ,\n",
       "         18.88,  20.06,  21.24,  22.42,  23.6 ,  24.78,  25.96,  27.14,\n",
       "         28.32,  29.5 ,  30.68,  31.86,  33.04,  34.22,  35.4 ,  36.58,\n",
       "         37.76,  38.94,  40.12,  41.3 ,  42.48,  43.66,  44.84,  46.02,\n",
       "         47.2 ,  48.38,  49.56,  50.74,  51.92,  53.1 ,  54.28,  55.46,\n",
       "         56.64,  57.82,  59.  ,  60.18,  61.36,  62.54,  63.72,  64.9 ,\n",
       "         66.08,  67.26,  68.44,  69.62,  70.8 ,  71.98,  73.16,  74.34,\n",
       "         75.52,  76.7 ,  77.88,  79.06,  80.24,  81.42,  82.6 ,  83.78,\n",
       "         84.96,  86.14,  87.32,  88.5 ,  89.68,  90.86,  92.04,  93.22,\n",
       "         94.4 ,  95.58,  96.76,  97.94,  99.12, 100.3 , 101.48, 102.66,\n",
       "        103.84, 105.02, 106.2 , 107.38, 108.56, 109.74, 110.92, 112.1 ,\n",
       "        113.28, 114.46, 115.64, 116.82, 118.  ]),\n",
       " <a list of 100 Patch objects>)"
      ]
     },
     "execution_count": 18,
     "metadata": {},
     "output_type": "execute_result"
    },
    {
     "data": {
      "image/png": "[encoded data removed]",
      "text/plain": [
       "<Figure size 432x288 with 1 Axes>"
      ]
     },
     "metadata": {
      "needs_background": "light"
     },
     "output_type": "display_data"
    }
   ],
   "source": [
    "plt.hist(df['target'],bins=100)"
   ]
  },
  {
   "cell_type": "code",
   "execution_count": null,
   "metadata": {},
   "outputs": [],
   "source": [
    "a=df[df['target']<40]"
   ]
  },
  {
   "cell_type": "code",
   "execution_count": null,
   "metadata": {},
   "outputs": [],
   "source": [
    "plt.figure(figsize=(10,6))\n",
    "sb.distplot(a)"
   ]
  },
  {
   "cell_type": "code",
   "execution_count": null,
   "metadata": {},
   "outputs": [],
   "source": []
  },
  {
   "cell_type": "code",
   "execution_count": null,
   "metadata": {},
   "outputs": [],
   "source": []
  },
  {
   "cell_type": "code",
   "execution_count": null,
   "metadata": {},
   "outputs": [],
   "source": []
  },
  {
   "cell_type": "code",
   "execution_count": null,
   "metadata": {},
   "outputs": [],
   "source": []
  },
  {
   "cell_type": "markdown",
   "metadata": {},
   "source": [
    "# Conclusion"
   ]
  },
  {
   "cell_type": "markdown",
   "metadata": {},
   "source": []
  }
 ],
 "metadata": {
  "kernelspec": {
   "display_name": "Python 3",
   "language": "python",
   "name": "python3"
  },
  "language_info": {
   "codemirror_mode": {
    "name": "ipython",
    "version": 3
   },
   "file_extension": ".py",
   "mimetype": "text/x-python",
   "name": "python",
   "nbconvert_exporter": "python",
   "pygments_lexer": "ipython3",
   "version": "3.7.3"
  }
 },
 "nbformat": 4,
 "nbformat_minor": 2
}
