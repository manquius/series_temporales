{
 "cells": [
  {
   "cell_type": "markdown",
   "metadata": {},
   "source": [
    "# DiploDatos 2019 - Análisis de Series Temporales\n",
    "\n",
    "## Integrantes\n",
    "\n",
    "| Nombre | e-mail |\n",
    "|------|------|\n",
    "|Rivadero, Isabel | isarivadero@hotmail.com |\n",
    "|Vargas, Miguel | lvc0107@protonmail.com |\n",
    "|Mancuso, Fernando | manquius@gmail.com |\n",
    "\n",
    "## Práctico de Introducción al aprendizaje automático\n",
    "\n",
    "En este práctico no introduciremos en las primeras herramientas de aprendizaje\n",
    "automático. Diseñaremos e implementaremos algunos modelos simples y definir métricas\n",
    "para ver como performan."
   ]
  },
  {
   "cell_type": "markdown",
   "metadata": {},
   "source": [
    "### Dataset"
   ]
  },
  {
   "cell_type": "code",
   "execution_count": 2,
   "metadata": {},
   "outputs": [
    {
     "data": {
      "text/html": [
       "<style>.container { width:90% !important; }</style>"
      ],
      "text/plain": [
       "<IPython.core.display.HTML object>"
      ]
     },
     "metadata": {},
     "output_type": "display_data"
    }
   ],
   "source": [
    "### Aumentar el ancho del notebook\n",
    "from IPython.core.display import display, HTML\n",
    "display(HTML(\"<style>.container { width:90% !important; }</style>\"))"
   ]
  },
  {
   "cell_type": "code",
   "execution_count": 3,
   "metadata": {},
   "outputs": [],
   "source": [
    "%matplotlib inline\n",
    "import numpy as np\n",
    "import pandas as pd\n",
    "import matplotlib.pyplot as plt\n",
    "import seaborn as sb\n",
    "sb.set(rc={'figure.figsize':(10,6)})\n",
    "\n",
    "cols = ['service',\n",
    "        'sender_zipcode',\n",
    "        'receiver_zipcode',\n",
    "        'sender_state',\n",
    "        'receiver_state',\n",
    "        'shipment_type',\n",
    "        'quantity',\n",
    "        'status',\n",
    "        'date_created',\n",
    "        'date_sent',\n",
    "        'date_visit',\n",
    "        'target']\n",
    "cols_holidays = ['holiday', \n",
    "                 'description']\n",
    "data_path = './shipments_BR_201903.csv'\n",
    "holidays = './holidays.csv'"
   ]
  },
  {
   "cell_type": "markdown",
   "metadata": {},
   "source": [
    "#### Referencia de las columnas\n",
    "* **service**: Identificador unico que corresponde a un tipo de servicio de un correo en particular.\n",
    "* **sender_zipcode:** Código postal de quien envía el paquete (usualmente el vendedor).\n",
    "* **receiver_zipcode:** Código postal de quien recibe el paquete (usualmente el comprador).\n",
    "* **sender_state:** Nombre abreviado del estado de quien envía el paquete.\n",
    "* **receiver_state:** Nombre abreviado del estado de quien recibe el paquete.\n",
    "* **quantity:** Cantidad de items que tiene dentro el paquete.\n",
    "* **status:** Estado final del envío.\n",
    "* **date_created:** Fecha de compra de el o los items.\n",
    "* **date_sent:** Fecha en que el correo recibe el paquete.\n",
    "* **date_visit:** Fecha en que el correo entrega el paquete.\n",
    "* **target:** Cantidad de dias hábiles que tardó el correo en entregar el paquete desde que lo recibe.\n"
   ]
  },
  {
   "cell_type": "code",
   "execution_count": 4,
   "metadata": {},
   "outputs": [
    {
     "data": {
      "text/plain": [
       "(1000000, 12)"
      ]
     },
     "execution_count": 4,
     "metadata": {},
     "output_type": "execute_result"
    }
   ],
   "source": [
    "df = pd.read_csv(data_path, usecols=cols)\n",
    "df.shape"
   ]
  },
  {
   "cell_type": "code",
   "execution_count": 5,
   "metadata": {},
   "outputs": [],
   "source": [
    "# set seed for reproducibility\n",
    "np.random.seed(0)"
   ]
  },
  {
   "cell_type": "markdown",
   "metadata": {},
   "source": [
    "**Eliminamos datos inconsistentes:**"
   ]
  },
  {
   "cell_type": "markdown",
   "metadata": {},
   "source": [
    "Aplicamos curacion y limpieza de datos"
   ]
  },
  {
   "cell_type": "code",
   "execution_count": 8,
   "metadata": {},
   "outputs": [
    {
     "data": {
      "text/plain": [
       "(1000000, 12)"
      ]
     },
     "execution_count": 8,
     "metadata": {},
     "output_type": "execute_result"
    }
   ],
   "source": [
    "df_clean = df[(df['date_sent'] <= df['date_visit']) & (df['date_created'] <= df['date_sent']) & (df['date_created'] <= df['date_visit'])].copy()\n",
    "df.shape"
   ]
  },
  {
   "cell_type": "markdown",
   "metadata": {},
   "source": [
    "**Removemos outliers.**"
   ]
  },
  {
   "cell_type": "code",
   "execution_count": 9,
   "metadata": {},
   "outputs": [
    {
     "data": {
      "text/plain": [
       "(990370, 12)"
      ]
     },
     "execution_count": 9,
     "metadata": {},
     "output_type": "execute_result"
    }
   ],
   "source": [
    "df_clean = df_clean[df_clean['target'] < 23].copy()\n",
    "df_clean.shape"
   ]
  },
  {
   "cell_type": "markdown",
   "metadata": {},
   "source": [
    "####  Implementación\n",
    "Solo vamos a diferenciar dos tipos de envíos:\n",
    "​ rápidos: un envío es rápido si llega antes de 3 días hábiles \n",
    "​ y lentos: si llega después de 3 días hábiles.\n",
    "Esto nos reduce los problemas de clasificación a solo 2 clases.\n"
   ]
  },
  {
   "cell_type": "markdown",
   "metadata": {},
   "source": [
    "#### Definiciones básicas:\n",
    "1- Definir una métrica binaria para evaluar los modelos\n",
    "\n"
   ]
  },
  {
   "cell_type": "code",
   "execution_count": 11,
   "metadata": {},
   "outputs": [],
   "source": [
    "def dias_habiles(envio):\n",
    "    # ACA ver si hay que filtrar los fin de seemanas y feriados\n",
    "    int(envio['target'])\n",
    "\n",
    "def metrica(envio):\n",
    "    \"\"\"\n",
    "    1: Servicio rapido\n",
    "    0: Servicio lento\n",
    "    \"\"\"\n",
    "    return 1 if dias_habiles(envio) < 3 else 0 "
   ]
  },
  {
   "cell_type": "markdown",
   "metadata": {},
   "source": [
    "2- Diseñar un modelo -baseline- para los envíos de SP a SP, como el modelo más\n",
    "simple posible. Para esto no necesitamos machine learning, solo proponer una\n",
    "heurística a partir de los datos observados en los prácticos de análisis\n"
   ]
  },
  {
   "cell_type": "code",
   "execution_count": 15,
   "metadata": {},
   "outputs": [
    {
     "data": {
      "text/html": [
       "<div>\n",
       "<style scoped>\n",
       "    .dataframe tbody tr th:only-of-type {\n",
       "        vertical-align: middle;\n",
       "    }\n",
       "\n",
       "    .dataframe tbody tr th {\n",
       "        vertical-align: top;\n",
       "    }\n",
       "\n",
       "    .dataframe thead th {\n",
       "        text-align: right;\n",
       "    }\n",
       "</style>\n",
       "<table border=\"1\" class=\"dataframe\">\n",
       "  <thead>\n",
       "    <tr style=\"text-align: right;\">\n",
       "      <th></th>\n",
       "      <th>sender_state</th>\n",
       "      <th>sender_zipcode</th>\n",
       "      <th>receiver_state</th>\n",
       "      <th>receiver_zipcode</th>\n",
       "      <th>shipment_type</th>\n",
       "      <th>quantity</th>\n",
       "      <th>service</th>\n",
       "      <th>status</th>\n",
       "      <th>date_created</th>\n",
       "      <th>date_sent</th>\n",
       "      <th>date_visit</th>\n",
       "      <th>target</th>\n",
       "    </tr>\n",
       "  </thead>\n",
       "  <tbody>\n",
       "    <tr>\n",
       "      <th>0</th>\n",
       "      <td>SP</td>\n",
       "      <td>3005</td>\n",
       "      <td>SP</td>\n",
       "      <td>5409</td>\n",
       "      <td>express</td>\n",
       "      <td>1</td>\n",
       "      <td>0</td>\n",
       "      <td>done</td>\n",
       "      <td>2019-03-04 00:00:00</td>\n",
       "      <td>2019-03-05 13:24:00</td>\n",
       "      <td>2019-03-07 18:01:00</td>\n",
       "      <td>2</td>\n",
       "    </tr>\n",
       "    <tr>\n",
       "      <th>2</th>\n",
       "      <td>SP</td>\n",
       "      <td>2033</td>\n",
       "      <td>SP</td>\n",
       "      <td>11040</td>\n",
       "      <td>express</td>\n",
       "      <td>1</td>\n",
       "      <td>0</td>\n",
       "      <td>done</td>\n",
       "      <td>2019-02-18 00:00:00</td>\n",
       "      <td>2019-02-21 15:08:00</td>\n",
       "      <td>2019-02-28 18:19:00</td>\n",
       "      <td>5</td>\n",
       "    </tr>\n",
       "    <tr>\n",
       "      <th>3</th>\n",
       "      <td>SP</td>\n",
       "      <td>13900</td>\n",
       "      <td>SP</td>\n",
       "      <td>18500</td>\n",
       "      <td>express</td>\n",
       "      <td>1</td>\n",
       "      <td>0</td>\n",
       "      <td>done</td>\n",
       "      <td>2019-03-09 00:00:00</td>\n",
       "      <td>2019-03-11 15:48:00</td>\n",
       "      <td>2019-03-12 13:33:00</td>\n",
       "      <td>1</td>\n",
       "    </tr>\n",
       "    <tr>\n",
       "      <th>8</th>\n",
       "      <td>SP</td>\n",
       "      <td>2313</td>\n",
       "      <td>SP</td>\n",
       "      <td>4165</td>\n",
       "      <td>express</td>\n",
       "      <td>2</td>\n",
       "      <td>0</td>\n",
       "      <td>done</td>\n",
       "      <td>2019-02-28 00:00:00</td>\n",
       "      <td>2019-03-01 14:35:00</td>\n",
       "      <td>2019-03-04 14:22:00</td>\n",
       "      <td>1</td>\n",
       "    </tr>\n",
       "    <tr>\n",
       "      <th>10</th>\n",
       "      <td>SP</td>\n",
       "      <td>11015</td>\n",
       "      <td>SP</td>\n",
       "      <td>15025</td>\n",
       "      <td>express</td>\n",
       "      <td>2</td>\n",
       "      <td>3</td>\n",
       "      <td>done</td>\n",
       "      <td>2019-02-24 00:00:00</td>\n",
       "      <td>2019-03-04 23:54:00</td>\n",
       "      <td>2019-03-11 22:00:00</td>\n",
       "      <td>4</td>\n",
       "    </tr>\n",
       "  </tbody>\n",
       "</table>\n",
       "</div>"
      ],
      "text/plain": [
       "   sender_state  sender_zipcode receiver_state  receiver_zipcode  \\\n",
       "0            SP            3005             SP              5409   \n",
       "2            SP            2033             SP             11040   \n",
       "3            SP           13900             SP             18500   \n",
       "8            SP            2313             SP              4165   \n",
       "10           SP           11015             SP             15025   \n",
       "\n",
       "   shipment_type  quantity  service status         date_created  \\\n",
       "0        express         1        0   done  2019-03-04 00:00:00   \n",
       "2        express         1        0   done  2019-02-18 00:00:00   \n",
       "3        express         1        0   done  2019-03-09 00:00:00   \n",
       "8        express         2        0   done  2019-02-28 00:00:00   \n",
       "10       express         2        3   done  2019-02-24 00:00:00   \n",
       "\n",
       "              date_sent           date_visit  target  \n",
       "0   2019-03-05 13:24:00  2019-03-07 18:01:00       2  \n",
       "2   2019-02-21 15:08:00  2019-02-28 18:19:00       5  \n",
       "3   2019-03-11 15:48:00  2019-03-12 13:33:00       1  \n",
       "8   2019-03-01 14:35:00  2019-03-04 14:22:00       1  \n",
       "10  2019-03-04 23:54:00  2019-03-11 22:00:00       4  "
      ]
     },
     "execution_count": 15,
     "metadata": {},
     "output_type": "execute_result"
    }
   ],
   "source": [
    "sp_sp = df_clean[(df_clean['sender_state'] == 'SP') & (df_clean['receiver_state'] == 'SP')]\n",
    "sp_sp.head()"
   ]
  },
  {
   "cell_type": "code",
   "execution_count": 21,
   "metadata": {},
   "outputs": [
    {
     "data": {
      "text/plain": [
       "(278081, 12)"
      ]
     },
     "execution_count": 21,
     "metadata": {},
     "output_type": "execute_result"
    }
   ],
   "source": [
    "sp_sp.shape"
   ]
  },
  {
   "cell_type": "code",
   "execution_count": 24,
   "metadata": {},
   "outputs": [],
   "source": [
    "# but it couldn be useful for you depending on your approach)\n",
    "from sklearn.model_selection import train_test_split\n",
    "\n",
    "\n",
    "# División entre instancias y etiquetas\n",
    "X = sp_sp.drop('target', axis=1)\n",
    "y = sp_sp['target']\n",
    "\n",
    "X_train, X_test, y_train, y_test = train_test_split(X, y, test_size=0.2, random_state=42)"
   ]
  },
  {
   "cell_type": "code",
   "execution_count": 25,
   "metadata": {},
   "outputs": [
    {
     "data": {
      "text/html": [
       "<div>\n",
       "<style scoped>\n",
       "    .dataframe tbody tr th:only-of-type {\n",
       "        vertical-align: middle;\n",
       "    }\n",
       "\n",
       "    .dataframe tbody tr th {\n",
       "        vertical-align: top;\n",
       "    }\n",
       "\n",
       "    .dataframe thead th {\n",
       "        text-align: right;\n",
       "    }\n",
       "</style>\n",
       "<table border=\"1\" class=\"dataframe\">\n",
       "  <thead>\n",
       "    <tr style=\"text-align: right;\">\n",
       "      <th></th>\n",
       "      <th>sender_state</th>\n",
       "      <th>sender_zipcode</th>\n",
       "      <th>receiver_state</th>\n",
       "      <th>receiver_zipcode</th>\n",
       "      <th>shipment_type</th>\n",
       "      <th>quantity</th>\n",
       "      <th>service</th>\n",
       "      <th>status</th>\n",
       "      <th>date_created</th>\n",
       "      <th>date_sent</th>\n",
       "      <th>date_visit</th>\n",
       "    </tr>\n",
       "  </thead>\n",
       "  <tbody>\n",
       "    <tr>\n",
       "      <th>776089</th>\n",
       "      <td>SP</td>\n",
       "      <td>18010</td>\n",
       "      <td>SP</td>\n",
       "      <td>5712</td>\n",
       "      <td>express</td>\n",
       "      <td>1</td>\n",
       "      <td>0</td>\n",
       "      <td>done</td>\n",
       "      <td>2019-03-19 00:00:00</td>\n",
       "      <td>2019-03-20 17:03:00</td>\n",
       "      <td>2019-03-22 12:05:00</td>\n",
       "    </tr>\n",
       "    <tr>\n",
       "      <th>383341</th>\n",
       "      <td>SP</td>\n",
       "      <td>18150</td>\n",
       "      <td>SP</td>\n",
       "      <td>6775</td>\n",
       "      <td>standard</td>\n",
       "      <td>2</td>\n",
       "      <td>1</td>\n",
       "      <td>done</td>\n",
       "      <td>2019-03-06 00:00:00</td>\n",
       "      <td>2019-03-07 14:17:00</td>\n",
       "      <td>2019-03-16 10:35:00</td>\n",
       "    </tr>\n",
       "    <tr>\n",
       "      <th>893527</th>\n",
       "      <td>SP</td>\n",
       "      <td>6422</td>\n",
       "      <td>SP</td>\n",
       "      <td>16290</td>\n",
       "      <td>express</td>\n",
       "      <td>1</td>\n",
       "      <td>0</td>\n",
       "      <td>done</td>\n",
       "      <td>2019-03-11 00:00:00</td>\n",
       "      <td>2019-03-13 00:09:27</td>\n",
       "      <td>2019-03-18 15:41:00</td>\n",
       "    </tr>\n",
       "    <tr>\n",
       "      <th>746617</th>\n",
       "      <td>SP</td>\n",
       "      <td>6622</td>\n",
       "      <td>SP</td>\n",
       "      <td>11740</td>\n",
       "      <td>standard</td>\n",
       "      <td>1</td>\n",
       "      <td>1</td>\n",
       "      <td>done</td>\n",
       "      <td>2019-03-04 00:00:00</td>\n",
       "      <td>2019-03-06 10:53:00</td>\n",
       "      <td>2019-03-12 12:32:00</td>\n",
       "    </tr>\n",
       "    <tr>\n",
       "      <th>696614</th>\n",
       "      <td>SP</td>\n",
       "      <td>13324</td>\n",
       "      <td>SP</td>\n",
       "      <td>5763</td>\n",
       "      <td>express</td>\n",
       "      <td>1</td>\n",
       "      <td>0</td>\n",
       "      <td>done</td>\n",
       "      <td>2019-03-24 00:00:00</td>\n",
       "      <td>2019-03-25 14:37:00</td>\n",
       "      <td>2019-03-26 18:42:00</td>\n",
       "    </tr>\n",
       "  </tbody>\n",
       "</table>\n",
       "</div>"
      ],
      "text/plain": [
       "       sender_state  sender_zipcode receiver_state  receiver_zipcode  \\\n",
       "776089           SP           18010             SP              5712   \n",
       "383341           SP           18150             SP              6775   \n",
       "893527           SP            6422             SP             16290   \n",
       "746617           SP            6622             SP             11740   \n",
       "696614           SP           13324             SP              5763   \n",
       "\n",
       "       shipment_type  quantity  service status         date_created  \\\n",
       "776089       express         1        0   done  2019-03-19 00:00:00   \n",
       "383341      standard         2        1   done  2019-03-06 00:00:00   \n",
       "893527       express         1        0   done  2019-03-11 00:00:00   \n",
       "746617      standard         1        1   done  2019-03-04 00:00:00   \n",
       "696614       express         1        0   done  2019-03-24 00:00:00   \n",
       "\n",
       "                  date_sent           date_visit  \n",
       "776089  2019-03-20 17:03:00  2019-03-22 12:05:00  \n",
       "383341  2019-03-07 14:17:00  2019-03-16 10:35:00  \n",
       "893527  2019-03-13 00:09:27  2019-03-18 15:41:00  \n",
       "746617  2019-03-06 10:53:00  2019-03-12 12:32:00  \n",
       "696614  2019-03-25 14:37:00  2019-03-26 18:42:00  "
      ]
     },
     "execution_count": 25,
     "metadata": {},
     "output_type": "execute_result"
    }
   ],
   "source": [
    "X_train.head()"
   ]
  },
  {
   "cell_type": "code",
   "execution_count": 26,
   "metadata": {},
   "outputs": [
    {
     "data": {
      "text/plain": [
       "(222464, 11)"
      ]
     },
     "execution_count": 26,
     "metadata": {},
     "output_type": "execute_result"
    }
   ],
   "source": [
    "X_train.shape"
   ]
  },
  {
   "cell_type": "code",
   "execution_count": 27,
   "metadata": {},
   "outputs": [
    {
     "data": {
      "text/plain": [
       "776089    2\n",
       "383341    6\n",
       "893527    3\n",
       "746617    3\n",
       "696614    1\n",
       "Name: target, dtype: int64"
      ]
     },
     "execution_count": 27,
     "metadata": {},
     "output_type": "execute_result"
    }
   ],
   "source": [
    "y_train.head()"
   ]
  },
  {
   "cell_type": "code",
   "execution_count": 23,
   "metadata": {},
   "outputs": [
    {
     "data": {
      "text/plain": [
       "(222464,)"
      ]
     },
     "execution_count": 23,
     "metadata": {},
     "output_type": "execute_result"
    }
   ],
   "source": [
    "y_train.shape"
   ]
  },
  {
   "cell_type": "code",
   "execution_count": 28,
   "metadata": {},
   "outputs": [
    {
     "data": {
      "text/html": [
       "<div>\n",
       "<style scoped>\n",
       "    .dataframe tbody tr th:only-of-type {\n",
       "        vertical-align: middle;\n",
       "    }\n",
       "\n",
       "    .dataframe tbody tr th {\n",
       "        vertical-align: top;\n",
       "    }\n",
       "\n",
       "    .dataframe thead th {\n",
       "        text-align: right;\n",
       "    }\n",
       "</style>\n",
       "<table border=\"1\" class=\"dataframe\">\n",
       "  <thead>\n",
       "    <tr style=\"text-align: right;\">\n",
       "      <th></th>\n",
       "      <th>sender_state</th>\n",
       "      <th>sender_zipcode</th>\n",
       "      <th>receiver_state</th>\n",
       "      <th>receiver_zipcode</th>\n",
       "      <th>shipment_type</th>\n",
       "      <th>quantity</th>\n",
       "      <th>service</th>\n",
       "      <th>status</th>\n",
       "      <th>date_created</th>\n",
       "      <th>date_sent</th>\n",
       "      <th>date_visit</th>\n",
       "    </tr>\n",
       "  </thead>\n",
       "  <tbody>\n",
       "    <tr>\n",
       "      <th>68262</th>\n",
       "      <td>SP</td>\n",
       "      <td>15800</td>\n",
       "      <td>SP</td>\n",
       "      <td>13304</td>\n",
       "      <td>express</td>\n",
       "      <td>1</td>\n",
       "      <td>0</td>\n",
       "      <td>done</td>\n",
       "      <td>2019-03-04 00:00:00</td>\n",
       "      <td>2019-03-07 19:15:30</td>\n",
       "      <td>2019-03-11 17:36:00</td>\n",
       "    </tr>\n",
       "    <tr>\n",
       "      <th>269933</th>\n",
       "      <td>SP</td>\n",
       "      <td>12232</td>\n",
       "      <td>SP</td>\n",
       "      <td>12237</td>\n",
       "      <td>express</td>\n",
       "      <td>1</td>\n",
       "      <td>0</td>\n",
       "      <td>done</td>\n",
       "      <td>2019-03-07 00:00:00</td>\n",
       "      <td>2019-03-08 15:40:00</td>\n",
       "      <td>2019-03-11 12:40:00</td>\n",
       "    </tr>\n",
       "    <tr>\n",
       "      <th>206944</th>\n",
       "      <td>SP</td>\n",
       "      <td>1009</td>\n",
       "      <td>SP</td>\n",
       "      <td>6852</td>\n",
       "      <td>express</td>\n",
       "      <td>1</td>\n",
       "      <td>0</td>\n",
       "      <td>done</td>\n",
       "      <td>2019-02-24 00:00:00</td>\n",
       "      <td>2019-02-25 11:13:00</td>\n",
       "      <td>2019-03-06 12:40:00</td>\n",
       "    </tr>\n",
       "    <tr>\n",
       "      <th>422707</th>\n",
       "      <td>SP</td>\n",
       "      <td>9890</td>\n",
       "      <td>SP</td>\n",
       "      <td>13974</td>\n",
       "      <td>standard</td>\n",
       "      <td>1</td>\n",
       "      <td>3</td>\n",
       "      <td>done</td>\n",
       "      <td>2019-03-04 00:00:00</td>\n",
       "      <td>2019-03-07 04:32:00</td>\n",
       "      <td>2019-03-12 14:00:00</td>\n",
       "    </tr>\n",
       "    <tr>\n",
       "      <th>415678</th>\n",
       "      <td>SP</td>\n",
       "      <td>4764</td>\n",
       "      <td>SP</td>\n",
       "      <td>13940</td>\n",
       "      <td>standard</td>\n",
       "      <td>1</td>\n",
       "      <td>2</td>\n",
       "      <td>done</td>\n",
       "      <td>2019-02-21 00:00:00</td>\n",
       "      <td>2019-02-26 23:24:11</td>\n",
       "      <td>2019-02-28 12:24:00</td>\n",
       "    </tr>\n",
       "  </tbody>\n",
       "</table>\n",
       "</div>"
      ],
      "text/plain": [
       "       sender_state  sender_zipcode receiver_state  receiver_zipcode  \\\n",
       "68262            SP           15800             SP             13304   \n",
       "269933           SP           12232             SP             12237   \n",
       "206944           SP            1009             SP              6852   \n",
       "422707           SP            9890             SP             13974   \n",
       "415678           SP            4764             SP             13940   \n",
       "\n",
       "       shipment_type  quantity  service status         date_created  \\\n",
       "68262        express         1        0   done  2019-03-04 00:00:00   \n",
       "269933       express         1        0   done  2019-03-07 00:00:00   \n",
       "206944       express         1        0   done  2019-02-24 00:00:00   \n",
       "422707      standard         1        3   done  2019-03-04 00:00:00   \n",
       "415678      standard         1        2   done  2019-02-21 00:00:00   \n",
       "\n",
       "                  date_sent           date_visit  \n",
       "68262   2019-03-07 19:15:30  2019-03-11 17:36:00  \n",
       "269933  2019-03-08 15:40:00  2019-03-11 12:40:00  \n",
       "206944  2019-02-25 11:13:00  2019-03-06 12:40:00  \n",
       "422707  2019-03-07 04:32:00  2019-03-12 14:00:00  \n",
       "415678  2019-02-26 23:24:11  2019-02-28 12:24:00  "
      ]
     },
     "execution_count": 28,
     "metadata": {},
     "output_type": "execute_result"
    }
   ],
   "source": [
    "X_test.head()"
   ]
  },
  {
   "cell_type": "code",
   "execution_count": 29,
   "metadata": {},
   "outputs": [
    {
     "data": {
      "text/plain": [
       "(55617, 11)"
      ]
     },
     "execution_count": 29,
     "metadata": {},
     "output_type": "execute_result"
    }
   ],
   "source": [
    "X_test.shape"
   ]
  },
  {
   "cell_type": "code",
   "execution_count": null,
   "metadata": {},
   "outputs": [],
   "source": [
    "X_test.head()"
   ]
  },
  {
   "cell_type": "code",
   "execution_count": null,
   "metadata": {},
   "outputs": [],
   "source": []
  },
  {
   "cell_type": "markdown",
   "metadata": {},
   "source": [
    "3- Calcular la métrica y la matriz de confusión para el baseline"
   ]
  },
  {
   "cell_type": "code",
   "execution_count": null,
   "metadata": {},
   "outputs": [],
   "source": []
  },
  {
   "cell_type": "code",
   "execution_count": null,
   "metadata": {},
   "outputs": [],
   "source": []
  },
  {
   "cell_type": "code",
   "execution_count": null,
   "metadata": {},
   "outputs": [],
   "source": []
  },
  {
   "cell_type": "markdown",
   "metadata": {},
   "source": [
    "#### Preparación de los features:\n",
    "4- Con la intención de salvar las rutas poco representadas, implementar una codificación para los features:  sender_zipcode y  receiver_zipcode\n",
    "\n"
   ]
  },
  {
   "cell_type": "code",
   "execution_count": null,
   "metadata": {},
   "outputs": [],
   "source": []
  },
  {
   "cell_type": "markdown",
   "metadata": {},
   "source": [
    "5- Seleccionar un conjunto de features para entrenar modelos de machine learning"
   ]
  },
  {
   "cell_type": "code",
   "execution_count": null,
   "metadata": {},
   "outputs": [],
   "source": []
  },
  {
   "cell_type": "code",
   "execution_count": null,
   "metadata": {},
   "outputs": [],
   "source": []
  },
  {
   "cell_type": "code",
   "execution_count": null,
   "metadata": {},
   "outputs": [],
   "source": []
  },
  {
   "cell_type": "markdown",
   "metadata": {},
   "source": [
    "#### Clustering:\n",
    "6- Clusterizar los envíos basados únicamente en las rutas. Para esto recomiendo utilizar KMeans\n"
   ]
  },
  {
   "cell_type": "code",
   "execution_count": null,
   "metadata": {},
   "outputs": [],
   "source": []
  },
  {
   "cell_type": "markdown",
   "metadata": {},
   "source": [
    "7- (*) Cual es el número óptimo de clusters? (Ver método de ​ Elbow​ con KMeans)\n"
   ]
  },
  {
   "cell_type": "code",
   "execution_count": 25,
   "metadata": {},
   "outputs": [
    {
     "data": {
      "text/plain": [
       "array([[8.42595567e+03, 1.07689477e+04, 1.23940125e+00],\n",
       "       [8.85899313e+03, 6.51141810e+04, 1.33904343e+00],\n",
       "       [8.49978280e+04, 1.28010698e+04, 7.97744656e-01],\n",
       "       [8.55179419e+04, 8.33480034e+04, 7.19926756e-01],\n",
       "       [3.29966632e+04, 2.39299170e+04, 6.51350398e-01],\n",
       "       [8.75184861e+03, 3.50700816e+04, 1.39412491e+00],\n",
       "       [8.78903392e+03, 8.79461998e+04, 1.38117638e+00],\n",
       "       [8.38386687e+04, 4.17150809e+04, 9.38893348e-01],\n",
       "       [3.60355042e+04, 7.70477440e+04, 9.09323186e-01]])"
      ]
     },
     "execution_count": 25,
     "metadata": {},
     "output_type": "execute_result"
    }
   ],
   "source": [
    " kmeanModel.fit(X).cluster_centers_"
   ]
  },
  {
   "cell_type": "code",
   "execution_count": 24,
   "metadata": {},
   "outputs": [
    {
     "data": {
      "text/plain": [
       "array([[8.55182515e+04, 8.33143770e+04, 7.20237692e-01],\n",
       "       [8.41969892e+03, 1.07789333e+04, 1.23925588e+00],\n",
       "       [8.84435674e+03, 6.51602317e+04, 1.33807573e+00],\n",
       "       [8.49944952e+04, 1.27504627e+04, 7.97315648e-01],\n",
       "       [8.76602021e+03, 3.50946594e+04, 1.39455269e+00],\n",
       "       [8.38848402e+04, 4.15744592e+04, 9.39322586e-01],\n",
       "       [8.80369636e+03, 8.79665361e+04, 1.38153312e+00],\n",
       "       [3.61138449e+04, 7.69602121e+04, 9.09335727e-01],\n",
       "       [3.29936037e+04, 2.39154867e+04, 6.51287175e-01]])"
      ]
     },
     "execution_count": 24,
     "metadata": {},
     "output_type": "execute_result"
    }
   ],
   "source": [
    "KMeans(n_clusters=k).fit(X).cluster_centers_"
   ]
  },
  {
   "cell_type": "code",
   "execution_count": 21,
   "metadata": {},
   "outputs": [
    {
     "data": {
      "image/png": "[encoded data removed]",
      "text/plain": [
       "<Figure size 720x432 with 1 Axes>"
      ]
     },
     "metadata": {},
     "output_type": "display_data"
    }
   ],
   "source": [
    "from sklearn.cluster import KMeans\n",
    "from sklearn import metrics\n",
    "from scipy.spatial.distance import cdist\n",
    "import numpy as np\n",
    "import matplotlib.pyplot as plt\n",
    "\n",
    "\n",
    "# create new plot and data\n",
    "plt.plot()\n",
    "X = df[['sender_zipcode', 'receiver_zipcode', 'service']]\n",
    "colors = ['b', 'g', 'r']\n",
    "markers = ['o', 'v', 's']\n",
    "\n",
    "# k means determine k\n",
    "distortions = []\n",
    "K = range(1,10)\n",
    "for k in K:\n",
    "    kmeanModel = KMeans(n_clusters=k).fit(X)\n",
    "    kmeanModel.fit(X)\n",
    "    distortions.append(sum(np.min(cdist(X, kmeanModel.cluster_centers_, 'euclidean'), axis=1)) / X.shape[0])\n",
    "\n",
    "# Plot the elbow\n",
    "plt.plot(K, distortions, 'bx-')\n",
    "plt.xlabel('k')\n",
    "plt.ylabel('Distortion')\n",
    "plt.title('The Elbow Method showing the optimal k')\n",
    "plt.show()\n"
   ]
  },
  {
   "cell_type": "markdown",
   "metadata": {},
   "source": [
    "8- Describir brevemente las características interesante de los clusters\n"
   ]
  },
  {
   "cell_type": "code",
   "execution_count": null,
   "metadata": {},
   "outputs": [],
   "source": []
  },
  {
   "cell_type": "markdown",
   "metadata": {},
   "source": [
    "#### Modelos lineales:\n",
    "9- Leer sobre accuracy, precision y recall para agregarlas al pool de métricas que vamos a utilizar.\n"
   ]
  },
  {
   "cell_type": "code",
   "execution_count": null,
   "metadata": {},
   "outputs": [],
   "source": []
  },
  {
   "cell_type": "markdown",
   "metadata": {},
   "source": [
    "10- Implementar un modelo basado en regresión lineal, calcular las métricas y la matriz de confusión\n"
   ]
  },
  {
   "cell_type": "code",
   "execution_count": null,
   "metadata": {},
   "outputs": [],
   "source": []
  },
  {
   "cell_type": "markdown",
   "metadata": {},
   "source": [
    "11- Implementar un modelo basado en regresión logística, calcular las métricas y la matriz de confusión\n"
   ]
  },
  {
   "cell_type": "code",
   "execution_count": null,
   "metadata": {},
   "outputs": [],
   "source": []
  },
  {
   "cell_type": "markdown",
   "metadata": {},
   "source": [
    "12- Cual es la principal diferencia entre estos modelos? Tuviste que hacer algún tipo de post-procesamiento?\n"
   ]
  },
  {
   "cell_type": "code",
   "execution_count": null,
   "metadata": {},
   "outputs": [],
   "source": []
  },
  {
   "cell_type": "markdown",
   "metadata": {},
   "source": [
    "13- Estandarizar los features seleccionados y re entrenar los modelos. Las métricas\n",
    "mejoran? Explicar por qué.\n"
   ]
  },
  {
   "cell_type": "code",
   "execution_count": null,
   "metadata": {},
   "outputs": [],
   "source": []
  }
 ],
 "metadata": {
  "kernelspec": {
   "display_name": "Python 3",
   "language": "python",
   "name": "python3"
  },
  "language_info": {
   "codemirror_mode": {
    "name": "ipython",
    "version": 3
   },
   "file_extension": ".py",
   "mimetype": "text/x-python",
   "name": "python",
   "nbconvert_exporter": "python",
   "pygments_lexer": "ipython3",
   "version": "3.7.4"
  }
 },
 "nbformat": 4,
 "nbformat_minor": 2
}
