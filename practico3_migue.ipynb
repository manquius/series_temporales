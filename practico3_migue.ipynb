{
 "cells": [
  {
   "cell_type": "markdown",
   "metadata": {},
   "source": [
    "# DiploDatos 2019 - Análisis de Series Temporales\n",
    "\n",
    "## Integrantes\n",
    "\n",
    "| Nombre | e-mail |\n",
    "|------|------|\n",
    "|Rivadero, Isabel | isarivadero@hotmail.com |\n",
    "|Vargas, Miguel | lvc0107@protonmail.com |\n",
    "|Mancuso, Fernando | manquius@gmail.com |\n",
    "\n",
    "## Práctico de Introducción al aprendizaje automático\n",
    "\n",
    "En este práctico no introduciremos en las primeras herramientas de aprendizaje\n",
    "automático. Diseñaremos e implementaremos algunos modelos simples y definir métricas\n",
    "para ver como performan."
   ]
  },
  {
   "cell_type": "markdown",
   "metadata": {},
   "source": [
    "### Dataset"
   ]
  },
  {
   "cell_type": "code",
   "execution_count": 104,
   "metadata": {},
   "outputs": [],
   "source": [
    "### Aumentar el ancho del notebook\n",
    "#from IPython.core.display import display, HTML\n",
    "#display(HTML(\"<style>.container { width:90% !important; }</style>\"))"
   ]
  },
  {
   "cell_type": "code",
   "execution_count": 105,
   "metadata": {},
   "outputs": [],
   "source": [
    "%matplotlib inline\n",
    "import numpy as np\n",
    "import pandas as pd\n",
    "import matplotlib.pyplot as plt\n",
    "import seaborn as sb\n",
    "sb.set(rc={'figure.figsize':(10,6)})\n",
    "\n",
    "cols = ['service',\n",
    "        'sender_zipcode',\n",
    "        'receiver_zipcode',\n",
    "        'sender_state',\n",
    "        'receiver_state',\n",
    "        'shipment_type',\n",
    "        'quantity',\n",
    "        'status',\n",
    "        'date_created',\n",
    "        'date_sent',\n",
    "        'date_visit',\n",
    "        'target']\n",
    "cols_holidays = ['holiday', \n",
    "                 'description']\n",
    "data_path = './shipments_BR_201903.csv'\n",
    "holidays = './holidays.csv'"
   ]
  },
  {
   "cell_type": "markdown",
   "metadata": {},
   "source": [
    "#### Referencia de las columnas\n",
    "* **service**: Identificador unico que corresponde a un tipo de servicio de un correo en particular.\n",
    "* **sender_zipcode:** Código postal de quien envía el paquete (usualmente el vendedor).\n",
    "* **receiver_zipcode:** Código postal de quien recibe el paquete (usualmente el comprador).\n",
    "* **sender_state:** Nombre abreviado del estado de quien envía el paquete.\n",
    "* **receiver_state:** Nombre abreviado del estado de quien recibe el paquete.\n",
    "* **quantity:** Cantidad de items que tiene dentro el paquete.\n",
    "* **status:** Estado final del envío.\n",
    "* **date_created:** Fecha de compra de el o los items.\n",
    "* **date_sent:** Fecha en que el correo recibe el paquete.\n",
    "* **date_visit:** Fecha en que el correo entrega el paquete.\n",
    "* **target:** Cantidad de dias hábiles que tardó el correo en entregar el paquete desde que lo recibe.\n"
   ]
  },
  {
   "cell_type": "code",
   "execution_count": 106,
   "metadata": {},
   "outputs": [
    {
     "data": {
      "text/plain": [
       "(1000000, 12)"
      ]
     },
     "execution_count": 106,
     "metadata": {},
     "output_type": "execute_result"
    }
   ],
   "source": [
    "df = pd.read_csv(data_path, usecols=cols)\n",
    "df.shape"
   ]
  },
  {
   "cell_type": "code",
   "execution_count": 107,
   "metadata": {},
   "outputs": [],
   "source": [
    "# set seed for reproducibility\n",
    "np.random.seed(0)"
   ]
  },
  {
   "cell_type": "markdown",
   "metadata": {},
   "source": [
    "**Eliminamos datos inconsistentes:**"
   ]
  },
  {
   "cell_type": "markdown",
   "metadata": {},
   "source": [
    "Aplicamos curacion y limpieza de datos"
   ]
  },
  {
   "cell_type": "code",
   "execution_count": 108,
   "metadata": {},
   "outputs": [
    {
     "data": {
      "text/plain": [
       "(1000000, 12)"
      ]
     },
     "execution_count": 108,
     "metadata": {},
     "output_type": "execute_result"
    }
   ],
   "source": [
    "df_clean = df[(df['date_sent'] <= df['date_visit']) & (df['date_created'] <= df['date_sent']) & (df['date_created'] <= df['date_visit'])].copy()\n",
    "df.shape"
   ]
  },
  {
   "cell_type": "markdown",
   "metadata": {},
   "source": [
    "**Removemos outliers.**"
   ]
  },
  {
   "cell_type": "code",
   "execution_count": 109,
   "metadata": {},
   "outputs": [
    {
     "data": {
      "text/plain": [
       "(990370, 12)"
      ]
     },
     "execution_count": 109,
     "metadata": {},
     "output_type": "execute_result"
    }
   ],
   "source": [
    "df_clean = df_clean[df_clean['target'] < 23].copy()\n",
    "df_clean.shape"
   ]
  },
  {
   "cell_type": "markdown",
   "metadata": {},
   "source": [
    "####  Implementación\n",
    "Solo vamos a diferenciar dos tipos de envíos:\n",
    "​ rápidos: un envío es rápido si llega antes de 3 días hábiles \n",
    "​ y lentos: si llega después de 3 días hábiles.\n",
    "Esto nos reduce los problemas de clasificación a solo 2 clases.\n"
   ]
  },
  {
   "cell_type": "markdown",
   "metadata": {},
   "source": [
    "#### Definiciones básicas:\n",
    "1- Definir una métrica binaria para evaluar los modelos\n",
    "\n"
   ]
  },
  {
   "cell_type": "code",
   "execution_count": 110,
   "metadata": {},
   "outputs": [],
   "source": [
    "def metrica(target):\n",
    "    \"\"\"\n",
    "    1: Servicio rapido\n",
    "    0: Servicio lento\n",
    "    \"\"\"\n",
    "    return int(target < 3)"
   ]
  },
  {
   "cell_type": "markdown",
   "metadata": {},
   "source": [
    "2- Diseñar un modelo -baseline- para los envíos de SP a SP, como el modelo más\n",
    "simple posible. Para esto no necesitamos machine learning, solo proponer una\n",
    "heurística a partir de los datos observados en los prácticos de análisis\n"
   ]
  },
  {
   "cell_type": "code",
   "execution_count": 111,
   "metadata": {},
   "outputs": [
    {
     "data": {
      "text/html": [
       "<div>\n",
       "<style scoped>\n",
       "    .dataframe tbody tr th:only-of-type {\n",
       "        vertical-align: middle;\n",
       "    }\n",
       "\n",
       "    .dataframe tbody tr th {\n",
       "        vertical-align: top;\n",
       "    }\n",
       "\n",
       "    .dataframe thead th {\n",
       "        text-align: right;\n",
       "    }\n",
       "</style>\n",
       "<table border=\"1\" class=\"dataframe\">\n",
       "  <thead>\n",
       "    <tr style=\"text-align: right;\">\n",
       "      <th></th>\n",
       "      <th>sender_state</th>\n",
       "      <th>sender_zipcode</th>\n",
       "      <th>receiver_state</th>\n",
       "      <th>receiver_zipcode</th>\n",
       "      <th>shipment_type</th>\n",
       "      <th>quantity</th>\n",
       "      <th>service</th>\n",
       "      <th>status</th>\n",
       "      <th>date_created</th>\n",
       "      <th>date_sent</th>\n",
       "      <th>date_visit</th>\n",
       "      <th>target</th>\n",
       "    </tr>\n",
       "  </thead>\n",
       "  <tbody>\n",
       "    <tr>\n",
       "      <th>0</th>\n",
       "      <td>SP</td>\n",
       "      <td>3005</td>\n",
       "      <td>SP</td>\n",
       "      <td>5409</td>\n",
       "      <td>express</td>\n",
       "      <td>1</td>\n",
       "      <td>0</td>\n",
       "      <td>done</td>\n",
       "      <td>2019-03-04 00:00:00</td>\n",
       "      <td>2019-03-05 13:24:00</td>\n",
       "      <td>2019-03-07 18:01:00</td>\n",
       "      <td>2</td>\n",
       "    </tr>\n",
       "    <tr>\n",
       "      <th>2</th>\n",
       "      <td>SP</td>\n",
       "      <td>2033</td>\n",
       "      <td>SP</td>\n",
       "      <td>11040</td>\n",
       "      <td>express</td>\n",
       "      <td>1</td>\n",
       "      <td>0</td>\n",
       "      <td>done</td>\n",
       "      <td>2019-02-18 00:00:00</td>\n",
       "      <td>2019-02-21 15:08:00</td>\n",
       "      <td>2019-02-28 18:19:00</td>\n",
       "      <td>5</td>\n",
       "    </tr>\n",
       "    <tr>\n",
       "      <th>3</th>\n",
       "      <td>SP</td>\n",
       "      <td>13900</td>\n",
       "      <td>SP</td>\n",
       "      <td>18500</td>\n",
       "      <td>express</td>\n",
       "      <td>1</td>\n",
       "      <td>0</td>\n",
       "      <td>done</td>\n",
       "      <td>2019-03-09 00:00:00</td>\n",
       "      <td>2019-03-11 15:48:00</td>\n",
       "      <td>2019-03-12 13:33:00</td>\n",
       "      <td>1</td>\n",
       "    </tr>\n",
       "    <tr>\n",
       "      <th>8</th>\n",
       "      <td>SP</td>\n",
       "      <td>2313</td>\n",
       "      <td>SP</td>\n",
       "      <td>4165</td>\n",
       "      <td>express</td>\n",
       "      <td>2</td>\n",
       "      <td>0</td>\n",
       "      <td>done</td>\n",
       "      <td>2019-02-28 00:00:00</td>\n",
       "      <td>2019-03-01 14:35:00</td>\n",
       "      <td>2019-03-04 14:22:00</td>\n",
       "      <td>1</td>\n",
       "    </tr>\n",
       "    <tr>\n",
       "      <th>10</th>\n",
       "      <td>SP</td>\n",
       "      <td>11015</td>\n",
       "      <td>SP</td>\n",
       "      <td>15025</td>\n",
       "      <td>express</td>\n",
       "      <td>2</td>\n",
       "      <td>3</td>\n",
       "      <td>done</td>\n",
       "      <td>2019-02-24 00:00:00</td>\n",
       "      <td>2019-03-04 23:54:00</td>\n",
       "      <td>2019-03-11 22:00:00</td>\n",
       "      <td>4</td>\n",
       "    </tr>\n",
       "  </tbody>\n",
       "</table>\n",
       "</div>"
      ],
      "text/plain": [
       "   sender_state  sender_zipcode receiver_state  receiver_zipcode  \\\n",
       "0            SP            3005             SP              5409   \n",
       "2            SP            2033             SP             11040   \n",
       "3            SP           13900             SP             18500   \n",
       "8            SP            2313             SP              4165   \n",
       "10           SP           11015             SP             15025   \n",
       "\n",
       "   shipment_type  quantity  service status         date_created  \\\n",
       "0        express         1        0   done  2019-03-04 00:00:00   \n",
       "2        express         1        0   done  2019-02-18 00:00:00   \n",
       "3        express         1        0   done  2019-03-09 00:00:00   \n",
       "8        express         2        0   done  2019-02-28 00:00:00   \n",
       "10       express         2        3   done  2019-02-24 00:00:00   \n",
       "\n",
       "              date_sent           date_visit  target  \n",
       "0   2019-03-05 13:24:00  2019-03-07 18:01:00       2  \n",
       "2   2019-02-21 15:08:00  2019-02-28 18:19:00       5  \n",
       "3   2019-03-11 15:48:00  2019-03-12 13:33:00       1  \n",
       "8   2019-03-01 14:35:00  2019-03-04 14:22:00       1  \n",
       "10  2019-03-04 23:54:00  2019-03-11 22:00:00       4  "
      ]
     },
     "execution_count": 111,
     "metadata": {},
     "output_type": "execute_result"
    }
   ],
   "source": [
    "sp_sp = df_clean[(df_clean['sender_state'] == 'SP') & (df_clean['receiver_state'] == 'SP')]\n",
    "sp_sp.head()"
   ]
  },
  {
   "cell_type": "code",
   "execution_count": 112,
   "metadata": {},
   "outputs": [
    {
     "data": {
      "text/plain": [
       "(278081, 12)"
      ]
     },
     "execution_count": 112,
     "metadata": {},
     "output_type": "execute_result"
    }
   ],
   "source": [
    "sp_sp.shape"
   ]
  },
  {
   "cell_type": "markdown",
   "metadata": {},
   "source": [
    "3- Calcular la métrica y la matriz de confusión para el baseline"
   ]
  },
  {
   "cell_type": "code",
   "execution_count": null,
   "metadata": {},
   "outputs": [],
   "source": []
  },
  {
   "cell_type": "markdown",
   "metadata": {},
   "source": [
    "#### Preparación de los features:\n",
    "4- Con la intención de salvar las rutas poco representadas, implementar una codificación para los features:  sender_zipcode y  receiver_zipcode\n",
    "\n"
   ]
  },
  {
   "cell_type": "code",
   "execution_count": 113,
   "metadata": {},
   "outputs": [
    {
     "data": {
      "text/plain": [
       "SP    722085\n",
       "PR     69115\n",
       "MG     60645\n",
       "RJ     40803\n",
       "SC     31208\n",
       "RS     22591\n",
       "GO      8323\n",
       "ES      8020\n",
       "BA      5569\n",
       "DF      4809\n",
       "PE      4329\n",
       "CE      3206\n",
       "MS      2710\n",
       "PB      1623\n",
       "RN       825\n",
       "MT       683\n",
       "PA       565\n",
       "AM       557\n",
       "PI       525\n",
       "RO       519\n",
       "SE       489\n",
       "AL       447\n",
       "MA       318\n",
       "TO       203\n",
       "AC        75\n",
       "RR        67\n",
       "AP        61\n",
       "Name: sender_state, dtype: int64"
      ]
     },
     "execution_count": 113,
     "metadata": {},
     "output_type": "execute_result"
    }
   ],
   "source": [
    "df_clean['sender_state'].value_counts()"
   ]
  },
  {
   "cell_type": "code",
   "execution_count": 114,
   "metadata": {},
   "outputs": [],
   "source": [
    "state_codes = {\n",
    "  \"SP\": 1,\n",
    "  \"PR\": 2,\n",
    "  \"MG\": 3,\n",
    "  \"RJ\": 4,\n",
    "  \"SC\": 5,\n",
    "  \"RS\": 6,\n",
    "  \"GO\": 7,\n",
    "  \"ES\": 8,\n",
    "  \"BA\": 9,\n",
    "  \"DF\": 10,\n",
    "  \"PE\": 11,\n",
    "  \"CE\": 12,\n",
    "  \"MS\": 13,\n",
    "  \"PB\": 14,\n",
    "  \"RN\": 15,\n",
    "  \"MT\": 16,\n",
    "  \"PA\": 17,\n",
    "  \"AM\": 18,\n",
    "  \"PI\": 19,\n",
    "  \"RO\": 20,\n",
    "  \"SE\": 21,\n",
    "  \"AL\": 22,\n",
    "  \"MA\": 23,\n",
    "  \"TO\": 24,\n",
    "  \"AC\": 25,\n",
    "  \"RR\": 26,\n",
    "  \"AP\": 27\n",
    "}"
   ]
  },
  {
   "cell_type": "code",
   "execution_count": 115,
   "metadata": {},
   "outputs": [],
   "source": [
    "def convert_zipcodes(zipcode):\n",
    "    return state_codes[zipcode]\n",
    "\n",
    "df_clean['sender_zipcode'] = df_clean.sender_state.map(convert_zipcodes)\n",
    "df_clean['receiver_zipcode'] = df_clean.receiver_state.map(convert_zipcodes)"
   ]
  },
  {
   "cell_type": "code",
   "execution_count": 116,
   "metadata": {},
   "outputs": [
    {
     "data": {
      "text/html": [
       "<div>\n",
       "<style scoped>\n",
       "    .dataframe tbody tr th:only-of-type {\n",
       "        vertical-align: middle;\n",
       "    }\n",
       "\n",
       "    .dataframe tbody tr th {\n",
       "        vertical-align: top;\n",
       "    }\n",
       "\n",
       "    .dataframe thead th {\n",
       "        text-align: right;\n",
       "    }\n",
       "</style>\n",
       "<table border=\"1\" class=\"dataframe\">\n",
       "  <thead>\n",
       "    <tr style=\"text-align: right;\">\n",
       "      <th></th>\n",
       "      <th>sender_state</th>\n",
       "      <th>sender_zipcode</th>\n",
       "      <th>receiver_state</th>\n",
       "      <th>receiver_zipcode</th>\n",
       "      <th>shipment_type</th>\n",
       "      <th>quantity</th>\n",
       "      <th>service</th>\n",
       "      <th>status</th>\n",
       "      <th>date_created</th>\n",
       "      <th>date_sent</th>\n",
       "      <th>date_visit</th>\n",
       "      <th>target</th>\n",
       "    </tr>\n",
       "  </thead>\n",
       "  <tbody>\n",
       "    <tr>\n",
       "      <th>0</th>\n",
       "      <td>SP</td>\n",
       "      <td>1</td>\n",
       "      <td>SP</td>\n",
       "      <td>1</td>\n",
       "      <td>express</td>\n",
       "      <td>1</td>\n",
       "      <td>0</td>\n",
       "      <td>done</td>\n",
       "      <td>2019-03-04 00:00:00</td>\n",
       "      <td>2019-03-05 13:24:00</td>\n",
       "      <td>2019-03-07 18:01:00</td>\n",
       "      <td>2</td>\n",
       "    </tr>\n",
       "    <tr>\n",
       "      <th>1</th>\n",
       "      <td>SP</td>\n",
       "      <td>1</td>\n",
       "      <td>MG</td>\n",
       "      <td>3</td>\n",
       "      <td>standard</td>\n",
       "      <td>1</td>\n",
       "      <td>1</td>\n",
       "      <td>done</td>\n",
       "      <td>2019-03-19 00:00:00</td>\n",
       "      <td>2019-03-20 14:44:00</td>\n",
       "      <td>2019-03-27 10:21:00</td>\n",
       "      <td>5</td>\n",
       "    </tr>\n",
       "    <tr>\n",
       "      <th>2</th>\n",
       "      <td>SP</td>\n",
       "      <td>1</td>\n",
       "      <td>SP</td>\n",
       "      <td>1</td>\n",
       "      <td>express</td>\n",
       "      <td>1</td>\n",
       "      <td>0</td>\n",
       "      <td>done</td>\n",
       "      <td>2019-02-18 00:00:00</td>\n",
       "      <td>2019-02-21 15:08:00</td>\n",
       "      <td>2019-02-28 18:19:00</td>\n",
       "      <td>5</td>\n",
       "    </tr>\n",
       "    <tr>\n",
       "      <th>3</th>\n",
       "      <td>SP</td>\n",
       "      <td>1</td>\n",
       "      <td>SP</td>\n",
       "      <td>1</td>\n",
       "      <td>express</td>\n",
       "      <td>1</td>\n",
       "      <td>0</td>\n",
       "      <td>done</td>\n",
       "      <td>2019-03-09 00:00:00</td>\n",
       "      <td>2019-03-11 15:48:00</td>\n",
       "      <td>2019-03-12 13:33:00</td>\n",
       "      <td>1</td>\n",
       "    </tr>\n",
       "    <tr>\n",
       "      <th>4</th>\n",
       "      <td>SP</td>\n",
       "      <td>1</td>\n",
       "      <td>RS</td>\n",
       "      <td>6</td>\n",
       "      <td>express</td>\n",
       "      <td>1</td>\n",
       "      <td>0</td>\n",
       "      <td>done</td>\n",
       "      <td>2019-03-08 00:00:00</td>\n",
       "      <td>2019-03-12 08:19:00</td>\n",
       "      <td>2019-03-16 08:24:00</td>\n",
       "      <td>4</td>\n",
       "    </tr>\n",
       "  </tbody>\n",
       "</table>\n",
       "</div>"
      ],
      "text/plain": [
       "  sender_state  sender_zipcode receiver_state  receiver_zipcode shipment_type  \\\n",
       "0           SP               1             SP                 1       express   \n",
       "1           SP               1             MG                 3      standard   \n",
       "2           SP               1             SP                 1       express   \n",
       "3           SP               1             SP                 1       express   \n",
       "4           SP               1             RS                 6       express   \n",
       "\n",
       "   quantity  service status         date_created            date_sent  \\\n",
       "0         1        0   done  2019-03-04 00:00:00  2019-03-05 13:24:00   \n",
       "1         1        1   done  2019-03-19 00:00:00  2019-03-20 14:44:00   \n",
       "2         1        0   done  2019-02-18 00:00:00  2019-02-21 15:08:00   \n",
       "3         1        0   done  2019-03-09 00:00:00  2019-03-11 15:48:00   \n",
       "4         1        0   done  2019-03-08 00:00:00  2019-03-12 08:19:00   \n",
       "\n",
       "            date_visit  target  \n",
       "0  2019-03-07 18:01:00       2  \n",
       "1  2019-03-27 10:21:00       5  \n",
       "2  2019-02-28 18:19:00       5  \n",
       "3  2019-03-12 13:33:00       1  \n",
       "4  2019-03-16 08:24:00       4  "
      ]
     },
     "execution_count": 116,
     "metadata": {},
     "output_type": "execute_result"
    }
   ],
   "source": [
    "df_clean.head()"
   ]
  },
  {
   "cell_type": "markdown",
   "metadata": {},
   "source": [
    "**5- Seleccionar un conjunto de features para entrenar modelos de machine learning**"
   ]
  },
  {
   "cell_type": "code",
   "execution_count": 117,
   "metadata": {},
   "outputs": [],
   "source": [
    "df_clean['target'] = df_clean.target.map(metrica)"
   ]
  },
  {
   "cell_type": "code",
   "execution_count": 118,
   "metadata": {},
   "outputs": [],
   "source": [
    "## Construyo matriz de features\n",
    "features = df_clean[['service', 'sender_zipcode', 'receiver_zipcode']]\n",
    "\n",
    "## Estandarizo varables\n",
    "X = features.values\n",
    "\n",
    "## Construyo vector de targets (con valor numérico)\n",
    "y = df_clean['target'].values"
   ]
  },
  {
   "cell_type": "code",
   "execution_count": 119,
   "metadata": {},
   "outputs": [
    {
     "data": {
      "text/html": [
       "<div>\n",
       "<style scoped>\n",
       "    .dataframe tbody tr th:only-of-type {\n",
       "        vertical-align: middle;\n",
       "    }\n",
       "\n",
       "    .dataframe tbody tr th {\n",
       "        vertical-align: top;\n",
       "    }\n",
       "\n",
       "    .dataframe thead th {\n",
       "        text-align: right;\n",
       "    }\n",
       "</style>\n",
       "<table border=\"1\" class=\"dataframe\">\n",
       "  <thead>\n",
       "    <tr style=\"text-align: right;\">\n",
       "      <th></th>\n",
       "      <th>service</th>\n",
       "      <th>sender_zipcode</th>\n",
       "      <th>receiver_zipcode</th>\n",
       "    </tr>\n",
       "  </thead>\n",
       "  <tbody>\n",
       "    <tr>\n",
       "      <th>0</th>\n",
       "      <td>0</td>\n",
       "      <td>1</td>\n",
       "      <td>1</td>\n",
       "    </tr>\n",
       "    <tr>\n",
       "      <th>1</th>\n",
       "      <td>1</td>\n",
       "      <td>1</td>\n",
       "      <td>3</td>\n",
       "    </tr>\n",
       "    <tr>\n",
       "      <th>2</th>\n",
       "      <td>0</td>\n",
       "      <td>1</td>\n",
       "      <td>1</td>\n",
       "    </tr>\n",
       "    <tr>\n",
       "      <th>3</th>\n",
       "      <td>0</td>\n",
       "      <td>1</td>\n",
       "      <td>1</td>\n",
       "    </tr>\n",
       "    <tr>\n",
       "      <th>4</th>\n",
       "      <td>0</td>\n",
       "      <td>1</td>\n",
       "      <td>6</td>\n",
       "    </tr>\n",
       "  </tbody>\n",
       "</table>\n",
       "</div>"
      ],
      "text/plain": [
       "   service  sender_zipcode  receiver_zipcode\n",
       "0        0               1                 1\n",
       "1        1               1                 3\n",
       "2        0               1                 1\n",
       "3        0               1                 1\n",
       "4        0               1                 6"
      ]
     },
     "execution_count": 119,
     "metadata": {},
     "output_type": "execute_result"
    }
   ],
   "source": [
    "features.head()"
   ]
  },
  {
   "cell_type": "code",
   "execution_count": 120,
   "metadata": {},
   "outputs": [
    {
     "data": {
      "text/plain": [
       "array([1, 0, 0, ..., 0, 0, 0])"
      ]
     },
     "execution_count": 120,
     "metadata": {},
     "output_type": "execute_result"
    }
   ],
   "source": [
    "y"
   ]
  },
  {
   "cell_type": "markdown",
   "metadata": {},
   "source": [
    "#### Clustering:\n",
    "6- Clusterizar los envíos basados únicamente en las rutas. Para esto recomiendo utilizar KMeans\n"
   ]
  },
  {
   "cell_type": "code",
   "execution_count": 121,
   "metadata": {},
   "outputs": [],
   "source": [
    "# but it couldn be useful for you depending on your approach)\n",
    "from sklearn.model_selection import train_test_split\n",
    "\n",
    "X_train, X_test, y_train, y_test = train_test_split(X, y, test_size=0.2, random_state=42)"
   ]
  },
  {
   "cell_type": "code",
   "execution_count": 122,
   "metadata": {},
   "outputs": [],
   "source": [
    "def precision(yPred, yTest):\n",
    "    N = len(yTest)\n",
    "    prec = (yPred == yTest).sum() / N\n",
    "    return prec if prec > 0.5 else 1-prec"
   ]
  },
  {
   "cell_type": "code",
   "execution_count": 131,
   "metadata": {},
   "outputs": [
    {
     "name": "stdout",
     "output_type": "stream",
     "text": [
      "KMeans(algorithm='auto', copy_x=True, init='k-means++', max_iter=1000,\n",
      "       n_clusters=1, n_init=10, n_jobs=None, precompute_distances='auto',\n",
      "       random_state=2, tol=0.0001, verbose=0)\n",
      "Porcentaje bien clasificado: 68.16%\n",
      "\n",
      "====================================================================================================\n",
      "KMeans(algorithm='auto', copy_x=True, init='k-means++', max_iter=1000,\n",
      "       n_clusters=2, n_init=10, n_jobs=None, precompute_distances='auto',\n",
      "       random_state=2, tol=0.0001, verbose=0)\n",
      "Porcentaje bien clasificado: 51.45%\n",
      "\n",
      "====================================================================================================\n",
      "KMeans(algorithm='auto', copy_x=True, init='k-means++', max_iter=1000,\n",
      "       n_clusters=3, n_init=10, n_jobs=None, precompute_distances='auto',\n",
      "       random_state=2, tol=0.0001, verbose=0)\n",
      "Porcentaje bien clasificado: 56.56%\n",
      "\n",
      "====================================================================================================\n",
      "KMeans(algorithm='auto', copy_x=True, init='k-means++', max_iter=1000,\n",
      "       n_clusters=4, n_init=10, n_jobs=None, precompute_distances='auto',\n",
      "       random_state=2, tol=0.0001, verbose=0)\n",
      "Porcentaje bien clasificado: 63.71%\n",
      "\n",
      "====================================================================================================\n",
      "KMeans(algorithm='auto', copy_x=True, init='k-means++', max_iter=1000,\n",
      "       n_clusters=5, n_init=10, n_jobs=None, precompute_distances='auto',\n",
      "       random_state=2, tol=0.0001, verbose=0)\n",
      "Porcentaje bien clasificado: 60.87%\n",
      "\n",
      "====================================================================================================\n",
      "KMeans(algorithm='auto', copy_x=True, init='k-means++', max_iter=1000,\n",
      "       n_clusters=6, n_init=10, n_jobs=None, precompute_distances='auto',\n",
      "       random_state=2, tol=0.0001, verbose=0)\n",
      "Porcentaje bien clasificado: 83.08%\n",
      "\n",
      "====================================================================================================\n",
      "KMeans(algorithm='auto', copy_x=True, init='k-means++', max_iter=1000,\n",
      "       n_clusters=7, n_init=10, n_jobs=None, precompute_distances='auto',\n",
      "       random_state=2, tol=0.0001, verbose=0)\n",
      "Porcentaje bien clasificado: 77.81%\n",
      "\n",
      "====================================================================================================\n",
      "KMeans(algorithm='auto', copy_x=True, init='k-means++', max_iter=1000,\n",
      "       n_clusters=8, n_init=10, n_jobs=None, precompute_distances='auto',\n",
      "       random_state=2, tol=0.0001, verbose=0)\n",
      "Porcentaje bien clasificado: 84.41%\n",
      "\n",
      "====================================================================================================\n",
      "KMeans(algorithm='auto', copy_x=True, init='k-means++', max_iter=1000,\n",
      "       n_clusters=9, n_init=10, n_jobs=None, precompute_distances='auto',\n",
      "       random_state=2, tol=0.0001, verbose=0)\n",
      "Porcentaje bien clasificado: 92.46%\n",
      "\n",
      "====================================================================================================\n"
     ]
    }
   ],
   "source": [
    "from sklearn.cluster import KMeans\n",
    "\n",
    "\n",
    "K = range(1,10)\n",
    "for k in K:\n",
    "    ## Inicializo clasificador\n",
    "    classifier = KMeans(n_clusters=k, max_iter=1000, random_state=2)\n",
    "    print(classifier)\n",
    "\n",
    "    ## Entreno\n",
    "    kmeans = classifier.fit(X_train)\n",
    "\n",
    "    ## Centros de los clusters\n",
    "    centers = kmeans.cluster_centers_\n",
    "\n",
    "    ## Realizo predicción sobre conjunto de prueba\n",
    "    y_pred = kmeans.predict(X_test)\n",
    "\n",
    "    ## Evaluo la precision del clasificador\n",
    "    print('Porcentaje bien clasificado: {:.2f}%\\n'.format(100*precision(y_pred, y_test)))\n",
    "    print('='*100)"
   ]
  },
  {
   "cell_type": "code",
   "execution_count": 132,
   "metadata": {},
   "outputs": [
    {
     "data": {
      "text/plain": [
       "<Figure size 1440x720 with 0 Axes>"
      ]
     },
     "metadata": {},
     "output_type": "display_data"
    },
    {
     "data": {
      "image/png": "[encoded data removed]",
      "text/plain": [
       "<Figure size 1512x360 with 3 Axes>"
      ]
     },
     "metadata": {},
     "output_type": "display_data"
    }
   ],
   "source": [
    "plt.figure(figsize=(20, 10))\n",
    "\n",
    "\n",
    "target = df_clean.target == 1\n",
    "\n",
    "ncols = 3\n",
    "nrows = 1\n",
    "fig, axes = plt.subplots(figsize=(7*ncols, 5*nrows), ncols=3, nrows=1)\n",
    "\n",
    "ax = axes[0]\n",
    "ax.scatter(df_clean[target].sender_zipcode, df_clean[target].receiver_zipcode, marker='*')\n",
    "ax.scatter(df_clean[~target].sender_zipcode, df_clean[~target].receiver_zipcode, marker='+')\n",
    "ax.scatter(centers[0][0], centers[0][1], color='k', s=100)\n",
    "ax.scatter(centers[1][0], centers[1][1], color='k', s=100)\n",
    "ax.set_xlabel('sender_zipcode')\n",
    "ax.set_ylabel('receiver_zipcode')\n",
    "\n",
    "ax = axes[1]\n",
    "ax.scatter(df_clean[target].sender_zipcode, df_clean[target].service, s=100, marker='*')\n",
    "ax.scatter(df_clean[~target].sender_zipcode, df_clean[~target].service, s=100, marker='+')\n",
    "ax.scatter(centers[0][0], centers[0][2], color='k', s=100)\n",
    "ax.scatter(centers[1][0], centers[1][2], color='k', s=100)\n",
    "ax.set_xlabel('sender_zipcode')\n",
    "ax.set_ylabel('service')\n",
    "\n",
    "ax = axes[2]\n",
    "ax.scatter(df_clean[target].service, df_clean[target].receiver_zipcode, marker='*')\n",
    "ax.scatter(df_clean[~target].service, df_clean[~target].receiver_zipcode, marker='+')\n",
    "ax.scatter(centers[0][1], centers[0][2], color='k', s=100)\n",
    "ax.scatter(centers[1][1], centers[1][2], color='k', s=100)\n",
    "ax.set_xlabel('service')\n",
    "ax.set_ylabel('receiver_zipcode')\n",
    "\n",
    "\n",
    "plt.tight_layout()\n",
    "plt.show()"
   ]
  },
  {
   "cell_type": "markdown",
   "metadata": {},
   "source": [
    "7- (*) Cual es el número óptimo de clusters? (Ver método de ​ Elbow​ con KMeans)\n"
   ]
  },
  {
   "cell_type": "code",
   "execution_count": 25,
   "metadata": {},
   "outputs": [
    {
     "data": {
      "text/plain": [
       "array([[8.42595567e+03, 1.07689477e+04, 1.23940125e+00],\n",
       "       [8.85899313e+03, 6.51141810e+04, 1.33904343e+00],\n",
       "       [8.49978280e+04, 1.28010698e+04, 7.97744656e-01],\n",
       "       [8.55179419e+04, 8.33480034e+04, 7.19926756e-01],\n",
       "       [3.29966632e+04, 2.39299170e+04, 6.51350398e-01],\n",
       "       [8.75184861e+03, 3.50700816e+04, 1.39412491e+00],\n",
       "       [8.78903392e+03, 8.79461998e+04, 1.38117638e+00],\n",
       "       [8.38386687e+04, 4.17150809e+04, 9.38893348e-01],\n",
       "       [3.60355042e+04, 7.70477440e+04, 9.09323186e-01]])"
      ]
     },
     "execution_count": 25,
     "metadata": {},
     "output_type": "execute_result"
    }
   ],
   "source": [
    " kmeanModel.fit(X).cluster_centers_"
   ]
  },
  {
   "cell_type": "code",
   "execution_count": 24,
   "metadata": {},
   "outputs": [
    {
     "data": {
      "text/plain": [
       "array([[8.55182515e+04, 8.33143770e+04, 7.20237692e-01],\n",
       "       [8.41969892e+03, 1.07789333e+04, 1.23925588e+00],\n",
       "       [8.84435674e+03, 6.51602317e+04, 1.33807573e+00],\n",
       "       [8.49944952e+04, 1.27504627e+04, 7.97315648e-01],\n",
       "       [8.76602021e+03, 3.50946594e+04, 1.39455269e+00],\n",
       "       [8.38848402e+04, 4.15744592e+04, 9.39322586e-01],\n",
       "       [8.80369636e+03, 8.79665361e+04, 1.38153312e+00],\n",
       "       [3.61138449e+04, 7.69602121e+04, 9.09335727e-01],\n",
       "       [3.29936037e+04, 2.39154867e+04, 6.51287175e-01]])"
      ]
     },
     "execution_count": 24,
     "metadata": {},
     "output_type": "execute_result"
    }
   ],
   "source": [
    "KMeans(n_clusters=k).fit(X).cluster_centers_"
   ]
  },
  {
   "cell_type": "code",
   "execution_count": 21,
   "metadata": {},
   "outputs": [
    {
     "data": {
      "image/png": "[encoded data removed]",
      "text/plain": [
       "<Figure size 720x432 with 1 Axes>"
      ]
     },
     "metadata": {},
     "output_type": "display_data"
    }
   ],
   "source": [
    "from sklearn.cluster import KMeans\n",
    "from sklearn import metrics\n",
    "from scipy.spatial.distance import cdist\n",
    "import numpy as np\n",
    "import matplotlib.pyplot as plt\n",
    "\n",
    "\n",
    "# create new plot and data\n",
    "plt.plot()\n",
    "X = df[['sender_zipcode', 'receiver_zipcode', 'service']]\n",
    "colors = ['b', 'g', 'r']\n",
    "markers = ['o', 'v', 's']\n",
    "\n",
    "# k means determine k\n",
    "distortions = []\n",
    "K = range(1,10)\n",
    "for k in K:\n",
    "    kmeanModel = KMeans(n_clusters=k).fit(X)\n",
    "    kmeanModel.fit(X)\n",
    "    distortions.append(sum(np.min(cdist(X, kmeanModel.cluster_centers_, 'euclidean'), axis=1)) / X.shape[0])\n",
    "\n",
    "# Plot the elbow\n",
    "plt.plot(K, distortions, 'bx-')\n",
    "plt.xlabel('k')\n",
    "plt.ylabel('Distortion')\n",
    "plt.title('The Elbow Method showing the optimal k')\n",
    "plt.show()\n"
   ]
  },
  {
   "cell_type": "markdown",
   "metadata": {},
   "source": [
    "8- Describir brevemente las características interesante de los clusters\n"
   ]
  },
  {
   "cell_type": "code",
   "execution_count": null,
   "metadata": {},
   "outputs": [],
   "source": []
  },
  {
   "cell_type": "markdown",
   "metadata": {},
   "source": [
    "#### Modelos lineales:\n",
    "9- Leer sobre accuracy, precision y recall para agregarlas al pool de métricas que vamos a utilizar.\n"
   ]
  },
  {
   "cell_type": "code",
   "execution_count": null,
   "metadata": {},
   "outputs": [],
   "source": []
  },
  {
   "cell_type": "markdown",
   "metadata": {},
   "source": [
    "10- Implementar un modelo basado en regresión lineal, calcular las métricas y la matriz de confusión\n"
   ]
  },
  {
   "cell_type": "code",
   "execution_count": null,
   "metadata": {},
   "outputs": [],
   "source": []
  },
  {
   "cell_type": "markdown",
   "metadata": {},
   "source": [
    "11- Implementar un modelo basado en regresión logística, calcular las métricas y la matriz de confusión\n"
   ]
  },
  {
   "cell_type": "code",
   "execution_count": null,
   "metadata": {},
   "outputs": [],
   "source": []
  },
  {
   "cell_type": "markdown",
   "metadata": {},
   "source": [
    "12- Cual es la principal diferencia entre estos modelos? Tuviste que hacer algún tipo de post-procesamiento?\n"
   ]
  },
  {
   "cell_type": "code",
   "execution_count": null,
   "metadata": {},
   "outputs": [],
   "source": []
  },
  {
   "cell_type": "markdown",
   "metadata": {},
   "source": [
    "13- Estandarizar los features seleccionados y re entrenar los modelos. Las métricas\n",
    "mejoran? Explicar por qué.\n"
   ]
  },
  {
   "cell_type": "code",
   "execution_count": null,
   "metadata": {},
   "outputs": [],
   "source": []
  }
 ],
 "metadata": {
  "kernelspec": {
   "display_name": "Python 3",
   "language": "python",
   "name": "python3"
  },
  "language_info": {
   "codemirror_mode": {
    "name": "ipython",
    "version": 3
   },
   "file_extension": ".py",
   "mimetype": "text/x-python",
   "name": "python",
   "nbconvert_exporter": "python",
   "pygments_lexer": "ipython3",
   "version": "3.7.4"
  }
 },
 "nbformat": 4,
 "nbformat_minor": 2
}
