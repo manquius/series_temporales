{
 "cells": [
  {
   "cell_type": "markdown",
   "metadata": {},
   "source": [
    "# DiploDatos 2019 - Análisis de Series Temporales\n",
    "\n",
    "## Integrantes\n",
    "\n",
    "| Nombre | e-mail |\n",
    "|------|------|\n",
    "|Rivadero, Isabel | isarivadero@hotmail.com |\n",
    "|Vargas, Miguel | lvc0107@protonmail.com |\n",
    "|Mancuso, Fernando | manquius@gmail.com |\n",
    "\n",
    "## Práctico de Introducción al aprendizaje automático\n",
    "\n",
    "En este práctico no introduciremos en las primeras herramientas de aprendizaje\n",
    "automático. Diseñaremos e implementaremos algunos modelos simples y definir métricas\n",
    "para ver como performan."
   ]
  },
  {
   "cell_type": "markdown",
   "metadata": {},
   "source": [
    "### Dataset"
   ]
  },
  {
   "cell_type": "code",
   "execution_count": 123,
   "metadata": {},
   "outputs": [],
   "source": [
    "%matplotlib inline\n",
    "import numpy as np\n",
    "import pandas as pd\n",
    "import matplotlib.pyplot as plt\n",
    "import seaborn as sb\n",
    "sb.set(rc={'figure.figsize':(10,6)})\n",
    "\n",
    "cols = ['service',\n",
    "        'sender_zipcode',\n",
    "        'receiver_zipcode',\n",
    "        'sender_state',\n",
    "        'receiver_state',\n",
    "        'shipment_type',\n",
    "        'quantity',\n",
    "        'status',\n",
    "        'date_created',\n",
    "        'date_sent',\n",
    "        'date_visit',\n",
    "        'target']\n",
    "cols_holidays = ['holiday', \n",
    "                 'description']\n",
    "data_path = './shipments_BR_201903.csv'\n",
    "holidays = './holidays.csv'\n",
    "from ml.visualization import plot_confusion_matrix\n",
    "from sklearn.metrics import recall_score, precision_score\n"
   ]
  },
  {
   "cell_type": "markdown",
   "metadata": {},
   "source": [
    "#### Referencia de las columnas\n",
    "* **service**: Identificador unico que corresponde a un tipo de servicio de un correo en particular.\n",
    "* **sender_zipcode:** Código postal de quien envía el paquete (usualmente el vendedor).\n",
    "* **receiver_zipcode:** Código postal de quien recibe el paquete (usualmente el comprador).\n",
    "* **sender_state:** Nombre abreviado del estado de quien envía el paquete.\n",
    "* **receiver_state:** Nombre abreviado del estado de quien recibe el paquete.\n",
    "* **quantity:** Cantidad de items que tiene dentro el paquete.\n",
    "* **status:** Estado final del envío.\n",
    "* **date_created:** Fecha de compra de el o los items.\n",
    "* **date_sent:** Fecha en que el correo recibe el paquete.\n",
    "* **date_visit:** Fecha en que el correo entrega el paquete.\n",
    "* **target:** Cantidad de dias hábiles que tardó el correo en entregar el paquete desde que lo recibe.\n"
   ]
  },
  {
   "cell_type": "code",
   "execution_count": 2,
   "metadata": {},
   "outputs": [
    {
     "data": {
      "text/plain": [
       "(1000000, 12)"
      ]
     },
     "execution_count": 2,
     "metadata": {},
     "output_type": "execute_result"
    }
   ],
   "source": [
    "df = pd.read_csv(data_path, usecols=cols)\n",
    "df.shape"
   ]
  },
  {
   "cell_type": "code",
   "execution_count": 3,
   "metadata": {},
   "outputs": [],
   "source": [
    "# set seed for reproducibility\n",
    "np.random.seed(0)"
   ]
  },
  {
   "cell_type": "markdown",
   "metadata": {},
   "source": [
    "**Eliminamos datos inconsistentes:**"
   ]
  },
  {
   "cell_type": "markdown",
   "metadata": {},
   "source": [
    "Aplicamos curacion y limpieza de datos"
   ]
  },
  {
   "cell_type": "code",
   "execution_count": 102,
   "metadata": {},
   "outputs": [
    {
     "data": {
      "text/plain": [
       "(999827, 12)"
      ]
     },
     "execution_count": 102,
     "metadata": {},
     "output_type": "execute_result"
    }
   ],
   "source": [
    "cleaned_df = df[(df['date_sent'] <= df['date_visit']) & (df['date_created'] <= df['date_sent']) & (df['date_created'] <= df['date_visit'])].copy()\n",
    "cleaned_df.shape"
   ]
  },
  {
   "cell_type": "markdown",
   "metadata": {},
   "source": [
    "**Removemos outliers.**"
   ]
  },
  {
   "cell_type": "code",
   "execution_count": 103,
   "metadata": {},
   "outputs": [
    {
     "data": {
      "text/plain": [
       "(990370, 12)"
      ]
     },
     "execution_count": 103,
     "metadata": {},
     "output_type": "execute_result"
    }
   ],
   "source": [
    "cleaned_df = cleaned_df[cleaned_df['target'] < 23].copy()\n",
    "cleaned_df.shape"
   ]
  },
  {
   "cell_type": "markdown",
   "metadata": {},
   "source": [
    "####  Implementación\n",
    "Solo vamos a diferenciar dos tipos de envíos:\n",
    "​ rápidos: un envío es rápido si llega antes de 3 días hábiles \n",
    "​ y lentos: si llega después de 3 días hábiles.\n",
    "Esto nos reduce los problemas de clasificación a solo 2 clases.\n"
   ]
  },
  {
   "cell_type": "markdown",
   "metadata": {},
   "source": [
    "#### Definiciones básicas:\n",
    "1- Definir una métrica binaria para evaluar los modelos\n",
    "\n"
   ]
  },
  {
   "cell_type": "code",
   "execution_count": 6,
   "metadata": {},
   "outputs": [],
   "source": [
    "def metrica(target):\n",
    "    \"\"\"\n",
    "    1: Servicio rapido\n",
    "    0: Servicio lento\n",
    "    \"\"\"\n",
    "    return int(target < 3)"
   ]
  },
  {
   "cell_type": "markdown",
   "metadata": {},
   "source": [
    "2- Diseñar un modelo -baseline- para los envíos de SP a SP, como el modelo más\n",
    "simple posible. Para esto no necesitamos machine learning, solo proponer una\n",
    "heurística a partir de los datos observados en los prácticos de análisis\n"
   ]
  },
  {
   "cell_type": "code",
   "execution_count": 7,
   "metadata": {},
   "outputs": [],
   "source": [
    "sp_sp = cleaned_df[(cleaned_df['sender_state'] == 'SP') & (cleaned_df['receiver_state'] == 'SP')]"
   ]
  },
  {
   "cell_type": "code",
   "execution_count": 8,
   "metadata": {},
   "outputs": [
    {
     "data": {
      "text/plain": [
       "(278081, 12)"
      ]
     },
     "execution_count": 8,
     "metadata": {},
     "output_type": "execute_result"
    }
   ],
   "source": [
    "sp_sp.shape"
   ]
  },
  {
   "cell_type": "markdown",
   "metadata": {},
   "source": [
    "3- Calcular la métrica y la matriz de confusión para el baseline"
   ]
  },
  {
   "cell_type": "markdown",
   "metadata": {},
   "source": [
    "#### Preparación de los features:\n",
    "4- Con la intención de salvar las rutas poco representadas, implementar una codificación para los features:  sender_zipcode y  receiver_zipcode\n",
    "\n"
   ]
  },
  {
   "cell_type": "code",
   "execution_count": 11,
   "metadata": {},
   "outputs": [
    {
     "data": {
      "text/plain": [
       "SP    722085\n",
       "PR     69115\n",
       "MG     60645\n",
       "RJ     40803\n",
       "SC     31208\n",
       "RS     22591\n",
       "GO      8323\n",
       "ES      8020\n",
       "BA      5569\n",
       "DF      4809\n",
       "PE      4329\n",
       "CE      3206\n",
       "MS      2710\n",
       "PB      1623\n",
       "RN       825\n",
       "MT       683\n",
       "PA       565\n",
       "AM       557\n",
       "PI       525\n",
       "RO       519\n",
       "SE       489\n",
       "AL       447\n",
       "MA       318\n",
       "TO       203\n",
       "AC        75\n",
       "RR        67\n",
       "AP        61\n",
       "Name: sender_state, dtype: int64"
      ]
     },
     "execution_count": 11,
     "metadata": {},
     "output_type": "execute_result"
    }
   ],
   "source": [
    "cleaned_df['sender_state'].value_counts()"
   ]
  },
  {
   "cell_type": "code",
   "execution_count": 12,
   "metadata": {},
   "outputs": [],
   "source": [
    "state_codes = {\n",
    "  \"SP\": 1,\n",
    "  \"PR\": 2,\n",
    "  \"MG\": 3,\n",
    "  \"RJ\": 4,\n",
    "  \"SC\": 5,\n",
    "  \"RS\": 6,\n",
    "  \"GO\": 7,\n",
    "  \"ES\": 8,\n",
    "  \"BA\": 9,\n",
    "  \"DF\": 10,\n",
    "  \"PE\": 11,\n",
    "  \"CE\": 12,\n",
    "  \"MS\": 13,\n",
    "  \"PB\": 14,\n",
    "  \"RN\": 15,\n",
    "  \"MT\": 16,\n",
    "  \"PA\": 17,\n",
    "  \"AM\": 18,\n",
    "  \"PI\": 19,\n",
    "  \"RO\": 20,\n",
    "  \"SE\": 21,\n",
    "  \"AL\": 22,\n",
    "  \"MA\": 23,\n",
    "  \"TO\": 24,\n",
    "  \"AC\": 25,\n",
    "  \"RR\": 26,\n",
    "  \"AP\": 27\n",
    "}"
   ]
  },
  {
   "cell_type": "code",
   "execution_count": 13,
   "metadata": {},
   "outputs": [
    {
     "data": {
      "text/html": [
       "<div>\n",
       "<style scoped>\n",
       "    .dataframe tbody tr th:only-of-type {\n",
       "        vertical-align: middle;\n",
       "    }\n",
       "\n",
       "    .dataframe tbody tr th {\n",
       "        vertical-align: top;\n",
       "    }\n",
       "\n",
       "    .dataframe thead th {\n",
       "        text-align: right;\n",
       "    }\n",
       "</style>\n",
       "<table border=\"1\" class=\"dataframe\">\n",
       "  <thead>\n",
       "    <tr style=\"text-align: right;\">\n",
       "      <th></th>\n",
       "      <th>sender_state</th>\n",
       "      <th>sender_zipcode</th>\n",
       "      <th>receiver_state</th>\n",
       "      <th>receiver_zipcode</th>\n",
       "      <th>shipment_type</th>\n",
       "      <th>quantity</th>\n",
       "      <th>service</th>\n",
       "      <th>status</th>\n",
       "      <th>date_created</th>\n",
       "      <th>date_sent</th>\n",
       "      <th>date_visit</th>\n",
       "      <th>target</th>\n",
       "    </tr>\n",
       "  </thead>\n",
       "  <tbody>\n",
       "    <tr>\n",
       "      <th>0</th>\n",
       "      <td>SP</td>\n",
       "      <td>1</td>\n",
       "      <td>SP</td>\n",
       "      <td>1</td>\n",
       "      <td>express</td>\n",
       "      <td>1</td>\n",
       "      <td>0</td>\n",
       "      <td>done</td>\n",
       "      <td>2019-03-04 00:00:00</td>\n",
       "      <td>2019-03-05 13:24:00</td>\n",
       "      <td>2019-03-07 18:01:00</td>\n",
       "      <td>2</td>\n",
       "    </tr>\n",
       "    <tr>\n",
       "      <th>1</th>\n",
       "      <td>SP</td>\n",
       "      <td>1</td>\n",
       "      <td>MG</td>\n",
       "      <td>3</td>\n",
       "      <td>standard</td>\n",
       "      <td>1</td>\n",
       "      <td>1</td>\n",
       "      <td>done</td>\n",
       "      <td>2019-03-19 00:00:00</td>\n",
       "      <td>2019-03-20 14:44:00</td>\n",
       "      <td>2019-03-27 10:21:00</td>\n",
       "      <td>5</td>\n",
       "    </tr>\n",
       "    <tr>\n",
       "      <th>2</th>\n",
       "      <td>SP</td>\n",
       "      <td>1</td>\n",
       "      <td>SP</td>\n",
       "      <td>1</td>\n",
       "      <td>express</td>\n",
       "      <td>1</td>\n",
       "      <td>0</td>\n",
       "      <td>done</td>\n",
       "      <td>2019-02-18 00:00:00</td>\n",
       "      <td>2019-02-21 15:08:00</td>\n",
       "      <td>2019-02-28 18:19:00</td>\n",
       "      <td>5</td>\n",
       "    </tr>\n",
       "    <tr>\n",
       "      <th>3</th>\n",
       "      <td>SP</td>\n",
       "      <td>1</td>\n",
       "      <td>SP</td>\n",
       "      <td>1</td>\n",
       "      <td>express</td>\n",
       "      <td>1</td>\n",
       "      <td>0</td>\n",
       "      <td>done</td>\n",
       "      <td>2019-03-09 00:00:00</td>\n",
       "      <td>2019-03-11 15:48:00</td>\n",
       "      <td>2019-03-12 13:33:00</td>\n",
       "      <td>1</td>\n",
       "    </tr>\n",
       "    <tr>\n",
       "      <th>4</th>\n",
       "      <td>SP</td>\n",
       "      <td>1</td>\n",
       "      <td>RS</td>\n",
       "      <td>6</td>\n",
       "      <td>express</td>\n",
       "      <td>1</td>\n",
       "      <td>0</td>\n",
       "      <td>done</td>\n",
       "      <td>2019-03-08 00:00:00</td>\n",
       "      <td>2019-03-12 08:19:00</td>\n",
       "      <td>2019-03-16 08:24:00</td>\n",
       "      <td>4</td>\n",
       "    </tr>\n",
       "  </tbody>\n",
       "</table>\n",
       "</div>"
      ],
      "text/plain": [
       "  sender_state  sender_zipcode receiver_state  receiver_zipcode shipment_type  \\\n",
       "0           SP               1             SP                 1       express   \n",
       "1           SP               1             MG                 3      standard   \n",
       "2           SP               1             SP                 1       express   \n",
       "3           SP               1             SP                 1       express   \n",
       "4           SP               1             RS                 6       express   \n",
       "\n",
       "   quantity  service status         date_created            date_sent  \\\n",
       "0         1        0   done  2019-03-04 00:00:00  2019-03-05 13:24:00   \n",
       "1         1        1   done  2019-03-19 00:00:00  2019-03-20 14:44:00   \n",
       "2         1        0   done  2019-02-18 00:00:00  2019-02-21 15:08:00   \n",
       "3         1        0   done  2019-03-09 00:00:00  2019-03-11 15:48:00   \n",
       "4         1        0   done  2019-03-08 00:00:00  2019-03-12 08:19:00   \n",
       "\n",
       "            date_visit  target  \n",
       "0  2019-03-07 18:01:00       2  \n",
       "1  2019-03-27 10:21:00       5  \n",
       "2  2019-02-28 18:19:00       5  \n",
       "3  2019-03-12 13:33:00       1  \n",
       "4  2019-03-16 08:24:00       4  "
      ]
     },
     "execution_count": 13,
     "metadata": {},
     "output_type": "execute_result"
    }
   ],
   "source": [
    "grouped_zipcodes_df = cleaned_df.copy()\n",
    "\n",
    "def convert_zipcodes(zipcode):\n",
    "    return state_codes[zipcode]\n",
    "\n",
    "grouped_zipcodes_df['sender_zipcode'] = grouped_zipcodes_df.sender_state.map(convert_zipcodes)\n",
    "grouped_zipcodes_df['receiver_zipcode'] = grouped_zipcodes_df.receiver_state.map(convert_zipcodes)\n",
    "grouped_zipcodes_df.head()"
   ]
  },
  {
   "cell_type": "markdown",
   "metadata": {},
   "source": [
    "**5- Seleccionar un conjunto de features para entrenar modelos de machine learning**"
   ]
  },
  {
   "cell_type": "code",
   "execution_count": 14,
   "metadata": {},
   "outputs": [],
   "source": [
    "grouped_zipcodes_df['target'] = grouped_zipcodes_df.target.map(metrica)"
   ]
  },
  {
   "cell_type": "code",
   "execution_count": null,
   "metadata": {},
   "outputs": [],
   "source": [
    "## Construyo matriz de features\n",
    "features = grouped_zipcodes_df[['service', 'sender_zipcode', 'receiver_zipcode']].copy()\n",
    "features.head()\n"
   ]
  },
  {
   "cell_type": "code",
   "execution_count": null,
   "metadata": {},
   "outputs": [],
   "source": []
  },
  {
   "cell_type": "code",
   "execution_count": null,
   "metadata": {},
   "outputs": [],
   "source": [
    "#Normalizacion\n",
    "from sklearn.preprocessing import MinMaxScaler\n",
    "scaler = MinMaxScaler()\n"
   ]
  },
  {
   "cell_type": "code",
   "execution_count": null,
   "metadata": {},
   "outputs": [],
   "source": [
    "## Estandarizo varables\n",
    "#X = scaled_df.values\n",
    "X = scaler.fit_transform(features).copy()\n",
    "\n",
    "\n",
    "## Construyo vector de targets (con valor numérico)\n",
    "y = grouped_zipcodes_df['target'].values"
   ]
  },
  {
   "cell_type": "markdown",
   "metadata": {},
   "source": [
    "#### Clustering:\n",
    "6- Clusterizar los envíos basados únicamente en las rutas. Para esto recomiendo utilizar KMeans\n"
   ]
  },
  {
   "cell_type": "code",
   "execution_count": null,
   "metadata": {},
   "outputs": [],
   "source": [
    "# but it couldn be useful for you depending on your approach)\n",
    "from sklearn.model_selection import train_test_split\n",
    "\n",
    "X_train, X_test, y_train, y_test = train_test_split(X, y, test_size=0.2, random_state=42)"
   ]
  },
  {
   "cell_type": "code",
   "execution_count": null,
   "metadata": {},
   "outputs": [],
   "source": [
    "def precision(yPred, yTest):\n",
    "    N = len(yTest)\n",
    "    prec = (yPred == yTest).sum() / N\n",
    "    return prec if prec > 0.5 else 1-prec"
   ]
  },
  {
   "cell_type": "code",
   "execution_count": null,
   "metadata": {},
   "outputs": [],
   "source": [
    "from sklearn.cluster import KMeans\n",
    "\n",
    "\n",
    "K = range(1,10)\n",
    "for k in K:\n",
    "    ## Inicializo clasificador\n",
    "    classifier = KMeans(n_clusters=k, max_iter=1000, random_state=2)\n",
    "    print(classifier)\n",
    "\n",
    "    ## Entreno\n",
    "    kmeans = classifier.fit(X_train)\n",
    "\n",
    "    ## Centros de los clusters\n",
    "    centers = kmeans.cluster_centers_\n",
    "\n",
    "    ## Realizo predicción sobre conjunto de prueba\n",
    "    y_pred = kmeans.predict(X_test)\n",
    "\n",
    "    ## Evaluo la precision del clasificador\n",
    "    print('Porcentaje bien clasificado: {:.2f}%\\n'.format(100*precision(y_pred, y_test)))\n",
    "    print('='*100)"
   ]
  },
  {
   "cell_type": "code",
   "execution_count": null,
   "metadata": {},
   "outputs": [],
   "source": [
    "plt.figure(figsize=(20, 10))\n",
    "\n",
    "\n",
    "target = grouped_zipcodes_df.target == 1\n",
    "\n",
    "ncols = 3\n",
    "nrows = 1\n",
    "fig, axes = plt.subplots(figsize=(7*ncols, 5*nrows), ncols=3, nrows=1)\n",
    "\n",
    "ax = axes[0]\n",
    "ax.scatter(grouped_zipcodes_df[target].sender_zipcode, grouped_zipcodes_df[target].receiver_zipcode, marker='*')\n",
    "ax.scatter(grouped_zipcodes_df[~target].sender_zipcode, grouped_zipcodes_df[~target].receiver_zipcode, marker='+')\n",
    "ax.scatter(centers[0][0], centers[0][1], color='k', s=100)\n",
    "ax.scatter(centers[1][0], centers[1][1], color='k', s=100)\n",
    "ax.set_xlabel('sender_zipcode')\n",
    "ax.set_ylabel('receiver_zipcode')\n",
    "\n",
    "ax = axes[1]\n",
    "ax.scatter(grouped_zipcodes_df[target].sender_zipcode, grouped_zipcodes_df[target].service, s=100, marker='*')\n",
    "ax.scatter(grouped_zipcodes_df[~target].sender_zipcode, grouped_zipcodes_df[~target].service, s=100, marker='+')\n",
    "ax.scatter(centers[0][0], centers[0][2], color='k', s=100)\n",
    "ax.scatter(centers[1][0], centers[1][2], color='k', s=100)\n",
    "ax.set_xlabel('sender_zipcode')\n",
    "ax.set_ylabel('service')\n",
    "\n",
    "ax = axes[2]\n",
    "ax.scatter(grouped_zipcodes_df[target].service, grouped_zipcodes_df[target].receiver_zipcode, marker='*')\n",
    "ax.scatter(grouped_zipcodes_df[~target].service, grouped_zipcodes_df[~target].receiver_zipcode, marker='+')\n",
    "ax.scatter(centers[0][1], centers[0][2], color='k', s=100)\n",
    "ax.scatter(centers[1][1], centers[1][2], color='k', s=100)\n",
    "ax.set_xlabel('service')\n",
    "ax.set_ylabel('receiver_zipcode')\n",
    "\n",
    "\n",
    "plt.tight_layout()\n",
    "plt.show()"
   ]
  },
  {
   "cell_type": "markdown",
   "metadata": {},
   "source": [
    "7- (*) Cual es el número óptimo de clusters? (Ver método de ​ Elbow​ con KMeans)\n"
   ]
  },
  {
   "cell_type": "code",
   "execution_count": null,
   "metadata": {},
   "outputs": [],
   "source": [
    "KMeans(n_clusters=k).fit(X).cluster_centers_"
   ]
  },
  {
   "cell_type": "code",
   "execution_count": null,
   "metadata": {},
   "outputs": [],
   "source": [
    "from sklearn.cluster import KMeans\n",
    "from sklearn import metrics\n",
    "from scipy.spatial.distance import cdist\n",
    "import numpy as np\n",
    "import matplotlib.pyplot as plt\n",
    "\n",
    "\n",
    "# create new plot and data\n",
    "plt.plot()\n",
    "X = df[['sender_zipcode', 'receiver_zipcode', 'service']]\n",
    "colors = ['b', 'g', 'r']\n",
    "markers = ['o', 'v', 's']\n",
    "\n",
    "# k means determine k\n",
    "distortions = []\n",
    "K = range(1,10)\n",
    "for k in K:\n",
    "    kmeanModel = KMeans(n_clusters=k).fit(X)\n",
    "    kmeanModel.fit(X)\n",
    "    distortions.append(sum(np.min(cdist(X, kmeanModel.cluster_centers_, 'euclidean'), axis=1)) / X.shape[0])\n",
    "\n",
    "# Plot the elbow\n",
    "plt.plot(K, distortions, 'bx-')\n",
    "plt.xlabel('k')\n",
    "plt.ylabel('Distortion')\n",
    "plt.title('The Elbow Method showing the optimal k')\n",
    "plt.show()\n"
   ]
  },
  {
   "cell_type": "markdown",
   "metadata": {},
   "source": [
    "8- Describir brevemente las características interesante de los clusters\n"
   ]
  },
  {
   "cell_type": "code",
   "execution_count": null,
   "metadata": {},
   "outputs": [],
   "source": []
  },
  {
   "cell_type": "markdown",
   "metadata": {},
   "source": [
    "#### Modelos lineales:\n",
    "**9- Leer sobre accuracy, precision y recall para agregarlas al pool de métricas que vamos a utilizar.**\n"
   ]
  },
  {
   "cell_type": "markdown",
   "metadata": {},
   "source": [
    "**10- Implementar un modelo basado en regresión lineal, calcular las métricas y la matriz de confusión**\n"
   ]
  },
  {
   "cell_type": "markdown",
   "metadata": {},
   "source": [
    "Para estas pruebas usamos cleaned_df en lugar de grouped_zipcodes_df.Como primer enfoque vamos a tratar \n",
    "de encontra alguna relacion lineal entre un solo feature y el target"
   ]
  },
  {
   "cell_type": "code",
   "execution_count": 191,
   "metadata": {},
   "outputs": [
    {
     "name": "stdout",
     "output_type": "stream",
     "text": [
      "[[96835 38171]\n",
      " [55525  7543]]\n",
      "accuracy_score: 0.526964669769884\n",
      "recall_score: 0.11960106551658527\n"
     ]
    },
    {
     "data": {
      "image/png": "[encoded data removed]",
      "text/plain": [
       "<Figure size 720x432 with 2 Axes>"
      ]
     },
     "metadata": {},
     "output_type": "display_data"
    }
   ],
   "source": [
    "# but it couldn be useful for you depending on your approach)\n",
    "from sklearn.linear_model import LinearRegression\n",
    "from sklearn.model_selection import train_test_split\n",
    "from sklearn.metrics import accuracy_score, confusion_matrix, mean_squared_error\n",
    "\n",
    "#First aproach: choose only one feature \n",
    "X = cleaned_df[['sender_zipcode']].copy()\n",
    "y = cleaned_df.target.map(metrica)\n",
    "X_train, X_test, y_train, y_test = train_test_split(X, y, test_size=0.2, random_state=42)\n",
    "linear_reg = LinearRegression().fit(X_train, y_train)\n",
    "y_pred = linear_reg.predict(X_test)\n",
    "y_pred = (y_pred < 0.3) \n",
    "print(confusion_matrix(y_test, y_pred))\n",
    "print(f\"accuracy_score: {accuracy_score(y_test, y_pred)}\")\n",
    "print(f\"recall_score: {recall_score(y_test, y_pred)}\")\n",
    "plot_confusion_matrix(confusion_matrix(y_test, y_pred), [0,1], normalize = True)"
   ]
  },
  {
   "cell_type": "code",
   "execution_count": 192,
   "metadata": {},
   "outputs": [
    {
     "name": "stdout",
     "output_type": "stream",
     "text": [
      "[[70027 64979]\n",
      " [51848 11220]]\n",
      "accuracy_score: 0.41018508234296275\n",
      "recall_score: 0.1779032155768377\n"
     ]
    },
    {
     "data": {
      "image/png": "[encoded data removed]",
      "text/plain": [
       "<Figure size 720x432 with 2 Axes>"
      ]
     },
     "metadata": {},
     "output_type": "display_data"
    }
   ],
   "source": [
    "# but it couldn be useful for you depending on your approach)\n",
    "from sklearn.linear_model import LinearRegression\n",
    "from sklearn.model_selection import train_test_split\n",
    "from sklearn.metrics import accuracy_score, confusion_matrix, mean_squared_error\n",
    "\n",
    "#First aproach: choose only one feature \n",
    "X = cleaned_df[['receiver_zipcode']].copy()\n",
    "y = cleaned_df.target.map(metrica)\n",
    "X_train, X_test, y_train, y_test = train_test_split(X, y, test_size=0.2, random_state=42)\n",
    "linear_reg = LinearRegression().fit(X_train, y_train)\n",
    "y_pred = linear_reg.predict(X_test)\n",
    "y_pred = (y_pred < 0.3)\n",
    "print(confusion_matrix(y_test, y_pred))\n",
    "print(f\"accuracy_score: {accuracy_score(y_test, y_pred)}\")\n",
    "print(f\"recall_score: {recall_score(y_test, y_pred)}\")\n",
    "plot_confusion_matrix(confusion_matrix(y_test, y_pred), [0,1], normalize = True)"
   ]
  },
  {
   "cell_type": "code",
   "execution_count": 193,
   "metadata": {},
   "outputs": [
    {
     "name": "stdout",
     "output_type": "stream",
     "text": [
      "[[135006      0]\n",
      " [ 63068      0]]\n",
      "accuracy_score: 0.6815937477912295\n",
      "recall_score: 0.0\n"
     ]
    },
    {
     "data": {
      "image/png": "[encoded data removed]",
      "text/plain": [
       "<Figure size 720x432 with 2 Axes>"
      ]
     },
     "metadata": {},
     "output_type": "display_data"
    }
   ],
   "source": [
    "# but it couldn be useful for you depending on your approach)\n",
    "from sklearn.linear_model import LinearRegression\n",
    "from sklearn.model_selection import train_test_split\n",
    "from sklearn.metrics import accuracy_score, confusion_matrix, mean_squared_error\n",
    "\n",
    "#First aproach: choose only one feature \n",
    "X = cleaned_df[['service']].copy()\n",
    "y = cleaned_df.target.map(metrica)\n",
    "X_train, X_test, y_train, y_test = train_test_split(X, y, test_size=0.2, random_state=42)\n",
    "linear_reg = LinearRegression().fit(X_train, y_train)\n",
    "y_pred = linear_reg.predict(X_test)\n",
    "y_pred = (y_pred < 0.3)\n",
    "print(confusion_matrix(y_test, y_pred))\n",
    "print(f\"accuracy_score: {accuracy_score(y_test, y_pred)}\")\n",
    "print(f\"recall_score: {recall_score(y_test, y_pred)}\")\n",
    "plot_confusion_matrix(confusion_matrix(y_test, y_pred), [0,1], normalize = True)"
   ]
  },
  {
   "cell_type": "code",
   "execution_count": 194,
   "metadata": {},
   "outputs": [
    {
     "name": "stdout",
     "output_type": "stream",
     "text": [
      "[[64280 70726]\n",
      " [51028 12040]]\n",
      "accuracy_score: 0.38531054050506375\n",
      "recall_score: 0.19090505486141943\n"
     ]
    },
    {
     "data": {
      "image/png": "[encoded data removed]",
      "text/plain": [
       "<Figure size 720x432 with 2 Axes>"
      ]
     },
     "metadata": {},
     "output_type": "display_data"
    }
   ],
   "source": [
    "# but it couldn be useful for you depending on your approach)\n",
    "from sklearn.linear_model import LinearRegression\n",
    "from sklearn.model_selection import train_test_split\n",
    "from sklearn.metrics import accuracy_score, confusion_matrix, mean_squared_error\n",
    "\n",
    "#Second aproach: choose two features \n",
    "X = cleaned_df[['sender_zipcode', 'receiver_zipcode']].copy()\n",
    "y = cleaned_df.target.map(metrica)\n",
    "X_train, X_test, y_train, y_test = train_test_split(X, y, test_size=0.2, random_state=42)\n",
    "linear_reg = LinearRegression().fit(X_train, y_train)\n",
    "y_pred = linear_reg.predict(X_test)\n",
    "y_pred = (y_pred < 0.3)\n",
    "print(confusion_matrix(y_test, y_pred))\n",
    "print(f\"accuracy_score: {accuracy_score(y_test, y_pred)}\")\n",
    "print(f\"recall_score: {recall_score(y_test, y_pred)}\")\n",
    "plot_confusion_matrix(confusion_matrix(y_test, y_pred), [0,1], normalize = True)"
   ]
  },
  {
   "cell_type": "code",
   "execution_count": 195,
   "metadata": {},
   "outputs": [
    {
     "name": "stdout",
     "output_type": "stream",
     "text": [
      "[[96138 38868]\n",
      " [55297  7771]]\n",
      "accuracy_score: 0.5245968678372729\n",
      "recall_score: 0.12321621107376166\n"
     ]
    },
    {
     "data": {
      "image/png": "[encoded data removed]",
      "text/plain": [
       "<Figure size 720x432 with 2 Axes>"
      ]
     },
     "metadata": {},
     "output_type": "display_data"
    }
   ],
   "source": [
    "# but it couldn be useful for you depending on your approach)\n",
    "from sklearn.linear_model import LinearRegression\n",
    "from sklearn.model_selection import train_test_split\n",
    "from sklearn.metrics import accuracy_score, confusion_matrix, mean_squared_error\n",
    "\n",
    "#Second aproach: choose two features \n",
    "X = cleaned_df[['sender_zipcode', 'service']].copy()\n",
    "y = cleaned_df.target.map(metrica)\n",
    "X_train, X_test, y_train, y_test = train_test_split(X, y, test_size=0.2, random_state=42)\n",
    "linear_reg = LinearRegression().fit(X_train, y_train)\n",
    "y_pred = linear_reg.predict(X_test)\n",
    "y_pred = (y_pred < 0.3)\n",
    "print(confusion_matrix(y_test, y_pred))\n",
    "print(f\"accuracy_score: {accuracy_score(y_test, y_pred)}\")\n",
    "print(f\"recall_score: {recall_score(y_test, y_pred)}\")\n",
    "plot_confusion_matrix(confusion_matrix(y_test, y_pred), [0,1], normalize = True)"
   ]
  },
  {
   "cell_type": "code",
   "execution_count": 196,
   "metadata": {},
   "outputs": [
    {
     "name": "stdout",
     "output_type": "stream",
     "text": [
      "[[69748 65258]\n",
      " [51794 11274]]\n",
      "accuracy_score: 0.4090491432494926\n",
      "recall_score: 0.1787594342614321\n"
     ]
    },
    {
     "data": {
      "image/png": "[encoded data removed]",
      "text/plain": [
       "<Figure size 720x432 with 2 Axes>"
      ]
     },
     "metadata": {},
     "output_type": "display_data"
    }
   ],
   "source": [
    "# but it couldn be useful for you depending on your approach)\n",
    "from sklearn.linear_model import LinearRegression\n",
    "from sklearn.model_selection import train_test_split\n",
    "from sklearn.metrics import accuracy_score, confusion_matrix, mean_squared_error\n",
    "\n",
    "#Second aproach: choose two features \n",
    "X = cleaned_df[['receiver_zipcode', 'service']].copy()\n",
    "y = cleaned_df.target.map(metrica)\n",
    "X_train, X_test, y_train, y_test = train_test_split(X, y, test_size=0.2, random_state=42)\n",
    "linear_reg = LinearRegression().fit(X_train, y_train)\n",
    "y_pred = linear_reg.predict(X_test)\n",
    "y_pred = (y_pred < 0.3)\n",
    "print(confusion_matrix(y_test, y_pred))\n",
    "print(f\"accuracy_score: {accuracy_score(y_test, y_pred)}\")\n",
    "print(f\"recall_score: {recall_score(y_test, y_pred)}\")\n",
    "plot_confusion_matrix(confusion_matrix(y_test, y_pred), [0,1], normalize = True)"
   ]
  },
  {
   "cell_type": "code",
   "execution_count": 197,
   "metadata": {},
   "outputs": [
    {
     "name": "stdout",
     "output_type": "stream",
     "text": [
      "[[64603 70403]\n",
      " [50691 12377]]\n",
      "accuracy_score: 0.3886426285125761\n",
      "recall_score: 0.19624849368935118\n"
     ]
    },
    {
     "data": {
      "image/png": "[encoded data removed]",
      "text/plain": [
       "<Figure size 720x432 with 2 Axes>"
      ]
     },
     "metadata": {},
     "output_type": "display_data"
    }
   ],
   "source": [
    "# but it couldn be useful for you depending on your approach)\n",
    "from sklearn.linear_model import LinearRegression\n",
    "from sklearn.model_selection import train_test_split\n",
    "from sklearn.metrics import accuracy_score, confusion_matrix, mean_squared_error\n",
    "\n",
    "#Third aproach: choose three features \n",
    "X = cleaned_df[['sender_zipcode', 'receiver_zipcode', 'service']].copy()\n",
    "y = cleaned_df.target.map(metrica)\n",
    "X_train, X_test, y_train, y_test = train_test_split(X, y, test_size=0.2, random_state=42)\n",
    "linear_reg = LinearRegression().fit(X_train, y_train)\n",
    "y_pred = linear_reg.predict(X_test)\n",
    "y_pred = (y_pred < 0.3)\n",
    "print(confusion_matrix(y_test, y_pred))\n",
    "print(f\"accuracy_score: {accuracy_score(y_test, y_pred)}\")\n",
    "print(f\"recall_score: {recall_score(y_test, y_pred)}\")\n",
    "plot_confusion_matrix(confusion_matrix(y_test, y_pred), [0,1], normalize = True)\n"
   ]
  },
  {
   "cell_type": "markdown",
   "metadata": {},
   "source": [
    "**11- Implementar un modelo basado en regresión logística, calcular las métricas y la matriz de confusión**\n"
   ]
  },
  {
   "cell_type": "code",
   "execution_count": 202,
   "metadata": {},
   "outputs": [
    {
     "name": "stderr",
     "output_type": "stream",
     "text": [
      "/Users/luisvargas/code/migue/github/diplo/2019/diplo_venv/lib/python3.7/site-packages/sklearn/linear_model/logistic.py:432: FutureWarning: Default solver will be changed to 'lbfgs' in 0.22. Specify a solver to silence this warning.\n",
      "  FutureWarning)\n"
     ]
    },
    {
     "name": "stdout",
     "output_type": "stream",
     "text": [
      "[[     0 135006]\n",
      " [     0  63068]]\n",
      "accuracy_score: 0.31840625220877045\n",
      "recall_score: 1.0\n"
     ]
    },
    {
     "data": {
      "image/png": "[encoded data removed]",
      "text/plain": [
       "<Figure size 720x432 with 2 Axes>"
      ]
     },
     "metadata": {},
     "output_type": "display_data"
    }
   ],
   "source": [
    "from sklearn.linear_model import LogisticRegression\n",
    "from sklearn.model_selection import train_test_split\n",
    "from sklearn.metrics import accuracy_score, confusion_matrix, mean_squared_error\n",
    "\n",
    "#Third aproach: choose three features \n",
    "X = cleaned_df[['sender_zipcode', 'receiver_zipcode']].copy()\n",
    "y = cleaned_df.target.map(metrica)\n",
    "X_train, X_test, y_train, y_test = train_test_split(X, y, test_size=0.2, random_state=42)\n",
    "linear_reg = LogisticRegression().fit(X_train, y_train)\n",
    "y_pred = linear_reg.predict(X_test)\n",
    "y_pred = (y_pred < 0.3)\n",
    "print(confusion_matrix(y_test, y_pred))\n",
    "print(f\"accuracy_score: {accuracy_score(y_test, y_pred)}\")\n",
    "print(f\"recall_score: {recall_score(y_test, y_pred)}\")\n",
    "plot_confusion_matrix(confusion_matrix(y_test, y_pred), [0,1], normalize = True)\n"
   ]
  },
  {
   "cell_type": "code",
   "execution_count": 201,
   "metadata": {},
   "outputs": [
    {
     "name": "stderr",
     "output_type": "stream",
     "text": [
      "/Users/luisvargas/code/migue/github/diplo/2019/diplo_venv/lib/python3.7/site-packages/sklearn/linear_model/logistic.py:432: FutureWarning: Default solver will be changed to 'lbfgs' in 0.22. Specify a solver to silence this warning.\n",
      "  FutureWarning)\n"
     ]
    },
    {
     "name": "stdout",
     "output_type": "stream",
     "text": [
      "[[     0 135006]\n",
      " [     0  63068]]\n",
      "accuracy_score: 0.31840625220877045\n",
      "recall_score: 1.0\n"
     ]
    },
    {
     "data": {
      "image/png": "[encoded data removed]",
      "text/plain": [
       "<Figure size 720x432 with 2 Axes>"
      ]
     },
     "metadata": {},
     "output_type": "display_data"
    }
   ],
   "source": [
    "from sklearn.linear_model import LogisticRegression\n",
    "from sklearn.model_selection import train_test_split\n",
    "from sklearn.metrics import accuracy_score, confusion_matrix, mean_squared_error\n",
    "\n",
    "#Third aproach: choose three features \n",
    "X = cleaned_df[['sender_zipcode', 'receiver_zipcode', 'service']].copy()\n",
    "y = cleaned_df.target.map(metrica)\n",
    "X_train, X_test, y_train, y_test = train_test_split(X, y, test_size=0.2, random_state=42)\n",
    "linear_reg = LogisticRegression().fit(X_train, y_train)\n",
    "y_pred = linear_reg.predict(X_test)\n",
    "y_pred = (y_pred < 0.3)\n",
    "print(confusion_matrix(y_test, y_pred))\n",
    "print(f\"accuracy_score: {accuracy_score(y_test, y_pred)}\")\n",
    "print(f\"recall_score: {recall_score(y_test, y_pred)}\")\n",
    "plot_confusion_matrix(confusion_matrix(y_test, y_pred), [0,1], normalize = True)\n"
   ]
  },
  {
   "cell_type": "markdown",
   "metadata": {},
   "source": [
    "12- Cual es la principal diferencia entre estos modelos? Tuviste que hacer algún tipo de post-procesamiento?\n"
   ]
  },
  {
   "cell_type": "code",
   "execution_count": null,
   "metadata": {},
   "outputs": [],
   "source": []
  },
  {
   "cell_type": "markdown",
   "metadata": {},
   "source": [
    "13- Estandarizar los features seleccionados y re entrenar los modelos. Las métricas\n",
    "mejoran? Explicar por qué.\n"
   ]
  }
 ],
 "metadata": {
  "kernelspec": {
   "display_name": "Python 3",
   "language": "python",
   "name": "python3"
  },
  "language_info": {
   "codemirror_mode": {
    "name": "ipython",
    "version": 3
   },
   "file_extension": ".py",
   "mimetype": "text/x-python",
   "name": "python",
   "nbconvert_exporter": "python",
   "pygments_lexer": "ipython3",
   "version": "3.7.4"
  }
 },
 "nbformat": 4,
 "nbformat_minor": 2
}
