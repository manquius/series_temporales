{
 "cells": [
  {
   "cell_type": "markdown",
   "metadata": {},
   "source": [
    "# DiploDatos 2019 - Análisis y Visualización\n",
    "En este práctico se propone explorar un dataset que contiene información de varias agencias de correo de Brasil, con el objetivo de extraer toda la información relevante sobre estos datos y presentarla de manera organizada y sencilla.\n",
    "En estos datos vamos a encontrar información geográfica de los compradores y vendedores, el tipo de servicio por el que viajan los paquetes, el estado del paquete, algunas fechas relevantes y la cantidad de días hábiles que tardó el envío en llegar a su destino (target)."
   ]
  },
  {
   "cell_type": "markdown",
   "metadata": {},
   "source": [
    "## Definiciones"
   ]
  },
  {
   "cell_type": "code",
   "execution_count": 1,
   "metadata": {},
   "outputs": [],
   "source": [
    "%matplotlib inline\n",
    "import numpy as np\n",
    "import pandas as pd\n",
    "\n",
    "cols = ['service',\n",
    "        'sender_zipcode',\n",
    "        'receiver_zipcode',\n",
    "        'sender_state',\n",
    "        'receiver_state',\n",
    "        'shipment_type',\n",
    "        'quantity',\n",
    "        'status',\n",
    "        'date_created',\n",
    "        'date_sent',\n",
    "        'date_visit',\n",
    "        'target']\n",
    "cols_holidays = ['holiday', \n",
    "                 'description']\n",
    "data_path = './shipments_BR_201903.csv'\n",
    "holidays = './holidays.csv'"
   ]
  },
  {
   "cell_type": "markdown",
   "metadata": {},
   "source": [
    "### Datos\n",
    "Los datos que vamos a cargar son un sample no uniforme que corresponde al mes de Marzo de 2019."
   ]
  },
  {
   "cell_type": "code",
   "execution_count": 2,
   "metadata": {},
   "outputs": [
    {
     "data": {
      "text/plain": [
       "(1000000, 12)"
      ]
     },
     "execution_count": 2,
     "metadata": {},
     "output_type": "execute_result"
    }
   ],
   "source": [
    "df = pd.read_csv(data_path, usecols=cols)\n",
    "df.shape"
   ]
  },
  {
   "cell_type": "code",
   "execution_count": 3,
   "metadata": {
    "scrolled": true
   },
   "outputs": [
    {
     "data": {
      "text/html": [
       "<div>\n",
       "<style scoped>\n",
       "    .dataframe tbody tr th:only-of-type {\n",
       "        vertical-align: middle;\n",
       "    }\n",
       "\n",
       "    .dataframe tbody tr th {\n",
       "        vertical-align: top;\n",
       "    }\n",
       "\n",
       "    .dataframe thead th {\n",
       "        text-align: right;\n",
       "    }\n",
       "</style>\n",
       "<table border=\"1\" class=\"dataframe\">\n",
       "  <thead>\n",
       "    <tr style=\"text-align: right;\">\n",
       "      <th></th>\n",
       "      <th>sender_state</th>\n",
       "      <th>sender_zipcode</th>\n",
       "      <th>receiver_state</th>\n",
       "      <th>receiver_zipcode</th>\n",
       "      <th>shipment_type</th>\n",
       "      <th>quantity</th>\n",
       "      <th>service</th>\n",
       "      <th>status</th>\n",
       "      <th>date_created</th>\n",
       "      <th>date_sent</th>\n",
       "      <th>date_visit</th>\n",
       "      <th>target</th>\n",
       "    </tr>\n",
       "  </thead>\n",
       "  <tbody>\n",
       "    <tr>\n",
       "      <th>0</th>\n",
       "      <td>SP</td>\n",
       "      <td>3005</td>\n",
       "      <td>SP</td>\n",
       "      <td>5409</td>\n",
       "      <td>express</td>\n",
       "      <td>1</td>\n",
       "      <td>0</td>\n",
       "      <td>done</td>\n",
       "      <td>2019-03-04 00:00:00</td>\n",
       "      <td>2019-03-05 13:24:00</td>\n",
       "      <td>2019-03-07 18:01:00</td>\n",
       "      <td>2</td>\n",
       "    </tr>\n",
       "    <tr>\n",
       "      <th>1</th>\n",
       "      <td>SP</td>\n",
       "      <td>17052</td>\n",
       "      <td>MG</td>\n",
       "      <td>37750</td>\n",
       "      <td>standard</td>\n",
       "      <td>1</td>\n",
       "      <td>1</td>\n",
       "      <td>done</td>\n",
       "      <td>2019-03-19 00:00:00</td>\n",
       "      <td>2019-03-20 14:44:00</td>\n",
       "      <td>2019-03-27 10:21:00</td>\n",
       "      <td>5</td>\n",
       "    </tr>\n",
       "    <tr>\n",
       "      <th>2</th>\n",
       "      <td>SP</td>\n",
       "      <td>2033</td>\n",
       "      <td>SP</td>\n",
       "      <td>11040</td>\n",
       "      <td>express</td>\n",
       "      <td>1</td>\n",
       "      <td>0</td>\n",
       "      <td>done</td>\n",
       "      <td>2019-02-18 00:00:00</td>\n",
       "      <td>2019-02-21 15:08:00</td>\n",
       "      <td>2019-02-28 18:19:00</td>\n",
       "      <td>5</td>\n",
       "    </tr>\n",
       "    <tr>\n",
       "      <th>3</th>\n",
       "      <td>SP</td>\n",
       "      <td>13900</td>\n",
       "      <td>SP</td>\n",
       "      <td>18500</td>\n",
       "      <td>express</td>\n",
       "      <td>1</td>\n",
       "      <td>0</td>\n",
       "      <td>done</td>\n",
       "      <td>2019-03-09 00:00:00</td>\n",
       "      <td>2019-03-11 15:48:00</td>\n",
       "      <td>2019-03-12 13:33:00</td>\n",
       "      <td>1</td>\n",
       "    </tr>\n",
       "    <tr>\n",
       "      <th>4</th>\n",
       "      <td>SP</td>\n",
       "      <td>4361</td>\n",
       "      <td>RS</td>\n",
       "      <td>96810</td>\n",
       "      <td>express</td>\n",
       "      <td>1</td>\n",
       "      <td>0</td>\n",
       "      <td>done</td>\n",
       "      <td>2019-03-08 00:00:00</td>\n",
       "      <td>2019-03-12 08:19:00</td>\n",
       "      <td>2019-03-16 08:24:00</td>\n",
       "      <td>4</td>\n",
       "    </tr>\n",
       "  </tbody>\n",
       "</table>\n",
       "</div>"
      ],
      "text/plain": [
       "  sender_state  sender_zipcode receiver_state  receiver_zipcode shipment_type  \\\n",
       "0           SP            3005             SP              5409       express   \n",
       "1           SP           17052             MG             37750      standard   \n",
       "2           SP            2033             SP             11040       express   \n",
       "3           SP           13900             SP             18500       express   \n",
       "4           SP            4361             RS             96810       express   \n",
       "\n",
       "   quantity  service status         date_created            date_sent  \\\n",
       "0         1        0   done  2019-03-04 00:00:00  2019-03-05 13:24:00   \n",
       "1         1        1   done  2019-03-19 00:00:00  2019-03-20 14:44:00   \n",
       "2         1        0   done  2019-02-18 00:00:00  2019-02-21 15:08:00   \n",
       "3         1        0   done  2019-03-09 00:00:00  2019-03-11 15:48:00   \n",
       "4         1        0   done  2019-03-08 00:00:00  2019-03-12 08:19:00   \n",
       "\n",
       "            date_visit  target  \n",
       "0  2019-03-07 18:01:00       2  \n",
       "1  2019-03-27 10:21:00       5  \n",
       "2  2019-02-28 18:19:00       5  \n",
       "3  2019-03-12 13:33:00       1  \n",
       "4  2019-03-16 08:24:00       4  "
      ]
     },
     "execution_count": 3,
     "metadata": {},
     "output_type": "execute_result"
    }
   ],
   "source": [
    "df.head()"
   ]
  },
  {
   "cell_type": "markdown",
   "metadata": {},
   "source": [
    "#### Referencia de las columnas\n",
    "* **service**: Identificador unico que corresponde a un tipo de servicio de un correo en particular.\n",
    "* **sender_zipcode:** Código postal de quien envía el paquete (usualmente el vendedor).\n",
    "* **receiver_zipcode:** Código postal de quien recibe el paquete (usualmente el comprador).\n",
    "* **sender_state:** Nombre abreviado del estado de quien envía el paquete.\n",
    "* **receiver_state:** Nombre abreviado del estado de quien recibe el paquete.\n",
    "* **quantity:** Cantidad de items que tiene dentro el paquete.\n",
    "* **status:** Estado final del envío.\n",
    "* **date_created:** Fecha de compra de el o los items.\n",
    "* **date_sent:** Fecha en que el correo recibe el paquete.\n",
    "* **date_visit:** Fecha en que el correo entrega el paquete.\n",
    "* **target:** Cantidad de dias hábiles que tardó el correo en entregar el paquete desde que lo recibe.\n"
   ]
  },
  {
   "cell_type": "markdown",
   "metadata": {},
   "source": [
    "#### Feriados"
   ]
  },
  {
   "cell_type": "code",
   "execution_count": 4,
   "metadata": {},
   "outputs": [
    {
     "data": {
      "text/plain": [
       "(26, 2)"
      ]
     },
     "execution_count": 4,
     "metadata": {},
     "output_type": "execute_result"
    }
   ],
   "source": [
    "df_h = pd.read_csv(holidays, usecols=cols_holidays)\n",
    "df_h.shape"
   ]
  },
  {
   "cell_type": "code",
   "execution_count": 5,
   "metadata": {},
   "outputs": [
    {
     "data": {
      "text/html": [
       "<div>\n",
       "<style scoped>\n",
       "    .dataframe tbody tr th:only-of-type {\n",
       "        vertical-align: middle;\n",
       "    }\n",
       "\n",
       "    .dataframe tbody tr th {\n",
       "        vertical-align: top;\n",
       "    }\n",
       "\n",
       "    .dataframe thead th {\n",
       "        text-align: right;\n",
       "    }\n",
       "</style>\n",
       "<table border=\"1\" class=\"dataframe\">\n",
       "  <thead>\n",
       "    <tr style=\"text-align: right;\">\n",
       "      <th></th>\n",
       "      <th>holiday</th>\n",
       "      <th>description</th>\n",
       "    </tr>\n",
       "  </thead>\n",
       "  <tbody>\n",
       "    <tr>\n",
       "      <th>15</th>\n",
       "      <td>2018-12-31</td>\n",
       "      <td>Ano Novo</td>\n",
       "    </tr>\n",
       "    <tr>\n",
       "      <th>14</th>\n",
       "      <td>2019-03-07</td>\n",
       "      <td>Dia da Mulher</td>\n",
       "    </tr>\n",
       "    <tr>\n",
       "      <th>17</th>\n",
       "      <td>2019-05-30</td>\n",
       "      <td>Corpus Christi</td>\n",
       "    </tr>\n",
       "    <tr>\n",
       "      <th>23</th>\n",
       "      <td>2019-12-23</td>\n",
       "      <td>Noche buena</td>\n",
       "    </tr>\n",
       "    <tr>\n",
       "      <th>6</th>\n",
       "      <td>2019-04-20</td>\n",
       "      <td>Aniversário de Brasília</td>\n",
       "    </tr>\n",
       "  </tbody>\n",
       "</table>\n",
       "</div>"
      ],
      "text/plain": [
       "       holiday              description\n",
       "15  2018-12-31                 Ano Novo\n",
       "14  2019-03-07            Dia da Mulher\n",
       "17  2019-05-30           Corpus Christi\n",
       "23  2019-12-23              Noche buena\n",
       "6   2019-04-20  Aniversário de Brasília"
      ]
     },
     "execution_count": 5,
     "metadata": {},
     "output_type": "execute_result"
    }
   ],
   "source": [
    "df_h.sample(5)"
   ]
  },
  {
   "cell_type": "markdown",
   "metadata": {},
   "source": [
    "# Información general"
   ]
  },
  {
   "cell_type": "markdown",
   "metadata": {},
   "source": [
    "Cantidad y proporción de envíos, servicios, tipos de envíos y rutas(consideramos como ruta la tripla zipcode, zipcode, servicio)."
   ]
  },
  {
   "cell_type": "markdown",
   "metadata": {},
   "source": [
    "Envios"
   ]
  },
  {
   "cell_type": "markdown",
   "metadata": {},
   "source": [
    "El número de filas es el número de envíos, sacar la mayor cantidad de info que podamos, la proporción es por 6 meses ver por 1mes"
   ]
  },
  {
   "cell_type": "markdown",
   "metadata": {},
   "source": [
    "Servicios"
   ]
  },
  {
   "cell_type": "code",
   "execution_count": 6,
   "metadata": {
    "scrolled": true
   },
   "outputs": [
    {
     "data": {
      "text/plain": [
       "1     501509\n",
       "0     321839\n",
       "4      58517\n",
       "2      49185\n",
       "3      22057\n",
       "5      20116\n",
       "6      17602\n",
       "8       5288\n",
       "9       3224\n",
       "7        528\n",
       "10       134\n",
       "11         1\n",
       "Name: service, dtype: int64"
      ]
     },
     "execution_count": 6,
     "metadata": {},
     "output_type": "execute_result"
    }
   ],
   "source": [
    "df['service'].value_counts()"
   ]
  },
  {
   "cell_type": "code",
   "execution_count": 7,
   "metadata": {},
   "outputs": [
    {
     "data": {
      "text/plain": [
       "1     0.501509\n",
       "0     0.321839\n",
       "4     0.058517\n",
       "2     0.049185\n",
       "3     0.022057\n",
       "5     0.020116\n",
       "6     0.017602\n",
       "8     0.005288\n",
       "9     0.003224\n",
       "7     0.000528\n",
       "10    0.000134\n",
       "11    0.000001\n",
       "Name: service, dtype: float64"
      ]
     },
     "execution_count": 7,
     "metadata": {},
     "output_type": "execute_result"
    }
   ],
   "source": [
    "df['service'].value_counts(normalize=True)"
   ]
  },
  {
   "cell_type": "markdown",
   "metadata": {},
   "source": [
    "Tipos de envíos"
   ]
  },
  {
   "cell_type": "code",
   "execution_count": 8,
   "metadata": {
    "scrolled": true
   },
   "outputs": [
    {
     "data": {
      "text/plain": [
       "standard    593467\n",
       "express     394600\n",
       "super        11933\n",
       "Name: shipment_type, dtype: int64"
      ]
     },
     "execution_count": 8,
     "metadata": {},
     "output_type": "execute_result"
    }
   ],
   "source": [
    "df['shipment_type'].value_counts()"
   ]
  },
  {
   "cell_type": "code",
   "execution_count": 9,
   "metadata": {},
   "outputs": [
    {
     "data": {
      "text/plain": [
       "standard    0.593467\n",
       "express     0.394600\n",
       "super       0.011933\n",
       "Name: shipment_type, dtype: float64"
      ]
     },
     "execution_count": 9,
     "metadata": {},
     "output_type": "execute_result"
    }
   ],
   "source": [
    "df['shipment_type'].value_counts(normalize=True)"
   ]
  },
  {
   "cell_type": "markdown",
   "metadata": {},
   "source": [
    "Rutas"
   ]
  },
  {
   "cell_type": "code",
   "execution_count": 7,
   "metadata": {},
   "outputs": [],
   "source": [
    "df['ruta']=df['sender_zipcode'].astype('str')+'-'+df['receiver_zipcode'].astype('str')+'-'+df['service'].astype('str')"
   ]
  },
  {
   "cell_type": "code",
   "execution_count": 8,
   "metadata": {
    "scrolled": true
   },
   "outputs": [
    {
     "data": {
      "text/plain": [
       "6422-28943-0     69\n",
       "6422-95095-0     56\n",
       "5206-5203-0      51\n",
       "37165-37165-0    41\n",
       "3728-3727-0      35\n",
       "9260-9280-0      32\n",
       "2523-2523-0      29\n",
       "9520-9520-0      29\n",
       "6422-16015-0     29\n",
       "14940-14940-0    28\n",
       "9195-9606-0      28\n",
       "14402-14403-0    26\n",
       "1207-1207-0      24\n",
       "6422-17050-0     24\n",
       "13290-13212-6    23\n",
       "6422-26510-0     21\n",
       "6422-7092-0      21\n",
       "6422-49160-0     20\n",
       "13290-35162-6    20\n",
       "14400-14400-0    20\n",
       "6422-87370-0     20\n",
       "14401-14401-0    20\n",
       "6422-41650-0     20\n",
       "13290-38400-6    19\n",
       "13290-39400-6    18\n",
       "13290-13481-6    17\n",
       "13290-13214-6    17\n",
       "6422-45602-0     17\n",
       "13290-33200-6    17\n",
       "1033-6854-0      17\n",
       "                 ..\n",
       "29146-13412-1     1\n",
       "8341-89620-1      1\n",
       "47700-39680-1     1\n",
       "7085-1320-5       1\n",
       "9710-30350-0      1\n",
       "8542-35010-1      1\n",
       "13465-5842-0      1\n",
       "6326-3401-0       1\n",
       "79009-1251-1      1\n",
       "28620-39350-1     1\n",
       "20541-9403-1      1\n",
       "2415-70376-1      1\n",
       "3441-13920-0      1\n",
       "1029-32240-0      1\n",
       "11050-31615-1     1\n",
       "8740-2832-5       1\n",
       "29580-85568-1     1\n",
       "30710-2230-0      1\n",
       "13880-90250-0     1\n",
       "1109-9580-0       1\n",
       "88354-68535-1     1\n",
       "8775-13860-0      1\n",
       "80060-80530-0     1\n",
       "89204-88316-0     1\n",
       "5841-74335-1      1\n",
       "30510-51350-1     1\n",
       "37140-30112-0     1\n",
       "15750-41600-1     1\n",
       "6683-74810-0      1\n",
       "88135-7031-0      1\n",
       "Name: ruta, Length: 945777, dtype: int64"
      ]
     },
     "execution_count": 8,
     "metadata": {},
     "output_type": "execute_result"
    }
   ],
   "source": [
    "df['ruta'].value_counts()"
   ]
  },
  {
   "cell_type": "code",
   "execution_count": 9,
   "metadata": {
    "scrolled": true
   },
   "outputs": [
    {
     "data": {
      "text/plain": [
       "6422-28943-0     0.000069\n",
       "6422-95095-0     0.000056\n",
       "5206-5203-0      0.000051\n",
       "37165-37165-0    0.000041\n",
       "3728-3727-0      0.000035\n",
       "9260-9280-0      0.000032\n",
       "2523-2523-0      0.000029\n",
       "9520-9520-0      0.000029\n",
       "6422-16015-0     0.000029\n",
       "14940-14940-0    0.000028\n",
       "9195-9606-0      0.000028\n",
       "14402-14403-0    0.000026\n",
       "1207-1207-0      0.000024\n",
       "6422-17050-0     0.000024\n",
       "13290-13212-6    0.000023\n",
       "6422-26510-0     0.000021\n",
       "6422-7092-0      0.000021\n",
       "6422-49160-0     0.000020\n",
       "13290-35162-6    0.000020\n",
       "14400-14400-0    0.000020\n",
       "6422-87370-0     0.000020\n",
       "14401-14401-0    0.000020\n",
       "6422-41650-0     0.000020\n",
       "13290-38400-6    0.000019\n",
       "13290-39400-6    0.000018\n",
       "13290-13481-6    0.000017\n",
       "13290-13214-6    0.000017\n",
       "6422-45602-0     0.000017\n",
       "13290-33200-6    0.000017\n",
       "1033-6854-0      0.000017\n",
       "                   ...   \n",
       "29146-13412-1    0.000001\n",
       "8341-89620-1     0.000001\n",
       "47700-39680-1    0.000001\n",
       "7085-1320-5      0.000001\n",
       "9710-30350-0     0.000001\n",
       "8542-35010-1     0.000001\n",
       "13465-5842-0     0.000001\n",
       "6326-3401-0      0.000001\n",
       "79009-1251-1     0.000001\n",
       "28620-39350-1    0.000001\n",
       "20541-9403-1     0.000001\n",
       "2415-70376-1     0.000001\n",
       "3441-13920-0     0.000001\n",
       "1029-32240-0     0.000001\n",
       "11050-31615-1    0.000001\n",
       "8740-2832-5      0.000001\n",
       "29580-85568-1    0.000001\n",
       "30710-2230-0     0.000001\n",
       "13880-90250-0    0.000001\n",
       "1109-9580-0      0.000001\n",
       "88354-68535-1    0.000001\n",
       "8775-13860-0     0.000001\n",
       "80060-80530-0    0.000001\n",
       "89204-88316-0    0.000001\n",
       "5841-74335-1     0.000001\n",
       "30510-51350-1    0.000001\n",
       "37140-30112-0    0.000001\n",
       "15750-41600-1    0.000001\n",
       "6683-74810-0     0.000001\n",
       "88135-7031-0     0.000001\n",
       "Name: ruta, Length: 945777, dtype: float64"
      ]
     },
     "execution_count": 9,
     "metadata": {},
     "output_type": "execute_result"
    }
   ],
   "source": [
    "df['ruta'].value_counts(normalize=True)"
   ]
  },
  {
   "cell_type": "markdown",
   "metadata": {},
   "source": [
    "Puntos máximos y mínimos de cada feature"
   ]
  },
  {
   "cell_type": "code",
   "execution_count": 13,
   "metadata": {},
   "outputs": [
    {
     "data": {
      "text/plain": [
       "sender_state                         TO\n",
       "sender_zipcode                    99990\n",
       "receiver_state                       TO\n",
       "receiver_zipcode                  99990\n",
       "shipment_type                     super\n",
       "quantity                              5\n",
       "service                              11\n",
       "status                             sent\n",
       "date_created        2019-06-28 00:00:00\n",
       "date_sent           2019-03-29 07:06:00\n",
       "date_visit          2019-03-29 23:31:00\n",
       "target                              118\n",
       "ruta                      99990-44790-1\n",
       "dtype: object"
      ]
     },
     "execution_count": 13,
     "metadata": {},
     "output_type": "execute_result"
    }
   ],
   "source": [
    "df.max()"
   ]
  },
  {
   "cell_type": "code",
   "execution_count": 14,
   "metadata": {},
   "outputs": [
    {
     "data": {
      "text/plain": [
       "sender_state                         AC\n",
       "sender_zipcode                     1001\n",
       "receiver_state                       AC\n",
       "receiver_zipcode                   1001\n",
       "shipment_type                   express\n",
       "quantity                              1\n",
       "service                               0\n",
       "status                        cancelled\n",
       "date_created        2018-09-26 00:00:00\n",
       "date_sent           2018-10-01 16:55:00\n",
       "date_visit          2019-02-28 00:03:00\n",
       "target                                0\n",
       "ruta                       1001-11065-0\n",
       "dtype: object"
      ]
     },
     "execution_count": 14,
     "metadata": {},
     "output_type": "execute_result"
    }
   ],
   "source": [
    "df.min()"
   ]
  },
  {
   "cell_type": "markdown",
   "metadata": {},
   "source": [
    "Calcular estadísticos como la media, mediana, desviación estándar y percentiles del\n",
    "target"
   ]
  },
  {
   "cell_type": "code",
   "execution_count": 15,
   "metadata": {
    "scrolled": true
   },
   "outputs": [
    {
     "data": {
      "text/plain": [
       "count    1000000.000000\n",
       "mean           6.021577\n",
       "std            5.157973\n",
       "min            0.000000\n",
       "25%            2.000000\n",
       "50%            4.000000\n",
       "75%            9.000000\n",
       "max          118.000000\n",
       "Name: target, dtype: float64"
      ]
     },
     "execution_count": 15,
     "metadata": {},
     "output_type": "execute_result"
    }
   ],
   "source": [
    "df['target'].describe()"
   ]
  },
  {
   "cell_type": "markdown",
   "metadata": {},
   "source": [
    "La mediana:"
   ]
  },
  {
   "cell_type": "code",
   "execution_count": 16,
   "metadata": {},
   "outputs": [
    {
     "data": {
      "text/plain": [
       "59.0"
      ]
     },
     "execution_count": 16,
     "metadata": {},
     "output_type": "execute_result"
    }
   ],
   "source": [
    "(df['target'].max()-df['target'].min())/2"
   ]
  },
  {
   "cell_type": "markdown",
   "metadata": {},
   "source": [
    "Graficar la distribución del target ¿Responde a alguna distribución conocida?"
   ]
  },
  {
   "cell_type": "code",
   "execution_count": 29,
   "metadata": {},
   "outputs": [],
   "source": [
    "import seaborn as sb\n",
    "import matplotlib.pyplot as plt"
   ]
  },
  {
   "cell_type": "code",
   "execution_count": 18,
   "metadata": {},
   "outputs": [
    {
     "name": "stderr",
     "output_type": "stream",
     "text": [
      "/home/isanti/anaconda3/lib/python3.7/site-packages/scipy/stats/stats.py:1713: FutureWarning: Using a non-tuple sequence for multidimensional indexing is deprecated; use `arr[tuple(seq)]` instead of `arr[seq]`. In the future this will be interpreted as an array index, `arr[np.array(seq)]`, which will result either in an error or a different result.\n",
      "  return np.add.reduce(sorted[indexer] * weights, axis=axis) / sumval\n"
     ]
    },
    {
     "data": {
      "text/plain": [
       "<matplotlib.axes._subplots.AxesSubplot at 0x7fc9a72da0b8>"
      ]
     },
     "execution_count": 18,
     "metadata": {},
     "output_type": "execute_result"
    },
    {
     "data": {
      "image/png": "[encoded data removed]",
      "text/plain": [
       "<Figure size 720x432 with 1 Axes>"
      ]
     },
     "metadata": {
      "needs_background": "light"
     },
     "output_type": "display_data"
    }
   ],
   "source": [
    "plt.figure(figsize=(10,6))\n",
    "sb.distplot(df['target'])"
   ]
  },
  {
   "cell_type": "markdown",
   "metadata": {},
   "source": [
    "Graficar solo la parte más informativa de la distribución del target, teniendo cuidado con elegir correctamente los parámetros de los gráficos, como la cantidad de bins en un histograma."
   ]
  },
  {
   "cell_type": "code",
   "execution_count": null,
   "metadata": {
    "scrolled": true
   },
   "outputs": [
    {
     "data": {
      "text/plain": [
       "(array([1.80655e+05, 1.35145e+05, 1.07500e+05, 8.22500e+04, 6.87900e+04,\n",
       "        1.11092e+05, 4.79370e+04, 4.23760e+04, 4.04610e+04, 3.58210e+04,\n",
       "        3.02150e+04, 4.49210e+04, 1.62410e+04, 1.21330e+04, 9.72400e+03,\n",
       "        7.34000e+03, 1.09140e+04, 4.01400e+03, 3.00800e+03, 2.30000e+03,\n",
       "        1.76600e+03, 1.33400e+03, 1.78200e+03, 5.04000e+02, 3.70000e+02,\n",
       "        2.33000e+02, 2.19000e+02, 2.97000e+02, 1.17000e+02, 9.40000e+01,\n",
       "        7.10000e+01, 6.20000e+01, 5.90000e+01, 8.10000e+01, 1.70000e+01,\n",
       "        1.80000e+01, 1.60000e+01, 2.20000e+01, 2.00000e+01, 1.10000e+01,\n",
       "        1.30000e+01, 7.00000e+00, 3.00000e+00, 2.00000e+00, 8.00000e+00,\n",
       "        5.00000e+00, 7.00000e+00, 2.00000e+00, 1.00000e+00, 1.00000e+00,\n",
       "        2.00000e+00, 3.00000e+00, 1.00000e+00, 2.00000e+00, 1.00000e+00,\n",
       "        3.00000e+00, 0.00000e+00, 3.00000e+00, 2.00000e+00, 0.00000e+00,\n",
       "        0.00000e+00, 0.00000e+00, 0.00000e+00, 0.00000e+00, 0.00000e+00,\n",
       "        1.00000e+00, 0.00000e+00, 1.00000e+00, 0.00000e+00, 0.00000e+00,\n",
       "        0.00000e+00, 0.00000e+00, 1.00000e+00, 0.00000e+00, 0.00000e+00,\n",
       "        0.00000e+00, 0.00000e+00, 0.00000e+00, 0.00000e+00, 0.00000e+00,\n",
       "        0.00000e+00, 0.00000e+00, 0.00000e+00, 0.00000e+00, 0.00000e+00,\n",
       "        0.00000e+00, 0.00000e+00, 0.00000e+00, 0.00000e+00, 0.00000e+00,\n",
       "        0.00000e+00, 0.00000e+00, 0.00000e+00, 0.00000e+00, 0.00000e+00,\n",
       "        0.00000e+00, 0.00000e+00, 0.00000e+00, 0.00000e+00, 1.00000e+00]),\n",
       " array([  0.  ,   1.18,   2.36,   3.54,   4.72,   5.9 ,   7.08,   8.26,\n",
       "          9.44,  10.62,  11.8 ,  12.98,  14.16,  15.34,  16.52,  17.7 ,\n",
       "         18.88,  20.06,  21.24,  22.42,  23.6 ,  24.78,  25.96,  27.14,\n",
       "         28.32,  29.5 ,  30.68,  31.86,  33.04,  34.22,  35.4 ,  36.58,\n",
       "         37.76,  38.94,  40.12,  41.3 ,  42.48,  43.66,  44.84,  46.02,\n",
       "         47.2 ,  48.38,  49.56,  50.74,  51.92,  53.1 ,  54.28,  55.46,\n",
       "         56.64,  57.82,  59.  ,  60.18,  61.36,  62.54,  63.72,  64.9 ,\n",
       "         66.08,  67.26,  68.44,  69.62,  70.8 ,  71.98,  73.16,  74.34,\n",
       "         75.52,  76.7 ,  77.88,  79.06,  80.24,  81.42,  82.6 ,  83.78,\n",
       "         84.96,  86.14,  87.32,  88.5 ,  89.68,  90.86,  92.04,  93.22,\n",
       "         94.4 ,  95.58,  96.76,  97.94,  99.12, 100.3 , 101.48, 102.66,\n",
       "        103.84, 105.02, 106.2 , 107.38, 108.56, 109.74, 110.92, 112.1 ,\n",
       "        113.28, 114.46, 115.64, 116.82, 118.  ]),\n",
       " <a list of 100 Patch objects>)"
      ]
     },
     "execution_count": 19,
     "metadata": {},
     "output_type": "execute_result"
    },
    {
     "data": {
      "image/png": "[encoded data removed]",
      "text/plain": [
       "<Figure size 432x288 with 1 Axes>"
      ]
     },
     "metadata": {
      "needs_background": "light"
     },
     "output_type": "display_data"
    }
   ],
   "source": [
    "plt.hist(df['target'],bins=100)"
   ]
  },
  {
   "cell_type": "code",
   "execution_count": null,
   "metadata": {},
   "outputs": [],
   "source": [
    "a=df[df['target']<40]"
   ]
  },
  {
   "cell_type": "code",
   "execution_count": null,
   "metadata": {},
   "outputs": [],
   "source": [
    "plt.figure(figsize=(10,6))\n",
    "sb.distplot(a)"
   ]
  },
  {
   "cell_type": "markdown",
   "metadata": {},
   "source": [
    "Identificar y graficar outliers"
   ]
  },
  {
   "cell_type": "code",
   "execution_count": 19,
   "metadata": {},
   "outputs": [
    {
     "data": {
      "text/plain": [
       "0.0      0.0\n",
       "0.1      1.0\n",
       "0.2      2.0\n",
       "0.3      2.0\n",
       "0.4      3.0\n",
       "0.5      4.0\n",
       "0.6      6.0\n",
       "0.7      8.0\n",
       "0.8     10.0\n",
       "0.9     13.0\n",
       "1.0    118.0\n",
       "Name: target, dtype: float64"
      ]
     },
     "execution_count": 19,
     "metadata": {},
     "output_type": "execute_result"
    }
   ],
   "source": [
    "df['target'].quantile(np.arange(0.0,1.1,0.1))"
   ]
  },
  {
   "cell_type": "code",
   "execution_count": 18,
   "metadata": {
    "scrolled": true
   },
   "outputs": [
    {
     "data": {
      "text/plain": [
       "0.90     13.0\n",
       "0.91     14.0\n",
       "0.92     14.0\n",
       "0.93     15.0\n",
       "0.94     15.0\n",
       "0.95     16.0\n",
       "0.96     17.0\n",
       "0.97     18.0\n",
       "0.98     20.0\n",
       "0.99     22.0\n",
       "1.00    118.0\n",
       "Name: target, dtype: float64"
      ]
     },
     "execution_count": 18,
     "metadata": {},
     "output_type": "execute_result"
    }
   ],
   "source": [
    "df['target'].quantile(np.arange(0.90,1.01,0.01))"
   ]
  },
  {
   "cell_type": "markdown",
   "metadata": {},
   "source": [
    "Acá podemos ver que el 99% de los datos tienen un valor menor  que 22 es decir, que los valores mayores a 22 no son representativos de la muestra. \n",
    "#####no se a que se refiere con graficar los outliers"
   ]
  },
  {
   "cell_type": "markdown",
   "metadata": {},
   "source": [
    "¿Los fines de semana son diferentes a los dias de semana? ¿En que sentido?"
   ]
  },
  {
   "cell_type": "markdown",
   "metadata": {},
   "source": [
    "##### Acá esta lo que intente hacer de este inciso en realidad quería separar los días de fin de semana del resto de los días pero no encontre como hacer para distinguirlo si hay una librería para eso o como...no me salió"
   ]
  },
  {
   "cell_type": "code",
   "execution_count": 11,
   "metadata": {},
   "outputs": [],
   "source": [
    "import datetime as dt"
   ]
  },
  {
   "cell_type": "code",
   "execution_count": 13,
   "metadata": {},
   "outputs": [],
   "source": [
    "df['date_created']=pd.to_datetime(df['date_created'])"
   ]
  },
  {
   "cell_type": "code",
   "execution_count": 24,
   "metadata": {},
   "outputs": [],
   "source": [
    "df['dn_date_created']=df['date_created'].apply(lambda x: x.day_name())"
   ]
  },
  {
   "cell_type": "code",
   "execution_count": 26,
   "metadata": {
    "scrolled": true
   },
   "outputs": [],
   "source": [
    "df['date_sent']=pd.to_datetime(df['date_sent'])\n",
    "df['dn_date_sent']=df['date_sent'].apply(lambda x: x.day_name())\n",
    "df['date_visit']=pd.to_datetime(df['date_visit'])\n",
    "df['dn_date_visit']=df['date_visit'].apply(lambda x: x.day_name())"
   ]
  },
  {
   "cell_type": "markdown",
   "metadata": {},
   "source": [
    "Con el to_datetime transformamos la columna en datos del tipo time y con el appply a acada dato del tiempo le aplico day_name"
   ]
  },
  {
   "cell_type": "markdown",
   "metadata": {},
   "source": [
    "date_created"
   ]
  },
  {
   "cell_type": "code",
   "execution_count": 28,
   "metadata": {
    "scrolled": true
   },
   "outputs": [
    {
     "data": {
      "text/plain": [
       "Tuesday      173153\n",
       "Wednesday    164127\n",
       "Monday       162587\n",
       "Thursday     155649\n",
       "Friday       133823\n",
       "Sunday       106375\n",
       "Saturday     104286\n",
       "Name: dn_date_created, dtype: int64"
      ]
     },
     "execution_count": 28,
     "metadata": {},
     "output_type": "execute_result"
    }
   ],
   "source": [
    "df['dn_date_created'].value_counts()"
   ]
  },
  {
   "cell_type": "code",
   "execution_count": 31,
   "metadata": {
    "scrolled": false
   },
   "outputs": [
    {
     "data": {
      "text/plain": [
       "<matplotlib.axes._subplots.AxesSubplot at 0x7f50d3f7ea90>"
      ]
     },
     "execution_count": 31,
     "metadata": {},
     "output_type": "execute_result"
    },
    {
     "data": {
      "image/png": "[encoded data removed]",
      "text/plain": [
       "<Figure size 432x288 with 1 Axes>"
      ]
     },
     "metadata": {
      "needs_background": "light"
     },
     "output_type": "display_data"
    }
   ],
   "source": [
    "sb.countplot(df['dn_date_created'])"
   ]
  },
  {
   "cell_type": "markdown",
   "metadata": {},
   "source": [
    " En este gráfico de barras podemos ver la cantidad de pedidos que se realizan por día. podemos observar también que el día en que más compras se realizan es el día Martes y en segundo lugar los días miércoles"
   ]
  },
  {
   "cell_type": "markdown",
   "metadata": {},
   "source": [
    "date_sent"
   ]
  },
  {
   "cell_type": "code",
   "execution_count": 47,
   "metadata": {},
   "outputs": [
    {
     "data": {
      "text/plain": [
       "Monday       226608\n",
       "Tuesday      201105\n",
       "Wednesday    198988\n",
       "Thursday     172596\n",
       "Friday       166019\n",
       "Saturday      32629\n",
       "Sunday         2055\n",
       "Name: dn_date_sent, dtype: int64"
      ]
     },
     "execution_count": 47,
     "metadata": {},
     "output_type": "execute_result"
    }
   ],
   "source": [
    "df['dn_date_sent'].value_counts()"
   ]
  },
  {
   "cell_type": "code",
   "execution_count": 48,
   "metadata": {
    "scrolled": true
   },
   "outputs": [
    {
     "data": {
      "text/plain": [
       "<matplotlib.axes._subplots.AxesSubplot at 0x7f50d3ef9c18>"
      ]
     },
     "execution_count": 48,
     "metadata": {},
     "output_type": "execute_result"
    },
    {
     "data": {
      "image/png": "[encoded data removed]",
      "text/plain": [
       "<Figure size 432x288 with 1 Axes>"
      ]
     },
     "metadata": {
      "needs_background": "light"
     },
     "output_type": "display_data"
    }
   ],
   "source": [
    "sb.countplot(df['dn_date_sent'])"
   ]
  },
  {
   "cell_type": "markdown",
   "metadata": {},
   "source": [
    "Aquí podemos ver los envíos por día, y observar que la mayoría se realizan los días Lunes mientras que una minoría se realizan los Domingos"
   ]
  },
  {
   "cell_type": "code",
   "execution_count": 49,
   "metadata": {},
   "outputs": [
    {
     "data": {
      "text/plain": [
       "Thursday     222291\n",
       "Monday       186650\n",
       "Tuesday      180087\n",
       "Wednesday    177875\n",
       "Friday       173354\n",
       "Saturday      42280\n",
       "Sunday        17463\n",
       "Name: dn_date_visit, dtype: int64"
      ]
     },
     "execution_count": 49,
     "metadata": {},
     "output_type": "execute_result"
    }
   ],
   "source": [
    "df['dn_date_visit'].value_counts()"
   ]
  },
  {
   "cell_type": "code",
   "execution_count": 50,
   "metadata": {},
   "outputs": [
    {
     "data": {
      "text/plain": [
       "<matplotlib.axes._subplots.AxesSubplot at 0x7f50d3c761d0>"
      ]
     },
     "execution_count": 50,
     "metadata": {},
     "output_type": "execute_result"
    },
    {
     "data": {
      "image/png": "[encoded data removed]",
      "text/plain": [
       "<Figure size 432x288 with 1 Axes>"
      ]
     },
     "metadata": {
      "needs_background": "light"
     },
     "output_type": "display_data"
    }
   ],
   "source": [
    "sb.countplot(df['dn_date_visit'])"
   ]
  },
  {
   "cell_type": "markdown",
   "metadata": {},
   "source": [
    "Como podemos observar el correo entrega sus paquetes mayormente en los días Jueves, mientras que una gran minoría de las entregas suceden los días Domingos"
   ]
  },
  {
   "cell_type": "markdown",
   "metadata": {},
   "source": [
    "*¿Existe algún periodo de tiempo diferente a los demás? Comparar gráficamente las distribuciones de los targets (Puede ayudar utilizar información externa)."
   ]
  },
  {
   "cell_type": "code",
   "execution_count": null,
   "metadata": {},
   "outputs": [],
   "source": []
  },
  {
   "cell_type": "code",
   "execution_count": 37,
   "metadata": {},
   "outputs": [
    {
     "data": {
      "text/plain": [
       "holiday        object\n",
       "description    object\n",
       "dtype: object"
      ]
     },
     "execution_count": 37,
     "metadata": {},
     "output_type": "execute_result"
    }
   ],
   "source": [
    "df_h.dtypes"
   ]
  },
  {
   "cell_type": "code",
   "execution_count": 43,
   "metadata": {},
   "outputs": [
    {
     "data": {
      "text/plain": [
       "False    946290\n",
       "True      53710\n",
       "Name: date_created, dtype: int64"
      ]
     },
     "execution_count": 43,
     "metadata": {},
     "output_type": "execute_result"
    }
   ],
   "source": [
    "df['date_created'].isin(pd.to_datetime(df_h['holiday'])).value_counts()"
   ]
  },
  {
   "cell_type": "code",
   "execution_count": 45,
   "metadata": {},
   "outputs": [
    {
     "name": "stdout",
     "output_type": "stream",
     "text": [
      "False    1000000\n",
      "Name: date_sent, dtype: int64\n",
      "False    999999\n",
      "True          1\n",
      "Name: date_visit, dtype: int64\n"
     ]
    }
   ],
   "source": [
    "print(df['date_sent'].isin(pd.to_datetime(df_h['holiday'])).value_counts())\n",
    "print(df['date_visit'].isin(pd.to_datetime(df_h['holiday'])).value_counts())"
   ]
  },
  {
   "cell_type": "code",
   "execution_count": null,
   "metadata": {},
   "outputs": [],
   "source": []
  },
  {
   "cell_type": "code",
   "execution_count": null,
   "metadata": {},
   "outputs": [],
   "source": []
  },
  {
   "cell_type": "code",
   "execution_count": null,
   "metadata": {},
   "outputs": [],
   "source": []
  },
  {
   "cell_type": "code",
   "execution_count": null,
   "metadata": {},
   "outputs": [],
   "source": []
  },
  {
   "cell_type": "code",
   "execution_count": null,
   "metadata": {},
   "outputs": [],
   "source": []
  },
  {
   "cell_type": "markdown",
   "metadata": {},
   "source": [
    "# Conclusion"
   ]
  },
  {
   "cell_type": "markdown",
   "metadata": {},
   "source": []
  }
 ],
 "metadata": {
  "kernelspec": {
   "display_name": "Python 3",
   "language": "python",
   "name": "python3"
  },
  "language_info": {
   "codemirror_mode": {
    "name": "ipython",
    "version": 3
   },
   "file_extension": ".py",
   "mimetype": "text/x-python",
   "name": "python",
   "nbconvert_exporter": "python",
   "pygments_lexer": "ipython3",
   "version": "3.7.1"
  }
 },
 "nbformat": 4,
 "nbformat_minor": 2
}
